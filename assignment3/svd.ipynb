{
 "cells": [
  {
   "cell_type": "code",
   "execution_count": 1,
   "metadata": {},
   "outputs": [],
   "source": [
    "import pandas as pd\n",
    "import torchtext\n",
    "from torchtext.data import get_tokenizer\n",
    "from torchtext.vocab import build_vocab_from_iterator, Vocab\n",
    "import numpy as np\n",
    "import html"
   ]
  },
  {
   "cell_type": "code",
   "execution_count": 2,
   "metadata": {},
   "outputs": [],
   "source": [
    "filename = 'reviews_Movies_and_TV.json'\n",
    "lim = 100000"
   ]
  },
  {
   "cell_type": "code",
   "execution_count": 2,
   "metadata": {},
   "outputs": [
    {
     "ename": "NameError",
     "evalue": "name 'filename' is not defined",
     "output_type": "error",
     "traceback": [
      "\u001b[0;31m---------------------------------------------------------------------------\u001b[0m",
      "\u001b[0;31mNameError\u001b[0m                                 Traceback (most recent call last)",
      "Cell \u001b[0;32mIn[2], line 1\u001b[0m\n\u001b[0;32m----> 1\u001b[0m \u001b[39mwith\u001b[39;00m \u001b[39mopen\u001b[39m(filename, \u001b[39m\"\u001b[39m\u001b[39mr\u001b[39m\u001b[39m\"\u001b[39m) \u001b[39mas\u001b[39;00m f:\n\u001b[1;32m      2\u001b[0m     \u001b[39mwith\u001b[39;00m \u001b[39mopen\u001b[39m(\u001b[39m\"\u001b[39m\u001b[39mnewfile_svd.json\u001b[39m\u001b[39m\"\u001b[39m, \u001b[39m\"\u001b[39m\u001b[39mw\u001b[39m\u001b[39m\"\u001b[39m) \u001b[39mas\u001b[39;00m fp:\n\u001b[1;32m      3\u001b[0m         \u001b[39mfor\u001b[39;00m i \u001b[39min\u001b[39;00m \u001b[39mrange\u001b[39m(lim):\n",
      "\u001b[0;31mNameError\u001b[0m: name 'filename' is not defined"
     ]
    }
   ],
   "source": [
    "with open(filename, \"r\") as f:\n",
    "    with open(\"newfile_svd.json\", \"w\") as fp:\n",
    "        for i in range(lim):\n",
    "            fp.write(f.readline())"
   ]
  },
  {
   "cell_type": "code",
   "execution_count": 3,
   "metadata": {},
   "outputs": [],
   "source": [
    "df = pd.read_json(\"newfile_svd.json\", lines=True)"
   ]
  },
  {
   "cell_type": "code",
   "execution_count": 4,
   "metadata": {},
   "outputs": [],
   "source": [
    "corpus = df[\"reviewText\"].to_numpy()"
   ]
  },
  {
   "cell_type": "code",
   "execution_count": 9,
   "metadata": {},
   "outputs": [],
   "source": [
    "corpus = corpus[:50000]"
   ]
  },
  {
   "cell_type": "code",
   "execution_count": 10,
   "metadata": {},
   "outputs": [],
   "source": [
    "tokenizer = get_tokenizer(\"basic_english\")"
   ]
  },
  {
   "cell_type": "code",
   "execution_count": 11,
   "metadata": {},
   "outputs": [],
   "source": [
    "def clean_text(text):\n",
    "    import re\n",
    "\n",
    "    text = re.sub(r\"([a-zA-Z]+)n[\\'’]t\", r\"\\1 not\", text)\n",
    "    text = re.sub(r\"([iI])[\\'’]m\", r\"\\1 am\", text)\n",
    "    text = re.sub(r\"([iI])[\\'’]ll\", r\"\\1 will\", text)\n",
    "    text = re.sub(r\"[^a-zA-Z0-9\\:\\$\\-\\,\\%\\.\\?\\!]+\", \" \", text)\n",
    "    text = html.unescape(text)\n",
    "    # text = re.sub(r\"([a-zA-Z]+)[\\'’]s\", r\"\\1 is\", text)\n",
    "\n",
    "    text = re.sub(r\"_(.*?)_\", r\"\\1\", text)\n",
    "    return text\n"
   ]
  },
  {
   "cell_type": "code",
   "execution_count": 12,
   "metadata": {},
   "outputs": [],
   "source": [
    "tokens = []\n",
    "\n",
    "for sent in corpus:\n",
    "    tokens.append(tokenizer(clean_text(sent)))\n"
   ]
  },
  {
   "cell_type": "code",
   "execution_count": 13,
   "metadata": {},
   "outputs": [
    {
     "data": {
      "text/plain": [
       "50000"
      ]
     },
     "execution_count": 13,
     "metadata": {},
     "output_type": "execute_result"
    }
   ],
   "source": [
    "# tokens = np.array(tokens)\n",
    "len(tokens)"
   ]
  },
  {
   "cell_type": "code",
   "execution_count": 14,
   "metadata": {},
   "outputs": [],
   "source": [
    "MIN_WORD_FREQUENCY = 10\n",
    "\n",
    "vocab = build_vocab_from_iterator(tokens, min_freq=MIN_WORD_FREQUENCY, specials=[\"<unk>\"])\n",
    "vocab.set_default_index(vocab[\"<unk>\"])\n"
   ]
  },
  {
   "cell_type": "code",
   "execution_count": 15,
   "metadata": {},
   "outputs": [
    {
     "data": {
      "text/plain": [
       "dict_keys(['zooms', 'zelda', 'zegart', 'yearbook', 'working-class', 'wires', 'wily', 'willed', 'wide-eyed', 'whirlwind', 'well-played', 'weil', 'weathered', 'washed-up', 'warranted', 'warm-hearted', 'voiceovers', 'viscerally', 'villainy', 'videogames', 'vi', 'vest', 'verison', 'vegetable', 'vault', 'upwards', 'unwavering', 'unwarranted', 'unmistakably', 'unfortunatley', 'unfit', 'underscored', 'underscore', 'unarmed', 'tyrone', 'truitt', 'trout', 'troublemaker', 'trinity', 'trimming', 'trifle', 'tri', 'trey', 'trembling', 'treason', 'tracker', 'townsfolk', 'tormentors', 'tinny', 'tinged', 'tiffany', 'tht', 'therefor', 'texasville', 'tbs', 'tan', 'taint', 'tactical', 'tac', 'tabby', 't-shirts', 'synch', 'synagogue', 'swore', 'swoops', 'sweeter', 'sweeps', 'surmise', 'surgeons', 'summarizes', 'sued', 'straining', 'stomped', 'stillman', 'standup', 'stalker', 'squeezed', 'spoon', 'spiteful', 'spineless', 'spin-off', 'soooooo', 'solomon', 'sociological', 'sob', 'snippet', 'sneaky', 'snapping', 'smacked', 'slots', 'slicing', 'slaughtering', 'sizes', 'silverware', 'sidetracked', 'shtick', 'shrugged', 'showdowns', 'shouldnt', 'shaving', 'sharpe', 'shaggy', 'seventh-day', 'seperated', 'self-doubt', 'seamen', 'screeching', 'scoundrels', 'scoop', 'schmaltz', 'scene-stealing', 'scenary', 'sayers', 'satires', 'sap', 'saloons', 'sadder', 'sacrificial', 'saboteurs', 'rug', 'rudimentary', 'rubinstein', 'rotation', 'rosary', 'roommates', 'riotous', 'rican', 'rewriting', 'revamped', 'retaining', 'restart', 'responsive', 'resisted', 'resembled', 'repetitious', 'relic', 'relaying', 'relay', 'rehab', 'rediscover', 'redeemable', 'recommends', 'recomiendo', 'recognised', 'rebuke', 'ratios', 'rapids', 'rall', 'raider', 'ragtag', 'rags', 'r-rating', 'pulsing', 'puke', 'publishers', 'pubescent', 'psychologist', 'prosecution', 'propels', 'profits', 'processing', 'privy', 'previewed', 'preparations', 'preformances', 'pr', 'post-apocalyptic', 'supplementary', 'pooh', 'pomp', 'poisoning', 'pm', 'plunges', 'plaza', 'pitching', 'pins', 'pigskins', 'physicality', 'phd', 'pervert', 'persecute', 'pending', 'pecked', 'pausing', 'pastorelli', 'parachute', 'pageantry', 'pads', 'padded', 'overthrow', 'overshadows', 'overplayed', 'overloaded', 'overdubbed', 'over-acted', 'outbursts', 'oughta', 'ouch', 'operated', 'offending', 'oatmeal', 'whispered', 'oakland', 'norris', 'noriko', 'non-musical', 'nolan', 'nickelodeon', 'natures', 'nathaniel', 'narrow-minded', 'namesake', 'shakespearian', 'mutter', 'mugging', 'moviemakers', 'movie-going', 'mousy', 'mounts', 'montages', 'momma', 'misrepresentation', 'ministers', 'mindlessly', 'miki', 'metallic', 'meld', 'meditating', 'meaty', 'mccourt', 'maurier', 'maud', 'marys', 'marshal', 'marquess', 'mafioso', 'lovemaking', 'looney', 'longed', 'long-standing', 'limitless', 'liberalism', 'leaping', 'leaks', 'lbs', 'latent', 'kung-fu', 'kin', 'keenan', 'johnathon', 'jena', 'jelly', 'nz', 'jean-jacques', 'jade', 'is-', 'intrepid', 'intertwines', 'internally', 'interferes', 'intensify', 'inmate', 'initiated', 'independant', 'inconceivable', 'incompatible', 'inception', 'immeasurably', 'hurried', 'humanities', 'how-to', 'horrendously', 'hooper', 'honk', 'homoerotic', 'ho-hum', 'hinges', 'high-budget', 'yaz', 'hicks', 'hedaya', 'headphones', 'he-man', 'hatching', 'hastily', 'has-been', 'handcuffs', 'hand-held', 'half-sister', 'gushing', 'gulf', 'grouped', 'groans', 'goofball', 'goof', 'goldmine', 'glorifies', 'glittering', 'garson', 'garai', 'galouye', 'gallons', 'galecki', 'gabby', 'fuse', 'furnishings', 'fullness', 'fray', 'francoise', 'fontaine', 'font', 'glitzy', 'flashcards', 'flack', 'finances', 'finaly', 'festivals', 'ferocity', 'fe', 'fawlty', 'fast-moving', 'fallout', 'extraterrestrials', 'exiled', 'exhausting', 'exhaust', 'excite', 'exaggerate', 'espa', 'enjoyably', 'emanuel', 'elites', 'eiga', 'egregious', 'eclipsed', 'eccentricities', 'dwayne', 'dvd-', 'dutiful', 'dun', 'dryden', 'drawn-out', 'dopey', 'distances', 'disrupt', 'displeased', 'disintegration', 'direct-to-video', 'diminishing', 'deteriorating', 'designing', 'derek', 'density', 'deluded', 'defiantly', 'deepened', 'deem', 'deceiving', 'debilitating', 'dauphine', 'daughter-in-law', 'danielle', 'cycles', 'css', 'crust', 'crisper', 'creeping', 'costly', 'costing', 'cornball', 'cookies', 'conjures', 'confrontational', 'composite', 'complacency', 'compatriots', 'communal', 'comforts', 'comentary', 'columbine', 'collaborator', 'collaborated', 'coffins', 'clyde', 'classically', 'cite', 'chores', 'chilled', 'childs', 'chewed', 'chandler', 'celestial', 'catapulted', 'caretaker', 'caps', 'capitalize', 'cameraman', 'calligrapher', 'cages', 'burrows', 'buffoons', 'budgeted', 'brokeback', 'britton', 'breaths', 'breathed', 'brawl', 'branches', 'booty', 'bombastic', 'bodyguard', 'bloodletting', 'blemish', 'bien', 'biehn', 'bicentennial', 'bestseller', 'belts', 'belies', 'beleaguered', 'beholder', 'beggining', 'baths', 'barrage', 'barbet', 'bancroft', 'awash', 'aubrey', 'attained', 'atheistic', 'astray', 'argo', 'archeological', 'anti-climatic', 'ans', 'annually', 'hard-boiled', 'anglo', 'amply', 'amnesia', 'alternating', 'allegorical', 'alaskan', 'akins', 'aip', 'recluse', 'ailing', 'agreeable', 'adoptive', 'abusing', '79', '747', '700', '2-hour', '2-dvd', '1audio', '1942', '1700', '16mm', '106', '--the', 'ziskey', 'yorkers', 'yakuza', 'wrongfully', 'wrestles', 'wreckage', 'wittiest', 'williamson', 'willem', 'wholyfit', 'whodunnit', 'whacky', 'wether', 'weed', 'sideways', 'weber', 'warts', 'waldman', 'voters', 'vivacious', 'vista', 'violated', 'videography', 'vices', 'vice-president', 'vibrancy', 'venom', 'venice', 'usps', 'usaf', 'usable', 'upheaval', 'unsung', 'unprofessional', 'unofficial', 'unmarried', 'unintelligible', 'unfeeling', 'unemployed', 'underestimate', 'unappealing', 'unapologetic', 'typing', 'tuxedo', 'turtles', 'turk', 'tunnels', 'tucked', 'tub', 'trotsky', 'travelers', 'towel', 'tothe', 'topping', 'tobacco', 'tickle', 'thursday', 'thomson', 'thi', 'terse', 'terminology', 'tenuous', 'tenants', 'tamar', 'tags', 'tabloid', 'symbolized', 'swarm', 'surrealistic', 'sunglasses', 'summertime', 'suburbs', 'suburb', 'subscribe', 'storming', 'stem', 'stein', 'state-of-the-art', 'starved', 'startlingly', 'starlet', 'staples', 'stained', 'springer', 'sporty', 'spook', 'spoilt', 'splattering', 'spill', 'spiegel', 'spawn', 'spanning', 'sophia', 'sonneborn', 'smacks', 'slums', 'slams', 'skyscrapers', 'skating', 'shyness', 'shipwreck', 'sherlock', 'shank', 'shanghai', 'separating', 'self-sufficient', 'selena', 'scooby', 'sadomasochistic', 'runtime', 'salty', 'rumored', 'rosenbaum', 'roosevelt', 'romer', 'ripley', 'rice', 'rez', 'revolved', 'reveiw', 'resorts', 'resisting', 'repelled', 'rending', 'remix', 'remeber', 'relieves', 'reliance', 'rejecting', 'reforms', 'rediscovered', 'rectify', 'recruitment', 'reconciled', 'reminisces', 'recommendable', 'reckoned', 'reassuring', 'reactionary', 're-telling', 're-enactment', 'raul', 'rationality', 'rampages', 'railway', 'rails', 'quotations', 'quirkiness', 'profess', 'prodigy', 'probes', 'predatory', 'pre-war', 'prairie', 'powerfull', 'poultry', 'free-spirited', 'posse', 'poseur', 'portier', 'populations', 'pinpoint', 'reinforcing', 'pinned', 'picture-in-picture', 'philharmonic', 'pharoah', 'personaly', 'perpetrators', 'performace', 'perceives', 'pennant', 'paramount', 'paper-thin', 'robbie', 'palms', 'derision', 'overshadow', 'acknowledging', 'overlapping', 'over-all', 'outweigh', 'outta', 'diver', 'othello', 'optical', 'oppose', 'onna', 'one-liner', 'offices', 'off-screen', 'oct', 'obtaining', 'objectives', 'obey', 'notches', 'nonexistent', 'non-violent', 'noirish', 'nieces', 'newsreels', 'nevermind', 'navigator', 'nationality', 'najimy', 'myer', 'must-watch', 'musketeers', 'muck', 'mucho', 'movie-goer', 'mourning', 'motorhead', 'momentary', 'moira', 'moebius', 'mockingbird', 'posting', 'missteps', 'mislead', 'misfortunes', 'mired', 'minimalist', 'minh', 'mimi', 'micro-phonies', 'metaphorical', 'revulsion', 'mesh', 'merciful', 'menial', 'melrose', 'mellow', 'meditate', 'maya', 'marcy', 'man-child', 'maidens', 'mackintosh', 'lydia', 'lowering', 'loretta', 'loren', 'looming', 'logically', 'listings', 'lionel', 'lingo', 'lifetimes', 'licker', 'leopard', 'lecter', 'lease', 'learnt', 'lawsuit', 'lashing', 'laserdiscs', 'lampoon', 'lair', 'labeling', 'kundun', 'kindred', 'kahn', 'jumpy', 'jer', 'jensen', 'jenkins', 'ish', 'integration', 'innocents', 'inflection', 'indulges', 'induced', 'indestructible', 'indepth', 'impressively', 'impassioned', 'impactful', 'immaturity', 'idols', 'hyperbole', 'humourists', 'hugs', 'hose', 'horrifically', 'hooking', 'high-energy', 'high-end', 'herzanek', 'hawes', 'haves', 'hav', 'hathcock', 'harassment', 'happy-go-lucky', 'hamster', 'gov', 'goodwin', 'goings-on', 'gliding', 'gleaned', 'geographical', 'gentler', 'gazzara', 'gaming', 'gallo', 'fundamentalists', 'friggin', 'fraught', 'rationale', 'fr', 'flooding', 'flaming', 'finishes', 'figgis', 'fatherhood', 'farthest', 'familar', 'fad', 'facilities', 'facebook', 'fabled', 'exuberance', 'expanding', 'exemplifies', 'excruciatingly', 'exchanging', 'ethnicity', 'hindered', 'escort', 'entourage', 'entice', 'engineers', 'eluded', 'elude', 'eliminates', 'elbow', 'educating', 'ecto-1', 'echoing', 'dunes', 'dragons', 'dp', 'downtrodden', 'donnelly', 'divorcee', 'divisive', 'disquieting', 'dismissal', 'disapproving', 'diabetic', 'detriment', 'detected', 'designers', 'descending', 'depart', 'delacey', 'degrading', 'deficient', 'defensive', 'classrooms', 'decor', 'declines', 'mishmash', 'pertaining', 'darned', 'cryptic', 'creeped', 'costumed', 'corinne', 'corben', 'cooked', 'convoy', 'console', 'condone', 'condemns', 'concocted', 'composure', 'complimented', 'competitor', 'compellingly', 'comparatively', 'como', 'collateral', 'coded', 'coda', 'clocks', 'clean-cut', 'outgoing', 'cincinnati', 'chronologically', 'chaser', 'charcters', 'charachter', 'chairman', 'ceremonies', 'cemented', 'cavazos', 'categorize', 'catastrophe', 'catalogue', 'caribbean', 'capitalist', 'second-rate', 'campiness', 'calendar', 'calculus', 'cabbies', 'by-the-numbers', 'buzzing', 'businesses', 'bulldozer', 'buddhism', 'broughton', 'breathes', 'brasil', 'bolshevik', 'vin', 'boffano', 'blush', 'blurs', 'bloodied', 'squalid', 'blankie', 'blackfoot', 'bizarrely', 'bettis', 'bests', 'berthold', 'benning', 'belittle', 'beds', 'bedridden', 'scouts', 'beauties', 'beaches', 'bawling', 'baring', 'barabbas', 'ban', 'backdrops', 'aviation', 'spear', 'avenues', 'autism', 'auntie', 'auditorium', 'audacious', 'attractions', 'assists', 'assignments', 'assasination', 'antietam', 'animalistic', 'amber', 'altruistic', 'alluded', 'afro', 'aficionado', 'afghanistan', 'abounds', 'abduction', '91', '72', '43', '208', '16x9', 'sountrack', '128142', '10-15', '09', '$14', 'zones', 'wrist', 'wrecking', 'winding', 'wince', 'wicca', 'whispers', 'warring', 'wandered', 'voyeuristic', 'viewable', 'vomit', 'virgins', 'vacuum', 'up-and-coming', 'unrealistically', 'unhealthy', 'unfocused', 'undertaken', 'uncomfortably', 'unadulterated', 'unabashedly', 'unabashed', 'umpteenth', 'zach', 'ukrainian', 'tzar', 'two-part', 'tuesday', 'trumpet', 'trippy', 'trepidation', 'outwit', 'translator', 'transitional', 'transexual', 'traditionally', 'toshiba', 'torturers', 'tolerated', 'thoughtless', 'thorn', 'thirsty', 'thickens', 'thaw', 'terrorize', 'submerged', 'telepathic', 'teeny', 'taunted', 'tattoo', 'tantrums', 'whereabouts', 'synth', 'ignite', 'swordfights', 'supervision', 'sultan', 'suchet', 'strapped', 'staunch', 'starwars', 'stan', 'stain', 'squire', 'equate', 'splitting', 'spewing', 'spat', 'spall', 'sonar', 'snooty', 'sneaking', 'smelly', 'smelled', 'slanted', 'slamming', 'sizzling', 'simulate', 'sillier', 'shoot-em-up', 'shearer', 'shallowness', 'goldeneye', 'shakur', 'shade', 'self-awareness', 'selective', 'seekers', 'searles', 'seams', 'scuba', 'scroll', 'scanned', 'scandals', 'saintly', 'sabrina', 'rubs', 'rotoscoping', 'rosalina', 'rite', 'ressurection', 're-creation', 'respecting', 'respectability', 'resorting', 'rory', 'rentals', 'relevent', 'reigns', 'region-free', 'refresh', 'recorder', 'rebuild', 'reappears', 'ravishing', 'quantity', 'pumped', 'pulitzer', 'provocation', 'proton', 'resounding', 'propensity', 'pronounce', 'prompts', 'programmed', 'presenter', 'predictions', 'pre-teens', 'possessing', 'portable', 'polanski', 'point-of-view', 'pluto', 'pitches', 'pino', 'pesci', 'perils', 'penetrating', 'peacefully', 'patriarchal', 'paperwork', 'ownership', 'overpower', 'heavier', 'overhears', 'overdo', 'over-rated', 'capitalism', 'over-acting', 'outings', 'outdoes', 'oprah', 'oozing', 'olde', 'mpeg-4', 'oeuvre', 'salad', 'oddity', 'occupying', 'obscured', 'nunn', 'nukes', 'pathetically', 'notoriously', 'notoriety', 'notebook', 'nonny', 'nemisis', 'negro', 'negotiations', 'naivete', 'mustache', 'mounce', 'moslem', 'moonlighting', 'mole', 'modeled', 'misled', 'misdemeanors', 'millenium', 'midwife', 'midsummer', 'microwave', 'micro', 'afar', 'melting', 'melted', 'meatballs', 'slipcase', 'mcdonnell', 'matheson', 'mathematical', 'massacres', 'massacred', 'marion', 'marcie', 'marches', 'platinum', 'manesi', 'maligned', 'magnificient', 'macaulay', 'luscious', 'lungs', 'luna', 'lumberjack', 'lulls', 'luggage', 'wiredweird', 'lowered', 'loaf', 'lipstick', 'likeness', 'licensing', 'levity', 'leveled', 'leah', 'lavishly', 'larva', 'lara', 'lapse', 'lament', 'koteas', 'kellogg', 'kazakhstan', 'sahara', 'kaplan', 'julian', 'jug', 'pigeons', 'judgmental', 'slayers', 'jonathon', 'jeopardy', 'jeffersons', 'janeiro', 'ishiro', 'investing', 'introductions', 'interstellar', 'interrupts', 'interludes', 'integrate', 'instability', 'insistence', 'inn', 'wanda', 'injustices', 'ingram', 'informational', 'ineffectual', 'incontinence', 'in-jokes', 'impossibility', 'implemented', 'implausibility', 'skerrit', 'impetus', 'illustrious', 'illnesses', 'hounds', 'hopping', 'homages', 'hk', 'hilary', 'hermes', 'heresy', 'heres', 'hercule', 'helmed', 'harryhousen', 'hairdresser', 'gunplay', 'rediscovers', 'gunfighters', 'grizzled', 'goebbels', 'gemma', 'gaultier', 'gaines', 'full-on', 'frills', 'francesca', 'formative', 'forefathers', 'flags', 'firmware', 'financing', 'fervently', 'fellowship', 'fated', 'farms', 'farina', 'family-friendly', 'sailed', 'exits', 'exhibiting', 'strays', 'essays', 'equilibrium', 'epitomizes', 'entrepreneur', 'entertaing', 'enlisted', 'endeavors', 'embarrassingly', 'elias', 'dvd-r', 'lumi', 'ducks', 'downloading', 'doubtless', 'dots', 'domineering', 'dom', 'occuring', 'dogged', 'dissapointing', 'ther', 'dismayed', 'schoolmates', 'disciplined', 'disappointingly', 'disagreements', 'developement', 'detrimental', 'derive', 'defied', 'decisive', 'dazzle', 'never-before-seen', 'dads', 'cultured', 'crumbs', 'cruelly', 'crotchety', 'critters', 'creepiness', 'eze', 'credence', 'crafting', 'cottage', 'corporal', 'cords', 'convertible', 'considerations', 'conducts', 'conceivable', 'composing', 'comix', 'comatose', 'cockpit', 'cockney', 'clunker', 'cloned', 'clicking', 'classmate', 'choking', 'choked', 'chino', 'childbirth', 'chasen', 'chap', 'chanting', 'centre', 'caveziel', 'cappuccino', 'fiedel', 'bygone', 'butlers', 'soak', 'bumped', 'buds', 'buchheim', 'brunette', 'bruised', 'browns', 'brimstone', 'brennan', 'breezy', 'bouchez', 'bottles', 'boosted', 'winters', 'bloopers', 'blizzard', 'bladder', 'bitrate', 'bitch', 'benchley', 'bench', 'belongings', 'bella', 'belfast', 'behaves', 'befriend', 'becouse', 'balkans', 'awaits', 'authentically', 'attracting', 'arthouse', 'harker', 'arrows', 'archetypal', 'applegate', 'apex', 'apartments', 'anti-social', 'anti-climactic', 'anguished', 'amc', 'amateurs', 'altitude', 'alters', 'altar', 'waxy', 'alarmingly', 'airforce', 'aimlessly', 'acrobatics', 'acquiring', 'acorn', 'achingly', 'ac3', '80%', '59', '51', '1917', '1910', '1800s', 'synonymous', '127', '105', '-and', 'underclass', 'zealots', 'yuck', 'youve', 'yesteryear', 'yahoo', 'withdrawn', 'wimpy', 'whiskey', 'whereby', 'well-told', 'constitutional', 'watson', 'wallow', 'waco', 'vogue', 'vocally', 'vita', 'visualization', 'videogame', 'squats', 'vicariously', 'vessels', 'vernon', 'validate', 'urgency', 'upstaged', 'upright', 'unleash', 'uninterested', 'uninspiring', 'unimportant', 'tours', 'undo', 'underated', 'tuning', 'truce', 'trim', 'trashing', 'transvestites', 'transporting', 'transferring', 'toning', 'curses', 'tomboy', 'tolyan', 'tink', 'tidy', 'tibby', 'throats', 'thinly', 'outward', 'thighs', 'thematically', 'temperament', 'teller', 'taxes', 'tangible', 'tailor', 'tackled', 'taciturn', 'superstitious', 'sub-plots', 'susana', 'stylistically', 'styled', 'sturdy', 'strong-willed', 'stride', 'strangle', 'steelbook', 'stealer', 'steadfast', 'starkly', 'spunk', 'specialized', 'spares', 'solitary', 'traced', 'soapbox', 'smells', 'slow-moving', 'slash', 'slacker', 'sinned', 'singled', 'simple-minded', 'sickly', 'sheets', 'sensory', 'send-up', 'secretive', 'distaste', 'caspar', 'sculpture', 'screenings', 'scant', 'scandalous', 'savagely', 'satisfies', 'rot', 'court-martial', 'robberies', 'ringo', 'rifles', 'resonant', 'resolves', 'resignation', 'reptilian', 'reprising', 'rednecks', 'rediculous', 'reccomended', 'raping', 'ramones', 'ram', 'rainbow', 'purports', 'publicized', 'pub', 'proposition', 'processes', 'prissy', 'primal', 'prettiest', 'wooster', 'prefered', 'possessions', 'porch', 'poignantly', 'playstation', 'pier', 'philosophies', 'donated', 'perpetual', 'perpetrated', 'permaculture', 'penultimate', 'patented', 'passenger', 'parisian', 'pairs', 'pah', 'overs', 'olympic', 'olga', 'obtains', 'nutcase', 'numbing', 'noodle', 'aegean', 'nineteenth', 'charaters', 'nicholai', 'negativity', 'needlessly', 'nearing', 'nationalist', 'natchitoches', 'nar', 'mutants', 'movie-goers', 'mourn', 'moroccan', 'monarchy', 'miscasting', 'miniscule', 'mines', 'milius', 'messianic', 'melio', 'boudreaux', 'mecha-king', 'mayo', 'maternal', 'marrow', 'marrakech', 'marking', 'manifests', 'merengue', 'majors', 'magdelene', 'madre', 'machinery', 'lyric', 'lure', 'loyalties', 'lizards', 'live-in', 'letscher', 'legos', 'legally', 'launcher', 'lapd', 'labored', 'keener', 'kruger', 'komodo', 'kinney', 'justly', 'succesful', 'justifiably', 'juror', 'forwarded', 'jhabvala', 'je', 'covert', 'jackets', 'jabs', 'innumerable', 'innocently', 'inhabits', 'ingredient', 'infused', 'inbetween', 'hustler', 'humorously', 'humanistic', 'heighten', 'heart-felt', 'haughty', 'harmful', 'harling', 'handing', 'hammond', 'halves', 'hallam', 'hahaha', 'staid', 'gunshot', 'guillotine', 'growling', 'grooves', 'greeting', 'gratuitously', 'grandaughter', 'gorgeously', 'goorjian', 'goonies', 'goo', 'shelton', 'frederick', 'fortunes', 'forgives', 'fodder', 'overwhelms', 'flips', 'flippant', 'first-hand', 'fim', 'fiercely', 'pessimistic', 'femininity', 'shredded', 'favors', 'falters', 'faints', 'faceless', 'indomitable', 'eyesight', 'postures', 'expired', 'excised', 'excelente', 'exceeded', 'esperanza', 'err', 'erin', 'envious', 'hooray', 'enabling', 'pluses', 'empowered', 'electrical', 'elated', 'efficiently', 'drowned', 'drifts', 'drawer', 'downplayed', 'doubting', 'dorky', 'documenting', 'dmytryk', 'displeasure', 'dismemberment', 'disclosure', 'disasters', 'hairy', 'disabilities', 'diplomat', 'dictate', 'dicken', 'dialogs', 'deplorable', 'deliveries', 'deliverance', 'defender', 'deadline', 'damages', 'curl', 'cuddly', 'crucifixions', 'croats', 'cristo', 'cringing', 'cradle', 'coworkers', 'corman', 'cooks', 'conventionally', 'conspire', 'connie', 'confirmation', 'concoction', 'complicate', 'cochran', 'cobra', 'sexton', 'coated', 'christmastown', 'chip', 'cheery', 'cheeks', 'wonderous', 'cheaply', 'chaste', 'chalk', 'cello', 'ce', 'carols', 'cadillac', 'bury', 'buildup', 'brow', 'brooke', 'breeds', 'breaker', 'branded', 'boyfriends', 'bouts', 'borne', 'bondage', 'boast', 'blossoming', 'fret', 'blasphemer', 'blackboard', 'bingo', 'bidding', 'bicycle', 'bibles', 'bets', 'berliner', 'befriended', 'beers', 'becasue', 'beautifull', 'batter', 'bargained', 'precedes', 'baddie', 'backfires', 'ave', 'autograph', 'mcafee', 'attic', 'assassinated', 'arty', 'doco', 'arrangements', 'armin', 'ardent', 'ararat', 'appreciative', 'ambulance', 'allways', 'agrave', 'aficionados', 'advertises', 'adoring', 'adjusting', 'adhere', 'abysmal', 'abundantly', 'absurdities', 'moot', 'ab', 'fantasy-adventure', 'copycat', '6b', '360', '3-d', '2-sided', '2-', '1903', '03', '-but', '----', 'zed', 'yada', 'wrecked', 'docs', 'wouldn', 'whomever', 'well-produced', 'watered-down', 'wasp', 'voted', 'volatile', 'voice-overs', 'compel', 'vince', 'villages', 'velocity', 'updates', 'unwitting', 'unremarkable', 'unnoticed', 'uniqueness', 'unforgivable', 'unemployment', 'underplayed', 'undercurrents', 'underage', 'under-appreciated', 'unborn', 'twain', 'triggers', 'transports', 'trademarks', 'torpedo', 'torments', 'toni', 'thwarted', 'three-dimensional', 'thoughtfully', 'theresa', 'thelma', 'tempt', 'tear-jerker', 'tapped', 'takeover', 'symbolizes', 'swell', 'surrendered', 'tiniest', 'supplied', 'superimposed', 'sunrise', 'summers', 'bra', 'suite', 'sucking', 'stud', 'streetwise', 'strayed', 'sticker', 'steely', 'stapleton', 'spreads', 'spitting', 'spills', 'spices', 'discontinued', 'speck', 'sparring', 'soulless', 'soulful', 'sofa', 'soaked', 'blinded', 'snobbish', 'snobbery', 'ribbon', 'snob', 'smashed', 'slob', 'slippery', 'similiar', 'shotgun', 'shivers', 'shifted', 'especialy', 'shadowy', 'accented', 'severed', 'sensuous', 'phenominal', 'seniors', 'schoolers', 'schmaltzy', 'sakes', 'rusty', 'guild', 'rulers', 'manipulates', 'rub', 'royalty', 'royale', 'roomate', 'rollicking', 'richest', 'revels', 'repentance', 'reminiscing', 'rehearsal', 'refugees', 'refrigerator', 'redeemer', 'reconstruction', 'recieve', 'narcotics', 're-watching', 'instinctively', 're-watched', 'rables', 'cleveland', 'punishing', 'puberty', 'profitable', 'prep', 'prelude', 'malevolence', 'precocious', 'preceded', 'pours', 'postmodern', 'post-war', 'portrayl', 'poems', 'pillar', 'piles', 'pigeon', 'strands', 'photographic', 'perceptive', 'peppered', 'penalty', 'peice', 'patinkin', 'paradox', 'pabst', 'overwhelmingly', 'overriding', 'overacts', 'ovation', 'everglades', 'outstandingly', 'organizing', 'one-time', 'one-night', 'on-line', 'oceans', 'ninety', 'nicola', 'nickname', 'neglect', 'loading', 'nefarious', 'muscular', 'motherhood', 'modernized', 'militarism', 'microcosm', 'metaphors', 'meryl', 'maxon', 'matte', 'marley', 'marketers', 'marisa', 'marge', 'malta', 'mailed', 'magnolia', 'magnificat', 'lipton', 'limp', 'lilly', 'libel', 'lessen', 'legitimately', 'leanings', 'lasers', 'lapses', 'labyrinth', 'kung', 'kitty', 'kissed', 'justifies', 'josef', 'itunes', 'invokes', 'instilled', 'ins', 'infection', 'inexpensive', 'inconsistencies', 'income', 'inches', 'in-laws', 'impose', 'immune', 'immorality', 'immersion', 'caf', 'imagines', 'incarnate', 'illegally', 'idiocy', 'hyman', 'hunts', 'humiliating', 'humbling', 'humbled', 'hospitalized', 'hooch', 'hiring', 'hindu', 'highlighting', 'superstition', 'henchmen', 'hearty', 'headline', 'harshness', 'handicap', 'guru', 'gunshots', 'rubbing', 'guidelines', 'guerrilla', 'explorers', 'graced', 'goblins', 'animosity', 'weasel', 'gestapo', 'gentleness', 'gatekeeper', 'galloway', 'fused', 'fundamentally', 'frat', 'fortitude', 'foreground', 'forbid', 'flourishes', 'flipper', 'flic', 'fixes', 'firsthand', 'filter', 'fervent', 'farewell', 'familial', 'falcon', 'fab', 'extending', 'exerciser', 'escalates', 'equation', 'episodic', 'entomologist', 'engulfed', 'enamored', 'economical', 'eagles', 'dream-like', 'dramatized', 'drain', 'douglass', 'doorstep', 'dizzying', 'entrancing', 'disrespectful', 'diplomacy', 'dictatorship', 'dickson', 'devotional', 'designated', 'depended', 'denizens', 'demeaning', 'delicately', 'deepen', 'obsolete', 'decently', 'cyber', 'cuteness', 'curmudgeon', 'copious', 'coping', 'coolness', 'cookie-cutter', 'cruising', 'consisted', 'confidential', 'conceit', 'compromises', 'comprise', 'comming', 'commentators', 'colossal', 'colony', 'collide', 'collapsed', 'coldness', 'coincide', 'cohen', 'cocktail', 'stamina', 'cobb', 'cleared', 'civic', 'cheesiness', 'disposed', 'halo', 'characterisation', 'censor', 'captioned', 'cannibal', 'cad', 'burglar', 'burger', 'bundle', 'likeability', 'brutish', 'excluding', 'bronx', 'spectator', 'broadly', 'brevity', 'breakout', 'bravura', 'bravely', 'bowie', 'boiled', 'blasts', 'bladerunner', 'beth', 'belle', 'baroness', 'wordless', 'barf', 'banquet', 'banality', 'baffling', 'badlands', 'babs', 'axis', 'audacity', 'auberjonois', 'astin', 'asteroids', 'assertion', 'freeing', 'archetype', 'appearence', 'app', 'apologizes', 'antithesis', 'andthe', 'analog', 'amplified', 'amd', 'decadence', 'ageing', 'acurate', 'accountability', 'abridged', 'gidorah', '87', '83', '41', 'elimination', '$500', 'yuppie', 'yup', 'yugoslavia', 'worms', 'wonderboy', 'wildest', 'whine', 'well-paced', 'weirdest', 'waving', 'vows', 'virtuous', 'venue', 'veers', 'usb', 'uprising', 'unsane', 'unfounded', 'underused', 'versailles', 'undertone', 'undermines', 'uncontrollably', 'transpired', 'unbeknownst', 'unbearably', 'umd', 'typecast', 'twister', 'twenty-five', 'tutor', 'turtle', 'toughness', 'tiomkin', 'ths', 'thessaly', 'tasha', 'tart', 'tangled', 'tampering', 'sweetest', 'sustainable', 'suspiciously', 'suprisingly', 'supporter', 'strips', 'strangler', 'strait', 'stamp', 'stalingrad', 'hour-long', 'spotty', 'unsolved', 'eleanor', 'spoils', 'splash', 'spells', 'somthing', 'softness', 'smiley', 'skirt', 'sirius', 'silently', 'sheet', 'whodunit', 'shamelessly', 'settling', 'semester', 'secluded', 'seals', 'screws', 'scaring', 'savagery', 'sardonic', 'sank', 'judgments', 'sampling', 'salary', 'sal', 'sack', 'ruthlessly', 'rowlands', 'rounding', 'ronny', 'ridiculed', 'riddled', 'rhys', 'rhodes', 'rgen', 'revolting', 'reviled', 'reversal', 'reverent', 'repertoire', 'regretted', 're-edited', 'rants', 'racially', 'quantum', 'puff', 'miser', 'protests', 'prolonged', 'projectionist', 'prof', 'fragility', 'proclaims', 'proclaim', 'pre-wwii', 'poop', 'pleasurable', 'pleading', 'phifer', 'pets', 'personified', 'misty', 'perennial', 'payback', 'oxford', 'outdo', 'originated', 'one-sided', 'advertisements', 'oftentimes', 'ofcourse', 'novelty', 'nightly', 'nephews', 'mst3k', 'morphine', 'mishaps', 'mirage', 'mimics', 'mimic', 'militia', 'jean-paul', 'milburn', 'cookbook', 'ment', 'matthews', 'materialistic', 'errol', 'massachusetts', 'martyr', 'maids', 'maggots', 'machinations', 'lucrezia', 'lonliness', 'lofty', 'locally', 'lobby', 'legit', 'laurette', 'lamp', 'krabbe', 'perished', 'knives', 'klein', 'kimberly', 'kieran', 'kidney', 'kidnaps', 'juxtaposed', 'jewels', 'jessie', 'duels', 'irving', 'iran', 'intolerant', 'intimidated', 'interrupting', 'innovation', 'inflicting', 'inexperience', 'incest', 'impatient', 'il', 'hotter', 'hookers', 'forman', 'herring', 'heartbroken', 'milwaukee', 'hazard', 'haw', 'hard-hitting', 'hams', 'guiler', 'coldly', 'anachronisms', 'guatemala', 'grunt', 'ground-breaking', 'grouchy', 'groan', 'grier', 'greasy', 'graves', 'gracefully', 'giggles', 'gigan', '1947', 'georges', 'genteel', 'garry', 'fusion', 'fu', 'frolic', 'formation', 'focal', 'flopped', 'flo', 'fletcher', 'fled', 'self-loathing', 'sect', 'firepower', 'finnish', 'feeds', 'lovett', 'famously', 'falsely', 'factions', 'eye-opening', 'extensively', 'expansive', 'grapple', 'existance', 'excepting', 'excelled', 'evenings', 'evangelicals', 'evaluate', 'esther', 'enterprises', 'emotionless', 'embody', 'elodie', 'eighteen', 'ecstasy', 'neverending', 'dysfunction', 'dodging', 'dishonest', 'discreet', 'discouraged', 'disconcerting', 'devotees', 'oswald', 'demonstrations', 'defiant', 'decoration', 'decaying', 'dec', 'debatable', 'dasilva', 'ac', 'cynic', 'curve', 'crumbling', 'craftsmanship', 'countrymen', 'coordinated', 'continual', 'contender', 'contemporaries', 'contemplating', 'conspiracies', 'positives', 'congressional', 'computer-generated', 'complements', 'compels', 'commonplace', 'cockroach', 'co-creator', 'cloche', 'clare', 'eclectic', 'chaplin', 'censors', 'cecil', 'ceased', 'cathartic', 'captors', 'captive', 'calories', 'cairo', 'businessmen', 'broker', 'bred', 'brainy', 'bolsheviks', 'bogus', 'virtuoso', 'bloodiest', 'best-selling', 'tatopoulos', 'behaving', 'beau', 'beasts', 'beans', 'beam', 'bannon', 'bandaras', 'bailiff', 'atone', 'assures', 'assortment', 'arresting', 'apples', 'antonia', 'paradigm', 'antisemitic', 'antique', 'annihilation', 'analyzed', 'amuse', 'alzheimer', 'aldous', 'agreeing', 'agendas', 'aesthetically', 'aerospace', 'advancing', 'advancement', 'admires', 'adjusted', 'accusing', 'accountable', 'accommodate', '47', '1800', '110', '07', 'wrought', 'woodard', 'womens', 'wizardry', 'well-being', 'weddings', 'wacko', 'ventures', 'vegetables', 'va', 'upscale', 'updating', 'unresolved', 'unraveling', 'uncovers', 'unabridged', 'ubiquitous', 'tycoon', 'trendy', 'translations', 'brag', 'transformers', 'tracked', 'touchy', 'thinner', 'thespian', 'theologically', 'thay', 'technicians', 'tapping', 'tagline', 'seinfeld', 'alps', 'swat', 'surrogate', 'sullen', 'strengthening', 'strengthened', 'streams', 'strawberry', 'eras', 'strained', 'denomination', 'stabs', 'sr', 'splits', 'spike', 'son-in-law', 'soften', 'snatched', 'snapshot', 'smiled', 'sling', 'slashers', 'reacted', 'sissy', 'sighting', 'shortcoming', 'shootings', 'seething', 'seed', 'secundo', 'sawyer', 'saturation', 'saigon', 'ronin', 'robinson', 'robespierre', 'rhetoric', 'reprises', 'testify', 'replete', 'duguay', 'repellent', 'fitted', 'render', 'renamed', 'inclusive', 'realises', 'reacting', 're-read', 'radiates', 'pump', 'provokes', 'protects', 'un-cut', 'prosperity', 'bloated', 'prodigal', 'preventing', 'preserving', 'presbyterian', 'predictability', 'snapped', 'pranks', 'paperback', 'pound', 'posts', 'conquering', 'poking', 'plunge', 'hindi', 'picturesque', 'pharaoh', 'peanuts', 'payment', 'paternal', 'owed', 'overpowering', 'outwardly', 'outpost', 'opt', 'codec', 'operates', 'omen', 'olympus', 'obsessing', 'porter', 'obscene', 'attendance', 'normalcy', 'star-making', 'newt', 'neighbours', 'naysayers', 'narcissistic', 'muffled', 'moviegoer', 'monet', 'modes', 'weirdo', 'misconceptions', 'mischievous', 'milieu', 'merman', 'memorably', 'mechanism', 'meandering', 'mashed', 'martian', 'misunderstandings', 'magnetism', 'madame', 'lustful', 'lurks', 'lunatics', 'antidote', 'lunacy', 'long-suffering', 'lonesome', 'linking', 'limb', 'lightening', 'lifting', 'life-long', 'uncontrollable', 'monarch', 'levoi', 'leftist', 'leelee', 'leans', 'larger-than-life', 'lakota', 'labour', 'ist', 'invade', 'intoxicating', 'intervals', 'intersting', 'ink', 'inherently', 'phoney', 'ingenuity', 'infiltrate', 'indicative', 'incompetence', 'incisive', 'illuminate', 'hyper', 'humourous', 'housed', 'homely', 'hobby', 'hindsight', 'infuses', 'hijinks', 'calligraphy', 'high-definition', 'henstridge', 'heinous', 'heed', 'heartbreakingly', 'hazel', 'hollister', 'harrelson', 'hanged', 'homecoming', 'hancock', 'gypsy', 'gripped', 'pleads', 'grind', 'grate', 'goosebumps', 'denominations', 'glitz', 'get-go', 'genevieve', 'geller', 'chronology', 'gasping', 'gandhi', 'fuentes', 'turnaround', 'frog', 'fonz', 'fling', 'flimsy', 'flexibility', 'veneer', 'filmic', 'fetish', 'fencing', 'fashionable', 'farming', 'farmers', 'fangs', 'extremly', 'extends', 'exiting', 'excitment', 'ethos', 'estimated', 'essentials', 'entangled', 'ensuing', 'engels', 'encyclopedia', 'encore', 'empowering', 'empathetic', 'eminently', 'eloquently', 'dvd-rom', 'dumbest', 'dumbed', 'drunks', 'drills', 'drained', 'fares', 'dolorous', 'divinely', 'diem', 'innuendos', 'deviation', 'detracted', 'descriptive', 'depravity', 'denies', 'dench', 'delay', 'degenerate', 'nom', 'defends', 'deceptively', 'debra', 'dealings', 'astronauts', 'daunting', 'craven', 'awakened', 'crafty', 'cozy', 'voluptuous', 'mclean', 'covenant', '1890', 'courtship', 'hippies', 'counsel', 'cosmic', 'sympathized', 'corvino', 'cord', 'convent', 'consistency', 'condescending', 'concluding', 'concentrating', 'conceal', 'fagan', 'compressed', 'compensated', 'compact', 'codes', 'co-starring', 'clerval', 'circuit', 'chronicle', 'childrens', 'cattle', 'catharsis', 'caste', 'cartoonist', 'caroline', 'cargo', 'careless', 'captivates', 'arduous', 'candles', 'calming', 'cal', 'hagerty', 'butterflies', 'busey', 'brim', 'breakup', 'bonham-carter', 'bloodless', 'benign', 'benchmark', 'bedtime', 'badham', 'asides', 'argues', 'architect', 'applications', 'applicable', 'apathy', 'antonijevic', 'anthology', 'annis', 'animagic', 'analyzing', 'amusingly', 'alpha', 'allusions', 'afflicted', 'advent', 'adrian', 'administration', 'addictions', 'abbreviated', 'abandonment', '800', '250', '23rd', '007', 'encompassing', '%', 'yawn', 'worldly', 'wizards', 'winged', 'potrayed', 'wig', 'wielding', 'whatnot', 'welcoming', 'waterfall', 'voluntary', 'voluntarily', 'supervised', 'romantics', 'videotapes', 'viable', 'vendetta', 'valjeans', 'yields', 'uttered', 'upsets', 'unsurpassed', 'unrelated', 'unimaginative', 'unfulfilled', 'unbridled', 'truthfully', 'truncated', 'trucks', 'deceived', 'treaty', 'treachery', 'whistles', 'transgendered', 'transforming', 'transfered', 'tis', 'thrives', 'thenardiers', 'telly', 'taye', 'talky', 'tactic', 't-rex', 'swears', 'sully', 'stunk', 'streep', 'storms', 'sticky', 'spicy', 'speculative', 'speculate', 'spamalot', 'sorbonne', 'sophomore', 'solidly', 'soaring', 'smokes', 'unimaginable', 'smitten', 'slowing', 'sleigh', 'sleeves', 'slapping', 'si', 'sexier', 'reset', 'seventeen', 'selfishness', 'scourge', 'saturn', 'rye', 'rouge', 'rotting', 'romanticism', 'rockers', 'ripper', 'revolutions', 'revised', 'rests', 'resides', 'marshmellow', 'resembling', 'republican', 'respite', 'rep', 'relaxation', 'register', 'regional', 'bathe', 'recommendations', 'rambling', 'whale', 'raines', 'quegg', 'purse', 'protector', 'progressively', 'profane', 'procedure', 'probable', 'prized', 'preteen', 'slashing', 'present-day', 'premises', 'awesomely', 'preferably', 'stepfather', 'posey', 'poll', 'policies', 'poets', 'platonic', 'pill', 'persuaded', 'peer', 'patiently', 'paralyzed', 'patriots', 'panel', 'palantine', 'outlaws', 'os', 'ortberg', 'obligation', 'nouba', 'northwest', 'prude', 'noelle', 'newfound', 'muriel', 'multi-faceted', 'misadventures', 'mind-numbing', 'metaphysical', 'melodies', 'affliction', 'corresponding', 'mcgavin', 'mash', 'mas', 'dolorosa', 'marla', 'marketer', 'mantegna', 'contestants', 'makeover', 'mahoney', 'lynne', 'luster', 'little-known', 'lcd', 'layout', 'latvian', 'late-night', 'langs', 'laboratory', 'knuckle', 'kirk', 'kinear', 'kavner', 'kaminoff', 'juicy', 'savings', 'jovavich', 'johns', 'joanne', 'jingle', 'jackal', 'israeli', 'ironies', 'investigates', 'inventor', 'intrigues', 'interpreting', 'replaces', 'intellectuals', 'installed', 'undying', 'insisting', 'inhumanity', 'inherited', 'apologists', 'impoverished', 'horny', 'homer', 'holiness', 'herrings', 'hastings', 'regains', 'hairstyles', 'grown-ups', 'grittiness', 'contradicts', 'gregg', 'owl', 'greeks', 'grabbing', 'goings', 'gleefully', 'giggling', 'geography', 'gathers', 'angus', 'valenzuela', 'gail', 'furst', 'freud', 'frenzy', 'forthcoming', 'forrester', 'vibert', 'misconception', 'fooling', 'back-to-back', 'fold', 'floored', 'first-class', 'filmographies', 'filmakers', 'film-makers', 'fend', 'faiths', 'lutheran', 'fabric', 'exile', 'exemplified', 'exec', 'ever-present', 'eszterhas', 'espionage', 'eroticism', 'modesty', 'equipped', 'emphasizing', 'embittered', 'entails', 'elvira', 'elisabeth', 'electra', 'ehrengard', 'eerily', 'duckling', 'draining', 'residence', 'doses', 'doo', 'domain', 'doe', 'ditto', 'distribution', 'disgruntled', 'disappointments', 'mammoth', 'dip', 'diffrent', 'dictated', 'diaper', 'deviations', 'detailing', 'deputy', 'observant', 'depraved', 'departs', 'perverts', 'defiance', 'cuisine', 'crusty', 'duchamp', 'creatively', 'coup', 'cossette', 'corporations', 'contracted', 'pics', 'constitutes', 'connery', 'concentrates', 'barger', 'commited', 'comfortably', 'column', 'colourful', 'colonists', 'collects', 'clancy', 'chow', 'chess', 'cheeky', 'carrier', 'brion', 'brainwashed', 'boris', 'boobs', 'bonnie', 'shined', 'blur', 'bloom', 'bloodbath', 'poorest', 'blasphemous', 'billboard', 'bette', 'bee', 'bassett', 'bananas', 'banana', 'balcony', 'baked', 'attribute', 'ate', 'arent', 'archive', 'arachnids', 'apology', 'cliffs', 'allure', 'allot', 'alarm', 'aha', 'aggression', 'ageless', 'adversary', 'adjustments', 'abdication', 'youths', 'wuhrer', 'workaholic', 'woodhouse', 'woke', 'wheelchair', 'westerners', 'well-meaning', 'weirdness', 'waterfront', 'walken', 'vitality', 'vindictive', 'victorious', 'veron', 'annaud', 'unscrupulous', 'unlucky', 'unchanged', 'amos', 'uncaring', 'two-hour', '46', 'two-dimensional', 'tuscan', 'trys', 'trophy', 'wrongful', 'touted', 'tires', 'teresa', 'tease', 'directory', 'teaming', 'feb', 'stylishly', 'wake-up', 'striving', 'stems', 'steadily', 'splendidly', 'spikes', 'spellbound', 'ott', 'sociopathic', 'snippets', 'small-time', 'slipped', 'shrink', 'shores', 'shopov', 'kristofferson', 'shoestring', 'enthusiastically', 'shenanigans', 'orbit', 'shabby', 'serviceable', 'semblance', 'self-serving', 'se7en', 'scriptural', 'scences', 'rubin', 'robards', 'righteousness', 'ridiculousness', 'requests', 'aplomb', 'rents', 'renew', 'remembrance', 'reds', 'reconciliation', 'solves', 'recalled', 'raved', 'ranting', 'ranked', 'purist', 'pseudo', 'abe', 'prevails', 'presently', 'preminger', 'posh', 'raining', 'posers', 'populace', 'pony', 'plea', 'disapointment', 'pits', 'pistols', 'piss', 'advises', 'pious', 'interviewing', 'pilgrims', 'pcm', 'patton', 'participating', 'paragraph', 'ox', 'overwhelm', 'aching', 'marker', 'overdrive', 'outrage', 'outlines', 'operator', 'oliveira', 'spray', 'nurses', 'noticable', 'nighttime', 'nightmarish', 'nicolodi', 'narrate', 'nameless', 'mime', 'midwestern', 'mekhi', 'voskamp', 'megaset', 'meetings', 'blocking', 'med', 'prospector', 'mccarthy', 'mating', 'marines', 'lurid', 'lola', 'disfigured', 'locales', 'laurel', 'slated', 'judges', 'jewess', 'isle', 'invaders', 'invaded', 'interruptions', 'insecurity', 'inhabited', 'inducing', 'indoor', 'immerse', 'illusions', 'illicit', 'illegitimate', 'ilk', 'ideally', 'ice-t', 'hyped', 'hr', 'hijack', 'hershey', 'hellraiser', 'hehe', 'wallflower', 'bisexual', 'reels', 'headstrong', '-it', 'half-way', 'gung-ho', 'greeted', 'spur', 'grandsons', 'drugged', 'grammar', 'goons', 'gloves', 'gentile', 'gavroche', 'cutter', 'fund', 'fueled', 'fruits', 'forrest', 'forefront', 'ethic', 'uniting', 'float', 'financially', 'fiddle', 'fathoms', 'fast-forward', 'famine', 'failings', 'extract', 'execs', 'ex-marine', 'evoking', 'equals', 'emulate', 'embarassing', 'postwar', 'dunno', 'lightness', 'downer', 'dork', 'distinctions', 'discredit', 'discerning', 'tr', 'discarded', 'devils', 'determines', 'deserts', 'democratic', 'cula', 'cueing', 'crux', 'crowned', 'tosses', 'cleavage', 'crimson', 'correspondent', 'fop', 'consumption', 'digs', 'confessed', 'conducting', 'ballerina', 'completes', 'communications', 'commissioned', 'comforting', 'accordingly', 'coloring', 'coz', 'claws', 'filmgoers', 'cited', 'christs', 'christmastime', 'chop', 'child-like', 'nagging', 'ceases', 'cater', 'swallow', 'cave', 'carriage', 'esteemed', 'miraculous', 'carlson', 'sultry', 'captivate', 'mcdormand', 'buffalo', 'bubble', 'project', 'boil', 'billie', 'summit', 'barnes', 'monstrous', 'badass', 'az', 'willful', 'aufschnaiter', 'astounded', 'undesirable', 'brillant', 'assumptions', 'immigrants', 'dickinson', 'arose', 'topical', 'applying', 'arkansas', 'aloud', 'all-out', 'schell', 'alexei', 'adultery', 'centuries', 'addicts', 'abortion', 'altering', 'cues', '84', 'coordination', 'programs', '68', '640', '1929', 'courtroom', 'woefully', 'done', 'welfare', 'develope', 'privacy', 'warden', 'wages', 'reporters', 'newell', 'rapidly', 'surgeon', 'unsatisfied', 'pastel', 'observe', 'unravels', 'unheard', 'underbelly', 'laurent', 'turin', 'eckhart', 'traps', 'tenacity', 'tackles', 'subculture', 'spiritually', 'generate', 'flogged', 'studded', 'stooge', 'beware', 'weaving', 'sorrows', 'slack', 'whole-heartedly', 'shortage', 'shells', 'sensitively', 'sieber', 'sober', 'screamer', 'thank', 'roos', 'ridden', 'gremlins', 'mosque', 'revolving', 'revolutionaries', 'whit', 'reversed', 'removal', 'eyed', 'recycled', 'montenegro', '06', 'recut', '95%', 'realizes', 'recalling', 'predicament', 'performed', 'diet', 'poland', 'pediatric', 'paycheck', 'panoramic', 'pact', 'orphans', 'pipe', 'organic', 'hordes', 'operative', 'off-putting', 'nina', 'film-maker', 'man', 'nationalism', 'miserables', 'steady', 'myers', 'fischer', 'mpaa', 'mister', 'cohorts', 'mining', 'militaristic', 'midshipman', 'marie', 'pee', 'meticulously', 'mechanics', 'joyfully', 'travels', 'meara', 'edith', 'borderline', 'manifest', 'chances', 'lows', 'lineup', 'lawn', 'separation', 'kirstie', 'kiddies', 'juxtaposition', 'junkyard', 'boomer', 'complaining', 'inmates', 'yearns', 'impulse', 'ill-fated', 'transported', 'ideological', 'howser', '000', 'homicide', 'hometown', 'hinckley', 'helmet', 'postal', 'greats', 'hallway', 'hackers', 'hay', 'grossed', 'greer', 'graduating', 'goodies', 'poignant', 'moonlight', 'malcovich', 'reed', 'grades', 'intensely', 'gooey', 'sid', 'funding', 'accuracy', 'frost', 'fringe', 'forgivable', 'raucous', 'same', 'match', 'floyd', 'gentleman', 'upgraded', 'feds', 'sub', 'favs', 'tickets', 'fascists', 'heroines', 'his', 'amelia', 'facinating', 'witnessing', 'emergence', 'easiest', 'dour', 'barbaric', 'distasteful', 'dissatisfied', 'captioning', 'dilemmas', 'diggs', 'eacute', 'co-workers', 'deus', 'desirable', 'coyote', 'corps', 'adele', 'grin', 'conformity', 'commercially', 'attentions', 'planned', 'cherry', 'charmed', 'lined', 'caption', 'camping', 'cabinet', 'brendan', 'boyish', 'inserting', 'overdone', 'boyhood', 'contain', 'bopper', 'undertake', 'idiotic', 'boogie', 'bare-bones', 'weary', 'blades', 'bast', 'barbarian', 'auml', 'astronomy', 'assassins', 'chambers', 'aptly', 'observer', 'apollo', 'alterations', 'traumatized', '64', '58', 'spun', 'sellers', 'clones', '1935', 'zelah', 'woodward', 'voyager', 'villians', 'utters', 'disappoints', 'users', 'funniest', 'debut', 'untouchables', 'gist', 'unorthodox', '--d', 'windshield', 'trusting', 'transcend', 'cheaper', 'townspeople', 'aires', 'earl', 'indelible', 'toshiro', 'crucify', 'thx', 'springsteen', 'thankless', 'sleepwalking', 'plumbing', 'tainted', 'substantially', 'stimulate', 'stantz', 'stadium', 'weekly', 'abandons', 'spider', 'original', 'sneaks', 'lusty', 'snaps', 'shocks', 'cannon', 'shirts', 'shedding', 'seattle', 'scala', 'ridley', 'quieter', 'diseases', 'restless', 'rescues', 'religous', 'reinhold', 'klaus', 'would-be', 'raves', 'commanding', 'quilting', 'in-depth', 'prototype', 'healthier', 'proportion', 'inviting', 'priorities', 'clan', 'gates', 'poke', 'pinnacle', 'dummies', 'further', 'personification', 'passengers', 'partnership', 'impersonation', 'carved', 'parks', 'anecdotes', 'paredes', 'voodoo', 'astonishingly', 'palm', 'postage', 'packages', 'enormity', 'onstage', 'true-to-life', 'onboard', 'olivera', 'noon', 'nicest', 'grows', 'translation', 'nave', 'moss', 'nurse', 'morricone', 'titans', 'monotonous', 'binds', 'petulant', 'retirement', 'mockumentary', 'mo', 'grow', 'missile', 'wild', 'slowly', 'tops', 'maury', 'marian', 'maps', 'manufactured', 'malone', 'plotlines', 'floors', 'lite', 'reserve', 'lil', 'instincts', 'kari', 'winslet', 'introverted', 'institutions', 'achieve', 'inhumane', 'pena', 'inflict', 'areas', 'impeccably', 'friendly', 'wallis', 'identifying', 'percussion', 'ss', 'hunk', 'hug', 'hides', 'hristo', 'howling', 'ws', 'khz', 'ignorance', 'hottie', 'targeting', 'hm', 'stylish', 'hitchcockian', 'jeffrey', 'heavens', 'heart-breaking', 'hampered', 'disturbingly', 'grieving', 'conversations', 'imo', 'laura', 'expert', 'belive', 'disregard', 'graveyard', 'granny', 'graffiti', 'glorify', 'parting', 'gleeson', 'riding', 'dining', 'gena', 'prophets', 'subsequent', 'geez', 'g3', 'fozzie', 'foolishly', 'foes', 'www', 'details', 'disaster', 'ninth', 'first-time', 'scared', 'buddhist', 'fiorentino', 'driver', 'facet', 'engines', 'emerging', 'exotic', 'landscape', 'effortless', 'dystopian', 'dumber', 'freight', 'dreamy', 'donkey', 'silverado', 'ditch', 'newhart', 'intermission', 'diminish', 'dime', 'fundamental', 'darnell', 'log', 'damsel', 'czar', 'culturally', 'san', 'crank', 'continuously', 'conquers', 'companionship', 'cinemascope', 'enigmatic', 'chi', 'dobbin', '8', 'chemical', 'camels', 'busted', 'danger', 'broadcasts', 'benson', 'bawdy', 'marcia', 'imitation', 'verbally', 'bags', 'ax', 'attends', 'premier', 'approx', 'ammo', 'alexis', 'advantages', 'misogyny', 'adolescents', 'admitting', '1952', '$9', 'romanovs', 'icky', 'stake', 'heterosexual', 'practiced', 'yelled', 'permits', 'wtf', 'rookie', 'communicates', 'spouting', 'chock', 'worm', 'widespread', 'wish', 'verbatim', 'superficially', 'validity', 'urbervilles', 'imagination', 'unsuccessful', 'unlikable', 'phrasing', 'separated', 'unintentional', 'unfinished', 'capsule', 'uncompressed', 'transitions', 'prime', 'slot', 'torch', 'topless', 'tearjerker', 'tax', 'submariner', 'stitches', 'rendezvous', 'right-wing', 'squarely', 'spree', 'fly', 'speeds', 'cooler', 'specs', 'spaces', 'songwriter', 'attracts', 'came', 'pissed', 'sobbing', 'skirts', 'shelter', 'sinner', '48', 'acquainted', 'sheltered', 'semi', 'charecter', 'seduces', 'enthusiasts', 'memorial', 'vistas', 'schlegels', 'sabatini', 'respectfully', 'dexter', 'atmospheric', 'ribs', 'illustrating', 'command', 'bang', 'retreat', 'retail', 'repulsed', '94', 'representations', 'stilted', 'reflections', 'bystander', 'quo', 'aggressive', 'psychosis', 'proudly', 'prose', 'root', 'policemen', 'hint', 'de', 'ploy', 'pleasence', 'pickup', 'thereby', 'peters', 'criticisms', 'pertinent', 'merchandise', 'papa', 'according', 'perky', 'overboard', 'outshines', 'otherworldly', 'operating', 'detracts', 'observing', 'jealous', 'needle', 'reconsider', 'relish', 'neatly', 'beah', 'moods', 'tooth', 'monte', 'morton', 'moive', 'or', 'misogynistic', 'ripe', 'medication', 'mann', '29', 'madly', 'rubber', 'macy', 'lore', 'loosing', 'suffering', 'rabbi', 'locker', 'hats', 'livestock', 'elizabeth', 'lingering', 'linger', 'surfer', 'letterboxed', 'afloat', 'laughably', 'detachment', 'epidemic', 'especially', 'lam', 'crystal', 'besides', 'acts', 'guests', 'joking', '37', 'melodic', 'jazzy', 'wash', 'comedian', 'janitor', 'consisting', 'j-lo', 'forge', 'renegade', 'ipad', 'pathological', 'insulted', 'inexperienced', 'aslan', 'incorporating', 'ranging', 'intended', 'in-your-face', 'imminent', 'goods', 'hummingbird', 'identifies', 'overhead', 'howe', 'territory', 'horner', 'visitor', 'helplessly', 'archival', 'josh', 'heel', 'best', 'harrar', 'harmonies', 'because', 'amused', 'grisly', 'awakes', 'grating', 'glitches', 'glitch', 'evokes', 'genious', 'gamut', 'gamble', 'galleries', 'celebrated', 'raunchy', 'iniquities', 'funk', '14', 'frenchmen', 'holocaust', 'manor', 'frenchman', 'glances', 'diamond', 'founder', 'fluent', 'jeans', 'unattractive', 'dedicated', 'outtakes', 'finesse', 'antagonistic', 'outfield', 'stallone', 'ferocious', 'feisty', 'bouncing', 'expectancy', 'downton', 'ex-girlfriend', 'permitted', 'estranged', 'confesses', 'erase', 'tore', 'elm', 'eliminating', 'elevate', 'lolita', 'egrave', 'luckily', 'eg', 'ecstatic', 'earthy', 'doogie', 'identifiable', 'chuckles', 'disabled', 'delusional', 'trusted', 'delights', 'affiliation', 'x-files', 'deity', 'defying', 'darwin', 'workhouse', 'darrin', 'vamp', 'culinary', 'craziness', 'conquered', 'decent', 'page', 'writer-director', 'conjunction', 'confronting', 'scripting', 'concluded', 'classified', 'textured', 'charging', 'wondering', 'vulnerable', 'pains', 'casually', 'bonus', 'extension', '$3', 'casey', 'humanly', 'knight', 'calculated', 'impacting', 'cabrini', 'chronic', 'breast', 'bratty', 'bothering', 'booze', 'blackmail', 'bid', 'soundtracks', 'navigate', 'bending', 'fanciful', 'atrocity', 'attack', 'ashes', 'low-life', 'applauded', 'anjelica', 'adopt', 'actuality', 'abuses', '96', 'affected', 'ham', 'guarded', '15th', 'resting', 'client', 'zip', 'word-for-word', 'wire', 'improving', 'wanders', 'need', 'versa', 'half-hour', 'urges', 'untouched', 'superstar', 'unoriginal', 'ultraviolet', 'transplant', 'manipulations', 'superior', 'touring', 'tortures', 'shaun', 'schroeder', 'thou', 'gus', 'supplements', 'follower', 'summaries', 'junkies', 'strokes', 'basketball', 'stevie', 'angles', 'stella', 'legions', 'borrows', 'spreading', 'yr', 'slant', 'avid', 'bilal', 'skillful', 'sh', 'sailing', 'rockford', 'ruthie', 'rewrite', 'structure', 'restaurants', 'representatives', 'relying', 'indemnity', 'reduce', 'spengler', 'reclaim', 're-make', 'grocery', 'ranking', 'fuller', 'protestants', 'plainly', 'recall', 'pervasive', 'perfected', 'papas', 'accuses', 'foxy', 'outrageously', 'orthodox', 'snarling', 'orientation', 'optimism', 'olyphant', 'offerings', 'injected', 'obtained', 'hit-man', 'objectively', 'rita', 'noticeably', 'nooma', 'niche', 'mythos', 'cc', 'movie-', 'monks', 'oscar-nominated', 'moe', 'mind-blowing', 'shunned', 'funds', 'megalon', 'slime', 'mctiernan', 'maureen', 'liberate', 'matinee', 'downloaded', 'manhood', 'louder', 'responded', 'poisoned', 'announcement', 'furniture', 'lingers', 'transformation', 'restaurant', 'squad', 'lees', 'rochester', 'leaps', 'ld', 'plain', 'laced', 'introductory', 'drugs', 'hitch', 'vocal', 'substitute', 'heartstrings', 'stung', 'hairs', 'starred', 'gozer', 'good-natured', 'gimmick', 'heading', 'gidget', 'freaked', 'du', 'terrifying', 'again', 'fly-fishing', 'feeding', 'tape', 'tips', 'fearing', 'congratulations', 'eye-candy', 'retrospective', 'serious', 'exceeds', 'esai', 'knock-off', 'envisioned', 'instructive', 'embedded', 'extended', 'earning', 'shoot-out', 'requisite', 'dove', 'clara', 'declaring', 'dogma', 'react', 'disservice', '-', 'diaries', 'fidelity', 'desmond', 'stagey', 'spencer', 'departed', 'curtis', 'sharply', 'crusade', 'millennium', 'cranky', 'bevy', 'copying', 'responsibilities', 'conform', 'immaculate', 'metaphor', 'concentrated', 'ashore', 'day', 'closeups', 'celentano', 'cautious', 'cautionary', 'harvest', 'expertise', 'nailed', 'routines', 'cans', 'camaraderie', 'theologians', 'addams', 'buena', 'honest', 'onofrio', 'heightened', 'tommy', 'visionary', 'broader', 'briers', 'bacall', 'avery', 'output', 'sentences', '1-star', 'asin', 'morose', 'arthurian', 'arise', 'apocalyptic', 'almighty', 'fixated', 'accidently', 'aagpbl', 'a-list', 'cyberpunk', 'behaved', '1920s', 'mundane', 'whoopie', 'wastes', '3-4', 'friction', 'vulgarity', 'visitors', 'vary', 'forum', 'unquestionably', 'utopia', 'tighter', 'cop-out', 'thewlis', 'tent', 'tennis', 'taunt', 'tackle', 'wide', 'gut-wrenching', 'tacked', 'switzerland', 'stricken', 'obama', 'herrod', 'streetcar', 'hit', 'steiger', 'night', 'organizations', 'stacked', 'deserves', 'sprinkled', 'splatter', 'spinster', 'starkwell', 'smallest', 'strong', 'hbo', 'womanizer', 'sister-in-law', 'mi', 'single-handedly', 'sinbad', 'shameful', 'selfless', 'scrutiny', 'attendant', '17th', 'satanic', 'sabotage', 'wkrp', 'ruler', 'caleb', 'rosalinda', 'pentatonic', 'benedict', 'robust', 'treat', 'recipient', 'radically', 'putin', 'dressed', 'promotes', 'professors', 'butts', 'probability', 'risked', 'pond', 'playground', 'winona', 'phyllis', 'pfeiffer', 'origional', 'orginal', 'tyrannical', 'judaism', 'prone', 'neighborhoods', 'nary', 'gear', 'mythological', 'snappy', 'monitor', 'cheesey', 'confirm', 'misplaced', 'mercurio', 'trustworthy', 'lyrical', 'lynch', 'lifeless', 'leisurely', 'donaggio', 'klendathu', 'interference', 'impresses', 'inclination', 'daria', 'bravado', 'impacted', 'hostility', 'orignal', 'homicidal', 'biases', 'dice', 'heated', 'cheadle', 'therapist', 'heap', 'embodies', 'headache', 'handicapped', 'gunfire', 'musically', 'dame', 'ginty', 'charmer', 'gesture', 'socialite', 'galahad', 'furry', 'stand-alone', 'appalled', 'forester', 'briskly', 'sobieski', 'eight', 'fluffy', 'vogel', 'mystique', 'traditions', 'favour', 'mackenzie', 'fates', 'fades', 'overdoes', 'colleges', 'perversity', 'facinelli', 'exudes', 'delegates', 'declares', 'directors', 'creeps', 'breathless', 'cowardice', 'announces', 'penelope', 'contrasting', 'protection', 'conceptual', 'hark', 'competitive', 'awe-inspiring', 'comedians', 'classify', 'chew', 'poledouris', 'supervisor', 'rumor', 'cheerful', 'transsexual', 'callous', 'ivan', 'bursts', 'ant', 'bump', 'plentiful', 'blending', 'traveled', 'bernie', 'barrett', 'plausibility', 'proposes', 'banks', 'b-grade', 'weaker', 'attachment', 'annoyance', 'angelica', 'iam', 'amiable', 'almod', 'alba', 'a-', '50%', '1945', 'narrating', '1943', 'bening', 'aristocrats', '1937', 'yorker', 'babysitter', 'underappreciated', 'whimsical', 'build-up', 'well-crafted', 'wary', 'warnings', 'warm-up', 'votes', 'volunteer', 'sitting', 'combo', 'vii', 'journal', 'var', 'frenetic', 'utmost', 'unsympathetic', 'uncredited', 'unavailable', 'orphanage', 'garr', 'underscores', 'collage', 'brought', 'tuned', 'lacks', 'translates', 'brute', 'whacked', 'toll', 'tinker', 'te', 'blackchurch', 'supermarket', 'cohn', 'superiors', 'successes', 'feel', 'stationed', 'libyan', 'powder', 'spoiling', 'speculation', 'smack', 'slept', 'slang', 'furious', 'clutches', 'sketchy', 'signal', 'fancy', 'showcased', 'sheryl', 'application', 'shaloub', 'karma', 'rituals', 'fry', 'searing', 'schaech', 'animators', 'savvy', 'clinic', 'rutledge', 'rudolf', 'lang', 'roads', 'heat', 'riff', 'uniform', 'revisited', 're-mastered', 'radek', 'quirks', 'perfomances', 'relate', 'beams', 'expansion', 'puzzling', 'ashley', 'punctuated', 'wreak', 'problematic', 'powell', 'insect', 'devriess', 'bolts', 'passive', 'personnel', 'pennsylvania', 'outdone', 'rotterdam', 'athletic', 'fault', 'obsessions', 'bombshell', 'lighthearted', 'obscurity', 'objection', 'crushed', 'noises', 'majestic', 'nasa', 'must-own', 'mum', 'heels', 'quinn', 'lifestyles', 'motley', 'kent', 'moron', 'judah', 'contagious', 'causing', 'showgirls', 'mistreated', 'masked', 'carla', 'mandy', 'maltin', 'lowly', 'fingers', 'kittens', 'keys', 'represents', 'karloff', 'pleases', 'jeannie', 'recollections', 'interwoven', 'delight', 'insignificant', 'inquisition', 'interacts', 'lurking', 'idyllic', 'hysteria', 'honda', 'aerial', 'hips', 'highschool', 'damning', 'everyones', 'riviera', 'admittedly', 'albeit', 'commitment', 'hackneyed', 'hacked', 'endorsement', 'dreck', 'clients', 'grumpy', 'grandiose', 'goldsmith', 'kietel', 'footsteps', 'osborne', 'glorified', 'selecting', 'glimmer', 'observed', 'ginger', 'outlined', 'gideon', 'ghostbuster', 'hound', 'gaping', 'frighteningly', 'franz', 'shoved', 'bandits', 'forties', 'wistful', 'flare', 'alexandria', 'filmaking', 'goldthwait', 'wrapped', 'fart', 'fertile', 'advertise', 'ethereal', 'enticing', 'barrier', 'enigma', 'amongst', 'emergency', 'spirit', 'whites', 'elves', 'arms', 'electricity', 'limbs', 'editors', 'eternally', 'enter', 'humanity', 'drifting', 'down-to-earth', 'apprentice', 'disturb', 'frighten', 'guards', 'digging', 'aristocrat', 'defeats', 'constantine', 'deedee', 'wrestle', 'dandy', 'curiously', 'adventist', 'crass', 'contributing', 'components', 'manager', 'commits', 'cochrane', 'cliffhanger', 'adventists', 'draft', 'chunks', 'flatliners', 'committee', 'radiation', 'fence', 'carmine', 'hovering', 'addict', 'canon', 'occur', 'breath-taking', 'botched', 'raft', 'intelligently', 'notices', 'blasted', 'frankly', 'bios', 'lacey', 'bees', 'weisz', 'zoo', 'avc', 'artfully', 'fanfare', 'annelle', 'terrorist', 'accents', 'amendment', 'return', 'amateurish', 'agonizing', 'intricacies', 'dates', 'accomplishes', '$7', 'browsing', 'ron', 'whore', 'weave', 'voyeurism', 'affections', 'swirling', 'vocalist', 'packs', 'ugliness', 'awfully', 'contributions', '1938', 'troy', 'didnt', 'trimmed', 'dreamlike', 'trashed', 'widowed', 'prisoners', 'transparent', 'timing', 'goldman', 'toby', 'timed', 'suprising', 'sugar', 'suburbia', 'enlightened', 'stressed', 'walton', 'drive', 'speeding', 'rubbish', 'soprano', 'spectacularly', 'recommending', 'slew', 'rhys-meyers', 'messing', 'sparkles', 'sherif', 'shapes', 'shameless', 'zwick', 'scarier', 'encompasses', 'forgot', 'alright', 'robson', 'visibly', 'records', 'robbing', 'reverend', 'void', 'resourceful', 'resonance', 'researcher', 'everything', 'spirituality', 'renaissance', 'lighten', 'relegated', 'regina', 'subdued', 'refuge', 'rally', 'r-rated', 'gift', 'quartet', 'pursued', 'promotion', 'bewitched', 'priority', 'predicted', 'blew', 'praising', 'praises', 'pellington', 'http', 'pauses', 'oscar-worthy', 'squalor', 'operatic', 'newspapers', 'terrorizing', 'motivate', 'low', 'mischief', 'miraculously', 'athlete', 'midwest', 'malevolent', 'magazines', 'laugh-out-loud', 'jos', 'juice', 'ironside', 'insomnia', 'incoherent', 'inane', 'textbook', 'impressionable', 'stately', 'subjective', 'id4', 'secured', 'hubby', 'hostages', 'process', 'hawaii', 'haven', 'ship', 'hatches', 'haircut', 'gullible', 'cunningham', 'fraggle', 'embarks', 'duval', 'human', 'cross', 'glow', 'bitterly', 'georgia', 'fountain', 'bait', 'forceful', '1944', 'fictitious', 'unworthy', 'feature-length', 'victories', 'punish', 'walmart', 'fashion', 'fearful', 'maynard', '1-10', 'faulkner', 'farrow', 'torn', 'fairness', 'seymour', 'f-16', 'glorification', 'excel', 'eliminated', 'dreaded', 'managed', 'drastic', 'dragging', '$25', 'disrespect', 'diagnosis', 'deck', 'debating', 'film', 'dangerously', 'dakota', 'useless', 'bite', 'duh', 'corp', 'cannons', 'illustrations', 'locale', 'conveniently', 'contradictory', 'fiction', 'confines', 'talks', 'questionable', 'condensed', 'condemnation', 'fleeing', 'comprehension', 'located', 'companions', 'communities', 'cocaine', 'coincidences', 'bullying', 'conservatives', 'gently', 'newborn', 'borrowing', 'boldly', 'bogie', 'rodney', 'blocks', 'beneficial', 'kitten', 'assumption', 'afi', '97', 'patriot', '65', 'stereotyped', 'idealized', '20s', 'feeble', 'redundant', 'azaria', 'yeshua', 'yea', 'happier', 'taboo', 'poured', 'tutorial', 'umbrella', 'yarn', 'admirer', 'murderous', 'weights', 'deer', 'watered', 'wander', 'vito', 'unjust', 'unwittingly', 'sylvester', 'poetic', 'sheen', 'kooky', 'connell', 'token', 'tiring', 'thirties', 'terri', 'top', 'caricatures', 'targets', 'grief', 'tails', 'mushy', 'tab', 'publishing', 'sections', 'symptoms', 'menus', 'subs', 'stylistic', 'riders', 'structured', 'domination', 'stephens', 'spades', 'sorta', 'sleeps', 'rooting', 'runaway', 'rewatching', 'largest', 'one-note', 'himself', 'repulsive', 'invite', 'reportedly', 'awhile', 'replica', 'viciously', 'neal', 'recognizing', 're-watch', 'follow', 'blessings', 'rarity', 'randomly', 'thanx', 'raids', 'prowess', 'proposal', 'ivory', 'pretense', 'screened', 'spies', 'films', 'presidents', 'say', 'slasher', 'precision', 'evicted', 'physician', 'act', 'persecuted', 'losses', 'peril', 'refrain', 'ancestors', 'husbands', 'peaks', 'phillip', 'pour', 'pdf', 'tasty', 'several', 'pharisees', 'bucks', 'oppressive', 'officially', 'ode', 'diabetes', 'worked', 'objectionable', 'no-nonsense', 'certified', 'sooooo', 'nifty', 'freshness', 'mormon', 'moms', 'carpet', 'stand-out', 'proving', 'sinners', 'maverick', 'hmm', 'maish', 'techno', 'skewed', 'bounce', 'supporters', 'outside', 'karate', 'devastation', 'candidates', 'joanna', 'lol', 'hall', 'islamic', 'investigations', 'historic', 'overdose', 'illustration', 'missed', 'grab', 'hush', 'pel', 'reminders', 'hrs', 'gruff', 'stunt', 'gloomy', 'calmly', 'glee', 'generosity', 'stirs', 'gb', 'sherilyn', 'completion', 'faster', 'fulfillment', 'pondered', 'ghastly', 'filmography', 'broken', 'outcome', 'film-', 'dell', 'eyebrows', 'cold-hearted', 'eugenics', 'emphasizes', 'coral', 'declaration', 'sleepy', 'meals', 'searchers', 'differs', 'orczy', 'diagnosed', 'sheer', 'gal', 'custody', 'cow', 'counterparts', 'cohesive', 'concepts', 'clea', 'leather', 'cheryl', 'subconscious', 'spaceship', 'chat', 'cha', 'unsatisfactory', 'ceremony', 'decides', 'celebrates', 'purest', 'bigfoot', 'catcher', '48khz', 'caesar', 'loathe', 'bust', 'clich', 'bookstore', 'behaviors', 'begotten', 'beals', 'awestruck', 'manner', 'montage', 'bach', 'ho', 'thrust', 'avenge', 'attest', 'artillery', 'prestigious', 'armies', 'villa', 'armageddon', 'within', 'archives', 'multi', 'refusing', 'aquatic', 'apologize', 'anime', 'funky', 'anatomy', 'allegedly', 'theatrically', 'accuse', '2nd', '$30', 'unravel', 'tourist', 'understandably', 'tow', 'toronto', 'dancing', 'topped', 'selling', 'tolerable', 'tibetans', 'themed', 'giorgio', 'tee', 'tastefully', 't-shirt', 'swings', 'storyteller', 'stormy', 'standouts', 'advanced', 'solutions', 'vision', 'sleeve', 'saturday', 'threats', 'karajan', 'sleek', 'similarity', 'shane', 'lenses', 'wraps', 'sexes', 'producer', 'embarrassment', 'selves', 'discount', 'forgive', 'samsung', 'saloon', 'mangled', 'ronnie', 'robs', 'rips', 'retarded', 'reich', 'protest', 'moment', 'prisons', 'quast', 'powerless', 'planted', 'philippe', 'pagan', 'overweight', 'opposites', 'numb', 'nic', 'motif', 'moses', 'mm', 'mechanic', 'rhyme', 'mastrantonio', 'druten', 'freed', 'freeze', 'mans', 'malloy', 'far', 'lyle', 'lest', 'derail', 'lawyers', 'noble', 'rolled', 'karl', 'luv', 'artists', 'dug', 'caracters', 'jets', 'ahold', 'irresponsible', 'iq', 'intends', 'insensitive', '$8', 'infinitely', 'wynn', 'sleaze', 'imperial', 'imaginable', 'midway', 'advertised', 'hughes', 'hubbell', 'houston', 'losado', 'entirety', 'hi-def', 'imposed', 'hatch', 'grownup', 'illustrated', 'endearment', 'mocks', 'hans', 'gunfight', 'birth', 'gruffudd', 'butter', 'grips', 'gloriously', 'rosie', 'obstacle', 'helluva', 'transcends', 'sanford', 'gee', 'intolerance', 'drivel', 'gamera', 'fugitive', 'fresh', 'fourteen', 'folly', 'afraid', 'broadcast', 'fairies', 'disparate', 'prom', 'excessively', 'pesky', 'evoked', 'embraces', 'bernard', 'dorian', 'quite', 'supremely', 'doctrine', 'mcmurray', 'dnr', 'afford', 'deft', 'distinctly', 'investigators', 'discoveries', 'perilous', 'diapers', 'di', 'soviet', 'detractors', 'derived', 'luxury', 'default', 'custom', 'graciously', 'crawling', 'miranda', 'consumed', 'detached', 'commended', 'resembles', 'commando', 'narrated', 'claymoore', 'clavell', 'len', 'characterized', 'silk', 'cary', 'henchman', 'motor', 'bum', 'lebay', 'bs', 'bart', 'horse', 'award-winning', 'recover', 'avail', 'attributed', 'naked', 'astronaut', 'increase', 'articles', 'americana', 'ambrose', 'kidnappers', 'amaze', 'solitude', 'jackie', 'fraud', 'aristocracy', 'owens', 'airing', 'recap', 'adrenaline', 'adores', 'absolutley', 'violin', 'wrapping', 'distrust', 'vinci', 'thrive', 'fairy', 'uncompromising', 'treece', 'virtues', 'cornuke', 'showy', 'tidbits', 'civilians', 'soul', 'therein', 'beneath', 'tended', 'leaning', 'shattered', 'teenaged', 'off', 'taps', 'procedures', 'sync', 'unspeakable', 'stuff', 'campy', 'superhuman', 'staple', 'smarmy', 'unfaithful', 'italy', 'sickness', 'chart', 'sfx', 'scratching', 'disclaimer', 'matter', 'exploitative', 'sassy', 'rollercoaster', 'revive', '1977', 'visiting', 'relieved', 'interlude', 'reid', 'recruit', 'stoked', 'plodding', 'piggy', 'sang', 'sort', 'murky', 'phones', 'ouiser', 'ohio', 'bellamys', 'nearest', 'misunderstanding', 'meteorite', 'math', 'magician', 'batting', 'medal', 'made-for-tv', 'lucia', 'platter', 'televised', 'leonato', 'beaten', 'korea', 'symphonic', 'indulge', 'keyboard', 'redemptive', 'rewatch', 'jar', 'invaluable', 'hyde', 'housing', 'hopelessness', 'bickering', 'hawk', 'settled', 'uh', 'harmed', 'gravity', 'gradual', '1914', 'slayer', 'giacomo', 'tobe', 'disguised', 'embodied', 'jay', 'isabelle', 'extraordinary', 'teaches', 'affleck', 'flipping', 'evolve', 'thousand', 'meyers', 'est', 'ensue', 'lessons', 'enlist', 'sidelines', 'damascus', 'double-sided', 'eaten', 'donovan', 'construct', 'devastated', 'defy', 'stocking', 'annoys', 'mist', 'murrieta', 'egyptian', 'contradiction', 'continuous', 'enacted', 'sesame', 'examining', 'heart-pounding', 'masterwork', 'consumer', 'candid', 'connecting', 'mount', 'betrays', 'concrete', 'european', 'thy', 'component', 'slimy', 'complement', 'adherence', 'colonial', 'clinical', 'ross', 'premiered', 'niv', 'burstyn', 'aspires', 'brannagh', 'bierko', 'backseat', 'assessment', 'executives', 'forget', 'deepest', 'resurrected', 'barrymore', 'answering', 'stages', 'angie', 'alluring', 'tread', 'ninja', '128139', 'mastermind', 'spoilers', 'whiz', 'advocate', 'doubles', 'template', 'yells', 'technological', 'tre', 'unintentionally', 'twisting', 'turbulent', 'tissue', 'thug', 'allowing', 'outdoor', 'swords', 'swallows', 'contrived', 'stuffed', 'loan', 'spelling', 'spelled', 'built', 'shelly', 'dalby', 'self-indulgent', 'sadism', 'bald', 'researching', 'profile', 'what', 'br', 'savor', 'repair', 'shrug', 'blessed', 'renowned', 'pitcher', 'dreyfus', 'linear', 'invalids', 'compromise', 'refined', 'magnolias', 'raiders', 'rack', 'quibbles', 'static', 'charlotte', 'qualify', 'bikes', 'promotional', 'prima', 'precursor', 'manifested', 'penchant', 'twelve', 'patsy', 'climaxes', 'overdue', 'spot', 'orchestral', 'elliott', 'off-beat', 'oblivious', 'pet', 'objections', 'no-brainer', 'verdell', 'roman', 'nicer', 'venus', 'electrifying', 'muddled', 'mistress', 'motorcycles', 'mgm', 'wiping', 'masks', 'intimately', 'marred', 'magnetic', 'knowledgeable', 'pioneer', 'kisses', 'joyous', 'bills', 'invest', 'finely', 'mint', '1948', 'intellect', 'overload', 'incomprehensible', 'iexcl', 'horrid', 'armor', 'humiliated', 'homeland', 'absence', 'hallmark', 'grandparents', 'hayden', 'gordy', 'besson', 'glamour', 'deceptive', 'katharine', 'giants', 'yo', 'forgetting', 'gr', 'fleeting', 'while', 'exquisitely', 'esteban', 'exceptionally', 'epps', 'ep', 'rifle', 'enthralling', 'enforcement', 'widower', 'chic', 'scotland', 'exclusively', 'warlock', 'korshunov', 'employee', 'indescribable', 'dumps', 'dripping', 'digress', 'delve', 'submit', 'contrasted', 'dealers', 'cowardly', 'righteous', 'convictions', 'open', 'clinton', 'claymation', 'seats', 'cherished', 'principals', 'cheat', 'rhythms', 'accentuate', 'charts', 'reclusive', 'censored', 'disclose', 'holroyd', 'ce3k', 'catalog', 'hail', 'caper', 'brenda', 'name', 'strangest', 'brady', 'blueray', 'turkeys', 'nervous', 'bastard', 'alcoholism', 'armored', 'timer', 'auteur', 'devote', 'cinemas', 'personal', 'arabian', 'madeline', 'analyze', 'denise', 'anxiously', 'ambiguity', 'sensitivity', 'aftermath', 'adept', 'acknowledged', 'apes', '99%', 'violation', 'definitive', 'chad', '1940s', 'horton', 'wonderfull', 'wilderness', 'diplomatic', 'waking', 'verdict', 'stocked', 'remixed', 'swamp', 'unexpected', 'unstable', 'like', 'drab', 'unfunny', 'vander', 'involves', 'trading', 'affectionate', 'separates', 'degraded', 'generally', 'sterile', 'specialist', 'mccabe', 'hired', 'slam', 'self-absorbed', 'saddest', 'neat', 'convict', 'c', 'robotic', 'plugged', 'ridicule', 'rea', 'bomber', 'rabid', 'gore-fest', 'pose', 'eats', 'resume', 'mercenary', 'reporting', 'reissue', 'razor', 'racing', 'queenie', '1931', 'satisfied', 'spam', 'pumping', 'slows', 'prospects', 'prevalent', 'preach', 'leisure', 'mecha', 'terrain', 'plethora', 'steroids', 'pioneers', 'commendable', 'permission', 'overcomes', 'bermuda', 'drivers', 'occured', 'morons', 'marcus', 'mac', 'lombardo', 'post', 'jesse', 'zest', 'instructors', 'indifferent', 'inability', 'high-school', 'functioning', 'sandy', 'portuguese', 'herbert', 'haha', 'loggia', 'dignan', 'commander', 'gusto', 'billing', 'gladly', 'frontier', 'shooter', 'chickens', 'orwell', 'freezes', 'wants', 'fluid', 'flee', 'stargate', 'definate', 'reworking', 'engrossed', 'marlo', 'englund', 'eloquent', 'election', 'echoes', 'faith', 'hewitt', 'differ', 'masquerading', 'decadent', 'velvet', 'cum', 'remembering', 'dearly', 'biographies', 'deafness', 'argued', 'cooper', 'grit', 'compensate', 'energizing', 'commend', 'bryan', 'chauvelin', 'charmingly', 'star-studded', 'bullied', 'enormous', 'brash', 'want', 'sigourney', 'bothers', 'bosnian', 'curly', 'bliss', 'defining', 'blake', 'triple', 'associates', 'architecture', 'ample', 'alaska', 'teamed', 'african-american', 'achieving', 'werner', 'massively', 'pen', 'variation', 'thorough', 'valmont', 'valentino', 'utilizing', 'unexplained', 'whim', 'activist', 'ugh', 'tri-star', 'tramp', 'toro', 'norwegian', 'teaser', 'swim', 'speak', 'letting', 'sunshine', 'parliament', 'crummy', 'subway', 'studi', 'includes', 'quietly', 'definetly', 'myriad', 'sterling', 'xander', 'spinning', 'sparse', 'webber', 'coach', 'slips', 'serling', 'saura', 'tower', 'refreshingly', 'christians', 'saturated', 'norms', 'preference', 'rivalry', 'skin', 'reprise', 'shattering', 'rampant', 'purple', 'prostitution', 'prosky', 'cain', 'powerhouse', 'metamorphosis', 'periodically', 'erik', 'outraged', 'benedic', 'pals', 'toe', 'cartoonish', 'youngsters', 'unwilling', 'hells', 'ordeal', 'operate', 'gosset', 'nc-17', 'obsessive-compulsive', 'mussolini', 'missions', 'mifune', 'magnitude', 'scares', 'locals', 'allen', 'keller', 'katadreuffe', 'weeks', 'issued', 'pilates', 'hunky', 'jobs', 'informs', 'homerun', 'puppets', 'pouring', 'trooper', 'servant', 'indicated', 'backround', 'co-writer', 'arbitrary', 'impressions', 'liquor', 'housewife', 'shelf', 'hottest', 'horizon', 'reconcile', 'consistently', 'branaugh', 'walt', 'redo', 'guang', 'grass', 'inspite', '04', 'bleeding', 'godzillas', 'francois', 'formal', 'foreshadowing', 'barking', 'fewer', 'choral', 'dreadful', 'fernanda', 'fateful', 'fanatical', 'facets', 'experimental', 'pi', 'expand', 'hammers', 'evangelical', 'irritate', 'employ', 'elegance', 'reducing', 'dubious', 'caiaphas', 'dreary', 'dispute', 'dependent', 'demanded', 'cinderelmo', 'deliciously', 'android', 'deceit', 'singularly', 'repeatedly', 'fifties', 'cullum', 'self-parody', 'corbin', 'prays', 'connects', 'financed', 'coke', 'carefree', 'cafe', 'live-action', 'prevent', 'alienation', 'bronze', 'maid', 'beetlejuice', 'infectious', 'self-centered', 'awaiting', 'auto', 'affordable', 'adjust', 'workshop', 'whiny', 'downhill', 'setup', 'waddell', 'adopted', 'voice-over', 'vienna', 'marty', 'owning', 'graduation', 'thereof', 'tha', 'temper', 'eve', 'palma', 'talkin', 'rhonda', 'surveillance', 'switching', 'verify', 'supplies', 'strother', 'tilt', '1985', 'streak', 'storyboards', 'undergoes', 'aspects', 'pbs', 'stare', 'squeamish', 'mysteriously', 'sophie', 'parable', 'somber', 'anyway', 'singular', 'prospective', 'monumental', 'shouts', 'shout', 'shiny', 'sheffer', 'rossovich', 'receiving', 'sharpness', 'duplicated', 'performances', 'dolphin', 'story-telling', 'seal', 'scholar', 'reflecting', 'salesman', 'revolt', 'pete', 'estimation', 'touches', 'parodies', 'addressing', 'fastest', 'pan-and-scan', 'confides', 'explains', 'outset', 'opponents', 'coming-of-age', 'non-christian', 'yards', 'supplement', '2000', 'cycle', 'monkeys', 'medea', 'long-time', 'letdown', 'gradually', 'empress', 'technologies', 'closely', 'junkie', 'occult', 'jerker', 'work', 'rocket', 'embracing', 'resentment', 'invading', 'integral', 'dupuis', 'madigan', 'hermey', 'spartacus', 'clapton', 'dodge', 'heartily', 'pun', 'lloyd', 'grandeur', 'defending', 'gladys', 'pages', 'giggle', 'patty', 'gig', 'gale', 'fitzgerald', 'introspective', 'peep', 'wink', 'supurb', 'fielding', 'dust', 'extremes', 'commandos', 'explodes', 'expanded', 'converted', 'evolving', '1967', 'establishing', 'bleed', 'drastically', 'dismay', 'numbered', 'disguises', 'dim', 'spying', 'learning', 'dignified', 'inhuman', 'demented', 'fierce', 'panavision', '1900', 'defect', 'decline', 'allgood', 'religiously', 'credited', 'intervenes', 'crawl', 'commands', 'chaotic', 'caddyshack', 'justification', 'budding', 'hs', 'blamed', 'believably', 'honors', 'awaited', 'attributes', 'cause', 'association', 'anacondas', 'recommed', 'accompany', 'oblivion', 'abraham', 'matarazzo', '75', 'pow', 'just', 'dismissed', '36', 'mitchell', 'tortured', 'warns', 'infatuated', 'wagner', 'motivational', 'vigilante', 'unleashed', '40s', 'uninspired', 'justify', 'twenties', 'tensions', 'chopping', 'vera', 'tacky', 'suspensful', 'survives', 'narrators', 'dot', 'subtleties', 'simpsons', 'oppression', 'sneak', 'sloppy', 'reluctantly', 'slimer', 'inducted', 'luis', 'critter', 'slc', '2005', 'slaughter', 'd', 'skinny', 'outlet', 'samuel', 'always', 'texture', 'riches', 'restoring', 'mornings', 'prophecy', 'system', 'polly', 'pilots', 'bertha', 'passover', 'papers', 'brisk', 'chappy', 'u-boats', 'beautifully', 'lay', 'pantheon', 'alittle', 'pans', 'mostly', 'outing', 'daylights', 'maretto', 'viewer', 'solve', 'ominous', 'barred', 'create', 'serves', 'nudge', 'fashioned', 'cooperation', 'longtime', 'merciless', 'mcgovern', 'marc', '1961', 'dominant', 'managing', 'patrons', 'bigot', 'welcomed', 'juan', 'libraries', 'rightly', 'jagged', 'insurance', 'resonate', 'epics', 'infinite', 'hypnotic', 'roughly', 'humming', 'highlighted', 'heche', 'costner', 'trappings', 'heavenly', 'havilland', 'gap', 'freaking', 'exclusion', 'anaconda', 'deftly', 'fanatics', 'factors', 'televisions', 'rose', 'gratitude', 'tracey', 'samples', '101', 'swagger', 'diving', 'diversity', 'sluggish', 'determining', 'cannes', 'incorporate', 'dismisses', 'nelson', 'divas', 'discomfort', 'disappears', 'davies', 'convicted', 'comprised', 'commenting', 'cinematically', 'ultra', 'co-wrote', 'weeping', 'unending', 'legacy', 'caricature', 'shuffle', 'peckinpah', 'slade', 'brent', 'backing', 'transgressions', 'ashford', 'allegory', '33', 'moronic', 'alienated', 'powered', 'adequately', 'prophecies', '$5', 'wisconsin', 'survive', 'gentlemen', 'vietnamese', 'cos', 'pirate', 'universally', 'rider', 'undeniably', 'traces', 'targeted', 'supports', 'summed', 'suave', 'stumble', 'stance', 'piqued', 'dazed', 'dictates', 'aided', 'spenser', 'skit', 'dea', 'shortened', 'worldview', 'shoe', 'distinction', 'support', 'expresses', 'sarcasm', 'ambitions', 'casablanca', 'sacrificed', 'conveyed', 'rumors', 'redeemed', 'pimp', 'pre-teen', 'team', 'polite', 'faulty', 'pistol', 'pimps', 'albright', 'story-line', 'parlor', 'psychedelic', 'pales', 'computerized', 'nuff', 'december', 'negotiate', 'morbid', 'marriages', 'lock', 'reminiscent', 'announced', 'lhasa', 'devoid', 'layered', 'pounds', 'launch', 'leave', 'kaufman', 'jolly', 'teenagers', 'isaiah', 'imperfect', 'impending', 'cynda', 'heavyweight', 'moderate', 'harmony', 'shaky', 'greatness', '1920', 'nest', 'formidable', 'multitude', 'irresistible', 'flames', 'abundant', 'portraits', 'solace', 'hash', 'haskell', 'weaves', 'evans', 'elevated', 'montoya', 'sensational', 'elementary', 'egon', 'disdain', 'diehard', 'denial', 'origin', 'tyrant', 'defies', 'fish', 'viking', 'coulardeau', 'gwenyth', 'supreme', 'cole', 'closet', 'subliminal', 'classy', 'chicks', 'champion', 'specials', 'sentenced', 'boxer', 'bootleg', 'whisper', 'eleven', 'addictive', 'obligatory', 'adapt', 'provocative', 'absolutly', '38', 'wouldnt', 'sunk', 'societies', 'worries', 'willingness', 'snipes', 'tank', 'hedra', 'sweep', 'harder', 'stretched', 'agnostic', 'fragments', 'tag', 'strangers', 'foote', 'stepping', 'should', 'belonging', 'sought', 'sore', 'snl', 'scoundrel', 'post-modern', 'slaves', 'necessity', 'professionalism', 'romanov', 'silverstone', 'carlisle', 'shootouts', 'shawshank', 'shady', 'submitted', 'sexist', 'beginners', 'imply', 'seas', 'clashing', 'expense', 'marathon', 'bed', 'satriani', 'purity', 'complimentary', 'herbie', '1776', 'compares', 'pronounced', 'crows', 'square', 'pope', 'puns', 'pascal', 'parking', 'shares', 'paintings', 'annals', 'overacting', 'parental', 'thorton', 'schoolteacher', 'opposition', 'cia', '23', 'mud', 'weirdly', 'molasses', 'meanings', 'mae', 'unbalanced', 'intervention', 'individually', 'indication', 'reduces', 'tells', 'inconsistent', 'incomplete', 'huma', 'highway', 'heros', 'melding', 'grenade', 'gossip', 'eden', 'functions', 'projected', 'mother-in-law', 'fullest', 'boiling', 'fuel', 'servitude', 'endlessly', '12rate', 'unbelievably', 'enabled', 'darrell', 'dvr', 'united', 'recovers', 'courier', 'scary', 'emphasized', 'atheist', 'drawings', 'derivative', 'laughs', 'customs', 'crisp', 'conducted', 'u-571', 'condemn', 'clouds', 'homosexuals', 'verve', 'montgomery', 'childlike', 'catalyst', 'boxes', 'bergerac', 'harshly', 'banning', 'atonement', 'duet', 'irregulars', 'el', '6th', 'workings', 'changing', '400', '1955', 'employs', 'vibe', 'crossroads', 'hard', 'versatile', 'utilized', 'unclear', 'unanswered', 'tables', 'villainous', 'sullivan', 'inspired', 'parables', 'spot-on', 'hierarchy', 'criminals', 'gestures', 'stumbled', 'speeches', 'sensation', 'scholarship', 'nichols', 'garner', 'saddened', 'pulled', 'rugged', 'resonates', 'documentation', 'requiem', 'fozzy', 'before', 'reagan', 'refresher', 'prophet', 'underhanded', 'sins', 'sat', 'preserve', 'pepsi', 'fulfill', 'hamilton', 'partial', 'motivates', 'outsider', 'ours', 'ottoman', 'al-mukhtar', 'well-written', 'tube', 'noticing', 'mtm', 'terminal', 'morrow', 'crane', 'morales', 'monk', 'crews', 'messy', 'melody', 'playful', 'bodily', 'melancholy', 'manners', '1939', 'lp', 'literate', 'equal', 'intertwined', 'interpret', 'ignoring', 'hurting', 'undergo', 'juliette', 'hurry', 'explosive', 'balancing', 'humane', 'glued', 'guides', 'confuse', 'warped', 'guided', 'martyrs', 'troops', 'grown-up', 'ni', 'global', 'flowers', 'fireworks', 'palaces', 'feedback', 'farmer', 'paranoia', 'input', 'abbey', 'computer', 'expressing', 'expectation', 'entity', 'earthly', 'drift', 'clockwork', 'anxiety', 'distress', 'raised', 'cerebral', 'dc', 'assaulted', 'monty', 'trash', 'launched', 'creep', 'instructor', 'correctness', 'scratch', 'continuation', 'infected', 'explode', 'chops', 'sheppard', 'choir', 'grotesque', 'technicolor', 'burke', 'expands', 'recounts', 'brit', 'reenactment', 'unrequited', 'promoter', 'avenue', 'edward', 'assistance', 'godspell', 'arena', 'amen', 'starvation', 'androgynous', 'margret', 'amazes', 'cheats', 'bellucci', 'alabama', 'throught', '2-3', 'zilla', 'zany', 'blurb', 'onscreen', 'wich', 'ivy', 'whips', 'cornelius', 'unfairly', 'truman', 'tribulations', 'tragically', 'tearing', 'steer', 'spectrum', 'soo', 'shockingly', 'russia', 'tasks', 'fail', 'seperate', 'selections', 'usc', 'air', 'adoration', 'loony', 'satisfactory', 'detillo', 'pulse', 'park', 'prospect', 'heart-rending', 'open-minded', 'willow', 'flops', 'posture', 'posters', 'populated', 'orleans', 'unscathed', 'pearl', 'para', 'remark', 'overcame', 'loads', 'odyssey', '49', 'nosed', 'nam', 'nun', 'missiles', 'mall', 'longing', 'lightly', 'illogical', 'invent', 'june', 'jet', 'fetching', 'warms', 'limits', 'humankind', 'heavy-handed', 'btw', 'heal', 'rewritten', 'guardian', 'golgotha', 'showtime', 'roommate', 'escapades', 'picky', 'monday', 'mcdowall', 'garcia', 'frantic', 'feminist', 'explosives', 'warwick', 'gen', 'endurance', '90%', 'hike', 'punk', 'drummers', 'crashed', 'unknown', 'daytime', 'distinctive', 'riffs', 'claude', 'duplicate', 'unsuccessfully', 'issue', 'castles', 'delves', 'children', 'icing', 'dario', 'crowded', 'cracked', 'had', 'coat', 'felt', 'blossom', 'devices', 'chocolate', 'escapist', 'basket', 'drive-in', 'identify', 'festival', 'establishes', 'bravery', 'ransom', 'presentations', 'everlasting', 'simplest', 'suited', 'bowden', 'welcomes', 'presume', 'decorated', 'biological', 'ballad', 'czech', 'instrument', 'bahamas', 'b-17', 'star', 'arriving', 'pills', 'akin', 'accustomed', 'accolades', 'abominable', 'kay', 'zhivago', 'followers', 'zane', 'ye', 'submarine', 'wong', 'trigger', 'muy', 'unfamiliar', 'uncertain', 'truvy', 'happend', 'outcasts', 'rasczak', 'sunlight', 'stavros', 'comrade', 'jamie', 'splendor', 'tact', 'sgt', 'serbian', 'removing', 'orson', 'refusal', 'pressures', 'status', 'cent', 'preserved', 'possesses', 'those', 'unit', 'pin', 'modicum', 'pedestrian', 'outlandish', 'shines', 'inserted', 'visuals', 'paired', 'vegas', 'overtly', 'pacing', 'overshadowed', 'lately', 'warmth', 'highs', 'nonstop', 'retrieve', 'nonsensical', 'euro', 'fairfax', 'non-believers', 'discern', 'loudly', 'serpent', 'deservedly', 'liman', 'requested', 'lifelong', 'mastering', 'kerr', 'in-valid', 'aspire', 'honey', 'drum', 'hesitation', 'habits', 'franco', 'placement', 'ghidrah', 'shift', 'cleansing', 'gathered', 'harmless', 'freeman', 'foreman', 'fleet', 'firmly', 'constraints', 'treasures', 'failures', 'extinction', 'henriksen', 'ethics', 'enlightenment', 'sawa', 'dusty', 'dread', 'solemn', 'lords', 'implicitly', 'darling', 'charachters', 'flashing', 'costello', 'abstract', 'cuz', 'independently', 'gardens', 'imitate', 'bloody', 'untimely', 'seducing', 'contrasts', 'extravaganza', 'catatonic', 'casted', 'mood', 'capt', 'anatoli', 'olds', 'breakthrough', 'belly', 'hdtv', 'beatles', 'valdez', 'elderly', 'backwards', 'participation', 'teh', 'backstory', 'lend', 'posed', 'bloodthirsty', 'cloying', 'develop', 'approved', '8230', 'pecking', 'bumps', 'gino', 'adversity', 'inspiring', 'acid', 'accomplishments', 'backed', '8216', '50', '25th', 'admiration', 'upbringing', 'founders', 'buckland', 'obnoxious', 'una', 'archaeological', 'opinionated', 'tnt', 'th', 'soliloquy', 'stoned', 'suprise', 'sunny', 'strengthen', 'stray', 'soviets', 'sharper', 'satisfy', 'skilled', 'scottish', 'imagined', 'saviour', 'sammy', 'rosemary', 'infested', 'bohemian', 'ghouls', 'hawke', 'ripping', 'evolves', 'rightfully', 'weaponry', 'generations', 'sleazy', 'reasoning', 'rap', 'glamorous', 'hispanic', 'primitive', 'pre', 'magically', 'technically', 'politician', 'pillars', 'pictured', 'movements', 'persecution', 'slaughtered', 'peasants', 'palace', 'merchant-ivory', 'outfits', 'nutshell', 'flix', 'nursing', 'eva', 'goldberg', 'marvel', 'duchess', 'non-christians', 'pretends', 'micheal', 'maintaining', 'possess', 'maintained', 'brook', 'dreaming', 'liar', 'despised', 'rickman', 'assemble', 'leslie', 'judged', 'carlton', '165', 'jean-claude', 'inhabitants', 'relative', 'heathers', 'examination', 'hardship', 'ambiance', 'gambler', 'gibson', 'guitarists', 'freely', 'punchline', 'galloping', 'forgets', 'spotted', 'progression', 'filler', 'trained', 'fehr', 'exploitation', 'endures', 'employees', 'ingrained', 'leo', 'playing', 'futility', 'wallace', 'dunne', 'contacted', 'decisions', 'compliments', 'pig', 'climber', 'chill', 'flavors', 'charms', 'whilst', 'trevor', 'microphone', 'brits', 'ensues', 'quips', 'barrel', 'bewildered', 'convenient', 'realm', 'begging', 'bandit', 'dixon', 'approve', 'manly', 'albums', 'spirits', 'admitted', 'grudge', 'motel', '1965', 'zuzana', 'testosterone', 'zen', 'wyoming', 'woo', 'childhood', 'sweetheart', 'trains', 'whining', 'bogged', 'unreal', 'undertones', 'suspend', 'unconventional', 'theft', 'approached', 'cursing', 'tenenbaums', 'steam', 'horrific', 'stardom', 'inferno', 'startled', 'slim', 'scanning', 'carter', 'rio', 'dillon', 'sincerely', 'que', 'revelations', '$2', 'reproduction', 'asap', 'reply', 'inaccuracy', '1936', 'relentlessly', 'aide', 'recreate', 'rational', 'prostitutes', 'vidal', 'potts', 'ponder', 'monica', 'patriotism', 'offense', 'observations', 'result', 'convinced', 'assorted', 'nightclub', 'buddha', 'eatenton', 'mythic', 'close-up', 'muscle', 'meditation', 'leone', 'imprisoned', 'patently', 'off-the-wall', 'imho', 'equality', 'id', 'makers', 'hunted', 'animator', 'hera', 'goddess', 'garnered', 'spins', 'expects', 'applause', 'petty', 'excellant', 'hair', 'masses', 'ex-husband', 'rented', 'cancelled', 'envy', 'deformed', 'dolworth', 'deranged', 'dale', 'degenerates', 'controversies', 'stench', 'promoted', 'protested', 'dupe', 'rebelling', 'mcdermott', 'controlling', 'wesley', 'confirmed', 'confrontations', 'means', 'clumsy', 'burnt', 'which', 'lad', 'civilian', 'discipline', 'creed', 'chuckle', 'serve', 'dorothy', 'camerawork', 'bruno', 'begun', 'retro', 'brazilian', 'omg', 'sorely', 'revisiting', 'lukewarm', 'taxi', 'kumar', 'ballet', 'reacts', 'believeable', 'aristocratic', 'speilberg', 'reduction', 'ads', 'uuml', 'tides', 'understatement', 'permanently', 'tyler', 'insidious', 'tombstone', 'earliest', 'thieves', 'origins', 'tendencies', 'tae', 'interactions', 'submarines', 'spence', 'strategy', 'linked', 'mckellan', 'stating', 'anderson', 'stable', 'slower', 'descends', 'teachings', 'sentiment', 'regions', 'sin', 'scariest', 'rebels', 'kgb', 'rawlins', 'we', 'preview', 'quibble', 'puppet', 'conjure', 'ensign', 'popping', 'roaming', 'nineties', 'hermann', 'motive', 'losing', 'casualties', 'moonglow', 'wolfe', 'solely', 'monologue', 'unfathomable', 'seasoned', 'poe', 'vai', 'mixing', 'denver', 'mixes', 'mechanical', 'mate', 'ability', 'unforgettable', 'middle-class', 'injuries', 'tricky', 'matching', 'mandarin', 'lured', 'favorite', 'lovingly', 'combining', 'mentality', 'lickers', 'kenny', 'footnote', 'jacques', 'demon', 'ifukube', 'passages', 'external', 'corvette', 'harbor', 'grandfather', 'breathtakingly', 'cassette', 'fragile', 'fav', 'collaborations', 'exposition', 'establishment', 'aspirin', 'drill', 'minesweeper', 'doris', 'relive', 'demonstration', 'problem', 'degrees', 'deemed', 'humbly', 'crashing', 'constitution', 'skimpy', 'confession', '8th', 'oyster', 'commonly', 'palatable', 'friendship', 'fooled', 'categories', 'so-so', 'colored', 'cents', 'nineteen', 'devious', 'humanizes', 'hideout', 'cbs', 'murray', 'carnival', 'boundaries', 'communicating', 'aesthetic', 'accidents', 'wiped', 'automatic', 'wiener', 'resurrection', 'wheels', 'unsuspecting', 'unforgiven', 'portion', 'stint', 'atheism', 'variant', 'outcast', 'typhoon', 'prophetic', 'treating', 'torrid', 'coven', 'goodie', 'lectures', 'swashbuckling', 'rant', 'stepped', 'eyewitness', 'hops', 'arthur', 'speechless', 'kill', 'simpson', 'enforced', 'loc', 'fortunate', 'sentimentality', 'scourged', 'sara', 'info', 'mesmerized', 'pile', 'roar', 'margolin', 'homesteading', 'richly', 'characteristics', 'remade', 'schizophrenic', 'recordings', 'inherent', 'quilt', 'quentin', 'psychiatric', 'prompt', 'device', 'phillipe', 'gate', 'panic', 'irritating', 'complains', 'ntilde', 'mnemonic', 'began', 'mercenaries', 'uneventful', 'kirby', 'keifer', 'jury', 'excelent', 'assert', 'juliet', 'sierra', 'increased', 'jc', 'spending', 'jan', 'immature', 'hires', 'mocked', 'regulars', 'hauntingly', 'flatley', 'shred', 'finishing', 'fest', 'exposing', 'exploding', 'wonders', 'distraught', 'experiments', 'quaid', 'darkness', 'coherent', 'boards', 'elected', 'bosses', 'evoke', 'eh', 'plunged', 'tech', 'deborah', 'rages', 'dauphin', 'stove', 'simulated', 'overnight', 'lg', 'creek', 'mates', 'conveying', 'such', 'considers', 'captions', 'bergman', 'ballroom', 'instances', '2009', 'insanely', 'yanko', 'clues', 'vehicles', 'varying', 'intermediate', 'u-96', 'curtains', 'uncensored', 'truffaut', 'trips', 'automobiles', 'symbolic', 'swing', 'inhabiting', 'full-fledged', 'supply', 'pitch-perfect', 'sumptuous', 'depth', 'fever', 'suggesting', 'steenburgen', 'bend', 'sided', 'shipment', 'turf', 'sant', 'republic', 'renewed', 'unnerving', 'guarantees', 'relaxed', 'restraint', 'reel', 'anyone', 'consensus', 'city', 'quoting', 'quoted', 'plagued', 'owes', 'outbreak', 'ridge', 'nazism', 'magnificently', 'lighter', 'lamberto', 'jive', 'promoting', 'ulterior', 'jazz', 'ladder', 'knocked', 'inexplicably', 'superlatives', 'nuke', 'healed', 'federation', 'remake', 'explored', 'noting', 'ghidora', 'cell', 'flawlessly', 'fee', 'prolific', 'inge', 'pulls', 'film-making', 'privilege', 'maltese', 'lookin', 'fianc', 'familiarity', 'excels', 'eliminate', 'science', 'forcing', 'patric', 'earns', 'busy', 'eagle', 'embellished', 'demme', 'tendency', 'conventions', 'circles', 'breathe', 'strives', 'william', 'awake', 'arabic', 'moons', 'aircraft', 'cinematographic', 'admirably', 'trance', 'realy', 'alcoholic', '10th', 'whip', 'argentine', 'inadvertently', 'partying', 'trace', 'surrounds', 'local', 'pug', 'superlative', 'screen', 'liz', 'subsequently', 'spellbinding', 'funded', 'mess', 'searched', 'skipped', 'peeping', 'marco', 'psychiatrist', 'tempting', 'overbearing', 'outlook', 'boo', 'call', 'narrates', 'austrian', 'mirrors', 'lunch', 'organs', 'believer', 'these', 'louisiana', 'leto', 'leap', 'jaw', 'history', 'hooker', 'observation', 'homework', 'fulfilled', 'frances', 'scully', 'fitness', 'subwoofer', 'extraordinarily', 'frequency', 'evocative', 'en', 'dual', 'dressing', 'pastors', 'daphne', 'debts', 'debney', 'bea', 'yourselves', 'fields', 'condemned', 'weaknesses', 'booth', 'exciting', '77', 'becuase', 'mt', 'reading', 'arrow', 'stupidly', 'uncovered', 'hour', 'brooklyn', 'deja', 'semitic', 'pt', 'afterward', 'bothersome', 'rabbits', '5-star', 'flaws', 'wouk', 'wartime', 'wade', '1978', 'unfolding', 'uncertainty', 'neo', 'unedited', 'depicts', 'folklore', 'tinkerbell', 'four', 'statues', 'disenfranchised', 'superman', 'sickening', 'statue', 'trivia', 'startling', 'arranges', 'indeed', 'sixth', 'half-baked', '5th', 'target', 'courses', 'ussr', 'neb', 'representative', 'puft', 'pancho', 'pencil', 'smuggling', 'rat', 'matilda', 'confess', 'phenomenon', 'perceived', 'rejoice', 'ragged', 'atkins', 'delivering', 'outlaw', 'measures', 'maniac', 'lab', 'knightly', 'landis', 'berlin', 'tempo', 'bard', 'assured', 'kimmy', 'understandable', 'irrelevant', 'completed', 'ripoff', 'tristesse', 'invalid', 'marital', 'swearing', 'slow-motion', 'intimacy', 'indulging', 'identified', 'eyes', 'identical', 'question', 'unique', 'salonga', 'hippie', 'india', 'grounds', 'permeate', 'cancel', 'grandkids', 'entered', 'giovanni', 'fort', 'fondly', 'fleming', 'requires', 'buenos', 'firing', 'exposes', 'improbable', 'raving', 'engine', '82', 'emperor', 'ponderous', 'aramaic', 'elder', 'precious', 'edges', 'disconnected', 'die-hard', 'framework', 'prevented', 'despise', 'defeated', 'choices', 'deceased', 'rooted', 'greens', 'kind', 'cunning', 'confronts', 'colours', 'cheated', 'butchered', 'audition', 'boats', 'bin', 'soda', 'flights', 'parody', 'bendrix', 'ken', 'bd-live', 'civilized', 'zodiac', 'attract', 'aroused', 'blink', 'recovered', 'assist', 'northam', 'artistically', 'true', 'two-disc', 'maudlin', 'tully', 'absorbed', 'charecters', 'neurotic', 'nail', 'bow', 'abruptly', 'veterans', 'exhibit', 'personally', 'travesty', 'hectic', '70mm', 'tiresome', 'tightly', 'planes', 'stumbling', 'sydney', 'checks', 'sweetness', 'suspicion', 'absolutely', 'epitome', 'flirts', 'pity', 'middle', 'rollins', 'stylized', 'telescope', 'vignettes', 'stimulating', 'swinging', 'smash', 'slide', 'sinking', 'shortcomings', 'authoritative', 'unsatisfying', 'twentieth', 'shades', 'hid', 'seduction', 'sealed', 'risks', 'resort', 'residents', 'reservations', 'referring', 'rethink', 'short-lived', 'questioned', 'butch', 'desk', 'puppy', 'positions', 'scattered', 'pleasures', 'patterns', 'fronts', 'outdoors', 'fascination', 'ongoing', 'ocd', 'madman', 'nighy', 'niccol', 'mystical', 'miserably', 'hours', 'meantime', 'epiphany', 'maguire', 'healthy', 'madison', 'blog', 'lists', 'astute', 'newspaper', 'liberty', 'recommened', '1959', 'lenin', '1951', 'lambs', 'rode', 'kbps', 'smartly', 'behaviour', 'henderson', 'rekindle', 'spots', 'girlfriends', 'mueller-stahl', 'function', 'full-screen', 'preachy', 'fed', 'eagerly', 'miguel', 'drinks', 'gay', 'disjointed', 'curriculum', 'insecurities', 'life-changing', 'afterwards', 'fenn', 'crucifiction', 'cropped', 'bathing', 'considerate', 'equipment', 'compliment', 'conscious', 'provider', 'conclusions', 'mercifully', 'celebrations', 'educated', 'coast', 'swallowing', '3d', 'burden', 'hampshire', 'bonds', 'connecticut', 'histories', 'finer', 'bo', 'pierce', 'myth', 'bloodshed', 'transit', 'pa', 'blond', 'reruns', 'bike', 'biblically', 'marries', 'aback', 'teary', 'behalf', 'avoids', 'spiked', 'desert', 'heyday', 'atomic', 'animations', 'planetary', 'additions', 'additionally', '2013', '12-year-old', 'proclaiming', 'reception', 'witchcraft', 'mighty', 'laundry', 'probe', 'acquaintance', 'fantastic', 'voiced', 'plots', 'vocabulary', 'veronica', 'blinking', 'vain', 'above-average', 'udall', 'chillingly', 'towers', 'tiger', 'thackeray', 'strain', 'proves', 'homestead', 'fluff', 'solved', 'anxieties', 'sinful', 'skies', 'temporarily', 'skeletons', 'purchase', 'sensibilities', 'strikes', 'screw', 'rhod', 'rewarded', 'revival', 'wimp', 'representing', 'vulcan', 'reminding', 'foiled', 'chain', 'sounded', 'tongue-in-cheek', 'reckless', 'recipes', 'races', 'shove', 'displays', 'quarter', 'publicity', 'bachelor', 'preparation', 'cammermeyer', 'crop', 'dewitt', 'perverse', 'replied', 'communicated', 'lets', 'approaches', 'perez', 'recounting', 'offbeat', 'nicky', 'try', 'needing', 'showings', 'poser', 'mutant', '$4', 'blindly', 'mp', 'tsar', 'doors', 'medic', 'shootout', 'filmaker', 'malice', 'bamba', 'succession', 'logan', 'wasteland', 'station', 'lange', 'kurt', 'justine', 'ishiguro', 'sharon', 'biggest', 'mickey', 'intellectually', 'ideology', 'horrified', 'supplemental', 'absorb', 'helpless', 'heist', 'effeminate', 'handles', 'plate', 'hum', 'gladiator', 'gardening', 'fog', 'struggled', 'shifting', 'helper', 'will', 'optional', 'dizzy', 'distracted', 'segal', 'transport', 'thesis', 'transfixed', 'alain', 'cries', 'counterpart', 'claustrophobia', 'seminal', 'blanks', 'limitation', 'beginnings', 'baptist', 'collapses', 'backs', 'sessions', 'examined', 'self-discovery', 'run-of-the-mill', 'contrast', 'compulsive', 'august', 'assembled', 'pine', 'airport', 'value', 'lynde', 'respectively', 'lied', 'yep', 'oscar-winning', 'full-length', 'wives', 'barbie', 'farce', 'wasting', 'wandering', 'batch', 'outweighs', 'leg', 'un', 'langton', 'suspension', 'stomp', 'skips', 'considered', 'sibling', 'eastland', 'shaking', 'lack', 'scoring', 'seedy', 'downey', 'scandal', 'yay', 'salsa', 'sacrifices', 'incarnations', 'anger', 'suppressed', 'robbed', 'informing', 'exchanges', 'rivera', 'resulted', 'recognizable', 'crashes', 'banal', 'futile', 'mid', 'jared', 'recipe', 'potiphar', 'invites', 'promote', 'polished', 'cassidy', 'spirals', 'qualms', 'shelby', 'peculiar', 'abby', 'aint', 'oriented', 'blurry', 'mozart', 'showa', 'cavalry', 'marine', 'committing', 'lori', 'loaned', 'laden', 'forces', 'wings', 'sacked', 'keen', 'acquaintances', 'excellently', 'encountering', 'joyful', 'nostalgia', 'stunts', 'generous', 'weakest', 'invisible', 'intend', 'incidents', 'malamud', 'hopelessly', 'heroism', 'bearable', 'chatting', 'unity', 'title', '32', 'hardships', 'exaggeration', 'gt', 'grouchland', 'spends', 'grip', 'accusation', 'accident', 'flashes', 'housekeeper', 'escaping', 'knocking', 'employment', 'neurosurgeon', 'elf', 'brandon', 'gracious', 'dominated', 'cap', 'mpfc', 'grinch', 'disapointed', 'appealed', 'delightful', 'destination', 'del', 'critically', 'screwball', 'grey', 'crazed', 'profoundly', 'storylines', 'grandma', 'muhammad', 'nagiko', 'catholics', 'filling', 'bio', 'graduated', 'babe', 'awareness', 'unsure', 'narratives', 'attended', 'xmas', 'alcohol', 'knox', 'anachronistic', 'achieves', 'achievements', 'accusations', 'nailing', 'aaron', 'up', '39', 'recruits', 'conduct', 'traveler', 'various', 'vega', 'dirt', 'irritated', 'triumphs', 'hey', 'follow-up', 'zoom', 'tracking', 'refund', 'bedouin', 'simitar', 'slightest', 'tame', 'greek', 'gilbert', 'mario', 'taarna', 'stop-motion', 'flick', 'viewed', 'skipping', 'sincerity', 'foundations', 'separately', 'secular', 'leak', 'screenwriters', 'nods', 'horribly', 'rourke', 'proposed', 'rounds', 'superhero', 'recreation', 'sorvino', 'possession', 'southwest', 'lacked', 'force', 'placing', 'pattern', 'torso', '--and', 'worrying', 'notorious', 'mothership', 'winston', 'rude', 'dermot', 'morally', 'groucho', 'mila', 'mandie', 'foggy', 'devo', 'partridge', 'lovitz', 'lays', 'laying', 'instruments', 'provides', 'hooks', 'yukon', 'identification', '1946', 'guitarist', 'siamese', 'fuss', 'replace', 'foe', 'faces', 'imagine', 'todays', 'females', 'consumers', 'fascism', 'jocks', 'enthusiastic', 'ache', 'enjolras', 'ditzy', 'dial', 'encouragement', 'travolta', 'smashing', 'bc', 'dynamite', 'adaptions', 'misfortune', 'pandering', 'bomb', 'danes', 'convert', 'memories', 'mayflower', 'clerk', 'burton', 'barney', 'climatic', 'predecessor', 'array', 'absurdity', '2003', 'em', 'wolves', 'enterprise', 'elizabethan', 'noisy', 'sparkling', 'warriors', 'russel', 'transaction', 'dock', 'predominantly', 'org', 'subjected', 'stairs', 'squeeze', 'drayton', 'shaped', 'reminisce', 'threaten', 'godfather', 'principal', 'schedule', 'versed', 'scales', 'autumn', 'tina', 'toilet', 'request', 'circumstance', 'reported', 'einstein', 'gethsemane', 'reaches', 'rafael', 'pretending', 'andrea', 'predator', 'vertigo', 'pit', 'november', 'morris', 'literal', 'axe', 'wonderful', 'leary', 'robber', 'kris', 'wuthering', 'depression-era', 'archetypes', 'january', 'illustrate', 'hilarity', 'english', 'honour', 'imagining', 'drawback', 'paranormal', 'dien', 'destructive', 'denied', 'diversion', 'courageous', 'chronicles', 'dons', 'campus', 'cheating', 'granddaughters', 'businessman', 'curiosity', 'racoon', 'buffy', 'has', 'aim', 'brightest', 'kissing', '30th', 'wrap', 'woolf', 'verge', 'theirs', 'incessantly', 'interactive', 'heartache', 'surf', 'compromised', 'doyle', 'stunningly', 'knee', 'stuart', 'poitier', 'contemporary', 'staging', 'successor', 'shore', 'scenarios', 'relaxing', 'surround', 'criticizing', 'recovery', 'jovial', 'playwright', 'include', 'plotting', 'feeling', 'participate', 'alley', 'doubtful', 'parade', 'nikita', 'special-effects', 'spanish', 'revisionist', 'myths', 'fearsome', 'murdering', 'storybook', 'mikey', 'siskel', 'rodeo', 'ears', 'inappropriate', 'manipulated', 'must-have', 'drew', 'malcolm', 'celebrating', 'organ', 'hungarian', 'episode', 'contacts', 'craze', 'inheritance', 'heartless', 'genetics', 'forbidden', 'off-kilter', 'abilities', 'angelic', 'flair', 'barebones', 'edgar', 'dub', 'disgrace', 'debt', 'engagement', 'theory', 'u-boot', 'tennessee', 'hi', 'creepers', 'counter', 'functional', 'barcelona', 'flogging', 'cheered', 'hur', 'connections', 'communication', 'hardcover', '50s', 'harrold', 'seemed', 'clock', 'sensual', 'argentina', 'cheers', 'extra', 'characterizations', 'relatable', 'riveted', 'jillian', 'cg', 'cameras', 'bush', 'brandy', 'boxing', '1080', 'begining', 'grader', 'basement', 'authors', 'cirque', 'assure', 'cast', 'closer', 'artificial', 'vaudeville', 'morocco', 'applies', 'mobster', 'anticipation', 'amazons', 'one', 'suprised', 'teaching', 'adventurous', 'who', 'snap', 'unsettling', 'unexpectedly', 'bloodlust', 'unconvincing', 'interest', 'teri', 'stretching', 'sting', 'socially', 'psychotic', 'stuffy', 'set-up', 'smoothly', 'bresson', 'science-fiction', 'agnes', 'russians', 'penn', 'ruled', 'mal', 'reliable', 'protecting', 'anti-jewish', 'backbone', 'polish', 'wu', 'poirot', 'phase', 'paths', 'paradise', 'holmes', 'notable', 'tilda', 'overblown', 'poem', 'unseen', 'naming', 'nt', 'swan', 'noteworthy', 'fair', 'lasts', 'kovacs', 'educate', 'kindly', 'investigating', 'geena', 'gritty', 'huxley', 'glen', 'ghetto', 'donor', 'well-rounded', 'eye-popping', 'fishburne', 'fern', 'feared', 'heaven', 'caiphas', 'reward', 'encourages', 'predators', 'distorted', 'neighbors', 'dialogues', 'heals', 'curse', 'consideration', 'consequently', 'casper', 'canada', 'danner', 'brittany', 'begs', 'throwback', '1930s', 'slipping', 'wakes', 'straithairn', 'mold', 'co', 'uninteresting', 'flood', 'tokyo', 'lashes', 'sufferings', 'finance', 'cough', 'devine', 'sticking', 'ruse', 'taut', 'responding', 'secure', 'stalks', 'concept', 'settles', 'hues', 'screwed', 'robbins', 'rivers', 'lining', 'religions', 'lawyer', 'realise', 'drag', 'pushes', 'defenseless', 'good-looking', 'groundhog', 'thornfield', 'delegate', 'mountains', 'produces', 'perceptions', 'pot', 'nicole', 'poet', 'plasma', 'commanded', 'bridge', 'pitch', 'combat', 'confidence', 'intrigue', 'phillippe', 'defines', 'perkins', 'peers', 'otter', 'newest', 'cecilia', 'neglected', 'workable', 'yikes', 'nicknamed', 'reccommend', 'urine', 'lunatic', 'defintely', 'atrocious', 'limit', 'pressed', 'herd', 'glimpses', 'arguing', 'kudrow', 'justified', 'spontaneous', 'overwrought', 'isolation', 'idol', 'hapless', 'hamlet', 'friend', 'caan', 'gripe', 'schneider', 'gray', 'gere', 'ethnic', 'phil', 'enhancement', 'bd', 'dudley', 'rate', 'eyeballs', 'counts', 'contributed', 'snow', 'breed', 'visited', 'choreographed', 'mouse', 'benny', 'sprawling', 'hills', 'basics', 'basil', 'amidst', 'cowboys', 'youtube', 'montero', 'wry', 'dune', 'wholly', 'rosen', 'underworld', 'complemented', 'translated', 'bolt', 'stopping', 'rehash', 'serbs', 'gunfights', 'sane', 'philosophy', 'handsome', 'replies', 'goodbye', 'readily', 'punished', 'practicing', 'yankee', 'wherever', 'cavaziel', 'body', 'practices', 'gilliam', 'reinforce', 'powerfully', 'spared', 'potentially', 'buster', 'payoff', 'x-men', 'parallels', 'parallel', 'divinity', 'nuanced', 'nerdy', 'mulroney', 'softer', 'height', 'light-hearted', 'machina', 'lands', 'laurence', 'billions', 'distributor', 'landscapes', 'self-destructive', 'invariably', 'instinct', 'nubile', 'inclined', 'immense', 'operas', 'where', 'hayworth', 'forty', 'fleece', 'file', 'ridgemont', 'fixed', 'hateful', 'heart-wrenching', 'er', 'distracts', 'embarrassed', 'softball', 'dudes', 'sub-par', 'dreverhaven', 'lfe', 'ado', 'requiring', 'favored', 'wipe', 'devastating', 'crossed', 'idiot', 'software', 'vertical', 'capital', 'truely', 'der', 'battery', 'secretary', 'retain', 'camelot', 'cooking', 'geographic', 'bikers', 'dogberry', 'allenby', 'associate', 'article', 'wall', 'performers', 'wahlberg', 'varied', 'sucker', 'abundance', 'deal', 'uniforms', 'homosexuality', 'alike', 'skeleton', 'long', 'simplistic', 'siegel', 'conductor', 'executed', 'sdh', 'ambassador', 'scum', 'crook', 'scheider', 'satisfaction', 'moviegoers', 'barbs', 'robertson', 'fore', 'godzillasaurus', 'responds', '2010', 'oacute', 'reflected', 'gibraltar', 'donna', 'neville', 'politicians', 'feast', 'pizza', 'stated', 'corrupted', 'hunting', 'phrases', 'dissapointed', 'homophobia', 'zellweger', 'periods', 'suspense', 'outright', 'objects', 'mobile', 'boorman', 'prompted', 'mannerisms', 'lieutenant', 'kansas', 'stoltz', 'matched', 'joining', 'framing', 'well-cast', 'jaded', 'makes', 'inspires', 'injured', 'courtesy', 'enviroment', 'birds', 'earn', 'infant', 'hartley', 'cherish', 'gil', 'samurai', 'allegations', 'gosh', 'filth', 'ensure', 'columbus', 'disappeared', 'dinosaur', 'darren', 'convoluted', 'judgment', 'discuss', 'enables', 'construction', 'karaoke', 'concentration', 'haunt', 'poo', 'click', 'dam', 'suzie', 'bull', 'boyle', 'intolerable', 'biting', 'oxymoron', 'fiennes', 'avoided', 'mailing', 'bounds', 'zeta', 'attend', 'ambiguous', 'alda', '4-5', 'intentional', 'danish', 'echo', 'whipping', 'virtue', 'tribes', 'excluded', 'snatch', 'enjoy', 'trenton', 'proverbial', 'evidenced', 'alternately', 'tremendously', 'acquired', 'mel', 'ties', 'disability', 'sienna', 'chute', 'occupation', 'freakin', 'sanity', 'tuscany', 'roll', 'burl', 'sand', 'romeo', 'knockout', 'havent', 'rip-off', 'infact', 'sparkle', 'distinguish', 'devil', 'preacher', 'pie', 'wording', 'perception', 'lean', 'overrated', 'october', 'englishman', 'worried', 'mini', 'aol', 'quicker', 'maestro', 'solo', 'uncut', 'kubrick', 'jules', 'disc', 'utilizes', 'iacute', 'recurring', 'ticked', 'forest', 'message', 'exterminator', 'showcasing', 'vulgar', 'eugene', 'ethical', 'timid', 'fifty', 'encouraging', 'shoot', 'divorce', 'staggering', 'dive', 'poison', 'dimensional', 'daryl', 'self-important', 'sales', 'couldnt', 'recognise', 'chicken', 'bread', 'assassinate', 'bombs', 'reconstructed', 'basic', 'simplified', 'boarding', 'high-def', 'undertaking', 'contemplate', '9', 'loc-nar', 'fruit', 'aspiring', 'bellhop', 'accomplishment', 'gorefest', 'real', 'acclaimed', '2008', 'silver', 'butchering', 'colorado', 'evolved', 'wreck', 'purr', 'toast', 'moves', 'niro', 'warner', 'unfair', 'transform', 'survivor', 'romanticized', 'orphan', 'stretches', 'sleeper', 'slave', 'backup', 'duo', 'boston', 'significantly', '1962', 'signature', '40th', 'shifts', 'convention', 'tasked', 'seriousness', 'krakauer', 'screening', 'anti-semetic', 'ridiculously', 'rendering', 'property', 'grandpa', 'precise', 'perspectives', 'zondervan', 'rightful', 'logo', 'gross-out', 'nightmares', 'modest', 'illinois', 'stick', 'mentor', 'beard', 'maturity', 'mathew', 'either', 'macho', 'lynn', 'lauren', 'hitter', 'investigate', 'milestone', 'herman', 'gossett', 'freshman', 'fleshed', 'downside', 'despicable', 'keli', 'colonel', 'compelled', 'subversive', 'thematic', 'bogdanovich', 'flat-out', 'attacking', 'seeming', 'embark', '21st', 'athletes', '2007', 'laugh', '1963', 'fiend', 'yelling', 'address', 'citizenship', 'wholesome', 'shipping', 'embry', 'diction', 'masterful', 'vein', 'tupac', 'quirky', 'chains', 'gretchen', 'transferred', 'tolerance', 'venerable', 'tail', 'wrestling', 'maxwell', 'allie', 'menacing', 'surroundings', 'straightforward', 'terror', 'stockwell', 'sly', 'schwimmer', 'silva', 'assisted', 'sigh', 'enjoyed', 'blu-rays', 'detection', 'showdown', 'shepard', 'permanent', 'sour', 'shalhoub', 'rewarding', 'respond', 'renfro', 'whenever', 'rene', 'innovative', 'prints', 'nominee', 'palpable', 'requirement', 'mukhtar', 'abrupt', 'mail', 'interplay', 'heather', 'crewson', 'saints', 'gag', 'stroll', 'bully', '50th', 'boasts', 'apple', 'anti', 'elevates', 'thereafter', 'acknowledge', 'inaccurate', '$10', 'suspence', 'icy', 'faithfully', 'cookie', 'face', 'willingly', 'collection', 'wanton', 'coconut', 'unaware', 'beyond', 'herein', 'thugs', 'terminator', 'sums', 'suggestion', 'stranded', 'make', 'despite', 'spirited', 'still', 'if', 'visit', 'selma', 'roof', 'turned', 'robot', 'riot', 'dina', 'occupied', 'narrow', 'bombers', 'provide', 'panning', 'lester', 'sympathetically', 'mountain', 'ruining', 'officers', 'huh', 'fools', 'stupidest', 'emerges', 'economic', 'barn', 'nyc', 'downfall', 'arouse', 'wrongly', 'motion', 'kramer', 'transformations', 'devlin', 'stronghold', 'descriptions', 'average', 'chord', 'stereotypical', 'gown', 'celebrate', 'toned', 'dares', 'casino', 'sees', 'charley', 'behave', 'neurological', 'kindness', 'benefits', '1973', 'liaisons', 'tolerate', 'hence', 'zorg', 'schooling', 'sucks', 'emma', 'tormented', 'tap', 'cam', 'towering', 'football', 'threatening', 'bernadette', '1934', 'snake', 'accepts', 'sympathize', 'melissa', 'maneuver', '1986', 'endured', 'strict', 'infiltrates', 'apart', 'secretly', 'length', 'qualified', 'harm', 'rounded', 'relevance', 'squirm', 'passions', 'show', 'pale', 'shorter', 'madge', 'lo', 'totaly', 'layer', 'string', 'moral', 'inventive', 'implausible', 'imdb', 'rainy', 'warned', 'ideals', 'trouble', 'glad', 'ear', 'hurts', 'diluted', 'stresses', 'coincidence', 'herrmann', 'heisei', 'biker', 'sandler', 'youngest', 'herr', 'havoc', 'fuzzy', 'hayes', 'dodger', 'childish', 'bearse', 'haunts', 'associated', 'anti-war', 'abu', 'heartwrenching', 'veteran', 'turmoil', 'kids', 'swimming', 'ufo', 'repeating', 'thinks', 'appease', 'sites', 'secondo', 'prentice', 'barely', 'renee', 'immortality', 'riddle', 'tyson', 'promising', 'stinker', 'rambo', 'noted', 'integrity', 'preston', 'visceral', 'occasions', 'listed', 'namely', 'investment', 'ebay', 'garage', 'towns', 'extensive', 'entertains', 'delegation', 'tastes', 'specially', 'logic', 'destroys', 'pathetic', 'conception', 'rewards', 'contempt', 'overwhelmed', 'camps', 'adorable', 'indiana', 'bill', 'dogs', 'warmup', 'bronte', 'indicate', 'contributes', 'bishop', 'disgust', 'raw', 'edge', 'warming', 'symphony', 'strings', 'powers', 'staring', 'neeson', 'plotted', 'westerns', 'spark', 'colonies', 'russo', 'tae-bo', 'respects', 'curious', 'ala', 'geneva', 'excesses', 'jake', 'repressed', 'friendships', 'red-nosed', 'floating', 'popped', 'pointing', 'unrealistic', 'imprint', 'motown', 'omitted', 'brainer', 'pivotal', 'obscure', 'mythology', 'meticulous', 'wiser', 'disturbs', 'clueless', 'ingenious', 'sound', 'mentioning', 'conroy', '28', 'sooner', 'labeled', 'switch', 'boxoffice', 'relating', 'mediocre', 'melts', 'appealing', 'staying', 'waves', 'elena', 'seem', 'governor', 'represented', 'digitally', 'glance', 'suggest', 'clause', 'liners', 'inform', 'subtitled', 'cracks', '1979', 'successfully', 'contribution', 'damned', 'conrad', 'cahill', 'analysis', 'spiderman', 'vern', 'moscow', 'blank', 'bitten', 'derives', 'noise', 'vastly', 'threatens', 'small-town', 'deezen', 'captivated', '1950', 'cure', 'rising', 'molly', 'bear', 'realities', 'oz', 'spilling', 'map', 'korean', 'jewel', 'glasses', 'carnal', 'tedium', 'genesis', 'storyboard', 'garber', 'featured', 'frequent', 'independance', 'foremost', 'explosion', 'immersive', 'sheds', 'engineered', 'german', 'fatal', 'fichtner', 'glenn', 'clips', 'dynamics', 'spell', 'endeavor', 'prostitute', 'dyke', 'marsh', '60', 'dora', 'succeeding', 'frail', 'kingdom', 'documented', 'pragmatic', 'missoula', 'dazzling', 'designs', 'inflicts', 'source', 'embarrassing', 'blind', 'descent', 'blair', 'life', 'proximity', 'impediment', 'vice', 'horn', '1987', 'double', 'trite', 'blacks', 'ps', 'siblings', 'settlers', 'swingers', 'redeem', 'fellows', 'refer', 'fantastical', 'raped', 'presumably', 'estimate', 'indifference', 'proceed', 'season', 'pavement', 'resources', 'positively', 'hitting', 'whimsy', 'pg', 'painted', 'ie', 'movie', 'email', 'buzz', 'colin', 'watery', 'protege', 'pugs', 'hercules', 'convicting', 'sf', 'admired', 'richardson', '27', 'dialog', 'ton', 'immediatly', 'rosa', 'subtly', 'surfers', 'extend', 'remarks', 'overdramatic', 'antiquated', 'bye', 'regularly', 'raging', 'detectives', '26', 'colleague', 'jenny', 'dishes', 'previews', 'policy', 'guessing', 'tron', 'peasant', 'masterpieces', 'structures', 'capacity', 'maggie', 'goodfellas', 'kathy', 'jerusalem', 'interior', 'whoopi', 'effectively', 'well-deserved', 'miami', 'pluck', 'narration', 'interact', 'durante', 'dives', 'cheezy', 'discovered', 'independent', 'blame', 'graduate', 'starters', 'julianne', 'conniving', 'obsessed', 'drifter', 'unselfish', 'flame', 'distinct', 'cultures', 'descend', 'ferris', 'feminine', 'convinces', 'being', 'ricci', 'afflictions', 'buddies', 'emmy', 'effectiveness', 'underwater', 'ace', 'hesitant', 'yadda', 'teach', 'starship', 'reunion', 'bridget', 'weirder', 'reviewers', 'walls', 'peaked', 'chills', 'commercials', 'succeeded', 'pricey', 'hardest', 'orchestra', '52', 'obvious', 'inflicted', 'rex', 'mild', 'bonuses', 'departure', 'runs', 'invented', 'intricate', 'inaccuracies', 'lillard', 'hank', 'moon', 'workers', 'illusion', 'entrance', 'l', 'year-old', 'fifteen', 'superfluous', 'hitchcock', 'fantasies', 'happy', 'joaquin', 'musicals', 'enlightening', 'rooney', 'motions', 'george', 'governments', 'amy', 'hysterically', 'excuses', 'celebrity', 'resident', 'phantom', 'bava', 'fi', 'regain', 'recommended', 'borrow', 'raymond', 'washes', 'adaption', 'preceding', 'totalitarian', 'truest', 'fulci', 'passionate', 'abound', '1900s', 'realize', '1968', 'stephen', 'yrs', 'willie', 'doing', 'humble', 'troupe', 'womanizing', 'majesty', 'bride', 'draw', 'robocop', 'singles', 'ought', 'youre', 'couple', 'colors', 'creating', 'verse', 'perplexed', 'fave', 'route', 'plausible', 'offend', 'production', 'maximum', 'fiancee', 'kingsley', 'challenge', 'kasdan', 'gains', 'auda', 'woven', 'omissions', 'website', 'invasion', 'february', 'grabs', 'alert', 'discussions', 'personable', 'prefers', 'cavendish', 'scope', 'ugly', 'encephalitis', 'catching', 'monroe', 'dish', 'blessing', 'endearing', 'betrayed', 'heathcliff', 'barker', 'agency', 'awed', 'corny', 'brightness', 'tip', 'flush', 'concise', 'swear', 'teeth', 'simplicity', 'sabbath', 'refused', 'friday', 'misery', 'confront', 'hooded', 'tearful', 'crafted', 'philosophical', 'hammer', 'certain', 'escaped', 'bonham', 'dublin', 'journalist', 'cantankerous', 'kinski', 'comparisons', 'chapman', 'division', 'atrocities', 'lundgren', 'scarcely', 'gangs', 'wyatt', 'shocker', 'sundance', 'adolescence', 'advance', 'celluloid', 'garden', 'medallion', 'defined', 'gentiles', 'winger', 'publicly', 'twisted', 'taped', 'wilford', 'taunting', 'demo', 'yesterday', 'improves', 'used', 'affecting', 'asteroid', 'increases', 'looked', 'vengeance', 'trap', 'whatsoever', 'paden', 'cuckoo', 'objectivity', 'guillory', 'fire', 'supper', 'howards', 'stereotypes', 'stream', 'dished', 'misses', 'vanished', 'sergeant', 'fisher', 'regimes', 'pelvic', 'heaped', 'unnecessarily', 'mailman', 'australia', 'requirements', 'delightfully', 'orange', 'mobsters', 'dinosaurs', 'organization', 'marjory', 'nerves', 'imprisonment', 'citizen', 'manipulation', 'poles', 'playboy', 'insists', 'inspiration', 'satan', 'fake', 'grainy', 'internal', 'pepito', 'plague', 'experts', 'egypt', 'everest', 'dramatically', 'buyer', 'houghton', 'rapport', 'shorts', 'cynthia', 'cats', 'eating', 'phenomenal', 'cold-blooded', 'agenda', 'yard', 'smarter', 'prequel', 'subtitle', 'roses', 'existing', 'drafted', 'susanna', 'shakespearean', 'well-developed', 'edwardian', 'salon', 'bag', 'flawed', 'seventies', 'tossed', 'schumacher', 'palestine', 'millie', 'rides', 'prolapse', 'hating', 'polley', 'rooftop', 'edit', 'vol', 'recomend', 'plymouth', 'operation', 'mary', 'masterfully', 'hinson', 'marked', 'lazy', 'efficient', 'houses', 'discs', 'indulgent', 'enjoyable', 'gloria', 'charactors', 'pressing', 'thumb', 'oops', 'vs', 'formed', 'clay', 'fagin', 'dollar', 'element', 'es', 'overture', 'experience', 'cloris', 'disliked', 'ignores', 'convincingly', 'legal', 'competent', 'chairs', 'bars', 'ash', 'altered', 'fond', '1940', 'criminal', 'surgery', 'vote', 'melodrama', 'sequels', 'undoubtedly', 'senseless', 'rely', 'equally', 'utah', 'glover', 'neurologist', 'licks', 'utilize', 'menace', 'incorrect', 'corruption', 'hopeless', 'adds', 'appearing', 'directed', 'formats', 'rev', 'reside', 'samantha', 'fanatic', 'slater', 'exceptions', 'declined', 'engage', 'dire', 'creativity', '98', 'energetic', 'placed', 'traveling', 'bends', 'duel', 'folk', 'pornographic', 'leadership', 'injustice', 'mat', 'smiling', 'cards', 'bases', 'difficulties', 'controlled', 'satirical', 'code', 'distributors', 'version', 'cardboard', 'cramped', 'cameos', 'doctors', 'overstated', 'conspiracy', 'affairs', 'theatre', 'waters', 'vocals', 'sub-titles', 'unrated', 'maintains', 'uncommon', 'nightmare', 'sounds', 'medium', 'twins', 'look', 'troubles', 'trio', 'virtuosity', '100%', 'admission', 'predictably', 'nbc', 'theology', 'flexible', 'affects', 'confined', 'severely', 'cyrano', 'alliance', 'border', 'themes', 'pitched', 'rhythm', 'pleasure', 'loser', 'explanations', 'jacket', 'interests', 'den', 'insulting', 'issues', 'steals', 'dies', 'cameo', 'guilt', 'disturbing', 'drunken', 'drown', 'erased', 'armstrong', 'establish', 'dose', 'directs', 'jeeves', 'biology', 'spread', 'growing', 'depict', 'deserving', 'advise', 'amateur', '2006', '1969', 'triangle', 'evening', 'sequal', 'tie', 'pounding', 'discontent', 'terrified', 'offer', 'photography', 'arts', 'sending', 'secondly', 'questioning', 'considerable', 'wholeheartedly', 'stalinist', 'incompetent', 'netflix', 'maddening', 'eventual', 'villan', 'belief', 'kept', 'graphics', 'refuse', 'poetry', 'calm', 'brasco', 'flamboyant', 'kidding', 'nitpick', 'lousy', 'carolina', 'kathleen', 'palette', 'sensible', 'insert', 'filmthe', 'chick-flick', 'horrigan', 'gut', 'pepper', 'terrorism', 'rush', 'complete', 'earp', 'weston', 'couples', 'counting', 'doll', 'daycare', 'tomatoes', 'campaign', 'won', 'underlying', 'matches', 'names', 'kaiju', 'emmanuel', 'efforts', 'jumps', 'correction', 'sports', 'bumbling', 'beside', '02', 'agrado', 'ismail', 'denouement', 'forgettable', 'beatings', 'revisit', 'available', 'do', 'geisha', 'integrated', 'legitimate', 'slightly', 'wishing', 'ounce', 'tests', 'tall', 'pool', 'spring', 'me', 'fascist', 'spare', 'ludicrous', 'sole', 'spaghetti', 'intuitive', 'stooges', 'interpreted', 'shook', 'principles', 'cornwall', 'release', 'california', 'presidential', 'perfomance', 'plight', 'breath', 'ny', 'roland', 'pillow', 'diner', 'nuances', 'listened', 'helena', 'hallowed', 'spooky', 'dolph', 'forms', 'furthermore', 'dramas', 'shannon', 'queens', 'uncomfortable', 'encouraged', 'mayor', 'demonstrated', 'channels', 'continually', 'pittsburgh', 'comics', 'seeds', 'communion', 'emotion', 'smiles', 'behold', 'orchestrated', 'oddities', 'suspicions', 'canadian', 'answered', 'comin', 'ms', 'hunters', 'looks', '1972', 'shooting', 'frees', 'fleshing', 'collar', 'wound', 'flows', 'liberation', 'modern-day', 'waited', 'crucifix', 'tribe', 'rapper', 'beck', 'staircase', 'stansfield', 'eastwood', '9th', 'simultaneously', 'highlight', 'hinkle', 'similarities', 'wins', 'table', 'rave', 'rodman', 'spoofs', 'men', 'banned', 'depends', 'punches', 'asylum', 'my', 'infantry', 'heinrich', 'elaborate', 'leading', 'crammed', 'iguana', 'anguish', 'accidentally', 'mogera', 'diary', 'happens', 'foreigners', 'crisis', 'looses', 'humour', 'promises', 'conviction', 'dough', 'in', 'search', 'masters', 'colm', 'reeve', 'one-liners', 'stoner', 'safe', 'framed', 'wine', 'lips', 'carmen', 'john', 'execution', 'assumed', 'shrieking', 'damaging', 'wills', 'manipulate', 'w', 'buckets', 'helped', 'beethoven', 'accepted', 'villain', '1982', 'quotes', 'solondz', 'dad', 'largely', 'pursuit', 'proven', 'whichever', 'liberties', 'photographer', 'bertie', 'morgenstern', 'mixture', 'newcomers', 'able', 'verhoeven', 'hoot', 'isabella', 'hilariously', 'beatnik', 'ackroyd', 'succeeds', 'inserts', 'caliber', 'crowds', 'ernie', 'bugs', 'theres', 'cutie', 'fortunately', 'tactics', 'courts', 'recognize', 'heston', 'subplot', 'linda', 'pro', 'dowager', 'reaching', 'hip-hop', 'americanized', 'purposes', 'motivations', 'embroiled', 'natural', 'melodramatic', 'sinatra', 'ludwig', 'joint', 'collective', 'farther', 'asian', 'gettysburg', 'hawkins', 'demand', 'captures', 'pointed', 'federal', 'enraged', 'data', 'surreal', 'anymore', 'denying', 'internationally', 'freak', 'loaded', 'fanaticism', 'prisoner', 'blah', 'arizona', 'action-packed', 'cop', 'blakeney', 'convey', 'potato', 'battered', '1983', 'undeniable', 'creature', '1976', 'captains', 'crooked', 'prematurely', 'auditions', 'logical', 'stones', 'professionally', 'spiceworld', 'knife', 'locks', 'spader', 'resist', 'stored', 'monument', 'tried', 'foreigner', 'marrying', 'forming', 'horrendous', 'blazing', 'distinguished', 'informed', 'politically', 'advertisement', 'mississippi', 'marvelously', 'inept', 'irrational', 'baking', 'zenith', 'hilt', 'signs', 'guidance', 'greed', 'recruited', 'pristine', 'funeral', 'jeez', 'francisco', 'gould', 'finger', 'elusive', 'classmates', 'varady', 'tiny', 'employer', 'gripping', 'failing', 'tucker', 'entry', 'worth', 'enduring', 'families', 'conveys', 'battling', 'clive', 'roth', 'benz', 'collect', 'choosing', 'providing', 'claudia', 'wagon', 'choreography', 'buck', 'signals', 'taller', 'shots', 'batman', 'parry', 'tone', 'captain', 'eerie', 'diverse', 'dream', 'threatened', 'vie', 'torment', 'smoking', 'duncan', 'kinky', 'instill', 'bigoted', 'savior', 'filthy', 'freedom', 'secondary', 'hamburger', 'chaos', 'lily', 'retelling', 'fade', 'hungry', 'portrayals', 'verhoven', 'unnecessary', 'old', 'muslim', 'merit', 'despises', 'leonardo', 'jug-band', 'streaming', 'silliness', 'hunger', 'believability', 'possible', 'kindle', 'grave', 'feel-good', 'knows', 'measured', 'follows', 'copies', 'guy', 'persuades', 'faye', 'occurring', 'liza', 'bumble', 'spectacle', 'rebirth', 'paris', 'mature', 'countryside', 'armour', 'hedy', 'moth', 'elsewhere', 'corpses', 'riley', 'package', 'replacing', 'soooo', 'arquette', 'pornography', 'confident', 'comrades', 'alive', 'minor', 'cardinale', 'europeans', 'researched', 'attached', 'disastrous', 'april', 'africa', 'pkd', 'adequate', 'breakfast', 'abandoned', 'thier', 'fictionalized', 'permeates', 'potatoes', 'sickened', 'rodriguez', 'surprised', 'brutal', 'stevens', 'respective', 'cereal', 'betraying', 'complicated', 'rendered', 'freezing', 'elvis', 'rejected', 'yearn', 'latino', 'uniformly', 'glean', 'invited', 'traffic', 'brooks', 'eaton', 'betrayal', 'immediate', 'higher', 'pistone', 'hugh', 'dared', 'fellow', 'experiencing', 'contemplative', 'ewan', 'minister', 'dragon', 'lincoln', 'scientists', 'depending', 'employed', 'andie', 'compromising', 'spoil', 'ali', 'europe', '1954', 'bram', 'shrill', 'tradition', 'negatives', 'shining', 'vivid', 'precisely', 'demise', 'paranoid', 'musician', 'lewis', 'interracial', 'inexplicable', 'salute', 'wildlife', 'immersed', 'pole', 'hearted', 'refuses', 'gems', 'desperation', 'cloud', 'dating', 'miz', 'liam', 'cringe', 'wholesale', 'photograph', 'corey', 'buried', 'labels', 'others', 'bore', 'stands', 'calls', 'expectations', 'opted', 'beer', 'commit', 'baggage', 'angst', 'caring', 'claiming', 'viewpoint', 'spits', 'abyss', 'wendy', 'that', 'showcase', 'land', 'kline', 'hole', 'shopping', 'illiterate', 'wide-screen', 'battra', 'swashbuckler', '123', 'counterpoint', 'ministry', 'shakes', 'occasional', 'scratches', 'motifs', 'muster', 'villains', 'copied', 'robert', 'assistant', 'empathize', 'rosina', 'natured', 'passing', 'remove', 'percy', 'factory', 'plant', 'thought', 'miracles', 'manipulative', 'connor', 'speedy', 'on-screen', 'find', 'mosley', 'hopeful', 'heddy', 'governess', 'unknowingly', 'spit', 'accompanying', 'traits', 'contradictions', 'exploring', 'costuming', 'atlantic', 'impulsive', 'wood', 'assignment', 'skill', 'sorrow', 'holliday', 'skits', 'shower', 'beautiful', 'cliche', 'compatible', 'quidam', 'decide', 'organized', 'hospitals', 'projection', 'eachother', 'memoir', 'onslaught', 'thirst', 'economy', 'rooms', 'nudity', 'continuity', 'tying', 'leachman', 'jumping', 'determine', 'debated', 'dusk', 'reproduce', 'globe', 'frustrating', 'stops', 'locking', 'fills', 'hinting', '56', 'deluxe', 'persistent', 'scientist', 'peanut', 'cleverly', 'oldham', 'tanker', 'charlie', 'photographers', 'sidekick', 'contribute', 'claudio', 'rushing', 'cheese', 'airborne', 'muslims', 'breathing', 'deserted', 'reaction', 'incidental', 'gruesome', 'harvey', 'ass', 'agreed', '2-disc', 'yours', 'lovers', 'heir', 'suspiria', 'shaw', 'insult', 'strongest', 'scenario', 'rocky', 'intrusive', 'reservation', 'ratings', 'ojo', 'improvised', 'ambivalent', 'tcm', '80', 'petersen', 'encourage', 'crosses', 'bullies', 'pretentious', 'thankful', 'marjorie', 'pink', 'pretend', '93', 'listing', 'plans', 'population', 'hive', 'darryl', 'dictator', 'occasion', 'first-rate', 'kidnap', 'devotee', 'delaware', 'nelly', 'awards', 'ludo', 'conan', 'smith', 'centurion', 'smoke', 'viva', 'exhilarating', 'limbo', 'intact', 'foods', 'lovely', 'hayek', 'gallagher', 'surrounded', 'greedy', 'reason', 'questions', 'expose', 'latvia', 'enthusiasm', 'reccomend', 'dussander', 'teens', 'demonstrates', 'laptop', 'computers', 'annoyed', 'compulsion', 'gordon', 'painstaking', 'teddy', 'credibility', 'badge', 'elevator', 'tea', 'allowed', 'co-stars', 'bbc', 'well-directed', 'thirteenth', 'worry', 'stations', 'rebel', 'lucas', 'realistically', 'breckin', 'relevant', 'props', 'correspondence', 'paint', 'apprehension', 'iii', 'figuring', 'diane', 'foul', 'stills', 'made', 'courtney', 'puppies', 'resemblance', 'handy', 'casual', 'collision', 'blanket', 'perceive', 'artwork', 'merry', 'helicopters', 'unflinching', '89', 'eileen', '3-hour', 'argonauts', 'treatments', 'reject', 'alongside', 'remembers', 'man-made', 'chant', 'nose', '22', 'daddy', 'operations', 'ford', 'wave', 'urge', 'mills', 'purchases', 'depression', 'catherine', 'gods', 'settle', 'hacker', 'sayer', 'puerto', 'fullscreen', 'demonstrate', 'sp', 'delighted', 'ennio', 'rod', 'heh', 'unjustly', 'reached', 'firearms', 'one-dimensional', 'speed', 'pushed', 'arsenal', '150', 'storage', 'depicting', 'greg', 'dictionary', 'pontius', 'peoples', '1966', 'rats', 'dig', 'peak', 'driving', 'mastered', 'leeloo', 'natasha', 'unfolds', 'heartfelt', 'hardcore', 'populate', 'frustrated', 'angelo', 'clint', 'gore', 'feldman', 'surpassing', 'legion', 'dolly', 'quaint', 'darn', 'preservation', 'creator', 'peck', 'tug', 'cybill', 'climbing', 'cowboy', 'exclusive', 'glass', 'nobody', 'partners', 'instant', 'apprehensive', 'spin', 'conventional', 'monotone', 'drink', 'palin', 'directional', 'valens', 'harpies', 'chapters', 'referenced', 'bargain', 'tossing', 'appreciating', 'prank', 'ashamed', 'playback', 'wounded', 'hogan', '35mm', 'soldier', 'vanity', 'offs', 'tour-de-force', 'power', 'teams', 'compositions', 'county', 'outdated', 'explores', 'rival', 'werewolf', 'partner', 'pulling', 'sweaty', 'privileged', 'stern', 'winds', 'discusses', 'owns', 'bearing', 'arabs', 'neck', 'bombed', 'discovering', 'instructional', 'fortune', 'consternation', 'embrace', 'eager', 'dollhouse', 'fill', 'step', 'diana', 'geeky', 'suitable', 'deny', 'nosy', 'naughton', 'wanting', 'characterization', '1980s', 'gigantic', 'natalie', 'knowing', 'theatrics', '44', 'focuses', 'textures', 'topics', 'sadly', 'intensity', 'converts', 'revolve', 'step-by-step', 'amusing', 'scriptwriter', '1974', 'suddenly', 'subordinate', 'illuminating', 'filled', 'scan', 'virgin', 'staged', 'expressed', 'ruth', 'critiques', 'rushmore', 'clicked', 'line', 'receives', 'kane', 'sence', 'feelings', 'reasonably', 'hilarious', 'clone', 'queeg', 'realization', 'opposing', 'kinnear', 'incorrectly', 'places', 'mini-series', 'whole', 'involve', 'race', 'elegantly', 'old-fashioned', 'lineage', 'destroying', 'patriotic', 'ii', 'terrifically', 'scratched', 'damaged', 'rowdy', 'composed', 'candidate', 'sergio', 'congratulate', 'attorney', 'disadvantage', 'swallowed', 'astonishing', 'alas', 'laconic', 'cricket', 'talents', 'apostles', 'admirable', 'happiness', 'unhappy', 'garish', '00', 'strictly', 'pendleton', 'wage', 'introducing', 'rock', 'ellen', 'saver', 'aforementioned', 'referred', 'mind', 'sixties', 'diminished', 'roxanne', 'passes', 'helplessness', 'helping', 'oddly', 'landau', 'deschanel', 'tempered', 'unrecognizable', 'macdowell', 'when', 'designer', 'enough', 'gothic', 'boothe', 'lobos', 'longs', 'antics', 'enthralled', 'rockets', 'halls', 'faraday', 'elegant', 'thousands', 'drowning', 'combine', 'fulfilling', 'dennehy', 'thing', 'chooses', 'fairbanks', 'managers', 'released', 'handful', 'consciousness', 'bombings', 'dastardly', 'spectacular', 'bland', 'neverwhere', 'eighties', 'megan', 'benjamin', 'truehd', 'dependence', 'foreign', 'recognition', 'now', 'performing', 'personalities', 'neverland', 'lethal', 'motorcycle', 'deleted', 'am', 'saccharine', 'midst', 'intrigued', 'tyburn', 'carrie', 'jacob', 'burns', 'jewish', 'fitting', 'williams', 'flew', 'cusack', 'circle', 'executions', 'passage', 'accused', 'stink', 'tomorrow', 'confirms', 'rampage', 'chagrin', 'canned', 'selected', 'transfer', 'stupidity', 'ian', 'definatly', '1994', 'cabin', 'ur', 'victoria', 'freaky', 'yell', 'undoing', 'marketing', 'private', 'demanding', 'exploit', 'truck', 'scholarly', 'seth', 'assassination', 'cousins', 'pythons', 'legend', 'planets', 'survived', 'remakes', 'pants', 'minimal', 'thunderheart', 'schindler', 'infamous', 'dysfunctional', 'beverly', 'introduces', 'maintain', 'raid', 'judy', 'hype', 'dud', 'pitt', 'harvard', 'halfway', 'await', 'troop', 'evidently', 'presumed', 'grounded', 'gayheart', 'blatant', 'lemon', 'jams', 'korsmo', 'deprived', 'psychological', 'partly', 'darlington', 'facing', 'wierd', 'hillarious', 'bone', 'munchausen', 'five-star', 'throat', 'care', 'arrested', 'hers', 'gasp', 'alfred', 'blood', 'foolish', 'paxton', 'littered', 'connection', 'mile', 'earned', '$$$', 'regards', 'weaver', 'span', 'captivating', 'near-death', 'everyday', 'tedious', 'trees', 'subtlety', 'path', 'not', 'hostile', 'screams', 'layers', '1956', 'pollack', 'texan', 'hoskins', 'simulation', 'limiting', 'messiah', 'mariachi', 'unfold', 'louis', 'wrenching', 'sing-along', 'flat', 'camp', 'titillating', 'capability', 'coffee', 'nope', 'memory', 'commercial', 'biographical', 'dying', 'hokey', 'mick', 'males', 'uptight', 'maybe', 'expressions', 'situations', 'celebration', 'thrilling', 'oldie', 'an', 'published', 'wears', 'youngster', 'interviewed', 'marius', 'underdeveloped', 'bassinger', 'twilight', 'survey', 'graininess', 'bleak', 'working', 'symbolism', 'temptations', 'forced', 'unless', 'sincere', 'tvs', 'unstoppable', 'premiere', 'adolescent', 'henshall', 'non-linear', 'messes', 'schrader', 'dd', 'civilization', 'lea', '200', 'disappear', 'farnsworth', 'fourth', 'ignorant', 'shoddy', 'coins', 'sightings', 'cells', 'hack', 'low-key', 'increasingly', 'charisma', 'wax', 'statement', 'charismatic', 'caruso', 'basinger', 'ah', 'pull', 'isolated', 'metropolis', 'stroke', 'adore', 'selection', 'active', 'h', '1989', 'voiceover', 'turner', 'rejects', 'marxist', 'suspects', 'studied', 'safety', 'preferred', 'sentimental', 'ripped', 'rich', 'kidnapping', 'formulaic', 'oliver', 'exaggerated', 'time', 'greater', 'tripe', 'baltimore', 'enhances', 'melvin', 'rage', 'bosnia', 'bedroom', 'landmark', 'management', 'tenebrae', 'patch', 'cram', 'mentioned', 'sign', 'pat', 'lemmon', 'richie', 'optimistic', 'outer', 'entries', 'obstacles', 'mikels', 'nutty', 'contractor', 'proportions', 'nicolas', 'tsui', 'year', 'bitchy', 'kiefer', 'youll', 'soloing', 'utter', 'opinion', 'joy', 'ives', 'icon', 'holly', 'edits', 'error', 'hippy', 'tons', 'attitudes', 'altogether', 'abc', 'goin', 'nothing', 'moreso', 'virus', 'york', 'zack', 'extent', 'surfing', 'aiming', 'romp', 'vietnam', 'cruxifiction', 'verses', 'rear', 'fraggles', 'larvae', 'bold', 'mallory', 'promptly', 'relieve', 'ronna', 'rare', 'warren', 'hopkin', 'mit', 'nolte', 'weapons', 'enchanting', 'heights', 'reinforcement', 'monkey', 'roy', 'general', 'dealt', 'disney', 'beloved', 'eggs', 'dozens', 'taunts', 'reinforces', 'sits', 'sandwich', 'write', 'defend', 'henry', 'bout', 'nixon', 'canvas', 'less', 'ira', 'joined', 'chopped', 'celtic', 'controversial', 'faint', 'consists', 'collectors', 'irreverence', 'nevada', 'sci', 'cecile', 'risky', 'jock', 'burned', 'cut', 'belong', 'ad', 'inexcusable', 'videotape', 'sedley', 'labute', 'between', 'runner', 'phillips', 'mono', 'tight', 'earth', 'seems', 'net', 'muppets', 'rome', 'mindless', 'stotts', 'pathos', '95', 'defects', 'rail', 'by', 'feat', 'outs', 'perish', 'hundred', 'peel', 'mothers', 'insects', 'meyer', 'holm', 'ha', 'even', 'inch', 'speaking', 'drops', 'executive', 'counterculture', 'studios', 'clearer', 'developing', 'yummy', 'culminating', 'dealer', 'lurk', 'eiji', 'cinematic', 'imagery', 'virginia', 'donald', 'moved', 'aerobic', 'complexity', 'clark', 'contacting', 'freddie', 'goals', 'district', 'fondness', 'anticipating', 'mill', 'with', 'however', 'risen', 'challenged', 'uma', 'containing', 'uninitiated', 'believe', 'trailers', 'yvonne', 'alexander', 'acceptance', 'attach', 'sum', 'smile', 'living', 'ruby', 'rico', 'require', 'networks', 'reporter', 'remained', 'unprecedented', 'unite', 'pressure', 'theatrical', 'elmo', 'models', 'trend', 'haunted', 'described', 'scriptures', 'dunaway', 'musgrave', 'cleaner', 'cared', 'comic', 'tunes', 'thomas', 'borrowed', 'persuade', 'disciples', 'beats', 'scale', 'compression', 'richness', 'ringing', 'remembered', 'beast', 'pawn', 'arm', 'countries', 'artifacts', 'comparable', 'raza', 'voyage', 'facility', 'congress', 'starts', 'foundation', 'plus', 'ironically', 'lifetime', 'gags', 'degradation', 'cutesy', 'patron', 'industrial', 'towards', 'medieval', 'flies', 'struggling', 'constant', 'sexual', 'eddie', 'waist', 'galore', 'ease', 'emphasis', 'credible', 'uncover', 'blowing', 'continent', 'achieved', 'falls', 'brother', 'victorian', 'uneducated', 'thrill', 'exhaustion', 'blu', 'corrected', 'rhoda', 'emailed', 'emmett', 'reactions', 'socialism', 'two', 'esta', 'lit', 'danced', 'blockbusters', 'bleakness', 'kicking', 'fentry', 'automatically', 'commanders', 'protestant', 'homosexual', 'drums', 'pursuits', 'stability', 'lasting', 'consultant', 'please', 'poverty', 'grasping', 'different', 'franchise', 'salvage', 'threat', 'chased', 'fascinated', 'artful', 'ouml', 'ebert', 'junction', 'originals', 'hd', 'eastern', 'potent', 'homeward', 'remarkably', 'financial', 'customary', 'differently', 'desires', 'instrumental', 'irene', 'evident', 'prove', 'genetically', 'bros', 'poses', 'encounter', 'dandridge', 'titanic', 'box', 'winning', 'alexandra', 'comfort', 'coaches', 'ciaran', 'featuring', 'seagal', 'drove', 'emerged', 'minds', 'everyone', 'buildings', 'visits', 'proclaimed', 'assassin', 'defective', 'apache', 'once', 'updated', 'historian', 'studying', 'tenant', 'amazon', 'results', 'riverdance', 'reflection', 'translating', 'redeeming', 'routinely', 'bringing', 'belonged', 'raimi', 'canyon', 'plastic', 'packaged', 'nerd', 'daughters', 'regnier', 'leatherface', 'disarming', 'strengths', 'etc', 'taste', 'excessive', 'worthless', 'whippings', 'presented', 'character-driven', 'accepting', 'nation', 'guts', 'worn', 'weep', 'rasputin', 'transformed', 'unconditional', 'anarene', 'traumatic', 'gloss', 'racy', 'surpasses', 'kalat', 'documentaries', 'appearances', 'stress', 'writers', 'controls', 'all-in-all', 'skull', 'adversaries', 'resource', 'quotable', 'seldom', 'generals', 'possibility', 'preferences', 'irreverent', 'official', 'fury', 'exposed', 'titled', 'clash', 'scheming', 'needs', 'weak', 'card', 'titles', 'non-existant', 'amoral', '11th', 'indie', 'graphic', 'training', 'ect', 'briefly', 'beach', 'attempts', 'gia', 'asleep', 'exhibits', 'the', 'arguably', 'acute', 'ofthe', 'brass', 'memo', 'coma', 'essence', 'all-star', 'edgeware', 'tricked', 'affection', 'trusty', 'wading', 'presenting', 'insults', 'kleenex', 'miramax', 'venkman', 'cemetery', 'persona', 'printed', 'madrid', 'naval', 'weller', 'manuela', 'mcclain', 'lake', 'defense', 'grasp', 'debate', 'beg', 'exchange', 'awesome', 'raises', 'thwart', 'awarded', 'destiny', 'losers', 'cliches', 'strangelove', 'militant', 'response', 'arrival', 'wealth', 'pop', 'blue', 'warfare', 'elses', 'presley', 'sliding', 'trek', 'row', 'strangely', 'scenic', 'entrenched', 'popularity', 'chayanne', 'someday', 'milos', 'established', 'recalls', 'singleton', 'society', 'overlook', 'wet', 'slammed', 'elicit', 'tenebre', 'senses', 'motivation', 'jail', 'deviate', 'lending', 'levy', 'editor', 'eccentric', 'bashed', 'business', 'ironic', 'butt', 'meal', 'viewers', 'nigel', 'greece', 'meaner', 'sisters', '42', 'book', 'deliberately', 'ending', 'maker', 'authority', 'adler', 'criticized', 'prevail', 'agreement', 'gathering', 'aid', 'provoked', 'golf', 'tied', 'item', 'transition', '4', 'playable', 'illustrates', 'portrayed', 'writes', 'director', 'indirectly', 'teachers', 'disgusted', 'remote', 'stirring', 'martha', 'corleone', 'installment', 'cuss', 'picks', 'conflicting', 'options', 'bunny', 'devour', 'explicitly', 'saving', 'lush', 'willard', 'google', 'corporation', 'distortion', 'liberating', 'coburn', 'lucille', 'bias', '19', 'heart-warming', 'mouths', 'versus', 'flowing', 'magnificence', 'sounding', 'greatly', 'thrillers', 'marketed', 'meager', 'bores', 'sources', 'contest', 'sharif', 'slow-paced', 'novella', 'courage', 'exuberant', 'superbit', 'collecting', 'jonathan', 'frames', 'dennis', 'deciding', 'offers', 'neve', 'self-righteous', 'wynona', 'imaginative', 'gwyneth', 'masterson', 'fonda', 'disposition', '1990', 'wayne', 'ai', 'costs', 'ably', 'checking', 'breakdown', 'split', 'next', 'peppermint', 'sniper', 'jackson', 'revolutionary', 'prominently', 'reluctant', 'draws', 'have', 'troubled', 'expensive', 'redgrave', 'repeats', 'verna', 'realizing', 'notion', 'similarly', 'omar', 'persons', 'merits', 'creegan', 'sonata', 'domestic', 'intellectual', 'mcguire', 'march', 'tempted', 'quest', 'make-up', 'disturbed', 'fishermen', 'attentive', 'empire', 'joins', 'balls', 'comprehensive', 'halloween', 'series', 'hunter', 'aboard', 'bring', 'endings', 'definitley', 'coconuts', 'abducted', 'gauge', 'counted', 'craft', 'silenced', 'lego', 'circus', 'andy', 'nonsense', 'serving', '85', 'solos', 'amazement', 'advances', 'rachel', 'nowadays', 'measure', 'sarcastic', 'divide', 'surprisingly', 'innuendo', 'laser', 'fried', 'ritchie', 'spain', 'e-mail', 'lacombe', 'unconscious', 'kelly', 'printer', 'moroder', 'claustrophobic', 'flees', 'astonished', 'lossless', '1958', 'repairs', 'miners', 'emptiness', 'lust', 'cleaned', 'grateful', 'pitiful', 'spider-man', '2012', 'gillian', 'muddy', 'trail', 'alex', 'et', 'spy', 'relation', 'grinding', 'marginal', 'drunk', 'knowledge', 'cup', 'relates', 'crow', 'indoors', 'plants', 'connelly', 'sir', 'understands', 'brightly', 'ups', 'uneasiness', 'summon', 'baldwin', 'gp', 'detect', 'bacon', 'astounding', 'honestly', 'wanna', 'policeman', 'represent', 'sing', 'abused', 'needless', 'forsaken', 'ex', 'witherspoon', 'coincidentally', 'exploited', 'kaysen', 'percentage', 'magnificent', 've', 'trapped', 'condorman', 'relationship', 'significance', 'crack', 'threw', 'ocean', 'seeks', 'occurs', 'valerie', 'dropped', 'mother', 'officials', 'schlegel', 'til', 'evil', 'medicine', 'pidgeon', 'alter', 'flip', 'lends', 'taping', 'handling', 'slaps', 'darker', 'bent', 'darkened', 'sarah', 'dallas', 'carlos', 'edgier', 'farcical', '4k', '1981', 'hang', 'dracula', 'ww2', 'hates', 'zalman', 'georgina', 'narrowly', 'agony', 'chorus', 'sue', 'coupling', 'container', 'percent', 'rankin', 'declared', 'reign', 'community', 'youth', 'notes', 'cope', 'professional', 'isnt', 'marks', 'heritage', 'avoiding', 'developments', 'anton', 'wonderland', 'jim', 'payed', 'blast', 'files', 'entertainer', 'vendor', 'mandatory', 'whoever', 'water', 'ne', 'get', 'revelation', 'flag', 'lavish', 'bunnies', 'scarface', 'delusion', 'max', 'quit', 'lovable', 'websites', 'leagues', 'experimenting', 'suspect', 'claire', 'kitchen', 'hefty', 'dude', 'knocks', 'touch', 'handle', 'discovery', 'gym', 'snuff', 'mangold', 'anna', 'critics', 'downward', 'typically', 'publisher', 'stores', 'bandwagon', 'leigh', 'slapstick', 'sociopath', 'mckellen', 'shortly', 'cash', 'roddy', 'pray', 'pedro', 'method', 'upbeat', 'indicates', 'sporting', 'brimming', 'late', 'pays', 'angle', 'nj', 'salles', 'vintage', 'rules', 'tragic', 'fall', 'henson', 'ibanez', 'essay', 'griffith', 'detroit', 'crimes', 'brush', 'news', 'exploration', 'notting', 'kazuo', '?', 'demands', 'mutated', 'crave', 'arrest', 'japanese', 'journeys', 'compassionate', 'adored', 'hardened', 'christopher', 'challenges', 'fight', 'rays', 'v', 'complex', 'brown', 'nypd', 'side', 'bound', 'listen', 'feed', 'amanda', 'mute', 'developed', 'whispering', '1992', 'ruthless', 'inadequate', 'import', 'brainless', 'unveiled', 'cheech', 'feisal', 'mega', 'addiction', 'museum', 'rid', 'dubbed', 'balance', 'reiner', 'promised', 'dessert', 'abomination', 'par', 'constable', 'retrospect', 'mcgowan', 'burial', 'spiritual', 'anne', 'doughboy', 'rape', 'checked', 'cinderella', 'pq', 'merchant', 'strip', 'martial', 'shreds', 'vet', 'competition', 'gattaca', 'claimed', 'shy', 'mean-spirited', 'carnage', 'parts', 'alot', 'seek', 'lowe', 'organize', 'announce', 'immensely', 'elite', 'katherine', 'emotions', 'wait', 'bosie', 'shaved', 'demonstrating', 'fable', 'sternn', 'received', 'happily', 'desperately', 'propoganda', 'companion', 'charges', 'scheme', 'scourging', 'actively', 'gaze', 'kieth', 'upsetting', 'helm', '0', 'egotistical', 'zero', 'ernest', 'cybil', 'necessarily', 'offended', 'mode', 'facial', 'blues', 'executioner', 'prize', 'vibrant', 'joss', 'dangers', 'valid', 'rufio', 'torture', 'continental', 'creators', 'aunt', 'wretched', 'val', 'trashy', 'understated', 'stranger', 'hesitate', 'smirk', 'pauline', 'hosea', 'loosely', 'investigation', 'doubts', 'cox', 'bass', 'disagree', 'scarlet', 'becky', 'helicopter', 'pleasant', 'wits', 'wells', 'editions', 'granddaughter', 'corporate', 'examples', 'disposable', 'acceptable', 'wikipedia', 'welles', '1995', '1960s', 'returned', 'asia', 'wished', 'phenomena', 'turks', 'digital', 'boils', 'inferior', 'vigorous', 'suggests', 'stereo', 'lizard', 'laid', 'suck', 'disk', 'oldest', 'likewise', '30s', 'dominates', 'wore', 'championship', 'opposite', 'kermit', 'relatively', 'douglas', 'revered', 'attempting', 'classical', 'horseback', 'tones', 'remastering', 'chasing', 'macnee', 'authenticity', 'betty', 'dollars', 'deco', 'reverse', 'crunch', 'lost', 'surviving', 'valuable', 'coverage', 'affect', 'duration', 'disappointed', 'awakenings', 'pacific', 'werent', 'ya', 'cities', 'workouts', 'expressive', 'warmer', 'screenplays', 'surface', 'victory', 'gave', 'penny', 'vodka', 'progresses', 'trauma', 'orders', 'underground', 'rebellion', 'outcomes', 'neil', 'murderer', 'around', 'patience', 'las', 'begin', 'keeper', 'nauseating', 'disorder', 'facade', 'phrase', 'confusion', 'excellence', 'readers', 'brutally', 'attraction', 'mastery', 'vcr', 'distressed', 'psychologically', 'remains', 'nights', 'surly', 'fantine', 'hangs', 'constantly', 'top-notch', 'hoods', 'thurman', 'maclean', 'screamed', 'adulthood', 'responses', 'cassius', 'so-called', 'smee', 'lanchester', 'prominent', 'spacegodzilla', 'lou', 'primary', 'piano', 'network', 'mis', 'islands', 'laughable', 'customer', 'circa', 'influence', 'detract', 'tgif', 'connect', 'speaks', 'chair', 'prescient', 'buffs', 'baker', 'pause', 'boyz', 'verisimilitude', 'dog', 'anyways', 'underdog', 'montana', 'treated', 'survivors', 'massive', 'jayston', 'license', 'heartbreaking', 'compete', 'clarify', 'dynasty', 'undercover', 'removes', 'acknowledges', 'distant', 'phoebe', 'clothing', 'greenwich', 'chan', 'understanding', 'action-adventure', 'lives', 'innocence', 'birdie', 'non-fiction', 'austin', 'pastor', 'reciting', 'worldwide', 'author', 'smooth', 'fictional', 'drawing', 'doesn', 'thick', 'literary', 'kilmer', 'lip', 'hes', 'fired', 'iron', 'contenders', 'dash', 'instantly', 'versatility', 'documents', 'habit', 'flawless', 'jarring', 'darth', 'remaining', 'popular', 'clown', 'arlington', 'appeals', 'afternoon', 'thigpen', 'stabbing', 'fat', 'wishes', 'knees', 'car', 'synopsis', 'items', 'alejandro', '13th', 'ark', 'implement', 'hysterical', 'executing', 'alternates', 'imposing', 'homage', 'define', 'taken', 'definetely', 'escapes', 'hiding', 'develops', 'factual', 'bus', 'strife', 'bothered', 'manufacturer', 'bare', 'apostle', 'intertwining', 'owe', 'warrior', 'sheep', 'then', 'elitist', 'malkovich', 'recent', 'select', 'stayed', 'styles', 'bogey', 'parties', 'souls', 'educator', 'desperado', 'exploits', 'emphasize', 'elmer', 'willing', 'pursuing', 'machines', 'raise', 'makeup', 'twist', 'knock', 'incident', 'parton', 'cleverness', 'maniacal', 'entire', 'francis', 'grandchildren', 'addicted', 'throne', 'enlighten', 'haim', 'tony', 'traded', 'eternal', 'clothed', 'times', 'protrayed', 'wake', 'universal', 'veil', 'theatres', 'adage', 'introspection', 'thankfully', 'producing', 'brolin', 'napoleon', 'indicating', 'scorned', 'meat', 'hoax', 'downright', 'death', 'ideal', 'ahem', 'receipts', 'insufferable', 'didn', 'sketches', 'marvelous', 'explore', 'teen', 'disgusting', 'bullock', 'hailed', 'companies', 'benedick', 'shake', 'mustang', 'abusive', 'catch', 'individuality', 'choppy', 'survival', 'reviewing', '1', 'rydell', 'bathroom', 'cons', 'arranged', 'climb', 'mentally', 'gordie', 'artsy', 'says', 'moody', 'reviewed', 'smoldering', 'enhance', 'redlitch', 'mars', 'flash', 'treasured', 'duning', 'range', 'anybody', 'determined', 'cracker', 'cynical', 'nuns', 'clairee', 'mocking', 'closed', 'wrath', 'meek', 'sonny', 'rick', 'louie', 'drags', 'gather', 'miracle', 'incessant', 'fetched', 'headquarters', 'trusts', 'knightley', 'hardy', 'tyranny', 'suffer', 'covering', 'judge', 'humiliate', 'endless', 'instead', 'u', 'concerning', 'sexiness', 'susannah', 'hugely', 'signing', 'sudden', 'benefit', 'blemishes', 'wheel', 'devon', 'angels', 'sacrificing', 'approximate', 'describe', 'responsibility', 'gojira', 'leaves', 'certainty', 'painfully', 'toy', 'desoto', 'minority', 'purely', 'sucked', 'criterion', 'inspire', 'exemplary', 'university', 'enemies', 'frozen', 'buff', 'through', 'raccoon', 'harryhausen', 'redone', 'inherit', 'wondered', 'shudder', 'obsessive', 'awful', 'um', 'whereas', 'progressive', 'cannot', 'lone', 'comprehend', 'fearless', 'reveals', 'coppola', 'mannered', 'abrasive', 'opponent', 'using', 'talked', 'wherein', 'northwestern', 'last', 'stock', 'spoiled', 'balaban', 'bickel', 'scrooge', 'remorse', 'firstly', 'screamers', 'slapped', 'professionals', 'nostalgic', 'discussed', 'headed', 'decipher', 'intentions', 'dignity', 'clapping', 'gleason', 'worlds', 'sondheim', 'bailey', 'sides', 'trilogy', 'drenched', 'nut', 'morality', 'object', 'hairstyle', 'reach', 'australian', 'niven', 'seductress', 'narrator', 'standing', 'uncle', 'activity', 'recruiting', 'update', 'maurice', 'insights', 'reptile', 'inevitable', 'receive', 'citizens', 'host', 'depalma', 'cameron', 'disinterested', 'storytelling', 'gigs', 'barton', 'values', 'alec', 'harriet', 'pero', 'muted', 'winter', 'cleese', 'akkad', 'estate', 'southern', 'suzanne', 'wickedly', 'featurette', 'minus', 'mouth', 'morse', 'real-life', 'unwanted', 'schwarzenegger', 'brazil', 'allusion', 'ben', 'zeus', 'pal', 'regardless', 'bittersweet', 'taylor', 'offensive', 'union', 'incredible', 'naive', 'twit', 'mass', 'introduce', 'it-', 'suffice', 'flight', 'baseball', 'focusing', 'yearning', 'dubbing', 'transcendent', 'fiery', 'claim', 'usually', 'tour', 'lightweight', 'believing', 'enriched', 'dominate', 'slowed', 'truths', 'milk', 'stripper', 'assuredly', 'nature', 'bottom', 'shut', 'afterlife', 'texts', 'madsen', 'setting', 'selfish', 'drumming', 'recommendation', 'passable', 'ma', 'sunset', 'emmerich', 'betsy', '12-year', 'racial', 'martinez', 'department', 'salt', 'matriarch', 'unpopular', 'ufos', 'boots', 'supposedly', 'overview', 'baddies', 'gals', 'testimony', 'chainsaw', 'belongs', 'low-brow', 'washed', 'web', 'stomach', 'thumbs', 'remainder', 'valek', 'strike', 'unrelenting', 'photographs', 'hallelujah', 'smaller', 'sends', 'temporary', 'sadist', 'historians', 'fargo', 'steve', 'rolling', 'wil', 'detective', 'venture', 'nationwide', 'returning', 'well', 'perry', 'modifications', 'disgraced', 'overwhelming', 'katie', 'testing', 'corn', 'purposefully', 'pace', 'nazareth', 'allied', 'guise', 'stalking', 'lion', 'mason', 'scarred', 'glossy', 'heroic', 'plains', 'lift', 'covered', 'participant', 'everytime', 'combination', 'olivier', 'dashing', 'come', '4th', 'report', 'clarice', 'spoke', 'greenaway', 'hermione', 'blurays', 'involvement', 'thai', 'random', 'jfk', 'industry', 'junior', 'germans', 'philadelphia', 'jodie', 'eponine', 'born', 'tango', 'mafia', 'foyle', 'individual', 'britain', 'achievement', 'nephew', 'strawberries', 'sebastian', 'flaw', 'travelling', 'scorcese', 'tune', 'supportive', 'voyeur', 'audible', 'throws', 'serial', 'canonical', 'mounting', 'caution', 'priceless', 'neighborhood', 'you', 'advertising', 'stellar', 'mechagodzilla', 'grad', 'stir', 'institutionalized', 'crowning', 'kathryn', 'necks', 'demeanor', 'prompting', 'load', 'recently', 'gregory', 'ghostly', 'gifts', 'bugsy', 'stronger', 'lent', 'mark', 'spine', 'ticket', 'boredom', 'keefer', 'member', 'saint', 'socialist', 'punishment', 'imaginary', 'dwell', 'prayers', 'genuinely', 'underway', '19th', 'hudson', 'restore', 'never-ending', 'foot', 'innate', 'heavy', 'destroyers', 'incorporated', 'difficulty', 'blue-ray', 'per', 'griffin', 'overuse', 'cops', 'vulnerability', 'froze', 'jimmy', 'findings', 'press', 'homes', 'con', 'nuclear', 'avengers', 'suggested', 'jacy', 'attempted', 'jeep', 'obsession', 'meets', 'winstone', 'radar', 'drawbacks', 'splendid', 'geek', 'jammed', 'profession', 'spoiler', 'meaningful', 'mol', 'ludovic', 'sleep', 'work-out', 'worker', 'household', 'honesty', 'generated', 'dumped', 'sizemore', 'hornblower', 'deeply', 'lane', 'routine', 'accomplish', 'self-conscious', 'dos', 'equivalent', 'braveheart', 'arch', 'rang', 'debbie', 'absent', 'annie', 'village', 'dustin', 'impaired', 'incomparable', 'lerner', 'sheriff', 'exhibited', 'mutual', 'soap', 'volume', 'nomination', 'literature', 'commitments', 'hat', 'disbelief', 'playhouse', 'reincarnation', 'shaken', 'gem', 'punch', 'twin', 'idealism', 'irony', 'newer', 'lyrics', 'indulgence', 'johanna', 'lord', 'direct', 'hideous', 'researchers', 'fyi', 'tribute', 'explaining', 'protected', 'carrey', 'enters', 'dicaprio', 'complaints', 'reflect', 'scenery', 'encoded', 'keitel', 'manifestation', 'capturing', 'ticking', 'encounters', 'craig', 'stunned', 'dont', 'steed', 'starving', 'african', 'unlikely', 'behind-the-scenes', 'mamet', 'jewelry', 'murderers', 'scripts', 'likable', 'heavily', 'think', 'stepmother', 'preaching', 'funnier', 'colour', '1980', 'figured', 'afterall', 'antagonist', 'longest', 'tension', 'education', 'fighters', 'goldblum', 'killing', 'interesting', 'notably', 'opened', 'loose', 'destroyer', 'initially', 'session', '1080p', 'completly', 'cheesy', 'waitress', 'toys', 'sky', 'overlooked', 'fashions', 'featurettes', 'engaged', 'decided', 'edgy', 'atypical', 'jerome', 'corrupt', 'deed', 'shoots', 'appetite', 'blooded', 'gone', 'brief', 'reviews', 'wooden', 'die', 'shipped', 'goal', 'royal', 'bakshi', 'witt', 'glaring', 'revolves', 'raising', 'ranks', 'thornton', 'viet', 'dawson', 'loveable', 'hits', 'discourse', 'stay', 'lefty', 'italians', 'peace', 'ghost', 'subpar', 'respectful', 'thunder', 'supported', 'black', 'santa', 'succeed', 'telephone', 'chimp', 'silence', 'hammy', 'likeable', 'sixty', 'smuggle', 'bean', 'broke', 'bet', 'masculine', 'reliving', 'but', 'everyman', 'whack', 'consequences', 'beckinsale', 'identities', 'mattered', 'zombie', 'empathy', 'teenager', 'shadow', 'spaceships', 'social', 'emotive', 'cutest', 'geoffrey', 'bath', 'eyeball', 'handled', 'disappoint', 'punched', 'tough-guy', 'critic', 'wildcraft', 'careful', 'sorts', 'ring', 'club', 'properly', 'stirred', 'expedition', 'uber', 'finished', 'potter', 'panasonic', 'deaths', 'muppet', 'floor', 'joshua', 'mao', 'decapitation', 'madonna', 'beta', 'peter', 'weiner', 'improvement', 'restrictions', 'dialouge', 'annoyingly', 'gingold', 'z', 'prey', 'writings', 'tad', 'civil', 'brilliance', 'mitch', 'gallery', 'advantage', '60s', 'proceeds', 'humiliation', 'macmurray', '1960', 'attire', 'l-dopa', 'adapting', 'distributed', 'officer', 'shop', 'sandra', 'dances', 'practically', 'mansion', 'brink', 'aging', 'struck', 'wizard', 'natives', 'shall', 'intent', 'script', 'walsh', 'rip', 'karen', 'guard', 'vaguely', 'schools', 'arkin', 'trainer', 'corpse', 'differing', 'sticks', 'grossly', 'warmly', 'stereotype', 'charity', 'downstairs', 'causes', 'shelley', 'puzzle', 'button', 'revealing', '90210', '--', 'reindeer', 'breasts', 'unfolded', 'brooding', 'coarse', 'b-movie', 'depths', 'mere', 'old-school', 'lama', 'exists', 'su', 'paced', 'heartwarming', 'dts', 'subjects', 'bullets', 'barbara', 'songs', 'possessed', 'honorable', 'salvation', 'reread', 'crossing', 'clue', 'dingy', 'alternate', 'meddling', 'loses', 'emotional', 'shirley', 'learns', 'messages', 'compare', 'knights', 'outspoken', 'bucket', 'rabbit', 'crowe', 'confrontation', 'growth', 'carrying', 'y', 'adoption', 'proceedings', 'poise', 'wolfgang', 'depressed', 'unassuming', 'extravagant', 'brilliant', 'portrait', 'likely', 'studies', 'deadly', 'chilling', 'delusions', 'stripped', 'virtual', 'hardware', 'isn', 'clarke', 'sharing', 'notice', 'list', 'viewpoints', 'forever', 'alarming', 'duane', 'rural', 'finale', 'thrills', 'uncanny', 'backdrop', 'gospels', 'assume', 'hospitality', 'most', 'resulting', 'thg', 'adapted', 'groom', 'regard', 'days', 'deeds', 'reasonable', 'italian-american', 'historically', 'magdalene', 'macabre', 'perform', 'boys', 'fascinating', 'patient', 'biollante', 'skeptical', 'flipped', 'epa', 'searches', 'reports', 'iraq', 'sink', 'filmmaking', 'bernhard', 'rousing', 'michelle', '$50', 'interaction', 'explorations', 'debuted', 'pam', 'specializes', 'honeymoon', 'degree', 'founding', 'bummer', 'cathy', 'distracting', 'tugging', 'spilled', 'showing', 'angeles', 'mayhem', 'jonny', 'choice', 'x', 'stays', 'repartee', 'dolby', 'sinai', 'youthful', 'provoking', 'lopez', 'larger', 'seminary', 'canceled', 'own', 'formerly', 'reunited', 'hitman', '31', 'comical', 'bird', 'misleading', 'fought', 'timely', 'blames', 'walter', 'porn', 'struggles', 'lifestyle', 'kidman', 'destruction', 'mercy', 'vincent', 'reitman', 'additional', 'nussbaum', 'marketplace', 'cosette', 'bless', 'bellamy', 'wondrous', 'agents', 'foil', 'audio', 'x-rated', 'explicit', 'shirt', 'send', 'push', 'compound', 'jeff', 'orlando', 'innocent', 'futuristic', 'summarize', 'much', 'notwithstanding', 'fears', 'saxon', 'analogy', 'deadpan', 'sensibility', 'femme', 'congressman', 'paul', 'spoof', 'endure', 'distort', 'picking', 'cutting', 'concerts', 'dillion', 'florence', 'egos', 'minimum', 'relations', 'thief', 'chick', 'harrowing', 'saw', 'rental', 'bon', 'antonio', 'frequently', 'full', 'biography', 'campbell', 'virginity', 'archer', 'review', 'unbearable', 'bugged', 'paid', 'tugs', 'cliff', 'down-on-his-luck', 'eye', 'useful', 'damage', '1950s', 'bitter', 'sub-plot', '98%', 'sketch', 'doom', 'caveat', 'fifth', 'billed', 'steel', 'daniel', 'digest', 'staff', 'particulars', 'primarily', 'parker', 'christmas', 'graziani', 'dean', 'opener', 'blu-ray', 'vapid', 'witnesses', 'daylight', 'mortals', 'awaken', 'wedding', 'boomers', 'repeat', 'profit', 'latest', 'miserable', 'love', 'enhanced', 'arrive', 'ryan', 'striking', 'astronomer', 'lasted', 'systematic', 'starman', 'cancer', '1970s', 'way', 'dwelling', 'derailed', 'national', 'gellar', 'tickled', 'lengthy', 'claims', 'kong', 'resemble', 'hanna', 'dickens', 'admirers', 'also', 'wonder', 'blown', 'appreciation', 'wear', 'soldiers', 'birthday', 'rendition', 'flys', 'puzzled', 'scientific', 'marlon', 'rogue', 'essential', 'heartbeat', 'attracted', 'yawning', 'tree', 'riots', 'bunker', 'complications', 'harrison', 'currently', 'uplifting', 'rent', 'turkish', '1st', 'nemesis', 'tremendous', 'servants', 'hitler', 'screenwriter', 'recognized', 'charge', 'pilot', 'dali', 'hobbs', 'projector', 'completing', '3000', 'picnic', 'calvary', 'messenger', 'adams', 'loyalty', 'orb', 'taking', 'anxious', 'suggestive', 'twists', 'snotty', 'lisa', 'broderick', 'agree', 'forgiven', 'rigg', 'ralph', 'barriers', 'away', 'flop', 'weekends', 'louise', 'janet', 'blunt', 'month', 'experienced', 'compose', 'maryk', 'carefully', 'cliched', 'beings', 'gears', 'passionately', '1-', 'seat', 'sense', 'workout', 'stripping', 'grandson', 'devoted', 'egg', 'enhancements', 'six', 'anarchist', 'stepmom', 'yellow', 'suitably', 'blasting', 'austria', 'shroud', 'greene', 'sword', 'banging', 'zalmie', '2011', 'antagonists', 'pelias', 'witty', 'bales', 'joke', 'surrounding', '---', 'task', 'disciple', 'millions', 'offering', 'buying', 'grand', 'rating', 'guaranteed', 'superbly', 'multiple', 'aiello', 'topic', 'institution', 'choose', 'enable', 'calibre', 'ranch', 'document', 'ted', 'aware', 'hepburn', 'skyline', 'him', 'pocket', 'massage', 'amount', 'casing', 'dress', 'sentence', 'record', 'carried', '1957', 'voight', 'addresses', 'surprises', 'move', 'pregnant', 'throwaway', 'patrick', 'comically', 'below', 'nearby', 'forgiveness', 'minded', 'stack', 'accounts', 'mortal', 'free', 'politics', 'vehicle', 'hands', 'finally', 'navy', 'occupy', 'christine', 'breaks', 'juvenile', 'existence', 'madcap', 'albert', 'mine', 'devastatingly', 'pulp', 'protect', 'hard-core', 'student', 'highest', 'se', 'gangster', 'breaking', 'watcher', 'battlefield', 'talos', 'zeffirelli', 'buddy', 'inspirational', 'psp', 'diego', 'display', 'crude', 'dislike', 'assembly', 'drawn', 'los', 'foibles', 'bar', 'romance', 'testament', 'remnants', 'convince', 'promo', 'fame', 'blockbuster', 'halliwell', 'condition', 'virtually', 'rossellini', 'opinions', 'tear', 'sleepless', 'fast', 'lower', 'proper', 'hemingway', 'stodgy', 'shrubbery', 'blasphemy', 'hundreds', 'sequel', 'makings', 'pleasance', 'sidney', 'mohawk', 'icons', 'empty', 'ideas', 'animated', 'flynn', 'lie', 'davis', 'branch', 'suffers', 'pretensions', 'inner-city', 'stealing', 'seeking', 'assault', 'mystery', 'valued', 'muller', 'introduced', 'nee', 'abject', 'drama', '1941', 'carries', 'psychic', 'participants', 'finds', 'subtle', 'remind', 'half-brother', 'ambience', 'im', 'magazine', 'produced', 'listens', 'thee', 'guarding', 'argento', 'hugo', 'slight', 'hopefully', 'primo', 'misfits', 'later', 'shocked', 'related', 'incapable', 'mexican', '108', 'happened', 'hagar', 'climactic', 'prochnow', 'constance', 'mask', 'pair', 'landing', 'themself', 'displayed', 'toss', 'campaigns', 'contrary', 'demonic', 'market', 'stories', 'transgender', 'zap', 'combined', 'cook', 'composers', 'having', 'triumph', 'willis', 'ancient', 'cultural', 'languages', 'building', 'highlights', 'travis', 'controversy', 'franciosa', 'walks', 'melinda', 'bond', 'ammunition', 'figures', 'sells', 'pondering', 'regret', 'pellew', 'e', 'screens', 'explosions', 'calling', 'dan', 'superiority', 'traditional', 'deaf', 'sadness', 'burn', 'anthropologist', 'bells', 'cold', 'timeless', 'blythe', 'universe', 'psychopath', 'pyewacket', 'exhausted', 'toho', 'grade', 'publication', 'graders', 'therapy', 'cheer', 'riveting', 'rum', 'intro', 'link', 'risking', 'fast-paced', 'destroyed', 'pitfalls', 'notions', 'farfetched', 'devised', 'upset', 'regarding', 'valjean', 'disorders', 'earthquake', 'addition', 'complain', 'subjecting', 'blend', 'devouring', 'patrol', 'tenth', 'flow', 'churning', 'stevo', 'romantic', 'rag', 'directly', 'must-see', 'embodiment', 'theological', 'misfit', 'relief', 'might', 'compilation', 'pockets', 'irish', 'sugary', 'diesel', 'transportation', 'sharp', 'resolution', 'dilemma', 'collapse', 'incorporates', 'filmmaker', 'flock', '6', 'regarded', 'scores', 'blows', 'wannabe', 'da', 'soft', 'graceland', 'remastered', 'bluray', 'sans', 'ballads', 'packing', 'judgement', 'pointless', 'institute', 'otis', 'simonetti', 'appears', 'wrecks', 'mirror', 'neither', 'sweat', 'designed', 'arrogant', 'dissappointed', 'texas', 'substance', 'catchy', 'spinal', 'unbeatable', 'iris', 'dvds', 'visual', 'josu', 'spliced', 'unpredictable', '05', 'castle', 'toes', 'restoration', 'tsuburaya', 'reputation', 'coin', 'mom', 'candy', 'leaders', 'performs', 'sayles', 'people', 'graphically', 'vampires', 'vendors', 'soil', 'sings', 'ruggiero', 'ignore', 'rogers', 'making', 'chews', 'imitating', 'christian', 'buyers', 'check', 'andrew', 'adventurer', 'manipulating', 'posing', 'widow', 'projects', 'links', 'catches', 'aidan', 'footage', 'kicks', 'movement', 'fabricated', 'excitement', 'watchers', 'gaynor', 'phone', 'attending', 'dozen', 'prefer', 'demi', 'block', 'ok', 'individuals', 'crumb', 'clowns', 'noticeable', 'reinforced', 'jaw-dropping', '62', 'pride', 'cigarette', 'geri', 'cardio', 'lounge', 'excellent', 'gambling', 'fathom', 'offered', 'steep', '-carl', 'salma', 'bloodsport', 'alistair', 'region', 'gained', 'packaging', 'manhattan', 'happenings', 'continue', 'ambition', 'opportunity', 'dialect', 'perpetrator', 'aged', 'boy', 'arnold', 'sioux', 'dearest', 'sooo', 'barren', 'rises', 'parent', 'brien', 'mission', 'gunned', 'inclusion', 'directing', 'downtown', 'argue', 'kudos', 'eyre', 'smartest', 'contact', 'near', 'filming', 'behind', '$20', 'somebody', 'recapture', 'insanity', 'penned', 'hostage', 'effects', 'engages', 'robin', 'divine', 'street', 'ourselves', 'written', 'consequence', 'words', 'vanessa', 'markets', 'dismiss', 'ingredients', 'discovers', 'boss', 'turkey', 'villagers', 'speech', 'thrilled', 'dead-on', 'glue', 'pryce', 'sidekicks', 'dance', 'prim', 'everywhere', 'standpoint', 'applied', 'bank', 'dancer', 'belushi', 'col', 'receiver', 'harrer', 'creation', 'sauce', 'content', 'picture', 'interrupted', 'armed', 'start', 'cuba', 'meanders', 'favorites', 'missy', 'interspersed', 'obviously', 'master', 'min', 'techniques', 'tools', 'greenwald', 'formatted', 'tribal', 'principle', 'implies', 'transfers', 'jill', 'muse', 'radio', 'disliking', 'dropping', 'swinton', 'methodical', 'navarone', 'suicide', 'number', 'aired', 'sleeping', 'sung', 'monologues', 'jude', 'outsiders', 'chestnut', 'mock', 'scribes', 'devotion', 'menu', 'wednesday', 'streets', 'happening', 'quirk', 'appreciate', 'not-too-distant', 'finest', 'north', 'immediately', 'fishing', 'suspenseful', 'impressive', 'f', 'sensuality', 'tens', 'tibet', 'none', '11', 'academics', 'concerned', 'weight', 'learner', 'affable', 'explained', 'making-of', 'wonderfully', 'distance', 'ships', 'fix', 'brand', 'upgrading', 'hackman', 'putting', 'lap', 'alleged', 'proved', 'proud', 'prayer', 'lens', 'noir', 'idea', 'stakes', 'focus', 'cleaning', 'foodie', 'heroin', 'radios', 'jump', 'quarters', 'gifted', 'shame', 'execute', 'acerbic', 'stanley', 'court', 'utterly', 'guarantee', 'prison', 'angela', 'wing', 'running', 'matter-of-fact', 'eat', '2002', 'turns', 'hoping', '12', 'graceful', 'balances', 'criticism', 'hoffman', 'predict', 'field', 'store', 'suicidal', 'thin', 'amid', 'asthmatic', 'tears', 'medical', 'charged', 'faced', 'depp', 'victims', 'bulge', 'gunslinger', 'sorrowful', 'ww', 'a', 'dichotomy', 'lt', 'imitates', 'inez', 'miller', 'biased', 'letters', 'sparks', 'aa', 'ward', 'brains', 'seriously', 'elk', 'crucial', 'cried', 'bands', 'annual', 'monstrosity', 'iesha', 'due', 'answer', 'exercise', 'allergic', 'served', 'aesthetics', 'giallo', 'kiss', 'big-screen', 'younger', 'hooked', 'profound', 'healing', 'chose', 'dissapointment', 'shoulders', 'ing', 'soothing', 'chef', 'flamenco', 'devout', 'upper', 'round', 'sliced', 'hearts', 'editing', 'wind', 'except', 'anchor', 'liquid', 'wheaton', 'cheek', 'overcome', 'bat', 'pre-ordered', 'nonetheless', 'cosmos', 'covers', 'b-movies', 'three', 'garbage', 'cuban', 'yearly', 'gas', 'caused', 'concerns', 'satellite', 'robes', 'morgan', 'countess', 'worthwhile', 'spite', 'metal', 'factor', 'craving', 'susan', 'beat', 'nobility', 'heretic', 'luke', 'heck', 'tournament', 'advice', 'pg-13', 'coffin', 'satisfying', 'allison', 'von', 'unusually', 'things', 'confronted', '8221', 'sequence', '53', 'son', 'against', 'genius', '3', 'bit', 'expected', 'stature', 'lonely', 'solving', 'untold', 'coupled', 'rise', 'reunite', 'favourites', 'plug', 'tin', 'moving', 'completely', 'ravaged', 'flicks', '1993', 'decay', 'intimidation', 'troubling', 'fixing', 'thread', 'murders', 'awkwardly', 'edwards', 'sweetly', 'invents', 'swept', 'insane', 'ive', 'prepares', 'declare', '35', '34', 'carroll', 'importance', 'whose', 'attention', 'tool', 'hatty', 'black-and-white', 'counselor', 'among', 'tomato', 'midnight', 'false', 'dreams', 'gangsters', 'softly', 'cares', 'legendary', 'called', 'abs', 'instance', 'promise', 'porno', 'replay', 'close-ups', 'sex', 'they', 'suppress', 'somehow', 'tolerant', 'butler', 'luck', 'wearing', 'dumping', 'roller', 'dutch', 'leno', 'wrists', 'outstanding', 'wise', 'dummy', 'chosen', 'via', 'indians', 'mistake', 'abroad', 'peggy', 'glory', 'panache', 'prepared', 'joe', 'over-the-top', 'balloon', 'deliver', '$1', 'mentions', 'esteem', 'shock', 'desaturated', 'clearly', 'ready', 'sunday', 'ruthlessness', 'vague', 'exellent', 'know', 'relatives', 'carl', 'beef', 'subtext', 'september', 'bodies', 'omega', 'intelligence', 'mildly', 'antioch', 'winkler', 'voice', 'insecure', 'harris', 'sympathetic', 'reference', 'skerritt', 'margaret', 'nasty', 'weekend', 'steven', 'austen', 'anti-semitism', 'sam', 'cringed', 'restricted', 'germany', 'kringle', 'disappointing', 'significant', 'serene', 'awry', 'thirty', 'examine', 'seconds', 'sikes', 'ran', 'preformance', 'adventure', 'surprise', 'begged', 'granted', 'china', 'ages', 'wealthy', 'snowman', 'elders', 'romero', 'skyscraper', 'progress', 'chest', 'redford', 'majority', 'differences', 'neighboring', 'dresses', 'pic', 'robbery', 'serb', 'clavel', 'faded', 'cant', 'ranges', 'intertwine', 'culmination', 'adopts', 'crash', 'ed', 'hunt', 'keaton', 'happiest', 'gross', 'duvall', 'fundamentalist', 'typical', 'angered', 'laughter', 'walked', 'banter', 'bikini', 'daily', 'thanksgiving', 'as', 'talent', 'memorable', 'lights', 'incarnation', 'grail', 'stigma', 'gold', 'groundbreaking', 'mutilated', 'impression', 'cab', 'st', 'produce', 'soles', '1997', 'retribution', 'piercing', 'kate', 'dynamic', 'composer', 'our', 'almodovar', '120', 'entertainment', 'combinations', 'farm', 'necessary', 'personality', 'gooding', 'morning', 'japan', 'morals', 'valentine', 'deserve', 'bursting', 'shes', 'planning', 'implications', 'extras', 'steak', 'critical', 'segment', 'lancelot', 'doesnt', 'under-rated', 'welcome', 'sacrifice', 'hijacking', 'n', 'oozes', 'yeah', 'apocalypse', 'pros', 'total', 'white', '25', 'focused', 'visible', 'pops', 'refreshing', 'cage', 'instructions', 'productions', 'fright', '1964', 'pianist', 'storyline', 'kazan', 'previously', 'criminally', 'uk', 'wasted', 'opens', 'statistics', 'acquire', 'distract', 'marshall', 'violations', 'keeping', 'lead', 'familiar', '70s', 'save', 'lame', 'mistakes', 'keith', 'shine', 'consume', 'gaining', 'coal', 'enormously', 'committed', 'sophisticated', 'loyal', 'ethan', 'excuse', 'notch', 'fully', 'exercises', 'fox', 'unavoidable', 'priests', 'awakening', 'feet', 'programming', 'flowed', 'cartoon', 'oil', 'sykes', 'insisted', 'found', 'early', 'toole', 'chicago', 'jurassic', 'fatherly', 'brave', 'twiddle', 'herod', 'helps', 'revenge', 'liner', 'brilliantly', 'vocalists', 'told', 'dna', 'schank', 'shepherd', 'tales', 'touched', 'archie', 'molesting', 'dawn', 'teacher', 'footman', 'appreciates', 'text', 'interrupt', 'goliath', 'invitation', 'rescue', 'zeta-jones', 'lochnar', 'dancers', 'spoken', 'reiterate', 'favorable', 'holland', 'hinted', '90s', 'fervor', 'eric', 'shoulder', 'lancaster', 'launching', 'duties', 'dirty', 'drinking', 'urgent', 'next-door', 'vestoff', 'submission', 'views', 'size', 'owen', 'coaster', 'melanie', 'claus', 'infidelity', 'coming', 'unable', 'felton', 'unpretentious', 'stopped', 'practical', 'duck', 'twenty', 'panther', 'levinson', 'founded', 'ever', 'unlike', 'insist', 'fires', 'reeves', 'butcher', 'killings', 'torturous', 'events', 'sadistic', 'higgs', 'inspector', 'pokes', 'viewing', 'vicious', 'alyson', 'tapes', 'admiral', 'artifacting', 'hotel', 'creatures', 'remain', 'read', 'bravo', 'event', 'movie-making', 'into', 'caterpillar', 'leonard', 'tasteful', 'franklin', 'photographed', 'badly', 'preferable', 'flamingo', 'vivian', 'murphy', 'hip', 'henkel', 'america', 'extreme', 'fay', 'patients', 'letter', 'interfere', 'blunders', 'cuts', 'sie', 'taebo', 'chinese', 'schlock', 'amazed', 'neighbour', 'anonymous', 'peerless', 'milo', 'lee', 'driven', 'criteria', 'give', 'correctly', 'misguided', 'monsters', 'filmed', 'clarity', 'bashing', 'sun', 'ordinary', 'wallet', 'interiors', 'hand-to-hand', 'church', 'types', 'struggle', 'harold', 'guys', 'overrun', 'marvin', 'chords', 'nod', 'build', 'group', 'drone', 'apparent', 'jm', 'craziest', 'amazing', 'alan', 'failed', 'queen', 'whoa', 'unto', 'evils', 'surprising', 'reflective', 'home', 'stiff', 'legs', 'dealing', 'steps', '$$', 'genders', 'communists', 'booming', 'laughed', 'burt', 'screaming', '$', 'nevertheless', 'ladies', 'exodus', 'wipes', 'rigid', 'countless', 'grover', 'dull', 'unacceptable', 'austere', 'goer', 'vhs', 'deals', 'hitmen', 'hulce', 'cars', 'washington', 'refers', 'successful', 'drooling', 'yoga', 'opening', 'deeper', 'unfortunatly', 'fits', 'newman', 'cake', 'marx', 'color', 'buckley', 'terms', 'implying', 'theaters', 'wes', 'energy', 'confusing', 'caine', 'hosts', 'accompanies', 'anti-semitic', 'artifact', 'surpassed', 'consistent', 'jungle', 'tess', 'particular', 'kit', 'recieved', 'gaps', 'left', 'listening', 'dumb', 'solti', 'preconceived', 'nazis', 'atleast', 'holden', 'fellini', 'virgil', 'releases', 'bounty', 'salem', 'specifically', 'prince', 'babies', 'jews', 'rarely', 'gene', 'phony', 'portions', 'chase', 'ps3', 'magnum', 'rough', 'witness', 'bleeds', 'possibilities', 'charming', 'viewings', 'worship', 'clashes', 'overly', '1990s', 'productive', '57', 'malicious', 'sold', 'lowest', 'aura', 'said', 'quickly', 'secrets', 'cleopatra', 'folks', 'complained', 'settings', 'drank', 'tell', 'oscars', 'over', 'scars', 'beauty', 'for', 'schemes', 'redemption', 'praise', 'good', 'unmatched', 'recommend', 'believed', '16-bit', 'level', 'mystic', 'uttering', 'hale', 'painful', 'competing', '100', 'disco', 'tutter', 'translate', 'simpler', 'opus', 'absurd', 'maiden', 'passed', 'kings', 'unwatchable', 'decidedly', 'unwillingly', 'short', 't-virus', 'snakes', 'centers', 'circumstances', 'baron', 'steamy', 'blonde', 'locations', 'morale', 'academic', 'widely', 'lies', 'kills', 'catholicism', 'dylan', 'guide', 'wrestler', 'sailor', 'homemade', 'weakness', 'surpass', 'clear', 'far-fetched', 'fate', 'waiting', 'seduce', 'drug', 'assets', 'grabbed', 'kinds', 'commodores', 'chunk', 'boring', 'angry', 'cable', 'dj', 'risk', 'preposterous', 'strategies', 'mutiny', 'favourite', 'steeped', 'mesmerizing', 'kinetic', 'stupid', 'recovering', 'girl', 'exceeding', 'overt', 'cher', 'trial', 'bobcat', 'piddle', 'bought', 'peterson', 'crew', 'vast', 'torturing', 'siege', 'center', 'bonding', 'join', 'definition', 'tragedies', 'manic', 'satire', 'credentials', '80s', 'multimedia', '1953', 'wit', 'looking', 'agrees', 'terry', 'wright', 'remarkable', 'howard', 'express', 'pablo', 'each', 'biopic', 'appropriately', 'theater', 'practice', 'imitators', 'matrix', 'comment', 'ways', 'openly', 'transvestite', 'perhaps', 'international', 'jew', 'nerve', 'danny', 'ride', 'raptors', 'regrets', 'window', 'strongly', 'kinda', 'jumped', 'heroes', 'keeps', 'job', 'mike', 'meter', 'so', 'hiss', 'concert', 'g-force', 'unnatural', 'genuine', 'askew', 'label', 'trends', 'trojan', 'labor', 'biscardi', 'superficiality', 'sappy', 'cropping', 'protagonist', 'fbi', 'outfit', 'oral', '54', 'manage', 'sidewalk', 'sexiest', 'cooke', 'campfire', '18', 'hara', 'bottoms', 'count', 'nations', 'inc', 'limitations', 'hebrew', 'programme', 'cost', 'taught', 'rank', 'omission', 'tho', 'definite', 'melt', 'atheists', 'tessio', 'mediterranean', 'angelina', 'lifts', 'silliest', 'bitterness', 'opera', 'basis', 'promiscuous', 'album', '88', 'wwii', '16', 'somewhere', 'cushing', 'crowd', 'apartment', 'slump', 'lesbian', 'unbelievable', 'us', 'otherwise', 'educational', 'provided', 'couch', 'shark', 'art', 'see', 'keanu', 'language', 'quiet', 'haunting', 'cort', 'handler', 'cube', 'experiences', 'dts-hd', 'natacha', 'strange', 'liasons', 'conflict', 'characteristic', 'brewster', 'jaws', 'brothers', 'type', 'hemophilia', 'preached', 'deserved', 'putrid', 'needed', 'genre', 'evangelism', 'conquer', 'liberated', 'effect', 'program', 'asked', 'larroquette', 'collector', 'thinkers', 'stripes', 'nicely', 'gerard', 'hong', '1984', 'recording', 'port', 'realized', 'graham', 'crooks', 'owners', 'toddler', 'clothes', 'toward', 'spotless', 'mosely', 'keep', 'well-done', 'golden', 'hubris', 'downs', 'seeing', 'capable', 'waits', 'forehead', 'prejudiced', 'girls', 'posted', 'cape', 'rah', 'inner', 'switched', 'discussion', 'minette', 'denzel', 'workplace', 'senator', 'flavor', 'saved', 'violently', 'appeared', 'bits', 'camel', 'apt', 'debonair', 'apply', 'knew', 'jeanne', 'isa', 'continued', 'lacking', 'mistaken', 'ill', 'sympathy', 'slip', 'disease', 'fool', 'distractions', 'societal', 'plane', 'nominated', 'crappy', 'boyfriend', 'quayle', 'avenger', 'serra', 'peaceful', 'scene', 'zonca', 'obedience', 'voices', 'singer', 'alun', 'skipper', 'fighting', 'seemingly', 'remotely', 'glimpse', 'frank', 'jerking', 'unimpressed', 'artist', 'reviewer', 'depicted', 'kwai', 'mainly', 'accurately', 'hated', 'condor', 'vacation', 'suits', 'test', 'mockery', 'green', 'confused', 'watchable', 'zombies', 'wee', 'ol', '5', 'seller', 'indigenous', 'primer', 'shouting', 'east', 'failure', 'surely', 'trait', 'milla', 'istanbul', 'run-down', 'picked', 'tends', 'famous', 'without', 'bronson', 'marry', 'all-american', 'machine', 'rejection', 'change', 'lick', 'interpretation', 'elton', 'charles', 'bottle', 'sexually', 'approval', '1970', 'horrors', 'anticipated', 'rationalize', 'amazingly', 'idealistic', 'league', 'divided', 'romantically', 'toughest', 'exceptional', 'kenya', 'landed', 'seventh', 'lighting', 'banderas', 'booklet', 'popcorn', 'plays', 'ago', 'platoon', 'animatronic', 'saddles', 'problems', 'perfection', 'overused', 'dope', 'ends', 'thigh', 'orgy', 'directions', 'bobby', 'anew', 'packed', 'roberts', 'travel', 'repairing', 'ot', 'ned', 'cheering', 'oded', 'paraphrase', 'killers', 'enchanter', 'crying', 'competence', 'house', 'genetic', 'directorial', 'travelogue', 'conflicts', 'praised', 'bright', 'unforgetable', 'believes', 'meters', 'motivated', 'colorful', 'nicholson', 'introduction', 'decades', 'allows', 'minnie', 'crushing', 'propel', 'benicio', 'returns', 'abuse', 'latter', 'young', 'seasons', 'boat', 'disappearance', 'nerds', 'delivers', 'switches', '-the', 'attitude', 'crawford', 'applaud', 'earnest', 'actually', 'changed', 'neary', 'alfre', 'owned', 'judas', 'remember', 'pushing', 'given', 'mollie', 'awakens', 'figure', 'praying', 'attacks', 'seduced', 'complaint', 'pigs', 'partially', 'accessible', 'pinch', 'methods', 'momentum', 'considering', 'effortlessly', 'carson', 'hurricane', 'were', '10', 'holidays', 'norm', 'shariff', 'thoughts', 'rotten', 'stoic', 'entitled', '13', 'cemetary', 'hokum', 'supporting', 'uniquely', 'scripture', 'searching', 'helpful', 'spaceballs', 'delivery', 'oldman', 'autobiographical', 'winners', 'collins', 'removed', 'narrative', 'attain', 'describes', 'gung', 'themselves', 'repression', 'multi-dimensional', 'grease', 'sample', 'forth', 'scare', 'grace', 'oven', 'photos', 'giving', 'mob', 'bible', 'position', 'mixed', 'suit', 'moan', 'defended', 'def', 'instructs', 'least', 'jerry', 'unspoken', 'mores', 'imaging', 'bizzare', 'suspended', 'smell', '45-minute', 'pelicula', 'sophistication', 'multi-layered', 'aspirations', 'amadeus', '1996', 'takes', 'loss', 'objective', 'backgrounds', 'wo', 'shows', 'flower', 'heinlein', 'someplace', 'commandments', 'bother', 'informative', 'punching', 'hotmail', 'food', 'messed', 'intervene', 'homeless', 'ordering', 'submariners', 'reverence', 'fails', 'forcefully', 'caviezel', 'emotionally', 'dentist', 'duty', 'junk', 'slick', 'ahead', 'revealed', 'inhabit', 'sean', 'russian', 'gotten', 'fist', 'disagrees', 'enjoying', 'sight', 'u-turn', 'mexico', 'alias', 'loving', 'leader', 'ghidorah', 'filmmakers', 'madness', 'gonna', 'west', 'disappointment', 'chips', 'conversions', 'happen', 'illeana', 'authentic', 'area', 'beforehand', 'till', 'involving', 'sea', 'implied', 'flashbacks', 'mean', 'age', 'scathing', 'ground', 'pardon', 'well-known', 'prior', 'bogart', 'resolutions', 'insight', 'poignancy', 'chases', 'hopes', 'gang', 'destined', 'minutes', 'starring', 'surfaces', 'ryder', 'emerge', 'native', 'merely', 'chevy', 'glowing', 'accountant', 'brutality', 'protective', 'animal', 'binky', 'jacqueline', 'piling', 'julie', 'portraying', 'quits', 'mc', 'order', 'ukraine', 're2', 'decision', 'download', 'conscience', 'ball', 'skins', '1988', 'tricks', 'massie', 'plan', 'moviemaking', 'alice', 'repeated', 'truer', 'hood', 'romans', 'faithful', 'tunnel', 'quilts', 'racist', 'clears', 'sagan', 'acting', 'professor', 'psyche', 'muscles', 'broadway', 'anniversary', 'category', 'richer', 'intimate', 'dottie', 'radiant', 'interview', 'verbal', 'angel', 'jersey', 'glows', 'visions', 'decade', 'alison', 'appointed', 'invention', 'reloaded', 'mommy', 'errors', 'artistry', 'arrangement', 'bombarded', 'borchardt', 'ruined', 'flying', 'americans', 'membership', 'forgave', 'technology', 'tougher', 'listener', 'cotton', 'elsa', 'suffered', 'deniro', 'comedic', '300', 'rebellious', 'sarandon', 'scott', 'sitcom', 'approach', 'singers', 'planet', 'soup', 'influenced', 'reminds', 'underneath', 'amounts', 'paltrow', 'dump', 'thats', 'led', 'addressed', 'constructed', 'study', 'matured', 'psychology', 'roster', 'ceiling', 'guiding', 'lose', 'stars', 'qualifies', 'restored', 'trenches', 'unused', 'trade', 'sick', 'mins', 'strength', 'delivered', 'box-office', 'summary', 'research', 'conceived', '81', 'else', 'magical', 'brimley', 'intense', 'joba', 'accept', 'pieces', 'dedication', 'm', 'odd', 'ethel', 'whos', 'doomed', 'therefore', 'bored', 'vessel', 'mib', 'painting', 'ex-boyfriend', 'learn', 'wilde', 'account', 're-release', 'victor', 'sim', 'jurgen', 'guiness', 'evidence', 'expression', 'trying', 'added', 'trumps', 'products', 'provoke', 'awe', 'big-time', 'bay', 'conclusion', 'sing-alongs', 'both', 'boom', 're-releases', 'com', 'printing', 'uneven', 'delicious', 'madeleine', 'dark', 'brat', 'quick', 'jr', 'poorer', 'scifi', 'getaway', 'leaving', 'hollywood', 'stinks', 'inevitably', 'columbia', 'jojovich', 'progressed', '2004', 'charm', 'blends', 'prentiss', 'challenging', 'ft', 'more', 'criticize', 'gum', 'climate', 'country', 'dislikes', 'kennedy', 're-released', 'frightened', 'overlong', 'upon', 'meg', 'sinks', 'everett', '21', 'finish', 'nuance', 'wisely', 'ud', 'warning', 'guffey', 'remarked', 'hurt', 'excerpts', 'sit', 'dangerous', 'romances', 'captured', 'terribly', 'harsh', 'priest', 'bulk', 'treatment', 'audiences', 'senior', 'originality', 'rushed', 'indian', 'les', 'lump', 'arguments', 'tissues', 'blurred', 'jordan', 'physically', 'model', 'honoring', 'frightening', 'monitors', 'cruel', 'pacino', 'beckett', 'appeal', 'relies', 'arnie', 'pursues', 'blade', 'pursue', 'comedies', 'term', 'ensemble', 'lark', 'south', 'conditions', 'asks', '40', 'reads', 'purposely', '45', 'replacement', 'cloning', 'luc', 'changes', 'jolie', 'oxygen', 'j', 'stares', 'exception', 'issuing', 'nancy', 'worthy', 'traitor', 'behavior', 'wilson', 'fixation', 'pierre', 'onto', 'standout', 'boggling', 'similar', 'climbs', 'super', 'contents', 'rest', 'gun', 'kick', 'fortress', 'barrie', 'user', 'coward', 'television', 'humans', 'brain', 'clumsily', 'bowl', 'footing', 'tense', 'non', 'originally', 'rights', 'all-around', 'determination', 'flores', 'three-headed', 'moments', 'terrific', 'stalked', 'severe', 'careers', 'predictable', 'accomplished', 'tantalizing', 'sanya', 'mummy', 'hinds', 'blow', 'heads', 'president', 'becoming', 'dramatic', 'latin', 'eternity', 'sweeping', '<unk>', 'painter', 'desired', 'satiric', 'smug', 'facts', 'newbie', 'indictment', 'door', 'rewinding', 'quintessential', 'plot', 'unfortunate', 'correct', 'hayley', 'forster', 'apparently', 'u-boat', 'lastly', 'magic', 'oddball', 'desolate', 'vomiting', 'during', 'from', 'corner', '-i', 'followed', '209', 'preparing', 'movies', 'rattling', 'priced', 'married', 'here', 'saddled', ',', 'concern', 'co-written', 'ritual', 'sexy', 'hanging', 'stuck', 'novice', 'interviews', 'independence', 'maclaine', 'employers', 'disguise', 'cart', 'context', 'slice', 'meet', 'spfx', 'actresses', 'walking', 'trip', 'started', 'dedee', 'tick', 'hessians', 'straw', 'rodan', 'everybody', 'arrived', 'tasteless', 'obsessively', 'catholic', 'mcdowell', 'pearson', 'prepare', 'walker', 'strasberg', 'learned', '18th', 'damme', 'influential', 'crazy', 'explain', 'wrongs', 'vital', 'sell', 'closest', 'communicate', 'studio', 'wicked', 'unlikeable', 'reproduced', 'loner', 'lowenstein', 'robe', 'gays', 'island', 'suppose', 'vividly', 'darkest', 'aerobics', 'improve', 'sparked', 'fading', 'wal-mart', 'herself', 'enrich', 'upside', 'dante', 'materials', 'avoid', 'premium', 'track', 'marriage', 'gandolfini', 'gotta', 'emmet', 'jupiter', 'lover', 'distraction', 'submitting', 'reno', 'in-valids', 'concludes', 'lots', 'identity', 'goodness', 'renditions', 'spend', 'disprove', 'character', 'finney', 'artistic', 'coolest', 'laughing', 'political', 'clad', 'britney', 'seamlessly', 'rudolph', 'slides', 'piece', 'chauffeur', 'suspected', 'small', 'wept', 'pass', 'obtain', 'benefited', '8217', 'horns', 'concentrate', 'stand', 'chamber', 'non-existent', 'smart', 'impress', 'josue', 'beginner', 'cinematography', 'jerk', 'martin', 'creepy', 'billy', 'crab', 'service', 'proof', 'frankenstein', 'roller-coaster', 'witches', 'thirteen', 'safer', 'tend', 'stark', '3rd', 'common', 'print', 'played', 'crises', 'ice', 'javert', 'discussing', 'overact', 'services', 'awkward', 'thanks', 'head', 'criticised', 'anticipate', 'arc', 'based', 'hung', 'motives', 'automobile', 'hearing', 'bash', 'limited', 'sometime', 'ferguson', 'overacted', 'polar', '90', 'speaker', 'suberb', 'peaches', 'girlfriend', 'imperfections', 'back', 'underwent', 'skip', 'sanitized', 'red', 'dalai', 'aw', 'beleive', 'attempt', 'wow', 'owing', 'belt', 'fear', 'convincing', 'plotline', 'producers', 'premise', 'foster', 'fists', 'known', 'laws', 'storm', 'prawer', 'composition', 'key', 'cubs', 'washing', 'fiasco', 'norman', 'oregon', 'saves', 'clean', 'cat', 'lucifer', 'closing', 'jeremy', 'at', 'mindset', 'demons', 'generic', 'astaire', 'jane', 'grim', 'heard', 'holes', '30', 'other', 'parenting', 'sutherland', 'ann-margret', 'phoenix', 'idiots', 'thoroughly', 'sitcoms', 'universities', 'male', 'appropriate', 'python', 'conversation', 'normal', 'media', '5%', 'availability', 'niece', 'k', 'site', 'mrs', 'hmmm', 'aims', 'plavalaguna', 'seberg', 'dana', 'talking', 'prejudice', 'investigative', 'profanity', 'internet', 'scam', 'joseph', 'relationships', 'copy', 'strung', 'budgets', 'exposure', 'fundamentals', 'bites', 'been', 'scream', 'costume', 'brad', 'donnell', 'saga', 'repent', '15', 'strobel', 'comparison', 'sermons', 'fabulous', 'puts', 'gadgets', 'going', 'ray', 'jason', 'builds', 'signed', 'academy', 'mightily', 'important', '20th', 'exorcist', 'passion', 'vu', 'stewart', 'steve-o', 'your', 'greatest', '$15', 'leeches', 'high-tech', 'regime', 'desire', '!', 'tv', 'woody', 'walk', 'lesson', 'exercising', 'frustrations', 'triumphant', 'newton', 'bigger', 'moll', 'current', 'unparalleled', 'rains', 'recognizes', 'exploded', 'horrifying', 'argument', 'veracity', 'persuasion', 'fights', 'existenz', 'cases', 'shadows', 'flesh', 'overpriced', 'unforgiving', 'quality', 'hull', 'chronological', 'yourself', 'envelope', 'ones', 'peek', 'warrants', 'exquisite', 'dr', 'hannah', 'mysterious', 'doug', 'set-pieces', 'edgware', 'era', 'broad', 'appear', 'bears', 'meaning', 'olympia', 'straight', 'non-stop', 'ivanhoe', 'concerto', 'numerous', 'hell', 'culprit', 'por', 'hook', 'ingrid', 'aimed', 'decency', 'assuming', 'graces', 'unnamed', 'responsible', 'hashish', 'clever', 'groove', 'bad', 'award', 'blackman', 'loop', 'sony', 'potential', '1991', 'jefferson', 'highly', 'class', 'images', 'encountered', 'oklahoma', 'fred', 'seamless', 'grossing', 'detail', 'crime', 'sublime', 'summarized', 'rosalind', 'occasionally', 'explanation', 'party', 'ineffective', 'burst', 'formula', 'borgnine', 'james', 'absolute', 'classic', 'development', 'tracy', 'rather', 'stanton', 'dear', 'otto', 'portrays', 'classroom', 'volunteers', 'charactor', 'matters', 'guns', 'naturally', 'cue', 'slain', 'tobias', 'simple', 'enjoys', 'talented', 'pipes', 'ricky', 'rapid', 'wrong', 'snowy', 'blossoms', 'i', 'absorbing', 'g', 'pictures', 'dave', 'swift', 'wasson', 'shield', 'guest', 'thru', 'ratio', 'contained', '55', 'becomes', 'aacute', 'tested', 'bayou', 'waste', 'admit', 'public', 'escape', 'ruins', 'grandmother', 'jawbreaker', 'exceedingly', 'geared', 'giant', 'democracy', 'aragon', 'memoirs', 'after', 'entertain', 'ten', 'actions', 'springs', 'fit', 'resolved', 'self', 'pompous', 'jerks', 'thus', 'exclaims', 'physics', 'centered', 'defeat', 'conservative', 'kevin', 'titular', 'll', 'scorn', 'ask', 'rescuing', 'troopers', 'negatively', 'state', 'rosanna', 'mathilda', 'lawrence', 'games', 'baffled', 'band', 'fiber', 'marvellous', 'note', 'possibly', 'donnie', 'outline', 'players', 'considerably', 'branagh', 'hoped', 'pimpernel', 'scout', 'quote', 'holds', 'duped', 'solid', 'paved', 'purpose', 'rolls', 'guitar', 'god', 'deter', 'compelling', 'wwi', 'chris', 'course', 'tries', 'cds', 'members', 'side-splitting', 'burning', 'escapism', 'articulate', 'paying', 'forewarned', 'newly', 'nowhere', 'witch', 'electric', 'radicals', 'spent', 'diaz', 'witnessed', 'touching', 'alicia', 'godly', 'grouch', 'sacks', 'manages', 'cocky', 'dare', 'soft-spoken', 'college', 'renders', 'faithfulness', 'one-of-a-kind', 'comes', 'caught', 'laserdisc', 'syndrome', 'stalin', 'zorro', 'future', 'creative', 'help', 'seagulls', 'them', 'alternative', 'respectable', 'mechanized', 'wasnt', 'no-one', 'until', 'assumes', 'cover', 'ginny', 'roger', '66', 'groups', 'guinness', 'communist', 'carlin', 'ambivalence', 'beatiful', 'normally', 'break', 'dinner', 'holy', 'advisor', 'summer', 'classics', 'firm', 'performance', 'strikingly', 'hardly', 'liberals', 'pod', 'effort', 'jeroen', 'diva', 'amsterdam', 'sailors', 'culkin', 'bert', 'aliens', 'intriguing', 'expecting', 'perpetually', 'compared', 'moreover', 'presence', 'ia', 'mistakenly', 'grew', 'inthe', 'nobleman', 'zone', 'likes', 'wounds', 'recreated', 'offspring', 'aimless', 'scholars', 'todd', 'sure', 'light', 'closure', 'ghostbusters', 'mysteries', 'dowton', 'rivals', 'discover', 'bestselling', 'la', 'jean', 'dimitri', 'possessive', 'loves', 'hospital', 'cute', 'sustain', 'dandrige', 'wrote', 'totally', 'period', 'essentially', '99', 'ntsc', 'jesus', 'prosecutor', 'large', 'tender', 'jovovich', 'mention', 'difference', 'rewatched', 'bridges', 'hydra', 'continues', 'envision', 'loud', 'baby', 'person', 'singing', 'non-believer', 'nails', 'justice', 'psychopathic', 'overtones', 'comments', 'geeks', 'single', 'culture', 'harry', 'train', 'died', 'piety', 'poster', 'miniseries', 'few', 'mantra', 'burgermeister', 'famed', 'world', 'comfortable', 'noone', 'killed', 'camera', 'helen', 'lauded', 'prologue', 'loathing', 'christie', 'incidentally', 'biblical', 'candle', 'mysticism', 'take', 'hold', 'front', 'tom', 'assasin', 'nice', 'retired', 'fairly', 'culminates', 'activities', 'hate', 'whitman', 'stone', 'replaced', 'joys', 'conflicted', 'kim', 'reasons', 'friends', 'seven', 'standards', 'balanced', 'spawned', 'crucifixion', 'watches', 'climax', 'droll', 'tibetan', 'dated', 'actress', 'subject', 'han', 'though', 'she', 'parkinson', 'retains', 'horde', 'action', 'goose', 'feels', 'slowness', 'ridiculous', 'hijacked', 'particularly', 'sordid', 'depictions', 'ronald', 'das', 'videos', 'mythical', 'students', 'underwear', 'swedish', 'realised', 'meaningless', 'maia', 'easily', 'exterior', 'roles', 'points', 'part', 'stumbles', 'board', 'mediocrity', 'perspective', 'sworn', 'grant', 'lance', 'supernatural', 'spielberg', 'cry', 'situation', 'delving', 'gravitas', 'diabolical', 'thriller', 'incredibly', 'peltier', 'creations', 'well-acted', 'holiday', 'fantastically', 'aside', 'conference', 'isabel', 'wilcox', 'ruin', 'ruling', 'screenplay', 'contrivances', 'pc', 'century', 'twisty', 'bob', 'recollection', 'neighbor', 'states', 'bennett', 'respect', 'clip', 'deep', 'there', 'leads', 'cat-and-mouse', 'stoker', 'unknowns', 'katrina', 'shakespeare', 'streisand', 'victim', 'neutral', 'spiral', 'connolly', 'standard', 'disillusioned', 'cool-down', 'paints', 'plenty', 'railroad', 'russell', 'perverted', 'animation', 'river', 'rebecca', 'killer', 'father', 'contains', 'france', 'nicks', 'temple', 'thompson', 'laid-back', 'windows', 'stomping', 'blended', 'destroy', 'weapon', 'lamb', 'entertained', 'defeating', 'whatever', 'alien', 'leporello', 'recreates', 'curtain', 'edited', 'lady', 'hatred', 'king', 'uses', 'sorry', 'favorably', 'hollow', 'ferrer', 'jerky', 'interpersonal', 'getting', 'margin', 'kicked', 'middle-aged', 'cinema', 'animals', 'trials', 'boot', 'wasn', 'combines', 'racism', 'boost', 'pinball', 'yet', 'generation', 'prejudices', 'noticed', 'mothra', 'examines', 'hand', 'debris', 'walters', 'authorities', 'warm', 'female', 'customers', 'earlier', 'spouse', 'dry', 'monster', 'consider', 'jones', 'dreamer', 'lived', 'drop', 'throw', 'engineering', 'secret', 'climbers', 'overseas', 'pure', 'volumes', 'barbra', 'named', 'pain', 'and', 'screwing', 'realism', 'enjoyment', 'creates', 'immigrant', 'freaks', 'comeuppance', 'inside', 'whom', 'himalayas', 'reduced', 'potty', 'retire', 'meant', 'gospel', 'shouted', 'bonjour', 'cousin', 'fell', 'basically', 'army', 'pleased', 'ropes', 'brighter', 'ostensibly', 'excess', 'sobering', 'forward', 'journalists', 'minute', 'kerwin', 'exactly', 'access', 'jarre', 'b', 'solar', 'elephant', 'shocking', 'image', 'oversight', 'modified', 'zealand', 'nuts', 'july', 'dead', 'judging', 'five', '1930', 'sympathies', 'upgrade', 'cruz', 'crucifixtion', 'mcgregor', 'hybrid', 'absurdly', 'ghosts', 'converting', 'flashback', 'hot', 'strains', 'stretch', 'mcdonald', 'sensitive', 'extraneous', 'bruce', 'sanhedrin', 'funny', 'vampire', 'characters', 'commission', 'moranis', 'genes', 'shoes', 'centering', 'wronged', 'casting', 'beatrice', 'okay', 'unpleasant', 'cabbie', 'species', 'rates', 'damn', 'hopkins', 'lads', 'releasing', 'interestingly', 'daisy', 'brando', 'radical', 'kenneth', 'grain', 'painstakingly', 'low-budget', 'direction', 'rocked', 'cool', 'longer', '67', 'tanks', 'set', 'compassion', 'law', 'arabia', 'stowe', 'sets', 'information', 'simon', 'worse', 'warn', 'accurate', 'recite', 'something', 'misunderstood', 'many', 'bam', 'christianity', 'cruise', 'trailer', 'specific', 'meteor', 'mama', 'reform', 'laan', 'carpenter', 'pronunciation', 'paces', 'rain', 'sister', 'forgotten', 'esposito', 'exploiting', 'anyhow', 'fallen', 'fruition', 'hosted', 'toying', 'babes', 'winner', 'soderbergh', 'debates', 'pupil', 'nicholas', 'cathedral', 'doubt', 'contrivance', 'berenger', 'resolve', 'sinister', 'immoral', 'spice', 'erotic', 'crucified', 'elements', 'telling', 'illness', 'screenwriting', 'pay', 'horatio', 'netherlands', 'hop', 'strategic', 'writer', 'speakers', 'snacks', 'strive', 'impressed', 'invigorating', 'specialists', 'daring', 'religious', 'audience', 'easier', 'of', '2001', 'mimes', 'adult', 'depend', 'ego', 'disks', 'hummingbirds', 'dramatization', 'anamorphic', 'cheap', '500', 'outrageous', 'lash', 'connected', 'budget', 'feature', 'adaptations', 'novak', 'beliefs', 'substantial', 'honor', 'channel', 'karla', 'tristar', 'unimpressive', 'perfectly', 'space', 'bartender', 'mental', 'purchasing', 'holt', 'increasing', 'cream', 'wanna-be', 'interpretations', 'odds', 'deception', 'communism', 'believable', 'ex-wife', 'repetitive', 'cajun', 'hears', 'nearly', 'prop', 'adventures', 'usual', 'palance', 'electronic', 'usa', 'suzanna', '1933', 'impeccable', 'chewing', 'toddlers', 'snore', 'upcoming', 'guilty', 'mounted', 'jokes', 'journalism', 'humility', 'illegal', 'consummate', 'frame', 'aiken', 'holding', 'held', 'adaptation', 'jennifer', 'acted', 'eventually', 'word', 'hanks', 'online', 'wider', 'tough', 'van', 'smuggler', 'tracks', 'easy', 'brick', 'falling', 'critique', 'influences', 'carol', 'expect', '65533', 'can', 'clearance', 'pack', 'blaring', 'adolf', 'horrible', 'close', 'carry', '1971', 'admits', 'sopranos', 'woman', 'shephard', 'interacting', 'tongue', 'scavenger', 'workbook', 'section', 'memorized', 'epic', 'casts', '7', 'whammer', 'slow', 'gain', 'amp', 'hypocritical', 'atmosphere', 'motivating', 'apologies', 'sent', 'emily', 'treasure', 'plotless', 'initial', 'separate', 'rojo', 'calculating', 'sweet', 'annette', 'stalwart', 'ordered', 'platt', 'previous', 'portray', 'upper-class', 'murder', 'luminous', 'q', 'sally', 'restores', 'florida', 'aka', 'acoustic', 'locked', 'impossibly', 'libya', 'alternatives', 'above', 'share', 'variations', 'weather', 'intention', 'churchill', 'warehouse', 'third', 'volcano', 'performer', 'jo', 'technique', 'cult', 'frontal', 'week', 'brotherhood', 'joan', 'consist', 'theme', 'showcases', 'watching', '480p', 'candyman', 'afterthought', 'musicians', 'jealousy', 'wolf', 'massacre', 'kickboxer', 'fathers', '78', 'unusual', 'nude', 'haters', 'presents', 'underwhelming', 'underrated', 'akroyd', 'clubs', 'journey', 'showed', 'o', 'stupendous', 'idle', 'david', 'flashy', 'stacy', 'overkill', 'nominations', 'worst', 'ann', 'blatantly', 'cabrini-green', 'reese', 'definitly', 'beseech', 'befuddled', 'zwigoff', 'levels', 'locate', 'this', 'husband', 'aswell', 'ioan', 'western', 'annoy', 'loved', 'went', 'asset', 'corners', 'bones', 'accidental', 'books', 'blackmailed', 'schwartz', 'implication', 'heroics', '1975', 'invested', 'material', 'shack', 'commented', 'weigh', 'philip', 'engaging', 'lachance', 'immortal', 'mishap', 'marchiano', 'novelist', 'andrews', 'adults', 'laurie', 'atherton', 'war', 'edition', 'shell', 'thackery', 'coaching', 'fighter', 'attractive', 'nine', 'tara', 'congregation', 'clunky', '7th', 'government', 'sale', 'win', 'caddy', 'spunky', 'former', 'flayed', 'transforms', 'chaney', 'humor', 'thought-provoking', 'watch', 'impotent', 'pilate', 'revel', 'ben-hur', 'control', 'aloof', 'forgiving', 'retained', 'purchased', 'under', 'subtitles', 'shallow', 'gamers', '180', '24', 'lymangood', 'betray', 'form', 'harper', 'agatha', 'hill', 'unfortunately', 'oppressed', '$100', 'stared', 'collected', 'terrorists', 'high-quality', 'guessed', 'million', 'esoteric', 'upstairs', 'cigarettes', 'timeline', 'liaison', 'ignored', 'ramey', 'miles', 'kumble', 'rushes', 't', 'accent', 'stolen', 'flemyng', 'vanderlaan', 'desperate', 'play', 'definitely', 'italian', 'masterpiece', 'pleasantly', 'islam', 'disposal', 'format', 'across', 'bug', 'lesbians', 'portman', 'noses', 'exist', 'billion', 'christ', 'shared', 'mercilessly', 'understand', 'repetition', 'scripted', 'abigail', 'sway', 'consciously', 'saying', 'dragged', 'tale', 'hiv', 'chesnick', 'hellish', 'blunder', 'already', 'goes', 'iscariot', 'rob', 'olivia', 'reveal', 'displaying', 'shed', 'radioactive', 'british', 'somewhat', 'rescued', 'enchanted', 'realistic', 'savannah', 'regular', 'cussing', 'option', 'gory', 'strode', 'fluke', 'technician', 'fun', 'pretty', 'doc', 'untill', 'princess', 'stale', 'episodes', 'seductive', 'let', 'miscast', 'suggestions', 'interpreter', 'jon', 'existential', 'reimagining', 'aykroyd', 'terrible', 'got', 'rodgers', 'tucci', 'cruelty', 'evita', 'nor', 'ole', 'fare', 'interested', 'atop', 'usage', 'excited', 'jodi', 'photo', 'hello', 'difficult', 'borders', 'impact', 'flim', 'recount', 'gives', 'affinity', 'song', 'quiz', 'someone', 'electronics', 'dismal', 'marshmallow', 'truth', 'trails', 'assigned', 'chemistry', 'go', 'hero', 'poor', 'ww1', 'prinze', 'barris', 'lieu', 'stole', 'shot', 'jose', 'celebrities', 'historical', 'arab', 'sliver', 'tragedy', 'antisemitism', 'widescreen', 'bombing', 'trivial', 'mankind', 'appearance', 'allow', 'lines', 'fantasy', 'pirates', 'cyborg', 'segments', 'allies', 'he', 'half', 'nero', 'sd', 'dick', 'could', 'ehle', 'dreyfuss', 'churches', 'enemy', 'godzilla', 'overcoming', 'talk', 'jcvd', 'tongues', 'multiplicity', 'entering', 'parents', 'oneself', 'editorial', '1999', 'faves', 'than', 'final', 'delicate', 'dukakis', 'tx', 'violence', 'meeting', 'impacts', 'date', 'jack', 'prices', 'lecture', 'geronimo', 'resigned', 'glossed', 'following', 'kickboxing', 'distressing', 'maude', 'invincible', '2014', 'years', 'alphabet', 'down', 'use', 'moderately', 'iv', 'lackluster', 'truthful', 'alone', 'suitor', '20', 'screentime', 'heroine', 'backlash', '2', 'first', 'platform', 'sexuality', 'glove', 'playfulness', 'duke', 'revived', 'brian', 'choke', 'propaganda', 'present', 'jillette', 'perseverance', 'wildly', 'ver', 'conquest', 'tapestry', 'visualize', 'documentary', 'hidden', 'stubborn', 'reality', 'arises', 'works', 'undermine', 'consuming', 'capabilities', 'figuratively', 'turn', 'numbers', 'pan', 'refunded', 'some', 'better', 'uneasy', 'stage', 'blanche', 'tepid', 'wacky', 'hendricksson', 'grown', 'exact', 'tumultuous', 'eldest', 'roots', 'warrant', 'view', 'annoying', 'gratuitous', 'throughly', 'renown', '1998', 'turning', 'oldies', 'improved', 'oscar', 'long-term', 'naughty', 'kid', 'reminder', 'threads', 'rut', 'point', 'aids', 'background', 'beginning', 'intelligent', 'al', 'sci-fi', 'install', 'untrue', 'neumeier', 'mr', 'confuses', 'effective', 'starting', 'references', 'months', 'advised', 'sufficient', 'matt', 'battle', 'floats', 'soundtrack', 'pad', 'matthew', 'technical', 'fisherman', 'systems', 'memorize', 'myself', 'observes', 'existed', 'clicks', 'commentary', 'rope', 'opposed', 'busting', 'superb', 'genome', 'robots', 'ca', 'trust', 'anytime', 'new', 'unsuitable', 'treats', 'sophomoric', 'bigotry', 'genres', 'relied', 'crap', 'well-made', 'costumes', 'symbols', 'insipid', 'bordering', 'owner', 'hear', 'actors', 'chief', 'insightful', 'past', 'lucky', 'renting', 'valids', 'purists', 'lightning', 'rocks', 'shep', 'american', 'yankees', 'manson', 'haze', 'does', 'game', 'bunch', 'bates', 'mainstream', 'hope', 'ported', 'credit', 'sad', 'add', 'sweating', 'sherman', 'merle', 'orderly', 'fraction', 'right', 'religion', 'dugan', 'honored', 'christina', 'including', 'tim', 'dense', 'adding', '8mm', 'joel', 'intergalactic', 'crown', 'town', 'roaring', 'parrot', 'paper', 'representation', 'rewind', 'features', 'revolution', 'novel', 'israel', 'costars', 'resistance', 'conversion', 'undercurrent', 'todo', 'price', 'rings', 'hannibal', 'robbers', 'bell', 'manual', 'skillfully', 'darkly', 'chaffey', 'weird', 'depiction', 'marguerite', 'reader', 'slap', 'brotherly', 'favor', 'environment', 'understood', 'environments', 'aspect', 'tumbling', 'fulfills', 'contracts', 'central', 'only', 'sharks', 'co-star', 'buys', 'importantly', 'enclosed', 'did', 'suspicious', 'deterioration', 'banquine', 'frankie', 'prayed', 'complexities', 'abandon', 'daughter', 'case', '70', 'watched', 'pick', 'violent', 'geniuses', 'pairing', 's', 'hire', 'fairytale', 'although', 'subplots', 'recreating', 'instruction', 'musical', 'contend', 'symbol', 'persuasive', 'entranced', 'special', 'lively', 'recomended', 'fans', 'julia', 'steal', 'bisset', 'truly', 'pitillo', 'buttons', 'bankruptcy', 'continuing', 'lying', 'repugnant', 'pawns', 'wife', 'sufficiently', 'wars', 'tessier', 'child', 'silent', 'devilish', 'stop', 'joey', 'gorgeous', 'overall', 'pensive', 'arrogance', 'injury', 'reservoir', 'affair', 'cardinal', 'sometimes', 'live', 'possesed', 'particulary', 'anthony', 'lengths', 'attacked', 'run', 'evolution', 'siodmak', 'employing', 'tide', 'beatty', 'good-hearted', 'millionaire', 'liking', 'miss', 'lsd', 'cracking', 'brings', 'protagonists', 'thoughtful', 'embraced', 'met', 'really', 'become', 'soon', 'dreamed', 'g-d', 'discourage', 'suburban', 'cgi', 'recreations', 'nick', 'tenor', 'rated', 'noah', 'description', 'heart', 'stab', 'soccer', 'narnia', 'visually', 'doctor', 'library', 'tormenting', 'wanted', 'included', 'participated', 'sonnenfeld', 'literally', 'berkeley', 'style', 'lawford', 'bouncy', 'elfman', 'ended', 'almost', 'urban', 'rupert', 'veiled', 'feats', 'anti-hero', 'simply', 'recorded', 'frosty', 'horror', 'actor', 'whipped', 'spotlight', 'excruciating', 'hard-edged', 'career', 'fardan', 'french', 'faults', 'stabbed', 'silly', 'easter', 'cured', 'le', 'stay-puft', 'major', 'persistence', 'hawks', 'blaming', 'zerlina', 'soleil', 'randy', 'it', '8220', 'all-time', 'units', 'shelves', 'barry', 'is', 'comedy', 'involved', 're3', 'credits', 'intentionally', 'took', 'dolls', 'isolate', 'road', 'trick', 'exam', 'bizarre', 'northern', 'headlines', 'dalton', '73', 'yes', 'sail', 'anarchy', 'fatale', 'richards', 'unthinkable', 'sacred', 'stood', 'cursed', 'gets', 'p', 'uss', 'glorious', 'whats', 'pryor', 'chapter', 'full-blown', 'respected', 'appreciated', 'savage', 'fact', 'ireland', '17', 'crushes', 'too', 'cartoons', 'room', 'security', 'tired', 'frailties', 'novels', 'zealot', 'detailed', 'marquis', 'psycho', 'skills', 'thorns', 'wilkinson', 'very', 'haired', 'council', 'liberal', 'chance', 'socks', 'bullet', 'sceen', 'place', 'crippled', 'breathtaking', 'reflects', 'reprehensible', 'battles', 'marching', 'tarantino', 'thrown', 'mon', 'never', 'remaster', 'horses', 'gardner', 'buy', 'extraterrestrial', 'mohr', 'genocide', 'backyard', 'amusement', 'success', 'luther', 'geoffreys', 'along', 'orphaned', 'mexicans', 'its', 'agent', 'goofy', 'trademark', 'dilapidated', 'probably', '132', 'exit', 'tomb', 'high', 'offends', 'maria', 'tights', 'bows', 'about', 'positive', 'gatewood', 'gender', 'sustained', 'damon', 'engineer', 'nazi', 'nelligan', 'accompaniment', 'epilogue', 'why', 'delayed', 'discrimination', 'fingerprints', 'wingo', 'surrender', 'huston', 'asking', 'throwing', 'mia', 'required', 'richard', 'readings', 'approaching', 'military', 'since', 'was', 'rocker', 'vile', 'intimidating', 'indications', 'sized', 'sentiments', 'fritz', 'ramis', 'anything', 'audrey', 'role', 'describing', 'guess', 'co-ed', 'goers', 'company', 'big', 'enlists', '8211', 'rule', 'benevolent', 'versions', 'how', 'depardieu', 'frustration', 'heartbreak', 'core', 'closes', 'shape', 'comparing', 'kenton', 'admire', 'drives', 'censorship', 'psych', 'cinematographer', 'carey', 'supposed', 're', 'ultimate', 'powerful', 'perfect', 'lifted', 'superficial', 'money', 'valley', 'reserved', 'michael', 'iconic', 'befriends', 'evaluation', 'crush', 'trunk', 'inimitable', 'legends', 'physical', 'esp', 'sport', '1928', 'spacecraft', 'gary', 'skeptic', 'thinking', 'dimension', 'linton', 'tai', 'hulka', 'anywhere', 'big-budget', 'knack', 'to', 'may', 'tire', 'reminded', 'letterbox', 'realness', 'sequences', 'family', 'merge', 'sands', 'experiment', 'hypocrisy', 'bickle', 'wardrobe', 'centerpiece', 'conclude', 'handed', 'tornado', 'kuhn', 'freddy', 'humorous', 'lot', 'no', 'co-worker', 'solution', 'summoned', 'dialogue', 'hide', 'joyce', 'fur', 'ragsdale', 'main', 'larry', 'second', 'lucy', 'another', 'generates', 'nyman', 'oates', 'dimensions', 'prevents', 'colleagues', 'depressing', 'foley', 'fan', 'any', 'sons', 'vatican', 'restrained', 'relentless', 'homophobic', 'occurred', 'scored', 'transcripts', 'approximately', 'music', 'contract', 'teased', 'jessica', 'imaginations', 'titan', 'teasing', 'swiss', 'sights', 'dourif', 'older', 'must', 'kinder', 'extremely', 'autobiography', 'end', 'definately', 'enthusiast', 'zeal', 'be', 'location', 'seated', 'are', 'put', 'investigator', 'specifics', 'lesser', 'nil', '.', 'scheduled', 'tenderness', 'awkwardness', 'statements', 'shops', 'drummer', 'murdered', 'would', 'ultimately', 'spans', 'scenes', 'fabulously', 'often', 'twice', 'hacking', 'don', 'suzman', 'oh', 'misgivings', 'galaxy', 'newcomer', 'expertly', 'extermination', 'beating', 'little', 'treacherous', 'varies', 'fx', 'story', 'sixteen', 'crawley', 'variety', 'her', 'pierced', 'korben', 'wilder', 'writing', 'liked', 'certainly', 'arrives', 'gunfighter', 'forging', 'wisdom', 'mtv', 'appalling', 'collections', 'doctrines', 'cel', 'impossible', 'improvements', 'despair', 'product', 'safely', 'seen', 'portrayal', 'cyrene', 'opportunities', 'missing', 'anthrax', 'cloth', 'reformed', 'kidnapped', 'lottery', 'r', 'became', 'busters', 'begins', 'timothy', 'london', 'gump', 'relax', 'hints', 'copyright', 'commentaries', 'thenardier', 'entertaining', 'office', 'lois', 'health', 'withstand', 'entirely', 'modify', 'theories', 'moore', 'concede', 'hart', 'divorced', 'hutton', 'presentation', 'base', 'chopper', 'slavery', 'accompanied', 'undermined', 'finding', 'tonight', 'undead', 'stunning', 'woods', 'reassures', 'tropical', 'on', 'ella', 'zoe', 'cd', 'in-between', 'itself', 'elliot', 'police', 'vengeful', 'gentle', 'cynicism', 'airplane', 'fine', 'apaches', 'jam', 'temptation', 'hal', 'mad', 'caspian', 'sermon', 'chuck', 'typed', '8212', 'scorsese', 'dvd', 'goblin', 'today', 'england', 'pov', 'wilcoxes', 'self-esteem', 'ally', 'their', 'player', 'rundown', 'daniels', 'teenage', 'deliberate', 'warships', 'quot', 'telepathically', 'pleasing', 'great', 'design', 'school', 'inescapable', 'panned', 'fiance', 'acclaim', 'poorly', 'battlefields', 'dang', 'erratic', 'bernstein', 'mcmurtry', 'insofar', 'janice', 'together', 'throughout', 'johnson', 'environmental', 'strathairn', 'reluctance', 'comeback', 'awsome', 'mix', 'boxed', 'wont', 'pervades', 'akira', 'punks', 'whether', 'johnny', 'chained', 'symbolically', 'lindsay', 'shimmering', 'negative', 'humphrey', 'etched', 'huge', 'engrossing', 'answers', 'women', 'mcconaughey', 'leon', 'created', 'marilyn', 'qualities', 'side-by-side', 'all', '1000', 'believers', 'example', 'pregnancy', 'collaboration', 'miniature', 'stormare', 'starships', 'convenience', 'classes', 'adam', 'villian', 'pedigree', 'fork', 'sake', 'shown', 'score', 'capture', 'meanwhile', 'shani', 'actual', 'video', 'modern', 'ambitious', 'loneliness', 'whistle', 'out', 'cows', 'every'])"
      ]
     },
     "execution_count": 15,
     "metadata": {},
     "output_type": "execute_result"
    }
   ],
   "source": [
    "vocab.get_stoi().keys()"
   ]
  },
  {
   "cell_type": "code",
   "execution_count": 16,
   "metadata": {},
   "outputs": [
    {
     "data": {
      "text/plain": [
       "18486"
      ]
     },
     "execution_count": 16,
     "metadata": {},
     "output_type": "execute_result"
    }
   ],
   "source": [
    "len(vocab)"
   ]
  },
  {
   "cell_type": "code",
   "execution_count": 17,
   "metadata": {},
   "outputs": [
    {
     "data": {
      "text/plain": [
       "3704"
      ]
     },
     "execution_count": 17,
     "metadata": {},
     "output_type": "execute_result"
    }
   ],
   "source": [
    "vocab[\"titanic\"]"
   ]
  },
  {
   "cell_type": "code",
   "execution_count": 18,
   "metadata": {},
   "outputs": [
    {
     "name": "stdout",
     "output_type": "stream",
     "text": [
      "Total words in text: 50000\n",
      "Unique words: 18486\n"
     ]
    }
   ],
   "source": [
    "print(f\"Total words in text: {len(tokens)}\")\n",
    "print(f\"Unique words: {len(vocab)}\")\n"
   ]
  },
  {
   "cell_type": "code",
   "execution_count": 19,
   "metadata": {},
   "outputs": [],
   "source": [
    "# from nltk.tokenize import sent_tokenize, word_tokenize\n",
    "WINDOW_LENGTH = 4"
   ]
  },
  {
   "cell_type": "code",
   "execution_count": 20,
   "metadata": {},
   "outputs": [],
   "source": [
    "n = len(vocab)\n",
    "co_occ_matrix = np.zeros((n, n))\n"
   ]
  },
  {
   "cell_type": "code",
   "execution_count": 21,
   "metadata": {},
   "outputs": [
    {
     "data": {
      "text/plain": [
       "(18486, 18486)"
      ]
     },
     "execution_count": 21,
     "metadata": {},
     "output_type": "execute_result"
    }
   ],
   "source": [
    "co_occ_matrix.shape"
   ]
  },
  {
   "cell_type": "code",
   "execution_count": 22,
   "metadata": {},
   "outputs": [],
   "source": [
    "def build_co_occ(sentence):\n",
    "    sent = tokenizer(sentence)\n",
    "    for idx, word in enumerate(sent):\n",
    "        for context_id in range((max(0, idx - WINDOW_LENGTH)), (min(len(sent), idx + WINDOW_LENGTH + 1))):\n",
    "            row = vocab[word]\n",
    "            col = vocab[sent[context_id]]\n",
    "            co_occ_matrix[row][col] += 1\n"
   ]
  },
  {
   "cell_type": "code",
   "execution_count": 23,
   "metadata": {},
   "outputs": [],
   "source": [
    "for sentence in corpus:\n",
    "    build_co_occ(sentence)\n"
   ]
  },
  {
   "cell_type": "code",
   "execution_count": 24,
   "metadata": {},
   "outputs": [
    {
     "name": "stdout",
     "output_type": "stream",
     "text": [
      "Co-occurrence Matrix: \n",
      "[[6.48002e+05 1.46355e+05 1.34357e+05 ... 1.00000e+01 3.00000e+00\n",
      "  5.00000e+00]\n",
      " [1.46355e+05 5.36099e+05 1.36321e+05 ... 9.00000e+00 8.00000e+00\n",
      "  1.00000e+00]\n",
      " [1.34357e+05 1.36321e+05 4.52751e+05 ... 3.00000e+00 2.00000e+00\n",
      "  8.00000e+00]\n",
      " ...\n",
      " [1.00000e+01 9.00000e+00 3.00000e+00 ... 1.00000e+01 0.00000e+00\n",
      "  0.00000e+00]\n",
      " [3.00000e+00 8.00000e+00 2.00000e+00 ... 0.00000e+00 1.00000e+01\n",
      "  0.00000e+00]\n",
      " [5.00000e+00 1.00000e+00 8.00000e+00 ... 0.00000e+00 0.00000e+00\n",
      "  1.00000e+01]]\n"
     ]
    }
   ],
   "source": [
    "print(\"Co-occurrence Matrix: \")\n",
    "print(co_occ_matrix)\n"
   ]
  },
  {
   "cell_type": "code",
   "execution_count": 25,
   "metadata": {},
   "outputs": [],
   "source": [
    "def normalize_co_occurrence_matrix(co_occ_matrix):\n",
    "    \"\"\"\n",
    "    Normalize co-occurrence matrix using PPMI (Positive Pointwise Mutual Information).\n",
    "\n",
    "    Args:\n",
    "        co_occ_matrix (np.array): Co-occurrence matrix.\n",
    "\n",
    "    Returns:\n",
    "        np.array: Normalized co-occurrence matrix.\n",
    "    \"\"\"\n",
    "    # calculate sum of all elements in the matrix\n",
    "    total_sum = np.sum(co_occ_matrix)\n",
    "    \n",
    "    # calculate row and column sums\n",
    "    row_sums = np.sum(co_occ_matrix, axis=1)\n",
    "    col_sums = np.sum(co_occ_matrix, axis=0)\n",
    "    \n",
    "    # calculate PPMI values\n",
    "    pmi_matrix = np.log((co_occ_matrix * total_sum) / (np.outer(row_sums, col_sums) + 1e-6))\n",
    "    ppmi_matrix = np.maximum(pmi_matrix, 0)\n",
    "    \n",
    "    # normalize using row-wise L2 norm\n",
    "    normalized_matrix = ppmi_matrix / np.linalg.norm(ppmi_matrix, ord=2, axis=1, keepdims=True)\n",
    "    \n",
    "    return normalized_matrix"
   ]
  },
  {
   "cell_type": "code",
   "execution_count": 26,
   "metadata": {},
   "outputs": [],
   "source": [
    "# co_occ_matrix = normalize_co_occurrence_matrix(co_occ_matrix)"
   ]
  },
  {
   "cell_type": "code",
   "execution_count": 27,
   "metadata": {},
   "outputs": [
    {
     "data": {
      "text/plain": [
       "array([[6.48002e+05, 1.46355e+05, 1.34357e+05, ..., 1.00000e+01,\n",
       "        3.00000e+00, 5.00000e+00],\n",
       "       [1.46355e+05, 5.36099e+05, 1.36321e+05, ..., 9.00000e+00,\n",
       "        8.00000e+00, 1.00000e+00],\n",
       "       [1.34357e+05, 1.36321e+05, 4.52751e+05, ..., 3.00000e+00,\n",
       "        2.00000e+00, 8.00000e+00],\n",
       "       ...,\n",
       "       [1.00000e+01, 9.00000e+00, 3.00000e+00, ..., 1.00000e+01,\n",
       "        0.00000e+00, 0.00000e+00],\n",
       "       [3.00000e+00, 8.00000e+00, 2.00000e+00, ..., 0.00000e+00,\n",
       "        1.00000e+01, 0.00000e+00],\n",
       "       [5.00000e+00, 1.00000e+00, 8.00000e+00, ..., 0.00000e+00,\n",
       "        0.00000e+00, 1.00000e+01]])"
      ]
     },
     "execution_count": 27,
     "metadata": {},
     "output_type": "execute_result"
    }
   ],
   "source": [
    "co_occ_matrix"
   ]
  },
  {
   "cell_type": "code",
   "execution_count": 28,
   "metadata": {},
   "outputs": [],
   "source": [
    "df = pd.DataFrame(co_occ_matrix, index=vocab.get_stoi().keys(), columns=vocab.get_stoi().keys())\n"
   ]
  },
  {
   "cell_type": "code",
   "execution_count": 29,
   "metadata": {},
   "outputs": [
    {
     "data": {
      "text/html": [
       "<div>\n",
       "<style scoped>\n",
       "    .dataframe tbody tr th:only-of-type {\n",
       "        vertical-align: middle;\n",
       "    }\n",
       "\n",
       "    .dataframe tbody tr th {\n",
       "        vertical-align: top;\n",
       "    }\n",
       "\n",
       "    .dataframe thead th {\n",
       "        text-align: right;\n",
       "    }\n",
       "</style>\n",
       "<table border=\"1\" class=\"dataframe\">\n",
       "  <thead>\n",
       "    <tr style=\"text-align: right;\">\n",
       "      <th></th>\n",
       "      <th>zooms</th>\n",
       "      <th>zelda</th>\n",
       "      <th>zegart</th>\n",
       "      <th>yearbook</th>\n",
       "      <th>working-class</th>\n",
       "      <th>wires</th>\n",
       "      <th>wily</th>\n",
       "      <th>willed</th>\n",
       "      <th>wide-eyed</th>\n",
       "      <th>whirlwind</th>\n",
       "      <th>...</th>\n",
       "      <th>shani</th>\n",
       "      <th>actual</th>\n",
       "      <th>video</th>\n",
       "      <th>modern</th>\n",
       "      <th>ambitious</th>\n",
       "      <th>loneliness</th>\n",
       "      <th>whistle</th>\n",
       "      <th>out</th>\n",
       "      <th>cows</th>\n",
       "      <th>every</th>\n",
       "    </tr>\n",
       "  </thead>\n",
       "  <tbody>\n",
       "    <tr>\n",
       "      <th>zooms</th>\n",
       "      <td>648002.0</td>\n",
       "      <td>146355.0</td>\n",
       "      <td>134357.0</td>\n",
       "      <td>133756.0</td>\n",
       "      <td>77774.0</td>\n",
       "      <td>62912.0</td>\n",
       "      <td>61217.0</td>\n",
       "      <td>47290.0</td>\n",
       "      <td>37526.0</td>\n",
       "      <td>45632.0</td>\n",
       "      <td>...</td>\n",
       "      <td>5.0</td>\n",
       "      <td>0.0</td>\n",
       "      <td>9.0</td>\n",
       "      <td>11.0</td>\n",
       "      <td>4.0</td>\n",
       "      <td>12.0</td>\n",
       "      <td>3.0</td>\n",
       "      <td>10.0</td>\n",
       "      <td>3.0</td>\n",
       "      <td>5.0</td>\n",
       "    </tr>\n",
       "    <tr>\n",
       "      <th>zelda</th>\n",
       "      <td>146355.0</td>\n",
       "      <td>536099.0</td>\n",
       "      <td>136321.0</td>\n",
       "      <td>60376.0</td>\n",
       "      <td>51543.0</td>\n",
       "      <td>61583.0</td>\n",
       "      <td>50426.0</td>\n",
       "      <td>43707.0</td>\n",
       "      <td>61056.0</td>\n",
       "      <td>60573.0</td>\n",
       "      <td>...</td>\n",
       "      <td>1.0</td>\n",
       "      <td>6.0</td>\n",
       "      <td>4.0</td>\n",
       "      <td>4.0</td>\n",
       "      <td>13.0</td>\n",
       "      <td>4.0</td>\n",
       "      <td>4.0</td>\n",
       "      <td>9.0</td>\n",
       "      <td>8.0</td>\n",
       "      <td>1.0</td>\n",
       "    </tr>\n",
       "    <tr>\n",
       "      <th>zegart</th>\n",
       "      <td>134357.0</td>\n",
       "      <td>136321.0</td>\n",
       "      <td>452751.0</td>\n",
       "      <td>101620.0</td>\n",
       "      <td>71634.0</td>\n",
       "      <td>29929.0</td>\n",
       "      <td>116499.0</td>\n",
       "      <td>51924.0</td>\n",
       "      <td>54195.0</td>\n",
       "      <td>23589.0</td>\n",
       "      <td>...</td>\n",
       "      <td>0.0</td>\n",
       "      <td>3.0</td>\n",
       "      <td>2.0</td>\n",
       "      <td>5.0</td>\n",
       "      <td>0.0</td>\n",
       "      <td>3.0</td>\n",
       "      <td>2.0</td>\n",
       "      <td>3.0</td>\n",
       "      <td>2.0</td>\n",
       "      <td>8.0</td>\n",
       "    </tr>\n",
       "    <tr>\n",
       "      <th>yearbook</th>\n",
       "      <td>133756.0</td>\n",
       "      <td>60376.0</td>\n",
       "      <td>101620.0</td>\n",
       "      <td>372585.0</td>\n",
       "      <td>74702.0</td>\n",
       "      <td>49278.0</td>\n",
       "      <td>40761.0</td>\n",
       "      <td>30746.0</td>\n",
       "      <td>39824.0</td>\n",
       "      <td>33442.0</td>\n",
       "      <td>...</td>\n",
       "      <td>7.0</td>\n",
       "      <td>7.0</td>\n",
       "      <td>3.0</td>\n",
       "      <td>4.0</td>\n",
       "      <td>6.0</td>\n",
       "      <td>2.0</td>\n",
       "      <td>3.0</td>\n",
       "      <td>6.0</td>\n",
       "      <td>1.0</td>\n",
       "      <td>7.0</td>\n",
       "    </tr>\n",
       "    <tr>\n",
       "      <th>working-class</th>\n",
       "      <td>77774.0</td>\n",
       "      <td>51543.0</td>\n",
       "      <td>71634.0</td>\n",
       "      <td>74702.0</td>\n",
       "      <td>198301.0</td>\n",
       "      <td>29473.0</td>\n",
       "      <td>29222.0</td>\n",
       "      <td>24857.0</td>\n",
       "      <td>22470.0</td>\n",
       "      <td>22083.0</td>\n",
       "      <td>...</td>\n",
       "      <td>5.0</td>\n",
       "      <td>3.0</td>\n",
       "      <td>4.0</td>\n",
       "      <td>2.0</td>\n",
       "      <td>3.0</td>\n",
       "      <td>7.0</td>\n",
       "      <td>5.0</td>\n",
       "      <td>3.0</td>\n",
       "      <td>0.0</td>\n",
       "      <td>3.0</td>\n",
       "    </tr>\n",
       "    <tr>\n",
       "      <th>wires</th>\n",
       "      <td>62912.0</td>\n",
       "      <td>61583.0</td>\n",
       "      <td>29929.0</td>\n",
       "      <td>49278.0</td>\n",
       "      <td>29473.0</td>\n",
       "      <td>177109.0</td>\n",
       "      <td>35560.0</td>\n",
       "      <td>23621.0</td>\n",
       "      <td>31330.0</td>\n",
       "      <td>20139.0</td>\n",
       "      <td>...</td>\n",
       "      <td>2.0</td>\n",
       "      <td>1.0</td>\n",
       "      <td>1.0</td>\n",
       "      <td>6.0</td>\n",
       "      <td>1.0</td>\n",
       "      <td>2.0</td>\n",
       "      <td>5.0</td>\n",
       "      <td>2.0</td>\n",
       "      <td>0.0</td>\n",
       "      <td>2.0</td>\n",
       "    </tr>\n",
       "    <tr>\n",
       "      <th>wily</th>\n",
       "      <td>61217.0</td>\n",
       "      <td>50426.0</td>\n",
       "      <td>116499.0</td>\n",
       "      <td>40761.0</td>\n",
       "      <td>29222.0</td>\n",
       "      <td>35560.0</td>\n",
       "      <td>169304.0</td>\n",
       "      <td>14273.0</td>\n",
       "      <td>19438.0</td>\n",
       "      <td>10372.0</td>\n",
       "      <td>...</td>\n",
       "      <td>3.0</td>\n",
       "      <td>1.0</td>\n",
       "      <td>1.0</td>\n",
       "      <td>3.0</td>\n",
       "      <td>0.0</td>\n",
       "      <td>0.0</td>\n",
       "      <td>0.0</td>\n",
       "      <td>2.0</td>\n",
       "      <td>1.0</td>\n",
       "      <td>1.0</td>\n",
       "    </tr>\n",
       "    <tr>\n",
       "      <th>willed</th>\n",
       "      <td>47290.0</td>\n",
       "      <td>43707.0</td>\n",
       "      <td>51924.0</td>\n",
       "      <td>30746.0</td>\n",
       "      <td>24857.0</td>\n",
       "      <td>23621.0</td>\n",
       "      <td>14273.0</td>\n",
       "      <td>153879.0</td>\n",
       "      <td>13875.0</td>\n",
       "      <td>20589.0</td>\n",
       "      <td>...</td>\n",
       "      <td>0.0</td>\n",
       "      <td>0.0</td>\n",
       "      <td>3.0</td>\n",
       "      <td>2.0</td>\n",
       "      <td>1.0</td>\n",
       "      <td>1.0</td>\n",
       "      <td>2.0</td>\n",
       "      <td>1.0</td>\n",
       "      <td>3.0</td>\n",
       "      <td>0.0</td>\n",
       "    </tr>\n",
       "    <tr>\n",
       "      <th>wide-eyed</th>\n",
       "      <td>37526.0</td>\n",
       "      <td>61056.0</td>\n",
       "      <td>54195.0</td>\n",
       "      <td>39824.0</td>\n",
       "      <td>22470.0</td>\n",
       "      <td>31330.0</td>\n",
       "      <td>19438.0</td>\n",
       "      <td>13875.0</td>\n",
       "      <td>127154.0</td>\n",
       "      <td>21082.0</td>\n",
       "      <td>...</td>\n",
       "      <td>0.0</td>\n",
       "      <td>0.0</td>\n",
       "      <td>1.0</td>\n",
       "      <td>1.0</td>\n",
       "      <td>2.0</td>\n",
       "      <td>0.0</td>\n",
       "      <td>2.0</td>\n",
       "      <td>1.0</td>\n",
       "      <td>2.0</td>\n",
       "      <td>0.0</td>\n",
       "    </tr>\n",
       "    <tr>\n",
       "      <th>whirlwind</th>\n",
       "      <td>45632.0</td>\n",
       "      <td>60573.0</td>\n",
       "      <td>23589.0</td>\n",
       "      <td>33442.0</td>\n",
       "      <td>22083.0</td>\n",
       "      <td>20139.0</td>\n",
       "      <td>10372.0</td>\n",
       "      <td>20589.0</td>\n",
       "      <td>21082.0</td>\n",
       "      <td>122787.0</td>\n",
       "      <td>...</td>\n",
       "      <td>0.0</td>\n",
       "      <td>1.0</td>\n",
       "      <td>1.0</td>\n",
       "      <td>0.0</td>\n",
       "      <td>1.0</td>\n",
       "      <td>0.0</td>\n",
       "      <td>0.0</td>\n",
       "      <td>1.0</td>\n",
       "      <td>0.0</td>\n",
       "      <td>0.0</td>\n",
       "    </tr>\n",
       "  </tbody>\n",
       "</table>\n",
       "<p>10 rows × 18486 columns</p>\n",
       "</div>"
      ],
      "text/plain": [
       "                  zooms     zelda    zegart  yearbook  working-class  \\\n",
       "zooms          648002.0  146355.0  134357.0  133756.0        77774.0   \n",
       "zelda          146355.0  536099.0  136321.0   60376.0        51543.0   \n",
       "zegart         134357.0  136321.0  452751.0  101620.0        71634.0   \n",
       "yearbook       133756.0   60376.0  101620.0  372585.0        74702.0   \n",
       "working-class   77774.0   51543.0   71634.0   74702.0       198301.0   \n",
       "wires           62912.0   61583.0   29929.0   49278.0        29473.0   \n",
       "wily            61217.0   50426.0  116499.0   40761.0        29222.0   \n",
       "willed          47290.0   43707.0   51924.0   30746.0        24857.0   \n",
       "wide-eyed       37526.0   61056.0   54195.0   39824.0        22470.0   \n",
       "whirlwind       45632.0   60573.0   23589.0   33442.0        22083.0   \n",
       "\n",
       "                  wires      wily    willed  wide-eyed  whirlwind  ...  shani  \\\n",
       "zooms           62912.0   61217.0   47290.0    37526.0    45632.0  ...    5.0   \n",
       "zelda           61583.0   50426.0   43707.0    61056.0    60573.0  ...    1.0   \n",
       "zegart          29929.0  116499.0   51924.0    54195.0    23589.0  ...    0.0   \n",
       "yearbook        49278.0   40761.0   30746.0    39824.0    33442.0  ...    7.0   \n",
       "working-class   29473.0   29222.0   24857.0    22470.0    22083.0  ...    5.0   \n",
       "wires          177109.0   35560.0   23621.0    31330.0    20139.0  ...    2.0   \n",
       "wily            35560.0  169304.0   14273.0    19438.0    10372.0  ...    3.0   \n",
       "willed          23621.0   14273.0  153879.0    13875.0    20589.0  ...    0.0   \n",
       "wide-eyed       31330.0   19438.0   13875.0   127154.0    21082.0  ...    0.0   \n",
       "whirlwind       20139.0   10372.0   20589.0    21082.0   122787.0  ...    0.0   \n",
       "\n",
       "               actual  video  modern  ambitious  loneliness  whistle   out  \\\n",
       "zooms             0.0    9.0    11.0        4.0        12.0      3.0  10.0   \n",
       "zelda             6.0    4.0     4.0       13.0         4.0      4.0   9.0   \n",
       "zegart            3.0    2.0     5.0        0.0         3.0      2.0   3.0   \n",
       "yearbook          7.0    3.0     4.0        6.0         2.0      3.0   6.0   \n",
       "working-class     3.0    4.0     2.0        3.0         7.0      5.0   3.0   \n",
       "wires             1.0    1.0     6.0        1.0         2.0      5.0   2.0   \n",
       "wily              1.0    1.0     3.0        0.0         0.0      0.0   2.0   \n",
       "willed            0.0    3.0     2.0        1.0         1.0      2.0   1.0   \n",
       "wide-eyed         0.0    1.0     1.0        2.0         0.0      2.0   1.0   \n",
       "whirlwind         1.0    1.0     0.0        1.0         0.0      0.0   1.0   \n",
       "\n",
       "               cows  every  \n",
       "zooms           3.0    5.0  \n",
       "zelda           8.0    1.0  \n",
       "zegart          2.0    8.0  \n",
       "yearbook        1.0    7.0  \n",
       "working-class   0.0    3.0  \n",
       "wires           0.0    2.0  \n",
       "wily            1.0    1.0  \n",
       "willed          3.0    0.0  \n",
       "wide-eyed       2.0    0.0  \n",
       "whirlwind       0.0    0.0  \n",
       "\n",
       "[10 rows x 18486 columns]"
      ]
     },
     "execution_count": 29,
     "metadata": {},
     "output_type": "execute_result"
    }
   ],
   "source": [
    "# Co-occurence matrix\n",
    "df.head(10)\n"
   ]
  },
  {
   "cell_type": "code",
   "execution_count": 30,
   "metadata": {},
   "outputs": [],
   "source": [
    "from numpy import array\n",
    "from scipy.sparse.linalg import svds\n",
    "from numpy import diag\n",
    "from numpy import dot\n",
    "\n",
    "co_occ_np = df.to_numpy()\n",
    "\n",
    "U, s, VT = svds(co_occ_np, k=100)\n"
   ]
  },
  {
   "cell_type": "code",
   "execution_count": 27,
   "metadata": {},
   "outputs": [
    {
     "name": "stderr",
     "output_type": "stream",
     "text": [
      "100%|██████████| 27/27 [02:48<00:00,  6.23s/it]\n"
     ]
    }
   ],
   "source": [
    "# from sklearn.decomposition import IncrementalPCA\n",
    "# from tqdm import tqdm\n",
    "\n",
    "# incr_pca = IncrementalPCA(n_components=300, batch_size=1000)\n",
    "# reviews_ = np.array_split(np.nan_to_num(co_occ_matrix), int(len(co_occ_matrix) / 1000))  # integer division\n",
    "\n",
    "# for batch in tqdm(reviews_):\n",
    "#     incr_pca.partial_fit(batch)\n",
    "\n",
    "# U = incr_pca.components_.T\n"
   ]
  },
  {
   "cell_type": "code",
   "execution_count": 31,
   "metadata": {},
   "outputs": [
    {
     "data": {
      "text/html": [
       "<div>\n",
       "<style scoped>\n",
       "    .dataframe tbody tr th:only-of-type {\n",
       "        vertical-align: middle;\n",
       "    }\n",
       "\n",
       "    .dataframe tbody tr th {\n",
       "        vertical-align: top;\n",
       "    }\n",
       "\n",
       "    .dataframe thead th {\n",
       "        text-align: right;\n",
       "    }\n",
       "</style>\n",
       "<table border=\"1\" class=\"dataframe\">\n",
       "  <thead>\n",
       "    <tr style=\"text-align: right;\">\n",
       "      <th></th>\n",
       "      <th>0</th>\n",
       "      <th>1</th>\n",
       "      <th>2</th>\n",
       "      <th>3</th>\n",
       "      <th>4</th>\n",
       "      <th>5</th>\n",
       "      <th>6</th>\n",
       "      <th>7</th>\n",
       "      <th>8</th>\n",
       "      <th>9</th>\n",
       "      <th>...</th>\n",
       "      <th>90</th>\n",
       "      <th>91</th>\n",
       "      <th>92</th>\n",
       "      <th>93</th>\n",
       "      <th>94</th>\n",
       "      <th>95</th>\n",
       "      <th>96</th>\n",
       "      <th>97</th>\n",
       "      <th>98</th>\n",
       "      <th>99</th>\n",
       "    </tr>\n",
       "  </thead>\n",
       "  <tbody>\n",
       "    <tr>\n",
       "      <th>zooms</th>\n",
       "      <td>-0.001276</td>\n",
       "      <td>0.003798</td>\n",
       "      <td>6.839778e-04</td>\n",
       "      <td>-0.000619</td>\n",
       "      <td>-0.003669</td>\n",
       "      <td>0.001280</td>\n",
       "      <td>0.003136</td>\n",
       "      <td>0.000571</td>\n",
       "      <td>-9.540583e-04</td>\n",
       "      <td>0.000577</td>\n",
       "      <td>...</td>\n",
       "      <td>-1.876944e-02</td>\n",
       "      <td>-0.031067</td>\n",
       "      <td>2.027219e-02</td>\n",
       "      <td>0.012022</td>\n",
       "      <td>-2.017350e-02</td>\n",
       "      <td>-0.057752</td>\n",
       "      <td>-2.241063e-01</td>\n",
       "      <td>2.700415e-01</td>\n",
       "      <td>0.705137</td>\n",
       "      <td>0.591592</td>\n",
       "    </tr>\n",
       "    <tr>\n",
       "      <th>zelda</th>\n",
       "      <td>-0.003155</td>\n",
       "      <td>0.002881</td>\n",
       "      <td>-9.690841e-04</td>\n",
       "      <td>-0.000480</td>\n",
       "      <td>0.003986</td>\n",
       "      <td>-0.003346</td>\n",
       "      <td>0.002020</td>\n",
       "      <td>0.003776</td>\n",
       "      <td>-1.507482e-03</td>\n",
       "      <td>0.000098</td>\n",
       "      <td>...</td>\n",
       "      <td>-1.693811e-02</td>\n",
       "      <td>-0.055463</td>\n",
       "      <td>-1.232426e-01</td>\n",
       "      <td>0.098986</td>\n",
       "      <td>2.592532e-02</td>\n",
       "      <td>-0.214762</td>\n",
       "      <td>1.003472e-01</td>\n",
       "      <td>5.884717e-01</td>\n",
       "      <td>-0.596280</td>\n",
       "      <td>0.453844</td>\n",
       "    </tr>\n",
       "    <tr>\n",
       "      <th>zegart</th>\n",
       "      <td>-0.000974</td>\n",
       "      <td>0.002625</td>\n",
       "      <td>1.305612e-02</td>\n",
       "      <td>0.005689</td>\n",
       "      <td>-0.001247</td>\n",
       "      <td>-0.003149</td>\n",
       "      <td>-0.007369</td>\n",
       "      <td>0.003759</td>\n",
       "      <td>4.900423e-03</td>\n",
       "      <td>-0.001420</td>\n",
       "      <td>...</td>\n",
       "      <td>1.989022e-01</td>\n",
       "      <td>-0.159493</td>\n",
       "      <td>7.731798e-02</td>\n",
       "      <td>-0.081831</td>\n",
       "      <td>4.692135e-04</td>\n",
       "      <td>-0.168677</td>\n",
       "      <td>-5.113932e-01</td>\n",
       "      <td>-5.795508e-01</td>\n",
       "      <td>-0.302446</td>\n",
       "      <td>0.412401</td>\n",
       "    </tr>\n",
       "    <tr>\n",
       "      <th>yearbook</th>\n",
       "      <td>-0.003694</td>\n",
       "      <td>0.000397</td>\n",
       "      <td>-1.519490e-03</td>\n",
       "      <td>0.001294</td>\n",
       "      <td>0.001039</td>\n",
       "      <td>-0.004094</td>\n",
       "      <td>0.002541</td>\n",
       "      <td>0.001677</td>\n",
       "      <td>6.486077e-04</td>\n",
       "      <td>-0.000733</td>\n",
       "      <td>...</td>\n",
       "      <td>-2.059019e-02</td>\n",
       "      <td>-0.013887</td>\n",
       "      <td>-9.318470e-02</td>\n",
       "      <td>-0.009026</td>\n",
       "      <td>-1.261578e-01</td>\n",
       "      <td>-0.355662</td>\n",
       "      <td>7.540110e-01</td>\n",
       "      <td>-4.072164e-01</td>\n",
       "      <td>0.107179</td>\n",
       "      <td>0.303967</td>\n",
       "    </tr>\n",
       "    <tr>\n",
       "      <th>working-class</th>\n",
       "      <td>-0.004462</td>\n",
       "      <td>0.003005</td>\n",
       "      <td>-2.467590e-04</td>\n",
       "      <td>0.003062</td>\n",
       "      <td>0.001968</td>\n",
       "      <td>0.000289</td>\n",
       "      <td>-0.001578</td>\n",
       "      <td>0.006057</td>\n",
       "      <td>-2.747387e-03</td>\n",
       "      <td>0.002155</td>\n",
       "      <td>...</td>\n",
       "      <td>-7.465117e-03</td>\n",
       "      <td>-0.007389</td>\n",
       "      <td>4.012310e-02</td>\n",
       "      <td>0.367661</td>\n",
       "      <td>8.149588e-01</td>\n",
       "      <td>0.332097</td>\n",
       "      <td>1.495876e-01</td>\n",
       "      <td>-1.441045e-01</td>\n",
       "      <td>-0.002896</td>\n",
       "      <td>0.175434</td>\n",
       "    </tr>\n",
       "    <tr>\n",
       "      <th>...</th>\n",
       "      <td>...</td>\n",
       "      <td>...</td>\n",
       "      <td>...</td>\n",
       "      <td>...</td>\n",
       "      <td>...</td>\n",
       "      <td>...</td>\n",
       "      <td>...</td>\n",
       "      <td>...</td>\n",
       "      <td>...</td>\n",
       "      <td>...</td>\n",
       "      <td>...</td>\n",
       "      <td>...</td>\n",
       "      <td>...</td>\n",
       "      <td>...</td>\n",
       "      <td>...</td>\n",
       "      <td>...</td>\n",
       "      <td>...</td>\n",
       "      <td>...</td>\n",
       "      <td>...</td>\n",
       "      <td>...</td>\n",
       "      <td>...</td>\n",
       "    </tr>\n",
       "    <tr>\n",
       "      <th>loneliness</th>\n",
       "      <td>0.000018</td>\n",
       "      <td>-0.000008</td>\n",
       "      <td>-6.439142e-05</td>\n",
       "      <td>-0.000072</td>\n",
       "      <td>-0.000017</td>\n",
       "      <td>-0.000013</td>\n",
       "      <td>-0.000038</td>\n",
       "      <td>-0.000006</td>\n",
       "      <td>2.901590e-05</td>\n",
       "      <td>-0.000005</td>\n",
       "      <td>...</td>\n",
       "      <td>7.859892e-06</td>\n",
       "      <td>-0.000014</td>\n",
       "      <td>-4.878341e-06</td>\n",
       "      <td>0.000016</td>\n",
       "      <td>2.844170e-05</td>\n",
       "      <td>0.000008</td>\n",
       "      <td>-2.617436e-06</td>\n",
       "      <td>4.996465e-06</td>\n",
       "      <td>0.000011</td>\n",
       "      <td>0.000012</td>\n",
       "    </tr>\n",
       "    <tr>\n",
       "      <th>whistle</th>\n",
       "      <td>0.000036</td>\n",
       "      <td>-0.000020</td>\n",
       "      <td>5.419515e-06</td>\n",
       "      <td>0.000045</td>\n",
       "      <td>-0.000016</td>\n",
       "      <td>0.000018</td>\n",
       "      <td>-0.000054</td>\n",
       "      <td>0.000021</td>\n",
       "      <td>6.696416e-07</td>\n",
       "      <td>0.000019</td>\n",
       "      <td>...</td>\n",
       "      <td>1.112112e-05</td>\n",
       "      <td>-0.000017</td>\n",
       "      <td>-5.135802e-06</td>\n",
       "      <td>0.000008</td>\n",
       "      <td>1.018663e-05</td>\n",
       "      <td>0.000020</td>\n",
       "      <td>9.585597e-06</td>\n",
       "      <td>-2.311262e-07</td>\n",
       "      <td>-0.000002</td>\n",
       "      <td>0.000007</td>\n",
       "    </tr>\n",
       "    <tr>\n",
       "      <th>out</th>\n",
       "      <td>-0.000013</td>\n",
       "      <td>0.000013</td>\n",
       "      <td>-9.141110e-07</td>\n",
       "      <td>-0.000005</td>\n",
       "      <td>0.000002</td>\n",
       "      <td>-0.000019</td>\n",
       "      <td>0.000013</td>\n",
       "      <td>0.000020</td>\n",
       "      <td>-6.697515e-06</td>\n",
       "      <td>-0.000003</td>\n",
       "      <td>...</td>\n",
       "      <td>4.668393e-07</td>\n",
       "      <td>0.000003</td>\n",
       "      <td>-7.859957e-06</td>\n",
       "      <td>0.000009</td>\n",
       "      <td>3.093290e-06</td>\n",
       "      <td>-0.000007</td>\n",
       "      <td>8.505260e-06</td>\n",
       "      <td>7.629463e-06</td>\n",
       "      <td>0.000002</td>\n",
       "      <td>0.000014</td>\n",
       "    </tr>\n",
       "    <tr>\n",
       "      <th>cows</th>\n",
       "      <td>0.000010</td>\n",
       "      <td>0.000015</td>\n",
       "      <td>1.454918e-05</td>\n",
       "      <td>0.000010</td>\n",
       "      <td>-0.000010</td>\n",
       "      <td>-0.000009</td>\n",
       "      <td>0.000032</td>\n",
       "      <td>0.000002</td>\n",
       "      <td>7.637732e-05</td>\n",
       "      <td>0.000041</td>\n",
       "      <td>...</td>\n",
       "      <td>-1.539550e-05</td>\n",
       "      <td>-0.000004</td>\n",
       "      <td>-7.981229e-06</td>\n",
       "      <td>-0.000011</td>\n",
       "      <td>-6.380811e-07</td>\n",
       "      <td>-0.000003</td>\n",
       "      <td>5.495851e-07</td>\n",
       "      <td>9.194426e-06</td>\n",
       "      <td>-0.000008</td>\n",
       "      <td>0.000008</td>\n",
       "    </tr>\n",
       "    <tr>\n",
       "      <th>every</th>\n",
       "      <td>0.000004</td>\n",
       "      <td>-0.000017</td>\n",
       "      <td>-6.855335e-05</td>\n",
       "      <td>-0.000057</td>\n",
       "      <td>-0.000009</td>\n",
       "      <td>-0.000001</td>\n",
       "      <td>-0.000032</td>\n",
       "      <td>-0.000007</td>\n",
       "      <td>4.214142e-05</td>\n",
       "      <td>0.000012</td>\n",
       "      <td>...</td>\n",
       "      <td>1.916012e-05</td>\n",
       "      <td>-0.000013</td>\n",
       "      <td>-7.304604e-08</td>\n",
       "      <td>0.000006</td>\n",
       "      <td>1.481372e-06</td>\n",
       "      <td>-0.000007</td>\n",
       "      <td>2.781587e-06</td>\n",
       "      <td>-1.640898e-05</td>\n",
       "      <td>0.000002</td>\n",
       "      <td>0.000010</td>\n",
       "    </tr>\n",
       "  </tbody>\n",
       "</table>\n",
       "<p>18486 rows × 100 columns</p>\n",
       "</div>"
      ],
      "text/plain": [
       "                     0         1             2         3         4         5   \\\n",
       "zooms         -0.001276  0.003798  6.839778e-04 -0.000619 -0.003669  0.001280   \n",
       "zelda         -0.003155  0.002881 -9.690841e-04 -0.000480  0.003986 -0.003346   \n",
       "zegart        -0.000974  0.002625  1.305612e-02  0.005689 -0.001247 -0.003149   \n",
       "yearbook      -0.003694  0.000397 -1.519490e-03  0.001294  0.001039 -0.004094   \n",
       "working-class -0.004462  0.003005 -2.467590e-04  0.003062  0.001968  0.000289   \n",
       "...                 ...       ...           ...       ...       ...       ...   \n",
       "loneliness     0.000018 -0.000008 -6.439142e-05 -0.000072 -0.000017 -0.000013   \n",
       "whistle        0.000036 -0.000020  5.419515e-06  0.000045 -0.000016  0.000018   \n",
       "out           -0.000013  0.000013 -9.141110e-07 -0.000005  0.000002 -0.000019   \n",
       "cows           0.000010  0.000015  1.454918e-05  0.000010 -0.000010 -0.000009   \n",
       "every          0.000004 -0.000017 -6.855335e-05 -0.000057 -0.000009 -0.000001   \n",
       "\n",
       "                     6         7             8         9   ...            90  \\\n",
       "zooms          0.003136  0.000571 -9.540583e-04  0.000577  ... -1.876944e-02   \n",
       "zelda          0.002020  0.003776 -1.507482e-03  0.000098  ... -1.693811e-02   \n",
       "zegart        -0.007369  0.003759  4.900423e-03 -0.001420  ...  1.989022e-01   \n",
       "yearbook       0.002541  0.001677  6.486077e-04 -0.000733  ... -2.059019e-02   \n",
       "working-class -0.001578  0.006057 -2.747387e-03  0.002155  ... -7.465117e-03   \n",
       "...                 ...       ...           ...       ...  ...           ...   \n",
       "loneliness    -0.000038 -0.000006  2.901590e-05 -0.000005  ...  7.859892e-06   \n",
       "whistle       -0.000054  0.000021  6.696416e-07  0.000019  ...  1.112112e-05   \n",
       "out            0.000013  0.000020 -6.697515e-06 -0.000003  ...  4.668393e-07   \n",
       "cows           0.000032  0.000002  7.637732e-05  0.000041  ... -1.539550e-05   \n",
       "every         -0.000032 -0.000007  4.214142e-05  0.000012  ...  1.916012e-05   \n",
       "\n",
       "                     91            92        93            94        95  \\\n",
       "zooms         -0.031067  2.027219e-02  0.012022 -2.017350e-02 -0.057752   \n",
       "zelda         -0.055463 -1.232426e-01  0.098986  2.592532e-02 -0.214762   \n",
       "zegart        -0.159493  7.731798e-02 -0.081831  4.692135e-04 -0.168677   \n",
       "yearbook      -0.013887 -9.318470e-02 -0.009026 -1.261578e-01 -0.355662   \n",
       "working-class -0.007389  4.012310e-02  0.367661  8.149588e-01  0.332097   \n",
       "...                 ...           ...       ...           ...       ...   \n",
       "loneliness    -0.000014 -4.878341e-06  0.000016  2.844170e-05  0.000008   \n",
       "whistle       -0.000017 -5.135802e-06  0.000008  1.018663e-05  0.000020   \n",
       "out            0.000003 -7.859957e-06  0.000009  3.093290e-06 -0.000007   \n",
       "cows          -0.000004 -7.981229e-06 -0.000011 -6.380811e-07 -0.000003   \n",
       "every         -0.000013 -7.304604e-08  0.000006  1.481372e-06 -0.000007   \n",
       "\n",
       "                         96            97        98        99  \n",
       "zooms         -2.241063e-01  2.700415e-01  0.705137  0.591592  \n",
       "zelda          1.003472e-01  5.884717e-01 -0.596280  0.453844  \n",
       "zegart        -5.113932e-01 -5.795508e-01 -0.302446  0.412401  \n",
       "yearbook       7.540110e-01 -4.072164e-01  0.107179  0.303967  \n",
       "working-class  1.495876e-01 -1.441045e-01 -0.002896  0.175434  \n",
       "...                     ...           ...       ...       ...  \n",
       "loneliness    -2.617436e-06  4.996465e-06  0.000011  0.000012  \n",
       "whistle        9.585597e-06 -2.311262e-07 -0.000002  0.000007  \n",
       "out            8.505260e-06  7.629463e-06  0.000002  0.000014  \n",
       "cows           5.495851e-07  9.194426e-06 -0.000008  0.000008  \n",
       "every          2.781587e-06 -1.640898e-05  0.000002  0.000010  \n",
       "\n",
       "[18486 rows x 100 columns]"
      ]
     },
     "execution_count": 31,
     "metadata": {},
     "output_type": "execute_result"
    }
   ],
   "source": [
    "U_df = pd.DataFrame(U, index=vocab.get_stoi().keys())\n",
    "U_df\n"
   ]
  },
  {
   "cell_type": "code",
   "execution_count": 32,
   "metadata": {},
   "outputs": [],
   "source": [
    "from sklearn.metrics.pairwise import cosine_similarity\n"
   ]
  },
  {
   "cell_type": "code",
   "execution_count": 49,
   "metadata": {},
   "outputs": [],
   "source": [
    "word = \"camera\"\n",
    "word_index = vocab[word]\n"
   ]
  },
  {
   "cell_type": "code",
   "execution_count": 50,
   "metadata": {},
   "outputs": [],
   "source": [
    "word_vector = U[word_index]\n"
   ]
  },
  {
   "cell_type": "code",
   "execution_count": 51,
   "metadata": {},
   "outputs": [
    {
     "data": {
      "text/plain": [
       "(18486, 100)"
      ]
     },
     "execution_count": 51,
     "metadata": {},
     "output_type": "execute_result"
    }
   ],
   "source": [
    "U.shape"
   ]
  },
  {
   "cell_type": "code",
   "execution_count": 52,
   "metadata": {},
   "outputs": [],
   "source": [
    "# Calculate the cosine similarities between the chosen word and all other words\n",
    "similarities = []\n",
    "for i in range(U.shape[0]):\n",
    "    simi = cosine_similarity(U[i].reshape(1, -1), [word_vector])\n",
    "    similarities.extend(simi.flatten())\n"
   ]
  },
  {
   "cell_type": "code",
   "execution_count": 53,
   "metadata": {},
   "outputs": [],
   "source": [
    "# Sort the similarities in descending order and return the top k words\n",
    "k = 10\n",
    "top_k_similar_words = np.argsort(similarities)[-k:]\n"
   ]
  },
  {
   "cell_type": "code",
   "execution_count": 54,
   "metadata": {},
   "outputs": [
    {
     "data": {
      "text/plain": [
       "array([1611, 2736,  797, 4522, 4791, 3894, 2230, 6541,  746,  750])"
      ]
     },
     "execution_count": 54,
     "metadata": {},
     "output_type": "execute_result"
    }
   ],
   "source": [
    "top_k_similar_words\n"
   ]
  },
  {
   "cell_type": "code",
   "execution_count": 55,
   "metadata": {},
   "outputs": [],
   "source": [
    "index_to_words = vocab.get_itos()"
   ]
  },
  {
   "cell_type": "code",
   "execution_count": 56,
   "metadata": {},
   "outputs": [
    {
     "data": {
      "text/plain": [
       "['camera',\n",
       " 'battle',\n",
       " 'border',\n",
       " 'chase',\n",
       " 'piano',\n",
       " 'bathroom',\n",
       " 'tricks',\n",
       " 'storyline',\n",
       " 'wall',\n",
       " 'trip']"
      ]
     },
     "execution_count": 56,
     "metadata": {},
     "output_type": "execute_result"
    }
   ],
   "source": [
    "list(reversed([index_to_words[idx] for idx in top_k_similar_words]))"
   ]
  },
  {
   "cell_type": "code",
   "execution_count": 95,
   "metadata": {},
   "outputs": [],
   "source": [
    "np.save(\"svd_matrix2.npy\", U)"
   ]
  },
  {
   "cell_type": "code",
   "execution_count": 40,
   "metadata": {},
   "outputs": [],
   "source": [
    "V = np.load(\"svd_matrix2.npy\", allow_pickle=True)"
   ]
  },
  {
   "cell_type": "code",
   "execution_count": 41,
   "metadata": {},
   "outputs": [
    {
     "data": {
      "text/plain": [
       "(27035, 300)"
      ]
     },
     "execution_count": 41,
     "metadata": {},
     "output_type": "execute_result"
    }
   ],
   "source": [
    "V.shape"
   ]
  },
  {
   "cell_type": "code",
   "execution_count": 42,
   "metadata": {},
   "outputs": [
    {
     "data": {
      "text/plain": [
       "(27035, 300)"
      ]
     },
     "execution_count": 42,
     "metadata": {},
     "output_type": "execute_result"
    }
   ],
   "source": [
    "U.shape"
   ]
  },
  {
   "cell_type": "code",
   "execution_count": 96,
   "metadata": {},
   "outputs": [],
   "source": [
    "import pickle\n",
    "with open('vocab2.pkl', 'wb') as f:\n",
    "    pickle.dump(vocab, f)"
   ]
  },
  {
   "cell_type": "code",
   "execution_count": 44,
   "metadata": {},
   "outputs": [],
   "source": [
    "with open('vocab2.pkl', 'rb') as f:\n",
    "    vocab2 = pickle.load(f)"
   ]
  },
  {
   "cell_type": "code",
   "execution_count": 45,
   "metadata": {},
   "outputs": [
    {
     "data": {
      "text/plain": [
       "1657"
      ]
     },
     "execution_count": 45,
     "metadata": {},
     "output_type": "execute_result"
    }
   ],
   "source": [
    "vocab2[\"titanic\"]"
   ]
  },
  {
   "cell_type": "code",
   "execution_count": null,
   "metadata": {},
   "outputs": [],
   "source": []
  }
 ],
 "metadata": {
  "kernelspec": {
   "display_name": "torch",
   "language": "python",
   "name": "python3"
  },
  "language_info": {
   "codemirror_mode": {
    "name": "ipython",
    "version": 3
   },
   "file_extension": ".py",
   "mimetype": "text/x-python",
   "name": "python",
   "nbconvert_exporter": "python",
   "pygments_lexer": "ipython3",
   "version": "3.9.16"
  },
  "orig_nbformat": 4
 },
 "nbformat": 4,
 "nbformat_minor": 2
}
