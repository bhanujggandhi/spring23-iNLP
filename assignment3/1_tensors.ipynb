{
 "cells": [
  {
   "cell_type": "code",
   "execution_count": null,
   "metadata": {},
   "outputs": [
    {
     "ename": "",
     "evalue": "",
     "output_type": "error",
     "traceback": [
      "\u001b[1;31mFailed to start the Kernel. \n",
      "\u001b[1;31mJupyter server crashed. Unable to connect. \n",
      "\u001b[1;31mError code from Jupyter: 1\n",
      "\u001b[1;31mTraceback (most recent call last):\n",
      "\u001b[1;31m  File \"/Users/bhanujggandhi/devtools/miniconda3/envs/nlp_learn/lib/python3.8/site-packages/notebook/services/sessions/sessionmanager.py\", line 9, in <module>\n",
      "\u001b[1;31m\n",
      "\u001b[1;31m    import sqlite3\n",
      "\u001b[1;31m  File \"/Users/bhanujggandhi/devtools/miniconda3/envs/nlp_learn/lib/python3.8/sqlite3/__init__.py\", line 23, in <module>\n",
      "\u001b[1;31m\n",
      "\u001b[1;31m    from sqlite3.dbapi2 import *\n",
      "\u001b[1;31m  File \"/Users/bhanujggandhi/devtools/miniconda3/envs/nlp_learn/lib/python3.8/sqlite3/dbapi2.py\", line 27, in <module>\n",
      "\u001b[1;31m\n",
      "\u001b[1;31m    from _sqlite3 import *\n",
      "\u001b[1;31mImportError: dlopen(/Users/bhanujggandhi/devtools/miniconda3/envs/nlp_learn/lib/python3.8/lib-dynload/_sqlite3.cpython-38-darwin.so, 0x0002): Symbol not found: _sqlite3_enable_load_extension\n",
      "\u001b[1;31m  Referenced from: <DA13773A-938C-328A-AA62-7D38EC832535> /Users/bhanujggandhi/devtools/miniconda3/envs/nlp_learn/lib/python3.8/lib-dynload/_sqlite3.cpython-38-darwin.so\n",
      "\u001b[1;31m  Expected in:     <3870AC8E-1780-3CA6-A2A7-8B978A52921A> /usr/lib/libsqlite3.dylib\n",
      "\u001b[1;31m\n",
      "\u001b[1;31m\n",
      "\u001b[1;31mDuring handling of the above exception, another exception occurred:\n",
      "\u001b[1;31m\n",
      "\u001b[1;31mTraceback (most recent call last):\n",
      "\u001b[1;31m  File \"/Users/bhanujggandhi/devtools/miniconda3/envs/nlp_learn/bin/jupyter-notebook\", line 7, in <module>\n",
      "\u001b[1;31m    from notebook.notebookapp import main\n",
      "\u001b[1;31m  File \"/Users/bhanujggandhi/devtools/miniconda3/envs/nlp_learn/lib/python3.8/site-packages/notebook/notebookapp.py\", line 83, in <module>\n",
      "\u001b[1;31m\n",
      "\u001b[1;31m    from .services.sessions.sessionmanager import SessionManager\n",
      "\u001b[1;31m  File \"/Users/bhanujggandhi/devtools/miniconda3/envs/nlp_learn/lib/python3.8/site-packages/notebook/services/sessions/sessionmanager.py\", line 12, in <module>\n",
      "\u001b[1;31m\n",
      "\u001b[1;31m    from pysqlite2 import dbapi2 as sqlite3\n",
      "\u001b[1;31mModuleNotFoundError: No module named 'pysqlite2'. \n",
      "\u001b[1;31mView Jupyter <a href='command:jupyter.viewOutput'>log</a> for further details."
     ]
    }
   ],
   "source": [
    "import torch"
   ]
  },
  {
   "cell_type": "code",
   "execution_count": null,
   "metadata": {},
   "outputs": [],
   "source": []
  }
 ],
 "metadata": {
  "kernelspec": {
   "display_name": "torch",
   "language": "python",
   "name": "python3"
  },
  "language_info": {
   "name": "python",
   "version": "3.9.16"
  },
  "orig_nbformat": 4
 },
 "nbformat": 4,
 "nbformat_minor": 2
}
