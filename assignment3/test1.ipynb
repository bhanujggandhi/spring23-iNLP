{
 "cells": [
  {
   "cell_type": "code",
   "execution_count": 1,
   "metadata": {},
   "outputs": [],
   "source": [
    "text = '''Machine learning is the study of computer algorithms that \\\n",
    "improve automatically through experience. It is seen as a \\\n",
    "subset of artificial intelligence. Machine learning algorithms \\\n",
    "build a mathematical model based on sample data, known as \\\n",
    "training data, in order to make predictions or decisions without \\\n",
    "being explicitly programmed to do so. Machine learning algorithms \\\n",
    "are used in a wide variety of applications, such as email filtering \\\n",
    "and computer vision, where it is difficult or infeasible to develop \\\n",
    "conventional algorithms to perform the needed tasks.'''"
   ]
  },
  {
   "cell_type": "code",
   "execution_count": 2,
   "metadata": {},
   "outputs": [],
   "source": [
    "import re\n",
    "\n",
    "def tokenize(text):\n",
    "    pattern = re.compile(r'[A-Za-z]+[\\w^\\']*|[\\w^\\']*[A-Za-z]+[\\w^\\']*')\n",
    "    return pattern.findall(text.lower())"
   ]
  },
  {
   "cell_type": "code",
   "execution_count": 3,
   "metadata": {},
   "outputs": [
    {
     "data": {
      "text/plain": [
       "['machine',\n",
       " 'learning',\n",
       " 'is',\n",
       " 'the',\n",
       " 'study',\n",
       " 'of',\n",
       " 'computer',\n",
       " 'algorithms',\n",
       " 'that',\n",
       " 'improve',\n",
       " 'automatically',\n",
       " 'through',\n",
       " 'experience',\n",
       " 'it',\n",
       " 'is',\n",
       " 'seen',\n",
       " 'as',\n",
       " 'a',\n",
       " 'subset',\n",
       " 'of',\n",
       " 'artificial',\n",
       " 'intelligence',\n",
       " 'machine',\n",
       " 'learning',\n",
       " 'algorithms',\n",
       " 'build',\n",
       " 'a',\n",
       " 'mathematical',\n",
       " 'model',\n",
       " 'based',\n",
       " 'on',\n",
       " 'sample',\n",
       " 'data',\n",
       " 'known',\n",
       " 'as',\n",
       " 'training',\n",
       " 'data',\n",
       " 'in',\n",
       " 'order',\n",
       " 'to',\n",
       " 'make',\n",
       " 'predictions',\n",
       " 'or',\n",
       " 'decisions',\n",
       " 'without',\n",
       " 'being',\n",
       " 'explicitly',\n",
       " 'programmed',\n",
       " 'to',\n",
       " 'do',\n",
       " 'so',\n",
       " 'machine',\n",
       " 'learning',\n",
       " 'algorithms',\n",
       " 'are',\n",
       " 'used',\n",
       " 'in',\n",
       " 'a',\n",
       " 'wide',\n",
       " 'variety',\n",
       " 'of',\n",
       " 'applications',\n",
       " 'such',\n",
       " 'as',\n",
       " 'email',\n",
       " 'filtering',\n",
       " 'and',\n",
       " 'computer',\n",
       " 'vision',\n",
       " 'where',\n",
       " 'it',\n",
       " 'is',\n",
       " 'difficult',\n",
       " 'or',\n",
       " 'infeasible',\n",
       " 'to',\n",
       " 'develop',\n",
       " 'conventional',\n",
       " 'algorithms',\n",
       " 'to',\n",
       " 'perform',\n",
       " 'the',\n",
       " 'needed',\n",
       " 'tasks']"
      ]
     },
     "execution_count": 3,
     "metadata": {},
     "output_type": "execute_result"
    }
   ],
   "source": [
    "tokens = tokenize(text)\n",
    "tokens"
   ]
  },
  {
   "cell_type": "code",
   "execution_count": 4,
   "metadata": {},
   "outputs": [],
   "source": [
    "def mapping(tokens):\n",
    "    word_to_id = {}\n",
    "    id_to_word = {}\n",
    "    \n",
    "    for i, token in enumerate(set(tokens)):\n",
    "        word_to_id[token] = i\n",
    "        id_to_word[i] = token\n",
    "    \n",
    "    return word_to_id, id_to_word"
   ]
  },
  {
   "cell_type": "code",
   "execution_count": 5,
   "metadata": {},
   "outputs": [
    {
     "data": {
      "text/plain": [
       "{'seen': 0,\n",
       " 'known': 1,\n",
       " 'machine': 2,\n",
       " 'a': 3,\n",
       " 'predictions': 4,\n",
       " 'the': 5,\n",
       " 'to': 6,\n",
       " 'it': 7,\n",
       " 'such': 8,\n",
       " 'algorithms': 9,\n",
       " 'sample': 10,\n",
       " 'being': 11,\n",
       " 'vision': 12,\n",
       " 'improve': 13,\n",
       " 'wide': 14,\n",
       " 'difficult': 15,\n",
       " 'infeasible': 16,\n",
       " 'make': 17,\n",
       " 'experience': 18,\n",
       " 'computer': 19,\n",
       " 'decisions': 20,\n",
       " 'explicitly': 21,\n",
       " 'perform': 22,\n",
       " 'training': 23,\n",
       " 'build': 24,\n",
       " 'in': 25,\n",
       " 'needed': 26,\n",
       " 'through': 27,\n",
       " 'mathematical': 28,\n",
       " 'are': 29,\n",
       " 'conventional': 30,\n",
       " 'subset': 31,\n",
       " 'variety': 32,\n",
       " 'tasks': 33,\n",
       " 'artificial': 34,\n",
       " 'applications': 35,\n",
       " 'as': 36,\n",
       " 'learning': 37,\n",
       " 'or': 38,\n",
       " 'where': 39,\n",
       " 'that': 40,\n",
       " 'model': 41,\n",
       " 'used': 42,\n",
       " 'so': 43,\n",
       " 'without': 44,\n",
       " 'data': 45,\n",
       " 'intelligence': 46,\n",
       " 'develop': 47,\n",
       " 'of': 48,\n",
       " 'programmed': 49,\n",
       " 'based': 50,\n",
       " 'automatically': 51,\n",
       " 'do': 52,\n",
       " 'email': 53,\n",
       " 'study': 54,\n",
       " 'order': 55,\n",
       " 'is': 56,\n",
       " 'filtering': 57,\n",
       " 'on': 58,\n",
       " 'and': 59}"
      ]
     },
     "execution_count": 5,
     "metadata": {},
     "output_type": "execute_result"
    }
   ],
   "source": [
    "word_to_id, id_to_word = mapping(tokens)\n",
    "word_to_id"
   ]
  },
  {
   "cell_type": "code",
   "execution_count": 6,
   "metadata": {},
   "outputs": [],
   "source": [
    "import numpy as np\n",
    "\n",
    "np.random.seed(42)\n",
    "\n",
    "\n",
    "def generate_training_data(tokens, word_to_id, window):\n",
    "    X = []\n",
    "    y = []\n",
    "    n_tokens = len(tokens)\n",
    "    \n",
    "    for i in range(n_tokens):\n",
    "        idx = concat(\n",
    "            range(max(0, i - window), i), \n",
    "            range(i, min(n_tokens, i + window + 1))\n",
    "        )\n",
    "        for j in idx:\n",
    "            if i == j:\n",
    "                continue\n",
    "            X.append(one_hot_encode(word_to_id[tokens[i]], len(word_to_id)))\n",
    "            y.append(one_hot_encode(word_to_id[tokens[j]], len(word_to_id)))\n",
    "    \n",
    "    return np.asarray(X), np.asarray(y)"
   ]
  },
  {
   "cell_type": "code",
   "execution_count": 7,
   "metadata": {},
   "outputs": [],
   "source": [
    "def concat(*iterables):\n",
    "    for iterable in iterables:\n",
    "        yield from iterable"
   ]
  },
  {
   "cell_type": "code",
   "execution_count": 8,
   "metadata": {},
   "outputs": [],
   "source": [
    "def one_hot_encode(id, vocab_size):\n",
    "    res = [0] * vocab_size\n",
    "    res[id] = 1\n",
    "    return res"
   ]
  },
  {
   "cell_type": "code",
   "execution_count": 9,
   "metadata": {},
   "outputs": [],
   "source": [
    "X, y = generate_training_data(tokens, word_to_id, 2)"
   ]
  },
  {
   "cell_type": "code",
   "execution_count": 10,
   "metadata": {},
   "outputs": [
    {
     "data": {
      "text/plain": [
       "array([[0, 0, 1, ..., 0, 0, 0],\n",
       "       [0, 0, 1, ..., 0, 0, 0],\n",
       "       [0, 0, 0, ..., 0, 0, 0],\n",
       "       ...,\n",
       "       [0, 0, 0, ..., 0, 0, 0],\n",
       "       [0, 0, 0, ..., 0, 0, 0],\n",
       "       [0, 0, 0, ..., 0, 0, 0]])"
      ]
     },
     "execution_count": 10,
     "metadata": {},
     "output_type": "execute_result"
    }
   ],
   "source": [
    "X"
   ]
  },
  {
   "cell_type": "code",
   "execution_count": 11,
   "metadata": {},
   "outputs": [
    {
     "data": {
      "text/plain": [
       "(330, 60)"
      ]
     },
     "execution_count": 11,
     "metadata": {},
     "output_type": "execute_result"
    }
   ],
   "source": [
    "X.shape"
   ]
  },
  {
   "cell_type": "code",
   "execution_count": 12,
   "metadata": {},
   "outputs": [
    {
     "data": {
      "text/plain": [
       "(330, 60)"
      ]
     },
     "execution_count": 12,
     "metadata": {},
     "output_type": "execute_result"
    }
   ],
   "source": [
    "y.shape"
   ]
  },
  {
   "cell_type": "code",
   "execution_count": 13,
   "metadata": {},
   "outputs": [],
   "source": [
    "def init_network(vocab_size, n_embedding):\n",
    "    model = {\n",
    "        \"w1\": np.random.randn(vocab_size, n_embedding),\n",
    "        \"w2\": np.random.randn(n_embedding, vocab_size)\n",
    "    }\n",
    "    return model"
   ]
  },
  {
   "cell_type": "code",
   "execution_count": 14,
   "metadata": {},
   "outputs": [],
   "source": [
    "model = init_network(len(word_to_id), 10)\n"
   ]
  },
  {
   "cell_type": "code",
   "execution_count": 15,
   "metadata": {},
   "outputs": [],
   "source": [
    "def forward(model, X, return_cache=True):\n",
    "    cache = {}\n",
    "    \n",
    "    cache[\"a1\"] = X @ model[\"w1\"]\n",
    "    cache[\"a2\"] = cache[\"a1\"] @ model[\"w2\"]\n",
    "    cache[\"z\"] = softmax(cache[\"a2\"])\n",
    "    \n",
    "    if not return_cache:\n",
    "        return cache[\"z\"]\n",
    "    return cache"
   ]
  },
  {
   "cell_type": "code",
   "execution_count": 16,
   "metadata": {},
   "outputs": [],
   "source": [
    "def softmax(X):\n",
    "    res = []\n",
    "    for x in X:\n",
    "        exp = np.exp(x)\n",
    "        res.append(exp / exp.sum())\n",
    "    return res"
   ]
  },
  {
   "cell_type": "code",
   "execution_count": 17,
   "metadata": {},
   "outputs": [
    {
     "data": {
      "text/plain": [
       "(330, 10)"
      ]
     },
     "execution_count": 17,
     "metadata": {},
     "output_type": "execute_result"
    }
   ],
   "source": [
    "(X @ model[\"w1\"]).shape\n"
   ]
  },
  {
   "cell_type": "code",
   "execution_count": 18,
   "metadata": {},
   "outputs": [
    {
     "data": {
      "text/plain": [
       "(330, 60)"
      ]
     },
     "execution_count": 18,
     "metadata": {},
     "output_type": "execute_result"
    }
   ],
   "source": [
    "(X @ model[\"w1\"] @ model[\"w2\"]).shape\n"
   ]
  },
  {
   "cell_type": "code",
   "execution_count": 19,
   "metadata": {},
   "outputs": [],
   "source": [
    "def backward(model, X, y, alpha):\n",
    "    cache  = forward(model, X)\n",
    "    da2 = cache[\"z\"] - y\n",
    "    dw2 = cache[\"a1\"].T @ da2\n",
    "    da1 = da2 @ model[\"w2\"].T\n",
    "    dw1 = X.T @ da1\n",
    "    assert(dw2.shape == model[\"w2\"].shape)\n",
    "    assert(dw1.shape == model[\"w1\"].shape)\n",
    "    model[\"w1\"] -= alpha * dw1\n",
    "    model[\"w2\"] -= alpha * dw2\n",
    "    return cross_entropy(cache[\"z\"], y)"
   ]
  },
  {
   "cell_type": "code",
   "execution_count": 20,
   "metadata": {},
   "outputs": [],
   "source": [
    "def cross_entropy(z, y):\n",
    "    return - np.sum(np.log(z) * y)"
   ]
  },
  {
   "cell_type": "code",
   "execution_count": 21,
   "metadata": {},
   "outputs": [
    {
     "name": "stderr",
     "output_type": "stream",
     "text": [
      "<ipython-input-21-f4f09dca4e00>:4: MatplotlibDeprecationWarning: The seaborn styles shipped by Matplotlib are deprecated since 3.6, as they no longer correspond to the styles shipped by seaborn. However, they will remain available as 'seaborn-v0_8-<style>'. Alternatively, directly use the seaborn API instead.\n",
      "  plt.style.use(\"seaborn\")\n"
     ]
    },
    {
     "data": {
      "image/svg+xml": "<?xml version=\"1.0\" encoding=\"utf-8\" standalone=\"no\"?>\n<!DOCTYPE svg PUBLIC \"-//W3C//DTD SVG 1.1//EN\"\n  \"http://www.w3.org/Graphics/SVG/1.1/DTD/svg11.dtd\">\n<svg xmlns:xlink=\"http://www.w3.org/1999/xlink\" width=\"490.04375pt\" height=\"336.502762pt\" viewBox=\"0 0 490.04375 336.502762\" xmlns=\"http://www.w3.org/2000/svg\" version=\"1.1\">\n <metadata>\n  <rdf:RDF xmlns:dc=\"http://purl.org/dc/elements/1.1/\" xmlns:cc=\"http://creativecommons.org/ns#\" xmlns:rdf=\"http://www.w3.org/1999/02/22-rdf-syntax-ns#\">\n   <cc:Work>\n    <dc:type rdf:resource=\"http://purl.org/dc/dcmitype/StillImage\"/>\n    <dc:date>2023-03-15T22:59:56.674605</dc:date>\n    <dc:format>image/svg+xml</dc:format>\n    <dc:creator>\n     <cc:Agent>\n      <dc:title>Matplotlib v3.7.0, https://matplotlib.org/</dc:title>\n     </cc:Agent>\n    </dc:creator>\n   </cc:Work>\n  </rdf:RDF>\n </metadata>\n <defs>\n  <style type=\"text/css\">*{stroke-linejoin: round; stroke-linecap: butt}</style>\n </defs>\n <g id=\"figure_1\">\n  <g id=\"patch_1\">\n   <path d=\"M 0 336.502762 \nL 490.04375 336.502762 \nL 490.04375 0 \nL 0 0 \nz\n\" style=\"fill: #ffffff\"/>\n  </g>\n  <g id=\"axes_1\">\n   <g id=\"patch_2\">\n    <path d=\"M 36.44375 313.15745 \nL 482.84375 313.15745 \nL 482.84375 8.23745 \nL 36.44375 8.23745 \nz\n\" style=\"fill: #eaeaf2\"/>\n   </g>\n   <g id=\"matplotlib.axis_1\">\n    <g id=\"xtick_1\">\n     <g id=\"line2d_1\">\n      <path d=\"M 56.734659 313.15745 \nL 56.734659 8.23745 \n\" clip-path=\"url(#p9b25ab660b)\" style=\"fill: none; stroke: #ffffff; stroke-linecap: round\"/>\n     </g>\n     <g id=\"line2d_2\"/>\n     <g id=\"text_1\">\n      <!-- 0 -->\n      <g style=\"fill: #262626\" transform=\"translate(53.95419 327.315262) scale(0.1 -0.1)\">\n       <defs>\n        <path id=\"ArialMT-30\" d=\"M 266 2259 \nQ 266 3072 433 3567 \nQ 600 4063 929 4331 \nQ 1259 4600 1759 4600 \nQ 2128 4600 2406 4451 \nQ 2684 4303 2865 4023 \nQ 3047 3744 3150 3342 \nQ 3253 2941 3253 2259 \nQ 3253 1453 3087 958 \nQ 2922 463 2592 192 \nQ 2263 -78 1759 -78 \nQ 1097 -78 719 397 \nQ 266 969 266 2259 \nz\nM 844 2259 \nQ 844 1131 1108 757 \nQ 1372 384 1759 384 \nQ 2147 384 2411 759 \nQ 2675 1134 2675 2259 \nQ 2675 3391 2411 3762 \nQ 2147 4134 1753 4134 \nQ 1366 4134 1134 3806 \nQ 844 3388 844 2259 \nz\n\" transform=\"scale(0.015625)\"/>\n       </defs>\n       <use xlink:href=\"#ArialMT-30\"/>\n      </g>\n     </g>\n    </g>\n    <g id=\"xtick_2\">\n     <g id=\"line2d_3\">\n      <path d=\"M 139.554696 313.15745 \nL 139.554696 8.23745 \n\" clip-path=\"url(#p9b25ab660b)\" style=\"fill: none; stroke: #ffffff; stroke-linecap: round\"/>\n     </g>\n     <g id=\"line2d_4\"/>\n     <g id=\"text_2\">\n      <!-- 10 -->\n      <g style=\"fill: #262626\" transform=\"translate(133.993759 327.315262) scale(0.1 -0.1)\">\n       <defs>\n        <path id=\"ArialMT-31\" d=\"M 2384 0 \nL 1822 0 \nL 1822 3584 \nQ 1619 3391 1289 3197 \nQ 959 3003 697 2906 \nL 697 3450 \nQ 1169 3672 1522 3987 \nQ 1875 4303 2022 4600 \nL 2384 4600 \nL 2384 0 \nz\n\" transform=\"scale(0.015625)\"/>\n       </defs>\n       <use xlink:href=\"#ArialMT-31\"/>\n       <use xlink:href=\"#ArialMT-30\" x=\"55.615234\"/>\n      </g>\n     </g>\n    </g>\n    <g id=\"xtick_3\">\n     <g id=\"line2d_5\">\n      <path d=\"M 222.374733 313.15745 \nL 222.374733 8.23745 \n\" clip-path=\"url(#p9b25ab660b)\" style=\"fill: none; stroke: #ffffff; stroke-linecap: round\"/>\n     </g>\n     <g id=\"line2d_6\"/>\n     <g id=\"text_3\">\n      <!-- 20 -->\n      <g style=\"fill: #262626\" transform=\"translate(216.813796 327.315262) scale(0.1 -0.1)\">\n       <defs>\n        <path id=\"ArialMT-32\" d=\"M 3222 541 \nL 3222 0 \nL 194 0 \nQ 188 203 259 391 \nQ 375 700 629 1000 \nQ 884 1300 1366 1694 \nQ 2113 2306 2375 2664 \nQ 2638 3022 2638 3341 \nQ 2638 3675 2398 3904 \nQ 2159 4134 1775 4134 \nQ 1369 4134 1125 3890 \nQ 881 3647 878 3216 \nL 300 3275 \nQ 359 3922 746 4261 \nQ 1134 4600 1788 4600 \nQ 2447 4600 2831 4234 \nQ 3216 3869 3216 3328 \nQ 3216 3053 3103 2787 \nQ 2991 2522 2730 2228 \nQ 2469 1934 1863 1422 \nQ 1356 997 1212 845 \nQ 1069 694 975 541 \nL 3222 541 \nz\n\" transform=\"scale(0.015625)\"/>\n       </defs>\n       <use xlink:href=\"#ArialMT-32\"/>\n       <use xlink:href=\"#ArialMT-30\" x=\"55.615234\"/>\n      </g>\n     </g>\n    </g>\n    <g id=\"xtick_4\">\n     <g id=\"line2d_7\">\n      <path d=\"M 305.19477 313.15745 \nL 305.19477 8.23745 \n\" clip-path=\"url(#p9b25ab660b)\" style=\"fill: none; stroke: #ffffff; stroke-linecap: round\"/>\n     </g>\n     <g id=\"line2d_8\"/>\n     <g id=\"text_4\">\n      <!-- 30 -->\n      <g style=\"fill: #262626\" transform=\"translate(299.633833 327.315262) scale(0.1 -0.1)\">\n       <defs>\n        <path id=\"ArialMT-33\" d=\"M 269 1209 \nL 831 1284 \nQ 928 806 1161 595 \nQ 1394 384 1728 384 \nQ 2125 384 2398 659 \nQ 2672 934 2672 1341 \nQ 2672 1728 2419 1979 \nQ 2166 2231 1775 2231 \nQ 1616 2231 1378 2169 \nL 1441 2663 \nQ 1497 2656 1531 2656 \nQ 1891 2656 2178 2843 \nQ 2466 3031 2466 3422 \nQ 2466 3731 2256 3934 \nQ 2047 4138 1716 4138 \nQ 1388 4138 1169 3931 \nQ 950 3725 888 3313 \nL 325 3413 \nQ 428 3978 793 4289 \nQ 1159 4600 1703 4600 \nQ 2078 4600 2393 4439 \nQ 2709 4278 2876 4000 \nQ 3044 3722 3044 3409 \nQ 3044 3113 2884 2869 \nQ 2725 2625 2413 2481 \nQ 2819 2388 3044 2092 \nQ 3269 1797 3269 1353 \nQ 3269 753 2831 336 \nQ 2394 -81 1725 -81 \nQ 1122 -81 723 278 \nQ 325 638 269 1209 \nz\n\" transform=\"scale(0.015625)\"/>\n       </defs>\n       <use xlink:href=\"#ArialMT-33\"/>\n       <use xlink:href=\"#ArialMT-30\" x=\"55.615234\"/>\n      </g>\n     </g>\n    </g>\n    <g id=\"xtick_5\">\n     <g id=\"line2d_9\">\n      <path d=\"M 388.014808 313.15745 \nL 388.014808 8.23745 \n\" clip-path=\"url(#p9b25ab660b)\" style=\"fill: none; stroke: #ffffff; stroke-linecap: round\"/>\n     </g>\n     <g id=\"line2d_10\"/>\n     <g id=\"text_5\">\n      <!-- 40 -->\n      <g style=\"fill: #262626\" transform=\"translate(382.45387 327.315262) scale(0.1 -0.1)\">\n       <defs>\n        <path id=\"ArialMT-34\" d=\"M 2069 0 \nL 2069 1097 \nL 81 1097 \nL 81 1613 \nL 2172 4581 \nL 2631 4581 \nL 2631 1613 \nL 3250 1613 \nL 3250 1097 \nL 2631 1097 \nL 2631 0 \nL 2069 0 \nz\nM 2069 1613 \nL 2069 3678 \nL 634 1613 \nL 2069 1613 \nz\n\" transform=\"scale(0.015625)\"/>\n       </defs>\n       <use xlink:href=\"#ArialMT-34\"/>\n       <use xlink:href=\"#ArialMT-30\" x=\"55.615234\"/>\n      </g>\n     </g>\n    </g>\n    <g id=\"xtick_6\">\n     <g id=\"line2d_11\">\n      <path d=\"M 470.834845 313.15745 \nL 470.834845 8.23745 \n\" clip-path=\"url(#p9b25ab660b)\" style=\"fill: none; stroke: #ffffff; stroke-linecap: round\"/>\n     </g>\n     <g id=\"line2d_12\"/>\n     <g id=\"text_6\">\n      <!-- 50 -->\n      <g style=\"fill: #262626\" transform=\"translate(465.273907 327.315262) scale(0.1 -0.1)\">\n       <defs>\n        <path id=\"ArialMT-35\" d=\"M 266 1200 \nL 856 1250 \nQ 922 819 1161 601 \nQ 1400 384 1738 384 \nQ 2144 384 2425 690 \nQ 2706 997 2706 1503 \nQ 2706 1984 2436 2262 \nQ 2166 2541 1728 2541 \nQ 1456 2541 1237 2417 \nQ 1019 2294 894 2097 \nL 366 2166 \nL 809 4519 \nL 3088 4519 \nL 3088 3981 \nL 1259 3981 \nL 1013 2750 \nQ 1425 3038 1878 3038 \nQ 2478 3038 2890 2622 \nQ 3303 2206 3303 1553 \nQ 3303 931 2941 478 \nQ 2500 -78 1738 -78 \nQ 1113 -78 717 272 \nQ 322 622 266 1200 \nz\n\" transform=\"scale(0.015625)\"/>\n       </defs>\n       <use xlink:href=\"#ArialMT-35\"/>\n       <use xlink:href=\"#ArialMT-30\" x=\"55.615234\"/>\n      </g>\n     </g>\n    </g>\n   </g>\n   <g id=\"matplotlib.axis_2\">\n    <g id=\"ytick_1\">\n     <g id=\"line2d_13\">\n      <path d=\"M 36.44375 286.466479 \nL 482.84375 286.466479 \n\" clip-path=\"url(#p9b25ab660b)\" style=\"fill: none; stroke: #ffffff; stroke-linecap: round\"/>\n     </g>\n     <g id=\"line2d_14\"/>\n     <g id=\"text_7\">\n      <!-- 750 -->\n      <g style=\"fill: #262626\" transform=\"translate(12.760938 290.045385) scale(0.1 -0.1)\">\n       <defs>\n        <path id=\"ArialMT-37\" d=\"M 303 3981 \nL 303 4522 \nL 3269 4522 \nL 3269 4084 \nQ 2831 3619 2401 2847 \nQ 1972 2075 1738 1259 \nQ 1569 684 1522 0 \nL 944 0 \nQ 953 541 1156 1306 \nQ 1359 2072 1739 2783 \nQ 2119 3494 2547 3981 \nL 303 3981 \nz\n\" transform=\"scale(0.015625)\"/>\n       </defs>\n       <use xlink:href=\"#ArialMT-37\"/>\n       <use xlink:href=\"#ArialMT-35\" x=\"55.615234\"/>\n       <use xlink:href=\"#ArialMT-30\" x=\"111.230469\"/>\n      </g>\n     </g>\n    </g>\n    <g id=\"ytick_2\">\n     <g id=\"line2d_15\">\n      <path d=\"M 36.44375 252.005532 \nL 482.84375 252.005532 \n\" clip-path=\"url(#p9b25ab660b)\" style=\"fill: none; stroke: #ffffff; stroke-linecap: round\"/>\n     </g>\n     <g id=\"line2d_16\"/>\n     <g id=\"text_8\">\n      <!-- 1000 -->\n      <g style=\"fill: #262626\" transform=\"translate(7.2 255.584438) scale(0.1 -0.1)\">\n       <use xlink:href=\"#ArialMT-31\"/>\n       <use xlink:href=\"#ArialMT-30\" x=\"55.615234\"/>\n       <use xlink:href=\"#ArialMT-30\" x=\"111.230469\"/>\n       <use xlink:href=\"#ArialMT-30\" x=\"166.845703\"/>\n      </g>\n     </g>\n    </g>\n    <g id=\"ytick_3\">\n     <g id=\"line2d_17\">\n      <path d=\"M 36.44375 217.544585 \nL 482.84375 217.544585 \n\" clip-path=\"url(#p9b25ab660b)\" style=\"fill: none; stroke: #ffffff; stroke-linecap: round\"/>\n     </g>\n     <g id=\"line2d_18\"/>\n     <g id=\"text_9\">\n      <!-- 1250 -->\n      <g style=\"fill: #262626\" transform=\"translate(7.2 221.123492) scale(0.1 -0.1)\">\n       <use xlink:href=\"#ArialMT-31\"/>\n       <use xlink:href=\"#ArialMT-32\" x=\"55.615234\"/>\n       <use xlink:href=\"#ArialMT-35\" x=\"111.230469\"/>\n       <use xlink:href=\"#ArialMT-30\" x=\"166.845703\"/>\n      </g>\n     </g>\n    </g>\n    <g id=\"ytick_4\">\n     <g id=\"line2d_19\">\n      <path d=\"M 36.44375 183.083639 \nL 482.84375 183.083639 \n\" clip-path=\"url(#p9b25ab660b)\" style=\"fill: none; stroke: #ffffff; stroke-linecap: round\"/>\n     </g>\n     <g id=\"line2d_20\"/>\n     <g id=\"text_10\">\n      <!-- 1500 -->\n      <g style=\"fill: #262626\" transform=\"translate(7.2 186.662545) scale(0.1 -0.1)\">\n       <use xlink:href=\"#ArialMT-31\"/>\n       <use xlink:href=\"#ArialMT-35\" x=\"55.615234\"/>\n       <use xlink:href=\"#ArialMT-30\" x=\"111.230469\"/>\n       <use xlink:href=\"#ArialMT-30\" x=\"166.845703\"/>\n      </g>\n     </g>\n    </g>\n    <g id=\"ytick_5\">\n     <g id=\"line2d_21\">\n      <path d=\"M 36.44375 148.622692 \nL 482.84375 148.622692 \n\" clip-path=\"url(#p9b25ab660b)\" style=\"fill: none; stroke: #ffffff; stroke-linecap: round\"/>\n     </g>\n     <g id=\"line2d_22\"/>\n     <g id=\"text_11\">\n      <!-- 1750 -->\n      <g style=\"fill: #262626\" transform=\"translate(7.2 152.201599) scale(0.1 -0.1)\">\n       <use xlink:href=\"#ArialMT-31\"/>\n       <use xlink:href=\"#ArialMT-37\" x=\"55.615234\"/>\n       <use xlink:href=\"#ArialMT-35\" x=\"111.230469\"/>\n       <use xlink:href=\"#ArialMT-30\" x=\"166.845703\"/>\n      </g>\n     </g>\n    </g>\n    <g id=\"ytick_6\">\n     <g id=\"line2d_23\">\n      <path d=\"M 36.44375 114.161746 \nL 482.84375 114.161746 \n\" clip-path=\"url(#p9b25ab660b)\" style=\"fill: none; stroke: #ffffff; stroke-linecap: round\"/>\n     </g>\n     <g id=\"line2d_24\"/>\n     <g id=\"text_12\">\n      <!-- 2000 -->\n      <g style=\"fill: #262626\" transform=\"translate(7.2 117.740652) scale(0.1 -0.1)\">\n       <use xlink:href=\"#ArialMT-32\"/>\n       <use xlink:href=\"#ArialMT-30\" x=\"55.615234\"/>\n       <use xlink:href=\"#ArialMT-30\" x=\"111.230469\"/>\n       <use xlink:href=\"#ArialMT-30\" x=\"166.845703\"/>\n      </g>\n     </g>\n    </g>\n    <g id=\"ytick_7\">\n     <g id=\"line2d_25\">\n      <path d=\"M 36.44375 79.700799 \nL 482.84375 79.700799 \n\" clip-path=\"url(#p9b25ab660b)\" style=\"fill: none; stroke: #ffffff; stroke-linecap: round\"/>\n     </g>\n     <g id=\"line2d_26\"/>\n     <g id=\"text_13\">\n      <!-- 2250 -->\n      <g style=\"fill: #262626\" transform=\"translate(7.2 83.279706) scale(0.1 -0.1)\">\n       <use xlink:href=\"#ArialMT-32\"/>\n       <use xlink:href=\"#ArialMT-32\" x=\"55.615234\"/>\n       <use xlink:href=\"#ArialMT-35\" x=\"111.230469\"/>\n       <use xlink:href=\"#ArialMT-30\" x=\"166.845703\"/>\n      </g>\n     </g>\n    </g>\n    <g id=\"ytick_8\">\n     <g id=\"line2d_27\">\n      <path d=\"M 36.44375 45.239853 \nL 482.84375 45.239853 \n\" clip-path=\"url(#p9b25ab660b)\" style=\"fill: none; stroke: #ffffff; stroke-linecap: round\"/>\n     </g>\n     <g id=\"line2d_28\"/>\n     <g id=\"text_14\">\n      <!-- 2500 -->\n      <g style=\"fill: #262626\" transform=\"translate(7.2 48.818759) scale(0.1 -0.1)\">\n       <use xlink:href=\"#ArialMT-32\"/>\n       <use xlink:href=\"#ArialMT-35\" x=\"55.615234\"/>\n       <use xlink:href=\"#ArialMT-30\" x=\"111.230469\"/>\n       <use xlink:href=\"#ArialMT-30\" x=\"166.845703\"/>\n      </g>\n     </g>\n    </g>\n    <g id=\"ytick_9\">\n     <g id=\"line2d_29\">\n      <path d=\"M 36.44375 10.778906 \nL 482.84375 10.778906 \n\" clip-path=\"url(#p9b25ab660b)\" style=\"fill: none; stroke: #ffffff; stroke-linecap: round\"/>\n     </g>\n     <g id=\"line2d_30\"/>\n     <g id=\"text_15\">\n      <!-- 2750 -->\n      <g style=\"fill: #262626\" transform=\"translate(7.2 14.357812) scale(0.1 -0.1)\">\n       <use xlink:href=\"#ArialMT-32\"/>\n       <use xlink:href=\"#ArialMT-37\" x=\"55.615234\"/>\n       <use xlink:href=\"#ArialMT-35\" x=\"111.230469\"/>\n       <use xlink:href=\"#ArialMT-30\" x=\"166.845703\"/>\n      </g>\n     </g>\n    </g>\n   </g>\n   <g id=\"line2d_31\">\n    <path d=\"M 56.734659 22.09745 \nL 65.016663 154.949794 \nL 73.298667 198.169293 \nL 81.58067 218.065898 \nL 89.862674 230.723865 \nL 98.144678 240.062741 \nL 106.426681 247.516056 \nL 114.708685 253.71947 \nL 122.990689 259.017058 \nL 131.272692 263.632721 \nL 139.554696 267.712357 \nL 147.8367 271.344304 \nL 156.118704 274.594941 \nL 164.400707 277.517568 \nL 172.682711 280.147292 \nL 180.964715 282.509663 \nL 189.246718 284.631022 \nL 197.528722 286.537307 \nL 205.810726 288.248556 \nL 214.09273 289.768783 \nL 222.374733 291.042381 \nL 230.656737 291.650615 \nL 238.938741 291.42653 \nL 247.220744 288.845783 \nL 255.502748 292.544473 \nL 263.784752 294.761551 \nL 272.066756 294.216112 \nL 280.348759 295.986454 \nL 288.630763 294.925041 \nL 296.912767 295.609977 \nL 305.19477 293.577137 \nL 313.476774 294.207715 \nL 321.758778 295.658331 \nL 330.040782 295.290235 \nL 338.322785 292.400671 \nL 346.604789 291.418981 \nL 354.886793 295.429518 \nL 363.168796 297.98806 \nL 371.4508 298.513575 \nL 379.732804 297.970349 \nL 388.014808 296.677471 \nL 396.296811 298.663542 \nL 404.578815 296.975858 \nL 412.860819 293.205558 \nL 421.142822 296.67811 \nL 429.424826 298.706682 \nL 437.70683 297.935929 \nL 445.988833 299.29745 \nL 454.270837 297.896118 \nL 462.552841 297.634068 \n\" clip-path=\"url(#p9b25ab660b)\" style=\"fill: none; stroke: #87ceeb; stroke-width: 1.75; stroke-linecap: round\"/>\n   </g>\n   <g id=\"patch_3\">\n    <path d=\"M 36.44375 313.15745 \nL 36.44375 8.23745 \n\" style=\"fill: none\"/>\n   </g>\n   <g id=\"patch_4\">\n    <path d=\"M 482.84375 313.15745 \nL 482.84375 8.23745 \n\" style=\"fill: none\"/>\n   </g>\n   <g id=\"patch_5\">\n    <path d=\"M 36.44375 313.15745 \nL 482.84375 313.15745 \n\" style=\"fill: none\"/>\n   </g>\n   <g id=\"patch_6\">\n    <path d=\"M 36.44375 8.23745 \nL 482.84375 8.23745 \n\" style=\"fill: none\"/>\n   </g>\n  </g>\n </g>\n <defs>\n  <clipPath id=\"p9b25ab660b\">\n   <rect x=\"36.44375\" y=\"8.23745\" width=\"446.4\" height=\"304.92\"/>\n  </clipPath>\n </defs>\n</svg>\n",
      "text/plain": [
       "<Figure size 800x550 with 1 Axes>"
      ]
     },
     "metadata": {},
     "output_type": "display_data"
    }
   ],
   "source": [
    "import matplotlib.pyplot as plt\n",
    "%matplotlib inline\n",
    "%config InlineBackend.figure_format = 'svg'\n",
    "plt.style.use(\"seaborn\")\n",
    "\n",
    "n_iter = 50\n",
    "learning_rate = 0.05\n",
    "\n",
    "history = [backward(model, X, y, learning_rate) for _ in range(n_iter)]\n",
    "\n",
    "plt.plot(range(len(history)), history, color=\"skyblue\")\n",
    "plt.show()"
   ]
  },
  {
   "cell_type": "code",
   "execution_count": 22,
   "metadata": {},
   "outputs": [
    {
     "name": "stdout",
     "output_type": "stream",
     "text": [
      "machine\n",
      "so\n",
      "intelligence\n",
      "are\n",
      "is\n",
      "algorithms\n",
      "build\n",
      "the\n",
      "artificial\n",
      "a\n",
      "sample\n",
      "study\n",
      "learning\n",
      "tasks\n",
      "perform\n",
      "automatically\n",
      "subset\n",
      "in\n",
      "vision\n",
      "model\n",
      "do\n",
      "computer\n",
      "data\n",
      "it\n",
      "training\n",
      "on\n",
      "based\n",
      "that\n",
      "as\n",
      "programmed\n",
      "of\n",
      "variety\n",
      "conventional\n",
      "decisions\n",
      "improve\n",
      "mathematical\n",
      "where\n",
      "to\n",
      "known\n",
      "infeasible\n",
      "order\n",
      "seen\n",
      "wide\n",
      "applications\n",
      "through\n",
      "needed\n",
      "make\n",
      "used\n",
      "experience\n",
      "filtering\n",
      "such\n",
      "develop\n",
      "being\n",
      "without\n",
      "email\n",
      "difficult\n",
      "and\n",
      "or\n",
      "explicitly\n",
      "predictions\n"
     ]
    }
   ],
   "source": [
    "learning = one_hot_encode(word_to_id[\"learning\"], len(word_to_id))\n",
    "result = forward(model, [learning], return_cache=False)[0]\n",
    "\n",
    "for word in (id_to_word[id] for id in np.argsort(result)[::-1]):\n",
    "    print(word)"
   ]
  },
  {
   "cell_type": "code",
   "execution_count": 23,
   "metadata": {},
   "outputs": [
    {
     "data": {
      "text/plain": [
       "array([[ 1.31718938e-01,  1.09784550e+00,  6.77579437e-01,\n",
       "         1.81706922e+00, -2.51688510e-02, -6.00862109e-01,\n",
       "         2.26780824e+00,  3.33288685e-01,  9.99216249e-01,\n",
       "        -1.07621673e+00],\n",
       "       [ 2.32144490e-01,  1.41636139e+00,  8.87183167e-02,\n",
       "        -3.88895970e-01, -7.94290842e-02, -1.85306167e+00,\n",
       "        -2.22968072e-01, -8.80088230e-01, -1.80334725e+00,\n",
       "        -1.08499965e+00],\n",
       "       [ 1.32415587e-01, -1.85036909e+00, -7.09201953e-01,\n",
       "         5.25665001e-01, -6.81233327e-02,  6.70484289e-01,\n",
       "        -1.30426220e+00, -9.07679144e-01,  1.85671413e-02,\n",
       "        -1.02891368e+00],\n",
       "       [ 1.66933425e+00,  9.21932907e-01,  7.93419469e-02,\n",
       "        -5.08182038e-01, -2.07629217e+00, -5.38316650e-01,\n",
       "         1.44727431e-01, -1.52550503e-01,  9.01009198e-01,\n",
       "         9.64365845e-01],\n",
       "       [-1.30934268e+00, -6.07877239e-02, -1.13702434e+00,\n",
       "         9.29784773e-01, -1.79061751e+00, -5.03347162e-01,\n",
       "        -8.44704250e-01,  1.40841359e+00,  1.58201286e-01,\n",
       "        -1.36174509e+00],\n",
       "       [ 5.24945348e-01, -2.04350289e+00, -2.72815081e-01,\n",
       "         1.08779526e+00,  1.64615139e+00, -1.20028049e+00,\n",
       "         1.46196772e+00, -4.61013262e-02,  2.99188142e-01,\n",
       "         6.05512486e-02],\n",
       "       [-4.31479836e-01, -5.98083429e-01, -1.94371617e+00,\n",
       "        -1.08421101e+00, -7.61447589e-01, -1.82235484e-01,\n",
       "        -4.96187268e-01,  8.08955589e-01,  7.79810531e-01,\n",
       "        -2.98902606e-01],\n",
       "       [ 4.93526971e-01,  5.85105716e-01,  1.51214970e+00,\n",
       "         1.32379996e+00, -2.33086518e+00,  1.04673213e+00,\n",
       "        -1.10296225e-01, -8.84055044e-01, -7.32118822e-01,\n",
       "        -1.67479357e+00],\n",
       "       [-6.81153489e-01, -2.79251173e-02,  1.67105730e+00,\n",
       "        -5.23177910e-01, -6.11025806e-01, -9.97634945e-01,\n",
       "         1.96462695e+00, -1.38046071e+00,  2.31841331e-01,\n",
       "         5.33563933e-01],\n",
       "       [ 5.39977971e-01, -2.31695806e-01, -2.80837642e-01,\n",
       "        -7.41050227e-01,  5.89983781e-01, -8.66386309e-01,\n",
       "        -1.64698098e-02,  1.81945641e+00,  1.16102679e+00,\n",
       "        -5.28370237e-01],\n",
       "       [ 1.06509595e-01,  5.41651412e-01, -7.00336811e-01,\n",
       "         3.95581544e-01,  1.61632679e+00, -4.26059723e-01,\n",
       "         2.20165883e+00, -3.24120394e-01, -1.20504144e+00,\n",
       "         1.01303051e+00],\n",
       "       [-2.21498056e+00,  7.44092495e-01, -3.82467403e-01,\n",
       "         1.57639055e+00, -1.04810169e+00,  1.53339823e+00,\n",
       "        -9.01526991e-01, -5.47041700e-01, -1.96220583e-02,\n",
       "         1.19294767e+00],\n",
       "       [-1.99169793e-01,  1.37831241e-01,  2.61389363e+00,\n",
       "        -9.57734516e-01,  1.06007454e+00,  1.37333490e+00,\n",
       "         5.62962051e-01,  1.03617801e+00, -3.42047239e-01,\n",
       "        -1.11961933e+00],\n",
       "       [-5.06807047e-01,  1.60164433e-01, -1.12756009e+00,\n",
       "        -1.51308285e+00, -1.98678628e-01,  1.96489987e+00,\n",
       "         5.18883211e-01, -1.10698655e+00,  8.49973955e-01,\n",
       "        -9.59321227e-01],\n",
       "       [ 4.75508915e-01,  5.22269747e-01, -1.21699200e+00,\n",
       "         7.59812618e-01, -9.48546720e-01, -1.93581962e+00,\n",
       "        -3.02276366e-01, -2.76838127e-01,  1.97220818e+00,\n",
       "         1.02094844e+00],\n",
       "       [-6.62079715e-01, -3.86144571e-01, -1.19728375e+00,\n",
       "         1.71904591e+00, -2.48563277e-02,  7.02406598e-01,\n",
       "         1.98177309e+00,  6.26139051e-01, -4.50596896e-01,\n",
       "        -5.87780115e-01],\n",
       "       [-1.37149167e+00,  1.21356179e-01,  1.14801937e+00,\n",
       "        -4.92627638e-01, -4.63786219e-01, -1.42884551e-01,\n",
       "        -4.45494464e-01,  2.59812921e+00, -6.61398493e-01,\n",
       "        -7.46275649e-01],\n",
       "       [-2.05779793e+00,  2.45414170e-01, -4.05094862e-01,\n",
       "         7.82716291e-01,  7.33363808e-01,  3.54360744e-01,\n",
       "         4.79775878e-01,  1.99933118e+00,  6.22081915e-02,\n",
       "         1.31144204e+00],\n",
       "       [ 5.19720061e-01, -2.97725986e-01, -1.17000630e+00,\n",
       "         8.73051124e-01,  1.93194917e-02,  1.92715400e+00,\n",
       "         7.86993617e-01, -1.02905425e+00, -9.97008922e-01,\n",
       "        -1.59267085e+00],\n",
       "       [ 2.22535597e-01, -6.72725981e-01,  1.78319878e+00,\n",
       "        -1.24824018e+00, -5.60321612e-01,  2.02055703e-01,\n",
       "         1.81994432e-01, -9.37785708e-01,  9.74550421e-01,\n",
       "        -1.10803842e+00],\n",
       "       [-1.84502584e+00,  8.40404635e-02,  3.72199274e-01,\n",
       "         9.09407409e-01, -2.04071569e+00,  4.52173142e-01,\n",
       "         1.53787335e+00,  5.35439381e-01, -9.93013059e-02,\n",
       "         9.75121526e-01],\n",
       "       [-2.12426711e+00, -4.75329022e-01,  9.37923526e-01,\n",
       "         6.80301715e-01, -1.26545584e+00,  7.79957606e-01,\n",
       "        -7.18762364e-01, -1.06550294e+00,  4.37579120e-01,\n",
       "        -2.07137645e-01],\n",
       "       [ 4.22156364e-01, -2.78126963e+00,  9.63225717e-01,\n",
       "        -6.03502251e-01, -1.34251559e-01,  5.69648441e-01,\n",
       "         1.21067924e-01, -2.68765570e-01,  1.30938135e+00,\n",
       "        -6.10118443e-01],\n",
       "       [-3.47881462e-01,  1.37494288e+00, -2.25142775e-01,\n",
       "        -1.38397202e+00,  1.43726155e+00, -1.91640196e+00,\n",
       "        -5.99252488e-01,  3.31698207e-01, -5.19310266e-01,\n",
       "         3.49525380e-01],\n",
       "       [ 1.58653556e+00, -2.03603710e-01, -8.06395648e-01,\n",
       "         1.13125068e+00, -3.21833357e-01,  1.17601818e+00,\n",
       "         2.68322417e-01,  1.26180551e+00,  1.40350426e+00,\n",
       "         2.16665043e-01],\n",
       "       [-9.24082062e-01,  7.02177877e-01,  5.55975186e-02,\n",
       "         1.28158784e+00,  9.88518875e-01, -1.66411561e+00,\n",
       "         4.25434789e-01,  1.16428715e+00,  5.53744025e-01,\n",
       "         1.51387900e+00],\n",
       "       [ 1.20903030e+00, -3.33661716e-01, -3.30857773e+00,\n",
       "        -1.04041699e+00,  4.71543991e-01, -1.32727322e+00,\n",
       "         7.74146984e-01, -6.76081518e-01,  5.92447139e-01,\n",
       "        -5.42986209e-01],\n",
       "       [ 7.14684471e-01, -1.99041300e-02,  4.54797633e-01,\n",
       "        -8.14708327e-01,  1.57305186e-01,  2.25845142e+00,\n",
       "        -4.73272509e-01,  4.83513922e-01, -1.20033093e+00,\n",
       "        -1.62868771e+00],\n",
       "       [ 2.41387938e+00,  1.09588813e+00,  9.94764115e-01,\n",
       "        -3.46463166e-01,  1.24332843e+00, -2.45486332e-01,\n",
       "         3.60723983e-01, -6.40835492e-01,  9.36271009e-01,\n",
       "         6.47004241e-01],\n",
       "       [ 1.38373722e+00, -8.01059035e-01, -7.70139744e-01,\n",
       "         4.47069875e-01, -7.24097884e-02,  4.58536730e-01,\n",
       "        -1.53077401e+00,  9.82185615e-01,  9.40867388e-01,\n",
       "         1.21987894e+00],\n",
       "       [-6.52858578e-01, -6.41377935e-01,  3.88696656e-01,\n",
       "        -5.60545951e-01, -1.00086767e+00,  2.97844738e-01,\n",
       "        -1.49637813e-01,  8.66973698e-01,  1.88443146e+00,\n",
       "        -9.45636725e-01],\n",
       "       [ 2.37362345e-01,  6.42041974e-01,  6.99982242e-02,\n",
       "         1.03314390e+00, -7.20021482e-01, -9.95492667e-01,\n",
       "         5.61400853e-01, -4.33560518e-01,  1.68635950e+00,\n",
       "        -8.57952403e-01],\n",
       "       [-1.77321589e-01, -3.56737683e-01,  8.92255767e-01,\n",
       "         7.88260572e-01,  4.84920207e-02, -1.38565730e+00,\n",
       "         1.45122515e+00, -4.58009244e-01,  1.52985000e+00,\n",
       "         1.79195633e+00],\n",
       "       [ 1.45119709e+00, -2.17593552e+00, -1.07301172e-01,\n",
       "        -8.84207709e-01,  5.85295845e-01, -9.85963040e-04,\n",
       "         3.46007407e-01, -7.08649564e-01,  4.46477889e-01,\n",
       "         3.57141637e-01],\n",
       "       [ 4.32754511e-01, -2.18853469e-01, -8.20843540e-01,\n",
       "        -1.68948327e-01, -1.01077913e+00, -2.29880334e+00,\n",
       "        -1.01805157e+00, -1.62434971e+00, -2.19379853e-02,\n",
       "        -1.04835612e+00],\n",
       "       [-5.15534231e-01,  3.07330226e-01,  3.41694032e-01,\n",
       "        -1.00363603e+00, -1.69697445e+00, -1.83693406e+00,\n",
       "        -3.57450412e-01, -4.43842459e-01,  5.30412301e-01,\n",
       "         5.04271236e-01],\n",
       "       [ 3.52983645e-01,  2.48527261e-01,  1.00831101e+00,\n",
       "         1.07658896e+00,  2.96407178e-01, -3.89430796e-01,\n",
       "        -4.46024080e-01, -1.31039768e+00, -1.96751960e-01,\n",
       "         1.08635453e+00],\n",
       "       [ 8.85002582e-01,  2.75182621e-01, -9.21608955e-01,\n",
       "         6.86244838e-01,  1.30245947e+00, -6.30333961e-01,\n",
       "        -9.22389452e-01, -9.53799942e-01,  1.13359001e+00,\n",
       "        -1.56150423e+00],\n",
       "       [-7.43349004e-01, -1.01687800e+00, -3.59887966e-01,\n",
       "         2.09648656e+00, -1.85122573e+00,  1.06231621e+00,\n",
       "        -4.60646758e-01,  9.16864352e-01,  6.57897062e-01,\n",
       "         2.91031901e-01],\n",
       "       [-5.05493212e-01,  1.29074997e+00,  9.93355874e-01,\n",
       "         2.31235931e+00,  1.43587530e+00,  9.73370965e-01,\n",
       "        -9.26547797e-01,  4.42324456e-01, -1.15590156e-01,\n",
       "        -6.37019658e-01],\n",
       "       [ 4.20042795e-01,  4.25306292e-02,  5.30771685e-01,\n",
       "        -4.63841056e-01,  8.75359956e-01,  2.08706405e+00,\n",
       "        -1.28517101e+00,  8.57208399e-01,  9.43119839e-01,\n",
       "        -8.60421496e-01],\n",
       "       [ 1.39499197e+00,  2.69145201e-01, -1.17745275e+00,\n",
       "         1.27676717e+00,  7.85435451e-01,  3.63881036e-01,\n",
       "         2.36974488e+00,  7.08468760e-01,  7.59556454e-01,\n",
       "         9.56782051e-01],\n",
       "       [ 1.42618605e+00,  2.04254319e+00, -8.79450052e-01,\n",
       "         4.50168349e-01,  7.28893523e-01,  9.46163447e-01,\n",
       "        -1.64325297e+00,  7.99151475e-01,  1.87147502e+00,\n",
       "        -3.29904124e-01],\n",
       "       [-1.19102389e-01, -2.14455770e+00, -6.59710123e-01,\n",
       "         8.30218255e-01,  1.30674128e+00, -1.29528457e+00,\n",
       "         7.42821524e-01,  5.96976867e-01, -1.15731595e+00,\n",
       "        -1.63234725e+00],\n",
       "       [-1.51954896e+00,  1.78462939e-01, -2.10673781e+00,\n",
       "         4.52580228e-01, -1.87551471e+00,  1.15119603e-01,\n",
       "         1.73345989e-01, -1.37835129e-01, -1.07173233e+00,\n",
       "        -1.53078601e+00],\n",
       "       [-2.30771575e-01,  2.33020837e+00, -1.56666262e+00,\n",
       "        -5.08241929e-01,  2.62060227e-01, -1.00618715e+00,\n",
       "         5.83869865e-01, -4.73082540e-01, -3.68219811e-01,\n",
       "         7.96639592e-02],\n",
       "       [ 7.86866254e-01, -1.42716801e+00, -1.07073896e+00,\n",
       "         1.13846934e+00, -1.03337666e+00, -1.66450959e+00,\n",
       "         2.88402895e-02,  3.54710732e-01, -3.27035058e-01,\n",
       "        -8.33411256e-01],\n",
       "       [-1.12270902e+00, -2.02153819e+00, -1.94547443e+00,\n",
       "         6.13056847e-01,  5.17160592e-01,  3.22666778e-01,\n",
       "        -3.15890866e-02, -5.15642026e-01,  2.59786170e+00,\n",
       "         1.30731650e+00],\n",
       "       [ 1.27559552e+00, -1.03561748e+00,  1.15276261e+00,\n",
       "         4.19167874e-01,  3.26333691e-01, -9.96793892e-01,\n",
       "        -1.23511161e+00, -1.06843210e+00,  1.36170537e+00,\n",
       "         3.41063136e-01],\n",
       "       [-1.66346660e+00, -1.46449948e+00, -1.58614890e-01,\n",
       "        -2.46576902e-01, -9.69033738e-02, -4.13807255e-01,\n",
       "        -1.13854458e-01,  2.20595300e-02, -1.73966282e+00,\n",
       "        -7.40227843e-01],\n",
       "       [ 1.71252941e+00,  2.61923085e+00, -1.43948977e+00,\n",
       "         1.25247069e+00, -2.31598752e-01,  1.94730076e-01,\n",
       "         7.38691476e-01, -7.70927906e-01, -2.73361964e-01,\n",
       "        -3.80682710e-01],\n",
       "       [-3.82411751e-01,  2.28207359e-01, -7.18441730e-02,\n",
       "        -2.35579756e+00, -1.00557452e+00,  1.56033584e+00,\n",
       "         4.09293045e-02, -1.76242639e-01, -4.92664671e-01,\n",
       "        -1.19826282e+00],\n",
       "       [-1.38616643e+00,  7.22338234e-01, -1.71600610e-01,\n",
       "         5.19893004e-01,  1.01711832e-01, -1.39255014e+00,\n",
       "        -2.13008218e+00, -7.83487797e-02,  3.87294332e-01,\n",
       "        -1.91537368e+00],\n",
       "       [-8.51964506e-02, -2.97529439e-02,  1.39923560e+00,\n",
       "        -2.90329673e+00, -1.23093347e+00, -1.19736550e+00,\n",
       "        -2.75972679e-01, -4.33368620e-02, -4.64370103e-02,\n",
       "         6.87872073e-02],\n",
       "       [ 2.02255327e+00, -9.00581139e-01,  1.69862802e+00,\n",
       "         1.19218917e+00, -1.25830873e+00, -3.91899675e-01,\n",
       "         6.00747881e-01,  2.16532497e-02,  9.50805655e-01,\n",
       "        -1.15250148e+00],\n",
       "       [-8.20977139e-01, -2.89691770e-02,  1.45711228e-01,\n",
       "         1.55395216e+00,  7.29986075e-01, -1.58237432e+00,\n",
       "        -1.92023525e+00,  4.40378798e-01, -8.04098005e-01,\n",
       "         8.57130551e-01],\n",
       "       [ 1.75650334e+00,  9.43013184e-02,  4.29262041e-01,\n",
       "        -3.63857191e-01, -1.02237104e+00, -6.35452723e-01,\n",
       "         4.89484181e-01,  1.09322116e+00, -1.33883088e+00,\n",
       "        -1.93300969e+00],\n",
       "       [-2.94896022e-01,  1.79982016e+00,  2.47236759e+00,\n",
       "        -7.08074307e-01,  7.65767500e-01, -8.06340337e-01,\n",
       "         2.42484704e-01,  1.18070351e+00, -6.36832101e-02,\n",
       "         6.19706751e-01],\n",
       "       [ 1.74316398e+00,  1.14300489e+00,  8.22110391e-01,\n",
       "         9.91055780e-01,  1.52190007e+00, -5.70996629e-01,\n",
       "         7.96896437e-01, -1.92112699e+00, -7.90117588e-01,\n",
       "        -5.30548042e-02],\n",
       "       [-3.51547301e-01,  7.22480831e-01,  2.15473068e+00,\n",
       "         1.25034959e-01,  1.25421956e+00,  7.70229649e-01,\n",
       "        -1.20450366e+00, -4.07281371e-01, -3.75471245e-01,\n",
       "         2.94291569e-01]])"
      ]
     },
     "execution_count": 23,
     "metadata": {},
     "output_type": "execute_result"
    }
   ],
   "source": [
    "model[\"w1\"]\n"
   ]
  },
  {
   "cell_type": "code",
   "execution_count": 24,
   "metadata": {},
   "outputs": [],
   "source": [
    "def get_embedding(model, word):\n",
    "    try:\n",
    "        idx = word_to_id[word]\n",
    "    except KeyError:\n",
    "        print(\"`word` not in corpus\")\n",
    "    one_hot = one_hot_encode(idx, len(word_to_id))\n",
    "    return forward(model, one_hot)[\"a1\"]\n"
   ]
  },
  {
   "cell_type": "code",
   "execution_count": 25,
   "metadata": {},
   "outputs": [
    {
     "data": {
      "text/plain": [
       "array([ 0.13241559, -1.85036909, -0.70920195,  0.525665  , -0.06812333,\n",
       "        0.67048429, -1.3042622 , -0.90767914,  0.01856714, -1.02891368])"
      ]
     },
     "execution_count": 25,
     "metadata": {},
     "output_type": "execute_result"
    }
   ],
   "source": [
    "get_embedding(model, \"machine\")\n"
   ]
  },
  {
   "cell_type": "code",
   "execution_count": null,
   "metadata": {},
   "outputs": [],
   "source": []
  }
 ],
 "metadata": {
  "kernelspec": {
   "display_name": "nlp_learn",
   "language": "python",
   "name": "python3"
  },
  "language_info": {
   "codemirror_mode": {
    "name": "ipython",
    "version": 3
   },
   "file_extension": ".py",
   "mimetype": "text/x-python",
   "name": "python",
   "nbconvert_exporter": "python",
   "pygments_lexer": "ipython3",
   "version": "3.8.16"
  },
  "orig_nbformat": 4
 },
 "nbformat": 4,
 "nbformat_minor": 2
}
