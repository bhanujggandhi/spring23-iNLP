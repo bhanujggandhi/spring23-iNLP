{
 "cells": [
  {
   "cell_type": "code",
   "execution_count": 35,
   "metadata": {},
   "outputs": [],
   "source": [
    "import numpy as np\n",
    "from matplotlib import pyplot as plt\n",
    "\n",
    "from nltk.corpus import brown, treebank, conll2000\n",
    "\n",
    "import seaborn as sns\n",
    "\n",
    "from gensim.models import KeyedVectors\n",
    "\n",
    "from tensorflow.keras.preprocessing.sequence import pad_sequences\n",
    "from tensorflow.keras.utils import to_categorical\n",
    "from tensorflow.keras import Sequential, Input, Model\n",
    "from tensorflow.keras.layers import Embedding, Dense, TimeDistributed, LSTM, GRU, Bidirectional, SimpleRNN, RNN\n",
    "from tensorflow.keras.preprocessing.text import Tokenizer\n",
    "\n",
    "from sklearn.model_selection import train_test_split\n",
    "from sklearn.utils import shuffle\n",
    "from conllu import parse"
   ]
  },
  {
   "cell_type": "code",
   "execution_count": 2,
   "metadata": {},
   "outputs": [],
   "source": [
    "with open(\"./UD_English-Atis/en_atis-ud-train.conllu\") as f:\n",
    "    train_data = parse(f.read())\n",
    "with open(\"./UD_English-Atis/en_atis-ud-dev.conllu\") as f:\n",
    "    dev_data = parse(f.read())\n",
    "with open(\"./UD_English-Atis/en_atis-ud-test.conllu\") as f:\n",
    "    test_data = parse(f.read())"
   ]
  },
  {
   "cell_type": "code",
   "execution_count": 3,
   "metadata": {},
   "outputs": [
    {
     "name": "stdout",
     "output_type": "stream",
     "text": [
      "show VERB\n"
     ]
    }
   ],
   "source": [
    "print(train_data[11][0], train_data[11][0][\"upos\"])"
   ]
  },
  {
   "cell_type": "code",
   "execution_count": 4,
   "metadata": {},
   "outputs": [],
   "source": [
    "def prepare_sentences(data):\n",
    "    X = []\n",
    "    y = []\n",
    "\n",
    "    for sent in data:\n",
    "        X_sentence = []\n",
    "        y_sentence = []\n",
    "        for word in sent:\n",
    "            X_sentence.append(word[\"form\"])\n",
    "            y_sentence.append(word[\"upos\"])\n",
    "\n",
    "        X.append(X_sentence)\n",
    "        y.append(y_sentence)\n",
    "\n",
    "    return X, y"
   ]
  },
  {
   "cell_type": "code",
   "execution_count": 5,
   "metadata": {},
   "outputs": [
    {
     "name": "stdout",
     "output_type": "stream",
     "text": [
      "5432 5432\n"
     ]
    }
   ],
   "source": [
    "X_train, y_train = prepare_sentences(train_data)\n",
    "X_dev, y_dev = prepare_sentences(dev_data)\n",
    "X_test, y_test = prepare_sentences(test_data)\n",
    "\n",
    "X_train = X_train+X_dev+X_test\n",
    "y_train = y_train+y_dev+y_test\n",
    "\n",
    "print(len(X_train), len(y_train))"
   ]
  },
  {
   "cell_type": "code",
   "execution_count": 6,
   "metadata": {},
   "outputs": [],
   "source": [
    "num_words = len(set([word.lower() for sentence in X_train for word in sentence]))\n",
    "num_tags   = len(set([word.lower() for sentence in y_train for word in sentence]))"
   ]
  },
  {
   "cell_type": "code",
   "execution_count": 7,
   "metadata": {},
   "outputs": [
    {
     "name": "stdout",
     "output_type": "stream",
     "text": [
      "Total number of tagged sentences: 5432\n",
      "Vocabulary size: 932\n",
      "Total number of tags: 14\n"
     ]
    }
   ],
   "source": [
    "print(\"Total number of tagged sentences: {}\".format(len(X_train)))\n",
    "print(\"Vocabulary size: {}\".format(num_words))\n",
    "print(\"Total number of tags: {}\".format(num_tags))"
   ]
  },
  {
   "cell_type": "code",
   "execution_count": 8,
   "metadata": {},
   "outputs": [
    {
     "name": "stdout",
     "output_type": "stream",
     "text": [
      "sample X:  ['what', 'is', 'the', 'cost', 'of', 'a', 'round', 'trip', 'flight', 'from', 'pittsburgh', 'to', 'atlanta', 'beginning', 'on', 'april', 'twenty', 'fifth', 'and', 'returning', 'on', 'may', 'sixth'] \n",
      "\n",
      "sample Y:  ['PRON', 'AUX', 'DET', 'NOUN', 'ADP', 'DET', 'NOUN', 'NOUN', 'NOUN', 'ADP', 'PROPN', 'ADP', 'PROPN', 'VERB', 'ADP', 'NOUN', 'NUM', 'ADJ', 'CCONJ', 'VERB', 'ADP', 'NOUN', 'ADJ'] \n",
      "\n"
     ]
    }
   ],
   "source": [
    "print('sample X: ', X_train[0], '\\n')\n",
    "print('sample Y: ', y_train[0], '\\n')"
   ]
  },
  {
   "cell_type": "code",
   "execution_count": 9,
   "metadata": {},
   "outputs": [
    {
     "name": "stdout",
     "output_type": "stream",
     "text": [
      "Length of first input sequence  : 23\n",
      "Length of first output sequence : 23\n"
     ]
    }
   ],
   "source": [
    "print(\"Length of first input sequence  : {}\".format(len(X_train[0])))\n",
    "print(\"Length of first output sequence : {}\".format(len(y_train[0])))"
   ]
  },
  {
   "cell_type": "code",
   "execution_count": 10,
   "metadata": {},
   "outputs": [],
   "source": [
    "word_tokenizer = Tokenizer()                      # instantiate tokeniser\n",
    "word_tokenizer.fit_on_texts(X_train)                    # fit tokeniser on data\n",
    "X_encoded = word_tokenizer.texts_to_sequences(X_train)  # use the tokeniser to encode input sequence"
   ]
  },
  {
   "cell_type": "code",
   "execution_count": 11,
   "metadata": {},
   "outputs": [],
   "source": [
    "tag_tokenizer = Tokenizer()\n",
    "tag_tokenizer.fit_on_texts(y_train)\n",
    "Y_encoded = tag_tokenizer.texts_to_sequences(y_train)"
   ]
  },
  {
   "cell_type": "code",
   "execution_count": 12,
   "metadata": {},
   "outputs": [
    {
     "name": "stdout",
     "output_type": "stream",
     "text": [
      "** Raw data point ** \n",
      " ---------------------------------------------------------------------------------------------------- \n",
      "\n",
      "X:  ['what', 'is', 'the', 'cost', 'of', 'a', 'round', 'trip', 'flight', 'from', 'pittsburgh', 'to', 'atlanta', 'beginning', 'on', 'april', 'twenty', 'fifth', 'and', 'returning', 'on', 'may', 'sixth'] \n",
      "\n",
      "Y:  ['PRON', 'AUX', 'DET', 'NOUN', 'ADP', 'DET', 'NOUN', 'NOUN', 'NOUN', 'ADP', 'PROPN', 'ADP', 'PROPN', 'VERB', 'ADP', 'NOUN', 'NUM', 'ADJ', 'CCONJ', 'VERB', 'ADP', 'NOUN', 'ADJ'] \n",
      "\n",
      "\n",
      "** Encoded data point ** \n",
      " ---------------------------------------------------------------------------------------------------- \n",
      "\n",
      "X:  [6, 19, 4, 145, 29, 13, 52, 47, 7, 2, 20, 1, 18, 652, 5, 188, 99, 240, 16, 311, 5, 171, 243] \n",
      "\n",
      "Y:  [6, 7, 5, 3, 2, 5, 3, 3, 3, 2, 1, 2, 1, 4, 2, 3, 9, 8, 10, 4, 2, 3, 8] \n",
      "\n"
     ]
    }
   ],
   "source": [
    "print(\"** Raw data point **\", \"\\n\", \"-\"*100, \"\\n\")\n",
    "print('X: ', X_train[0], '\\n')\n",
    "print('Y: ', y_train[0], '\\n')\n",
    "print()\n",
    "print(\"** Encoded data point **\", \"\\n\", \"-\"*100, \"\\n\")\n",
    "print('X: ', X_encoded[0], '\\n')\n",
    "print('Y: ', Y_encoded[0], '\\n')"
   ]
  },
  {
   "cell_type": "code",
   "execution_count": 13,
   "metadata": {},
   "outputs": [
    {
     "name": "stdout",
     "output_type": "stream",
     "text": [
      "0 sentences have disparate input-output lengths.\n"
     ]
    }
   ],
   "source": [
    "different_length = [1 if len(input) != len(output) else 0 for input, output in zip(X_encoded, Y_encoded)]\n",
    "print(\"{} sentences have disparate input-output lengths.\".format(sum(different_length)))"
   ]
  },
  {
   "cell_type": "code",
   "execution_count": 14,
   "metadata": {},
   "outputs": [
    {
     "name": "stdout",
     "output_type": "stream",
     "text": [
      "Length of longest sentence: 46\n"
     ]
    }
   ],
   "source": [
    "lengths = [len(seq) for seq in X_encoded]\n",
    "print(\"Length of longest sentence: {}\".format(max(lengths)))"
   ]
  },
  {
   "cell_type": "code",
   "execution_count": 15,
   "metadata": {},
   "outputs": [
    {
     "data": {
      "text/plain": [
       "<AxesSubplot: >"
      ]
     },
     "execution_count": 15,
     "metadata": {},
     "output_type": "execute_result"
    },
    {
     "data": {
      "image/png": "[encoded data removed]",
      "text/plain": [
       "<Figure size 640x480 with 1 Axes>"
      ]
     },
     "metadata": {},
     "output_type": "display_data"
    }
   ],
   "source": [
    "sns.boxplot(lengths)\n",
    "# plt.show()"
   ]
  },
  {
   "cell_type": "code",
   "execution_count": 16,
   "metadata": {},
   "outputs": [],
   "source": [
    "MAX_SEQ_LENGTH = 30  # sequences greater than 100 in length will be truncated\n",
    "\n",
    "X_padded = pad_sequences(X_encoded, maxlen=MAX_SEQ_LENGTH, padding=\"pre\", truncating=\"post\")\n",
    "Y_padded = pad_sequences(Y_encoded, maxlen=MAX_SEQ_LENGTH, padding=\"pre\", truncating=\"post\")"
   ]
  },
  {
   "cell_type": "code",
   "execution_count": 17,
   "metadata": {},
   "outputs": [
    {
     "name": "stdout",
     "output_type": "stream",
     "text": [
      "[  0   0   0   0   0   0   0   6  19   4 145  29  13  52  47   7   2  20\n",
      "   1  18 652   5 188  99 240  16 311   5 171 243] \n",
      "\n",
      "\n",
      "\n",
      "[ 0  0  0  0  0  0  0  6  7  5  3  2  5  3  3  3  2  1  2  1  4  2  3  9\n",
      "  8 10  4  2  3  8]\n"
     ]
    }
   ],
   "source": [
    "print(X_padded[0], \"\\n\"*3)\n",
    "print(Y_padded[0])"
   ]
  },
  {
   "cell_type": "code",
   "execution_count": 18,
   "metadata": {},
   "outputs": [
    {
     "name": "stdout",
     "output_type": "stream",
     "text": [
      "5432 5432\n"
     ]
    }
   ],
   "source": [
    "X, Y = X_padded, Y_padded\n",
    "print(len(X), len(Y))"
   ]
  },
  {
   "cell_type": "code",
   "execution_count": 19,
   "metadata": {},
   "outputs": [],
   "source": [
    "path = './GoogleNews-vectors-negative300.bin'\n",
    "\n",
    "word2vec= KeyedVectors.load_word2vec_format(path, binary=True)"
   ]
  },
  {
   "cell_type": "code",
   "execution_count": 20,
   "metadata": {},
   "outputs": [
    {
     "data": {
      "text/plain": [
       "[('Queen', 0.4929387867450714),\n",
       " ('Tupou_V.', 0.45174285769462585),\n",
       " ('Oprah_BFF_Gayle', 0.442213237285614),\n",
       " ('Jackson', 0.4402503967285156),\n",
       " ('NECN_Alison', 0.43312832713127136),\n",
       " ('Whitfield', 0.42834725975990295),\n",
       " ('Ida_Vandross', 0.42084527015686035),\n",
       " ('prosecutor_Dan_Satterberg', 0.420758992433548),\n",
       " ('martin_Luther_King', 0.42059651017189026),\n",
       " ('Coretta_King', 0.4202733635902405)]"
      ]
     },
     "execution_count": 20,
     "metadata": {},
     "output_type": "execute_result"
    }
   ],
   "source": [
    "word2vec.most_similar(positive = [\"King\", \"Woman\"], negative = [\"Man\"])"
   ]
  },
  {
   "cell_type": "code",
   "execution_count": 21,
   "metadata": {},
   "outputs": [],
   "source": [
    "EMBEDDING_SIZE  = 300  # each word in word2vec model is represented using a 300 dimensional vector\n",
    "VOCABULARY_SIZE = len(word_tokenizer.word_index) + 1\n",
    "\n",
    "# create an empty embedding matix\n",
    "embedding_weights = np.zeros((VOCABULARY_SIZE, EMBEDDING_SIZE))\n",
    "\n",
    "# create a word to index dictionary mapping\n",
    "word2id = word_tokenizer.word_index\n",
    "\n",
    "# copy vectors from word2vec model to the words present in corpus\n",
    "for word, index in word2id.items():\n",
    "    try:\n",
    "        embedding_weights[index, :] = word2vec[word]\n",
    "    except KeyError:\n",
    "        pass"
   ]
  },
  {
   "cell_type": "code",
   "execution_count": 22,
   "metadata": {},
   "outputs": [
    {
     "name": "stdout",
     "output_type": "stream",
     "text": [
      "Embeddings shape: (933, 300)\n"
     ]
    }
   ],
   "source": [
    "print(\"Embeddings shape: {}\".format(embedding_weights.shape))"
   ]
  },
  {
   "cell_type": "code",
   "execution_count": 23,
   "metadata": {},
   "outputs": [
    {
     "data": {
      "text/plain": [
       "array([ 0.13964844, -0.00616455,  0.21484375,  0.07275391, -0.16113281,\n",
       "        0.07568359,  0.16796875, -0.20117188,  0.12597656,  0.00915527,\n",
       "        0.05249023, -0.15136719, -0.02758789,  0.04199219, -0.234375  ,\n",
       "        0.13867188, -0.02600098,  0.07910156,  0.02746582, -0.13085938,\n",
       "       -0.02478027,  0.10009766, -0.07910156, -0.07714844,  0.03759766,\n",
       "        0.16894531,  0.05371094, -0.05200195,  0.14453125, -0.04370117,\n",
       "       -0.12597656,  0.06884766, -0.10595703, -0.14550781, -0.00331116,\n",
       "        0.01367188,  0.13964844,  0.01660156,  0.03417969,  0.16113281,\n",
       "       -0.01080322,  0.06689453,  0.06835938, -0.15136719, -0.16894531,\n",
       "        0.03295898, -0.06884766,  0.06787109, -0.07373047,  0.08300781,\n",
       "        0.05761719,  0.14550781, -0.11865234, -0.13671875,  0.12402344,\n",
       "        0.04296875, -0.11962891, -0.08154297,  0.06494141, -0.05639648,\n",
       "       -0.04394531,  0.1484375 , -0.07714844,  0.04614258, -0.02624512,\n",
       "       -0.06591797,  0.04980469,  0.08886719, -0.01647949, -0.02294922,\n",
       "        0.10546875,  0.04199219,  0.11035156, -0.08251953, -0.13574219,\n",
       "       -0.07324219,  0.1015625 ,  0.05371094, -0.07275391,  0.08496094,\n",
       "       -0.04443359, -0.078125  ,  0.08398438, -0.00613403, -0.20898438,\n",
       "       -0.25      ,  0.00485229,  0.22363281,  0.01550293,  0.04223633,\n",
       "        0.07861328,  0.203125  , -0.25195312,  0.01867676,  0.03564453,\n",
       "       -0.09863281,  0.01745605,  0.12597656, -0.04589844, -0.10253906,\n",
       "       -0.10742188, -0.00558472,  0.05517578, -0.10791016, -0.1015625 ,\n",
       "        0.0222168 , -0.07958984,  0.04833984, -0.06201172, -0.11132812,\n",
       "        0.16210938, -0.09716797, -0.03222656,  0.08056641,  0.21386719,\n",
       "       -0.03759766,  0.06542969, -0.15527344,  0.00300598, -0.04907227,\n",
       "       -0.23730469,  0.13378906,  0.10253906,  0.07568359,  0.01330566,\n",
       "       -0.02770996, -0.27929688,  0.03112793,  0.00092316, -0.10107422,\n",
       "       -0.23730469, -0.21484375, -0.08496094, -0.16894531,  0.04370117,\n",
       "       -0.20996094,  0.00100708,  0.07617188, -0.03198242,  0.14160156,\n",
       "        0.15820312, -0.01275635,  0.04150391, -0.03393555,  0.12011719,\n",
       "       -0.08789062, -0.03735352, -0.16503906, -0.14257812, -0.05200195,\n",
       "        0.06542969,  0.22070312, -0.34570312,  0.10400391,  0.05053711,\n",
       "       -0.02368164, -0.13671875, -0.13476562,  0.09863281,  0.06689453,\n",
       "       -0.07666016,  0.20214844, -0.01806641, -0.06201172,  0.00402832,\n",
       "       -0.04174805,  0.06835938, -0.04882812,  0.12890625,  0.14941406,\n",
       "       -0.07763672,  0.09179688,  0.03686523, -0.08789062, -0.01721191,\n",
       "        0.15625   ,  0.16210938, -0.11328125, -0.00830078, -0.11962891,\n",
       "       -0.16601562, -0.12792969,  0.03759766, -0.16601562,  0.10449219,\n",
       "       -0.01220703, -0.01940918,  0.10009766,  0.0098877 ,  0.05957031,\n",
       "        0.17285156,  0.1484375 ,  0.21191406, -0.06835938, -0.04443359,\n",
       "       -0.12158203,  0.03088379,  0.02392578, -0.05297852, -0.09912109,\n",
       "       -0.00375366,  0.15625   , -0.06884766,  0.10205078,  0.00448608,\n",
       "        0.05053711, -0.11035156, -0.15332031,  0.03808594, -0.05249023,\n",
       "        0.01226807,  0.08935547,  0.06005859, -0.08007812, -0.24902344,\n",
       "       -0.01953125,  0.25390625,  0.00915527, -0.04345703,  0.0612793 ,\n",
       "       -0.06884766,  0.1015625 , -0.09326172, -0.07763672,  0.15625   ,\n",
       "       -0.10546875,  0.0625    ,  0.13574219, -0.06982422,  0.12792969,\n",
       "        0.05957031, -0.14550781,  0.08251953, -0.12792969,  0.14648438,\n",
       "       -0.15332031, -0.01708984, -0.01672363,  0.07958984,  0.01794434,\n",
       "        0.04199219, -0.12353516,  0.03320312, -0.11083984, -0.09716797,\n",
       "       -0.07568359,  0.14453125, -0.10351562,  0.05566406,  0.03369141,\n",
       "        0.01422119,  0.17382812,  0.10595703,  0.03930664,  0.27539062,\n",
       "       -0.14453125,  0.01672363,  0.03369141, -0.06542969, -0.1640625 ,\n",
       "        0.00909424, -0.07910156, -0.14453125,  0.03979492, -0.05761719,\n",
       "        0.078125  ,  0.12402344,  0.00671387, -0.19140625,  0.04248047,\n",
       "        0.02844238,  0.10351562,  0.33007812,  0.25      , -0.14160156,\n",
       "        0.04003906, -0.00201416, -0.12255859, -0.05297852,  0.02587891,\n",
       "        0.11669922, -0.07861328,  0.03320312,  0.14257812, -0.02856445,\n",
       "       -0.06494141,  0.03955078, -0.07421875, -0.07080078,  0.07714844,\n",
       "       -0.1015625 , -0.08300781, -0.11767578, -0.09619141, -0.203125  ,\n",
       "       -0.02490234,  0.19335938,  0.05712891,  0.09960938, -0.234375  ])"
      ]
     },
     "execution_count": 23,
     "metadata": {},
     "output_type": "execute_result"
    }
   ],
   "source": [
    "embedding_weights[word_tokenizer.word_index['what']]"
   ]
  },
  {
   "cell_type": "code",
   "execution_count": 24,
   "metadata": {},
   "outputs": [],
   "source": [
    "Y = to_categorical(Y)"
   ]
  },
  {
   "cell_type": "code",
   "execution_count": 25,
   "metadata": {},
   "outputs": [
    {
     "name": "stdout",
     "output_type": "stream",
     "text": [
      "(5432, 30, 15)\n"
     ]
    }
   ],
   "source": [
    "print(Y.shape)"
   ]
  },
  {
   "cell_type": "code",
   "execution_count": 26,
   "metadata": {},
   "outputs": [],
   "source": [
    "TEST_SIZE = 0.15\n",
    "X_train, X_test, Y_train, Y_test = train_test_split(X, Y, test_size=TEST_SIZE, random_state=4)"
   ]
  },
  {
   "cell_type": "code",
   "execution_count": 27,
   "metadata": {},
   "outputs": [],
   "source": [
    "VALID_SIZE = 0.15\n",
    "X_train, X_validation, Y_train, Y_validation = train_test_split(X_train, Y_train, test_size=VALID_SIZE, random_state=4)"
   ]
  },
  {
   "cell_type": "code",
   "execution_count": 28,
   "metadata": {},
   "outputs": [
    {
     "name": "stdout",
     "output_type": "stream",
     "text": [
      "TRAINING DATA\n",
      "Shape of input sequences: (3924, 30)\n",
      "Shape of output sequences: (3924, 30, 15)\n",
      "--------------------------------------------------\n",
      "VALIDATION DATA\n",
      "Shape of input sequences: (693, 30)\n",
      "Shape of output sequences: (693, 30, 15)\n",
      "--------------------------------------------------\n",
      "TESTING DATA\n",
      "Shape of input sequences: (815, 30)\n",
      "Shape of output sequences: (815, 30, 15)\n"
     ]
    }
   ],
   "source": [
    "print(\"TRAINING DATA\")\n",
    "print('Shape of input sequences: {}'.format(X_train.shape))\n",
    "print('Shape of output sequences: {}'.format(Y_train.shape))\n",
    "print(\"-\"*50)\n",
    "print(\"VALIDATION DATA\")\n",
    "print('Shape of input sequences: {}'.format(X_validation.shape))\n",
    "print('Shape of output sequences: {}'.format(Y_validation.shape))\n",
    "print(\"-\"*50)\n",
    "print(\"TESTING DATA\")\n",
    "print('Shape of input sequences: {}'.format(X_test.shape))\n",
    "print('Shape of output sequences: {}'.format(Y_test.shape))"
   ]
  },
  {
   "cell_type": "code",
   "execution_count": 29,
   "metadata": {},
   "outputs": [],
   "source": [
    "NUM_CLASSES = Y.shape[2]"
   ]
  },
  {
   "cell_type": "code",
   "execution_count": 30,
   "metadata": {},
   "outputs": [
    {
     "name": "stdout",
     "output_type": "stream",
     "text": [
      "Metal device set to: "
     ]
    },
    {
     "name": "stderr",
     "output_type": "stream",
     "text": [
      "2023-02-21 12:16:07.660936: I tensorflow/core/common_runtime/pluggable_device/pluggable_device_factory.cc:305] Could not identify NUMA node of platform GPU ID 0, defaulting to 0. Your kernel may not have been built with NUMA support.\n",
      "2023-02-21 12:16:07.661871: I tensorflow/core/common_runtime/pluggable_device/pluggable_device_factory.cc:271] Created TensorFlow device (/job:localhost/replica:0/task:0/device:GPU:0 with 0 MB memory) -> physical PluggableDevice (device: 0, name: METAL, pci bus id: <undefined>)\n"
     ]
    },
    {
     "name": "stdout",
     "output_type": "stream",
     "text": [
      "Apple M2\n",
      "\n",
      "systemMemory: 8.00 GB\n",
      "maxCacheSize: 2.67 GB\n",
      "\n"
     ]
    }
   ],
   "source": [
    "\n",
    "rnn_model = Sequential()\n",
    "\n",
    "# create embedding layer - usually the first layer in text problems\n",
    "rnn_model.add(Embedding(input_dim     =  VOCABULARY_SIZE,         # vocabulary size - number of unique words in data\n",
    "                        output_dim    =  EMBEDDING_SIZE,          # length of vector with which each word is represented\n",
    "                        input_length  =  MAX_SEQ_LENGTH,          # length of input sequence\n",
    "                        weights       = [embedding_weights],      # word embedding matrix\n",
    "                        trainable     =  True                     # True - update the embeddings while training\n",
    "))\n",
    "\n",
    "# add an RNN layer which contains 64 RNN cells\n",
    "rnn_model.add(SimpleRNN(64, \n",
    "              return_sequences=True  # True - return whole sequence; False - return single output of the end of the sequence\n",
    "))\n",
    "\n",
    "# add time distributed (output at each sequence) layer\n",
    "rnn_model.add(TimeDistributed(Dense(NUM_CLASSES, activation='softmax')))"
   ]
  },
  {
   "cell_type": "code",
   "execution_count": 31,
   "metadata": {},
   "outputs": [],
   "source": [
    "rnn_model.compile(loss      =  'categorical_crossentropy',\n",
    "                  optimizer =  'adam',\n",
    "                  metrics   =  ['acc'])"
   ]
  },
  {
   "cell_type": "code",
   "execution_count": 32,
   "metadata": {},
   "outputs": [
    {
     "name": "stdout",
     "output_type": "stream",
     "text": [
      "Model: \"sequential\"\n",
      "_________________________________________________________________\n",
      " Layer (type)                Output Shape              Param #   \n",
      "=================================================================\n",
      " embedding (Embedding)       (None, 30, 300)           279900    \n",
      "                                                                 \n",
      " simple_rnn (SimpleRNN)      (None, 30, 64)            23360     \n",
      "                                                                 \n",
      " time_distributed (TimeDistr  (None, 30, 15)           975       \n",
      " ibuted)                                                         \n",
      "                                                                 \n",
      "=================================================================\n",
      "Total params: 304,235\n",
      "Trainable params: 304,235\n",
      "Non-trainable params: 0\n",
      "_________________________________________________________________\n"
     ]
    }
   ],
   "source": [
    "rnn_model.summary()"
   ]
  },
  {
   "cell_type": "code",
   "execution_count": 33,
   "metadata": {},
   "outputs": [
    {
     "name": "stdout",
     "output_type": "stream",
     "text": [
      "Epoch 1/10\n"
     ]
    },
    {
     "name": "stderr",
     "output_type": "stream",
     "text": [
      "2023-02-21 12:16:08.330089: W tensorflow/core/platform/profile_utils/cpu_utils.cc:128] Failed to get CPU frequency: 0 Hz\n",
      "2023-02-21 12:16:08.780350: I tensorflow/core/grappler/optimizers/custom_graph_optimizer_registry.cc:113] Plugin optimizer for device_type GPU is enabled.\n"
     ]
    },
    {
     "name": "stdout",
     "output_type": "stream",
     "text": [
      "31/31 [==============================] - ETA: 0s - loss: 1.4516 - acc: 0.7763"
     ]
    },
    {
     "name": "stderr",
     "output_type": "stream",
     "text": [
      "2023-02-21 12:16:25.047384: I tensorflow/core/grappler/optimizers/custom_graph_optimizer_registry.cc:113] Plugin optimizer for device_type GPU is enabled.\n"
     ]
    },
    {
     "name": "stdout",
     "output_type": "stream",
     "text": [
      "31/31 [==============================] - 17s 500ms/step - loss: 1.4516 - acc: 0.7763 - val_loss: 0.6202 - val_acc: 0.8625\n",
      "Epoch 2/10\n",
      "31/31 [==============================] - 14s 464ms/step - loss: 0.4235 - acc: 0.9072 - val_loss: 0.2824 - val_acc: 0.9465\n",
      "Epoch 3/10\n",
      "31/31 [==============================] - 14s 465ms/step - loss: 0.2026 - acc: 0.9641 - val_loss: 0.1508 - val_acc: 0.9730\n",
      "Epoch 4/10\n",
      "31/31 [==============================] - 14s 460ms/step - loss: 0.1110 - acc: 0.9820 - val_loss: 0.0935 - val_acc: 0.9826\n",
      "Epoch 5/10\n",
      "31/31 [==============================] - 14s 466ms/step - loss: 0.0714 - acc: 0.9872 - val_loss: 0.0680 - val_acc: 0.9857\n",
      "Epoch 6/10\n",
      "31/31 [==============================] - 15s 469ms/step - loss: 0.0527 - acc: 0.9892 - val_loss: 0.0550 - val_acc: 0.9869\n",
      "Epoch 7/10\n",
      "31/31 [==============================] - 14s 465ms/step - loss: 0.0426 - acc: 0.9900 - val_loss: 0.0473 - val_acc: 0.9874\n",
      "Epoch 8/10\n",
      "31/31 [==============================] - 14s 461ms/step - loss: 0.0364 - acc: 0.9907 - val_loss: 0.0426 - val_acc: 0.9884\n",
      "Epoch 9/10\n",
      "31/31 [==============================] - 14s 461ms/step - loss: 0.0323 - acc: 0.9912 - val_loss: 0.0394 - val_acc: 0.9885\n",
      "Epoch 10/10\n",
      "31/31 [==============================] - 15s 471ms/step - loss: 0.0293 - acc: 0.9914 - val_loss: 0.0372 - val_acc: 0.9889\n"
     ]
    }
   ],
   "source": [
    "rnn_training = rnn_model.fit(X_train, Y_train, batch_size=128, epochs=10, validation_data=(X_validation, Y_validation))"
   ]
  },
  {
   "cell_type": "code",
   "execution_count": 36,
   "metadata": {},
   "outputs": [
    {
     "data": {
      "image/png": "[encoded data removed]",
      "text/plain": [
       "<Figure size 640x480 with 1 Axes>"
      ]
     },
     "metadata": {},
     "output_type": "display_data"
    }
   ],
   "source": [
    "plt.plot(rnn_training.history['acc'])\n",
    "plt.plot(rnn_training.history['val_acc'])\n",
    "plt.title('model accuracy')\n",
    "plt.grid()\n",
    "plt.ylabel('accuracy')\n",
    "plt.xlabel('epoch')\n",
    "plt.legend(['train', 'test'], loc=\"lower right\")\n",
    "plt.show()"
   ]
  },
  {
   "cell_type": "code",
   "execution_count": 37,
   "metadata": {},
   "outputs": [
    {
     "name": "stdout",
     "output_type": "stream",
     "text": [
      "26/26 [==============================] - 1s 53ms/step - loss: 0.0321 - acc: 0.9908\n",
      "Loss: 0.0320594385266304,\n",
      "Accuracy: 0.9908384084701538\n"
     ]
    }
   ],
   "source": [
    "loss, accuracy = rnn_model.evaluate(X_test, Y_test, verbose = 1)\n",
    "print(\"Loss: {0},\\nAccuracy: {1}\".format(loss, accuracy))"
   ]
  },
  {
   "cell_type": "code",
   "execution_count": 39,
   "metadata": {},
   "outputs": [],
   "source": [
    "rnn_model.save(\"pos_rnn.h5\")"
   ]
  },
  {
   "cell_type": "code",
   "execution_count": null,
   "metadata": {},
   "outputs": [],
   "source": []
  }
 ],
 "metadata": {
  "kernelspec": {
   "display_name": "nlp_learn",
   "language": "python",
   "name": "python3"
  },
  "language_info": {
   "codemirror_mode": {
    "name": "ipython",
    "version": 3
   },
   "file_extension": ".py",
   "mimetype": "text/x-python",
   "name": "python",
   "nbconvert_exporter": "python",
   "pygments_lexer": "ipython3",
   "version": "3.10.8"
  },
  "orig_nbformat": 4,
  "vscode": {
   "interpreter": {
    "hash": "7c9caf74a70e6425e46055e4f591cb9ad5267165051af117377622727131d9c9"
   }
  }
 },
 "nbformat": 4,
 "nbformat_minor": 2
}
