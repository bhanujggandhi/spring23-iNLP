{
 "cells": [
  {
   "cell_type": "code",
   "execution_count": 1,
   "metadata": {},
   "outputs": [],
   "source": [
    "import numpy as np\n",
    "from matplotlib import pyplot as plt\n",
    "\n",
    "from nltk.corpus import brown, treebank, conll2000\n",
    "\n",
    "import seaborn as sns\n",
    "\n",
    "from gensim.models import KeyedVectors\n",
    "\n",
    "from tensorflow.keras.preprocessing.sequence import pad_sequences\n",
    "from tensorflow.keras.utils import to_categorical\n",
    "from tensorflow.keras import Sequential, Input, Model\n",
    "from tensorflow.keras.layers import Embedding, Dense, TimeDistributed, LSTM, GRU, Bidirectional, SimpleRNN, RNN\n",
    "from tensorflow.keras.preprocessing.text import Tokenizer\n",
    "\n",
    "from sklearn.model_selection import train_test_split\n",
    "from sklearn.utils import shuffle\n",
    "from conllu import parse"
   ]
  },
  {
   "cell_type": "code",
   "execution_count": 2,
   "metadata": {},
   "outputs": [],
   "source": [
    "with open(\"./UD_English-Atis/en_atis-ud-train.conllu\") as f:\n",
    "    train_data = parse(f.read())\n",
    "with open(\"./UD_English-Atis/en_atis-ud-dev.conllu\") as f:\n",
    "    dev_data = parse(f.read())\n",
    "with open(\"./UD_English-Atis/en_atis-ud-test.conllu\") as f:\n",
    "    test_data = parse(f.read())"
   ]
  },
  {
   "cell_type": "code",
   "execution_count": 3,
   "metadata": {},
   "outputs": [
    {
     "name": "stdout",
     "output_type": "stream",
     "text": [
      "show VERB\n"
     ]
    }
   ],
   "source": [
    "print(train_data[11][0], train_data[11][0][\"upos\"])"
   ]
  },
  {
   "cell_type": "code",
   "execution_count": 4,
   "metadata": {},
   "outputs": [],
   "source": [
    "def prepare_sentences(data):\n",
    "    X = []\n",
    "    y = []\n",
    "\n",
    "    for sent in data:\n",
    "        X_sentence = []\n",
    "        y_sentence = []\n",
    "        for word in sent:\n",
    "            X_sentence.append(word[\"form\"])\n",
    "            y_sentence.append(word[\"upos\"])\n",
    "\n",
    "        X.append(X_sentence)\n",
    "        y.append(y_sentence)\n",
    "\n",
    "    return X, y"
   ]
  },
  {
   "cell_type": "code",
   "execution_count": 5,
   "metadata": {},
   "outputs": [
    {
     "name": "stdout",
     "output_type": "stream",
     "text": [
      "5432 5432\n"
     ]
    }
   ],
   "source": [
    "X_train, y_train = prepare_sentences(train_data)\n",
    "X_dev, y_dev = prepare_sentences(dev_data)\n",
    "X_test, y_test = prepare_sentences(test_data)\n",
    "\n",
    "X_train = X_train+X_dev+X_test\n",
    "y_train = y_train+y_dev+y_test\n",
    "\n",
    "print(len(X_train), len(y_train))"
   ]
  },
  {
   "cell_type": "code",
   "execution_count": 6,
   "metadata": {},
   "outputs": [],
   "source": [
    "num_words = len(set([word.lower() for sentence in X_train for word in sentence]))\n",
    "num_tags   = len(set([word.lower() for sentence in y_train for word in sentence]))"
   ]
  },
  {
   "cell_type": "code",
   "execution_count": 7,
   "metadata": {},
   "outputs": [
    {
     "name": "stdout",
     "output_type": "stream",
     "text": [
      "Total number of tagged sentences: 5432\n",
      "Vocabulary size: 932\n",
      "Total number of tags: 14\n"
     ]
    }
   ],
   "source": [
    "print(\"Total number of tagged sentences: {}\".format(len(X_train)))\n",
    "print(\"Vocabulary size: {}\".format(num_words))\n",
    "print(\"Total number of tags: {}\".format(num_tags))"
   ]
  },
  {
   "cell_type": "code",
   "execution_count": 8,
   "metadata": {},
   "outputs": [
    {
     "name": "stdout",
     "output_type": "stream",
     "text": [
      "sample X:  ['what', 'is', 'the', 'cost', 'of', 'a', 'round', 'trip', 'flight', 'from', 'pittsburgh', 'to', 'atlanta', 'beginning', 'on', 'april', 'twenty', 'fifth', 'and', 'returning', 'on', 'may', 'sixth'] \n",
      "\n",
      "sample Y:  ['PRON', 'AUX', 'DET', 'NOUN', 'ADP', 'DET', 'NOUN', 'NOUN', 'NOUN', 'ADP', 'PROPN', 'ADP', 'PROPN', 'VERB', 'ADP', 'NOUN', 'NUM', 'ADJ', 'CCONJ', 'VERB', 'ADP', 'NOUN', 'ADJ'] \n",
      "\n"
     ]
    }
   ],
   "source": [
    "print('sample X: ', X_train[0], '\\n')\n",
    "print('sample Y: ', y_train[0], '\\n')"
   ]
  },
  {
   "cell_type": "code",
   "execution_count": 9,
   "metadata": {},
   "outputs": [
    {
     "name": "stdout",
     "output_type": "stream",
     "text": [
      "Length of first input sequence  : 23\n",
      "Length of first output sequence : 23\n"
     ]
    }
   ],
   "source": [
    "print(\"Length of first input sequence  : {}\".format(len(X_train[0])))\n",
    "print(\"Length of first output sequence : {}\".format(len(y_train[0])))"
   ]
  },
  {
   "cell_type": "code",
   "execution_count": 10,
   "metadata": {},
   "outputs": [],
   "source": [
    "word_tokenizer = Tokenizer()                      # instantiate tokeniser\n",
    "word_tokenizer.fit_on_texts(X_train)                    # fit tokeniser on data\n",
    "X_encoded = word_tokenizer.texts_to_sequences(X_train)  # use the tokeniser to encode input sequence"
   ]
  },
  {
   "cell_type": "code",
   "execution_count": 11,
   "metadata": {},
   "outputs": [],
   "source": [
    "tag_tokenizer = Tokenizer()\n",
    "tag_tokenizer.fit_on_texts(y_train)\n",
    "Y_encoded = tag_tokenizer.texts_to_sequences(y_train)"
   ]
  },
  {
   "cell_type": "code",
   "execution_count": 12,
   "metadata": {},
   "outputs": [
    {
     "name": "stdout",
     "output_type": "stream",
     "text": [
      "** Raw data point ** \n",
      " ---------------------------------------------------------------------------------------------------- \n",
      "\n",
      "X:  ['what', 'is', 'the', 'cost', 'of', 'a', 'round', 'trip', 'flight', 'from', 'pittsburgh', 'to', 'atlanta', 'beginning', 'on', 'april', 'twenty', 'fifth', 'and', 'returning', 'on', 'may', 'sixth'] \n",
      "\n",
      "Y:  ['PRON', 'AUX', 'DET', 'NOUN', 'ADP', 'DET', 'NOUN', 'NOUN', 'NOUN', 'ADP', 'PROPN', 'ADP', 'PROPN', 'VERB', 'ADP', 'NOUN', 'NUM', 'ADJ', 'CCONJ', 'VERB', 'ADP', 'NOUN', 'ADJ'] \n",
      "\n",
      "\n",
      "** Encoded data point ** \n",
      " ---------------------------------------------------------------------------------------------------- \n",
      "\n",
      "X:  [6, 19, 4, 145, 29, 13, 52, 47, 7, 2, 20, 1, 18, 652, 5, 188, 99, 240, 16, 311, 5, 171, 243] \n",
      "\n",
      "Y:  [6, 7, 5, 3, 2, 5, 3, 3, 3, 2, 1, 2, 1, 4, 2, 3, 9, 8, 10, 4, 2, 3, 8] \n",
      "\n"
     ]
    }
   ],
   "source": [
    "print(\"** Raw data point **\", \"\\n\", \"-\"*100, \"\\n\")\n",
    "print('X: ', X_train[0], '\\n')\n",
    "print('Y: ', y_train[0], '\\n')\n",
    "print()\n",
    "print(\"** Encoded data point **\", \"\\n\", \"-\"*100, \"\\n\")\n",
    "print('X: ', X_encoded[0], '\\n')\n",
    "print('Y: ', Y_encoded[0], '\\n')"
   ]
  },
  {
   "cell_type": "code",
   "execution_count": 13,
   "metadata": {},
   "outputs": [
    {
     "name": "stdout",
     "output_type": "stream",
     "text": [
      "0 sentences have disparate input-output lengths.\n"
     ]
    }
   ],
   "source": [
    "different_length = [1 if len(input) != len(output) else 0 for input, output in zip(X_encoded, Y_encoded)]\n",
    "print(\"{} sentences have disparate input-output lengths.\".format(sum(different_length)))"
   ]
  },
  {
   "cell_type": "code",
   "execution_count": 14,
   "metadata": {},
   "outputs": [
    {
     "name": "stdout",
     "output_type": "stream",
     "text": [
      "Length of longest sentence: 46\n"
     ]
    }
   ],
   "source": [
    "lengths = [len(seq) for seq in X_encoded]\n",
    "print(\"Length of longest sentence: {}\".format(max(lengths)))"
   ]
  },
  {
   "cell_type": "code",
   "execution_count": 15,
   "metadata": {},
   "outputs": [
    {
     "data": {
      "text/plain": [
       "<AxesSubplot: >"
      ]
     },
     "execution_count": 15,
     "metadata": {},
     "output_type": "execute_result"
    },
    {
     "data": {
      "image/png": "[encoded data removed]",
      "text/plain": [
       "<Figure size 640x480 with 1 Axes>"
      ]
     },
     "metadata": {},
     "output_type": "display_data"
    }
   ],
   "source": [
    "sns.boxplot(lengths)\n",
    "# plt.show()"
   ]
  },
  {
   "cell_type": "code",
   "execution_count": 16,
   "metadata": {},
   "outputs": [],
   "source": [
    "MAX_SEQ_LENGTH = 30  # sequences greater than 100 in length will be truncated\n",
    "\n",
    "X_padded = pad_sequences(X_encoded, maxlen=MAX_SEQ_LENGTH, padding=\"pre\", truncating=\"post\")\n",
    "Y_padded = pad_sequences(Y_encoded, maxlen=MAX_SEQ_LENGTH, padding=\"pre\", truncating=\"post\")"
   ]
  },
  {
   "cell_type": "code",
   "execution_count": 17,
   "metadata": {},
   "outputs": [
    {
     "name": "stdout",
     "output_type": "stream",
     "text": [
      "[  0   0   0   0   0   0   0   6  19   4 145  29  13  52  47   7   2  20\n",
      "   1  18 652   5 188  99 240  16 311   5 171 243] \n",
      "\n",
      "\n",
      "\n",
      "[ 0  0  0  0  0  0  0  6  7  5  3  2  5  3  3  3  2  1  2  1  4  2  3  9\n",
      "  8 10  4  2  3  8]\n"
     ]
    }
   ],
   "source": [
    "print(X_padded[0], \"\\n\"*3)\n",
    "print(Y_padded[0])"
   ]
  },
  {
   "cell_type": "code",
   "execution_count": 18,
   "metadata": {},
   "outputs": [
    {
     "name": "stdout",
     "output_type": "stream",
     "text": [
      "5432 5432\n"
     ]
    }
   ],
   "source": [
    "X, Y = X_padded, Y_padded\n",
    "print(len(X), len(Y))"
   ]
  },
  {
   "cell_type": "code",
   "execution_count": 19,
   "metadata": {},
   "outputs": [],
   "source": [
    "path = './GoogleNews-vectors-negative300.bin'\n",
    "\n",
    "word2vec= KeyedVectors.load_word2vec_format(path, binary=True)"
   ]
  },
  {
   "cell_type": "code",
   "execution_count": 20,
   "metadata": {},
   "outputs": [
    {
     "data": {
      "text/plain": [
       "<gensim.models.keyedvectors.KeyedVectors at 0x164dd2dd0>"
      ]
     },
     "execution_count": 20,
     "metadata": {},
     "output_type": "execute_result"
    }
   ],
   "source": [
    "word2vec"
   ]
  },
  {
   "cell_type": "code",
   "execution_count": 21,
   "metadata": {},
   "outputs": [
    {
     "data": {
      "text/plain": [
       "[('Queen', 0.4929387867450714),\n",
       " ('Tupou_V.', 0.45174285769462585),\n",
       " ('Oprah_BFF_Gayle', 0.442213237285614),\n",
       " ('Jackson', 0.4402503967285156),\n",
       " ('NECN_Alison', 0.43312832713127136),\n",
       " ('Whitfield', 0.42834725975990295),\n",
       " ('Ida_Vandross', 0.42084527015686035),\n",
       " ('prosecutor_Dan_Satterberg', 0.420758992433548),\n",
       " ('martin_Luther_King', 0.42059651017189026),\n",
       " ('Coretta_King', 0.4202733635902405)]"
      ]
     },
     "execution_count": 21,
     "metadata": {},
     "output_type": "execute_result"
    }
   ],
   "source": [
    "word2vec.most_similar(positive = [\"King\", \"Woman\"], negative = [\"Man\"])"
   ]
  },
  {
   "cell_type": "code",
   "execution_count": 22,
   "metadata": {},
   "outputs": [
    {
     "name": "stdout",
     "output_type": "stream",
     "text": [
      "{'to': 1, 'from': 2, 'flights': 3, 'the': 4, 'on': 5, 'what': 6, 'flight': 7, 'me': 8, 'i': 9, 'san': 10, 'show': 11, 'boston': 12, 'a': 13, 'denver': 14, 'in': 15, 'and': 16, 'francisco': 17, 'atlanta': 18, 'is': 19, 'pittsburgh': 20, 'dallas': 21, 'all': 22, 'list': 23, 'baltimore': 24, 'philadelphia': 25, 'like': 26, 'are': 27, 'airlines': 28, 'of': 29, 'that': 30, 'between': 31, 'washington': 32, 'pm': 33, 'leaving': 34, 'please': 35, 'morning': 36, 'would': 37, 'fly': 38, 'city': 39, 'for': 40, 'wednesday': 41, 'first': 42, 'need': 43, 'fare': 44, 'after': 45, 'oakland': 46, 'trip': 47, 'there': 48, \"'d\": 49, 'ground': 50, 'cheapest': 51, 'round': 52, 'you': 53, 'transportation': 54, 'which': 55, 'does': 56, 'class': 57, 'arriving': 58, 'before': 59, 'milwaukee': 60, 'st.': 61, 'with': 62, 'afternoon': 63, 'available': 64, 'have': 65, 'american': 66, 'new': 67, 'one': 68, 'give': 69, 'dc': 70, 'at': 71, 'fares': 72, 'york': 73, 'leave': 74, 'monday': 75, 'way': 76, 'airport': 77, 'want': 78, 'arrive': 79, 'how': 80, 'thursday': 81, 'nonstop': 82, 'tuesday': 83, 'find': 84, 'earliest': 85, 'go': 86, 'united': 87, 'chicago': 88, 'information': 89, 'am': 90, 'vegas': 91, 'las': 92, 'phoenix': 93, 'saturday': 94, 'miami': 95, 'charlotte': 96, 'sunday': 97, 'orlando': 98, 'twenty': 99, 'can': 100, 'toronto': 101, 'evening': 102, 'delta': 103, 'diego': 104, 'seattle': 105, 'indianapolis': 106, 'newark': 107, 'kansas': 108, 'noon': 109, 'houston': 110, \"'s\": 111, 'any': 112, 'salt': 113, 'lake': 114, 'friday': 115, 'continental': 116, 'next': 117, 'us': 118, 'air': 119, 'cleveland': 120, 'do': 121, 'airline': 122, 'stop': 123, \"o'clock\": 124, 'august': 125, 'fort': 126, 'worth': 127, 'early': 128, 'seventh': 129, 'los': 130, 'angeles': 131, '5': 132, 'july': 133, 'tell': 134, 'memphis': 135, 'aircraft': 136, 'downtown': 137, 'montreal': 138, 'louis': 139, 'june': 140, 'or': 141, 'cincinnati': 142, 'petersburg': 143, '6': 144, 'cost': 145, 'around': 146, 'tomorrow': 147, 'nashville': 148, 'tampa': 149, 'going': 150, 'get': 151, 'latest': 152, 'minneapolis': 153, 'many': 154, 'detroit': 155, '10': 156, 'an': 157, 'jose': 158, 'code': 159, 'departing': 160, 'stopover': 161, 'about': 162, '8': 163, 'tacoma': 164, 'twa': 165, 'by': 166, 'burbank': 167, 'ticket': 168, 'type': 169, '7': 170, 'may': 171, 'leaves': 172, 'much': 173, 'could': 174, 'expensive': 175, 'long': 176, 'see': 177, 'international': 178, 'california': 179, 'daily': 180, 'service': 181, 'travel': 182, 'mean': 183, 'columbus': 184, 'depart': 185, \"'m\": 186, '12': 187, 'april': 188, 'paul': 189, 'coach': 190, 'than': 191, '4': 192, 'night': 193, 'know': 194, 'book': 195, 'dollars': 196, 'least': 197, 'beach': 198, '9': 199, 'economy': 200, 'lowest': 201, 'meal': 202, 'okay': 203, 'time': 204, 'northwest': 205, 'into': 206, 'now': 207, 'december': 208, 'last': 209, 'arrives': 210, 'la': 211, 'it': 212, 'used': 213, 'day': 214, 'ontario': 215, 'november': 216, 'serves': 217, 'westchester': 218, 'serve': 219, 'airports': 220, 'return': 221, 'september': 222, 'flying': 223, 'less': 224, 'second': 225, 'as': 226, 'third': 227, 'county': 228, 'eighth': 229, 'be': 230, 'stops': 231, 'capacity': 232, 'direct': 233, 'kind': 234, '3': 235, 'general': 236, 'mitchell': 237, 'seating': 238, 'breakfast': 239, 'fifth': 240, 'take': 241, 'make': 242, 'sixth': 243, 'schedule': 244, 'car': 245, 'possible': 246, 'out': 247, 'goes': 248, 'cities': 249, 'connecting': 250, '2': 251, 'served': 252, 'meals': 253, 'stopping': 254, 'love': 255, 'field': 256, 'times': 257, 'looking': 258, 'number': 259, 'dinner': 260, 'price': 261, 'has': 262, 'fourth': 263, 'this': 264, 'dl': 265, 'airfare': 266, 'eastern': 267, 'back': 268, 'will': 269, 'flies': 270, 'prices': 271, 'business': 272, 'two': 273, '1991': 274, 'limousine': 275, 'ninth': 276, 'twentieth': 277, 'restriction': 278, 'late': 279, '1000': 280, 'also': 281, 'using': 282, 'today': 283, 'types': 284, 'most': 285, 'week': 286, 'through': 287, 'via': 288, 'tenth': 289, 'plane': 290, 'ua': 291, 'stand': 292, 'rental': 293, 'bwi': 294, 'guardia': 295, 'fifteenth': 296, 'other': 297, 'your': 298, 'interested': 299, '1': 300, 'display': 301, 'same': 302, 'then': 303, 'north': 304, 'carolina': 305, 'only': 306, 'ap': 307, 'florida': 308, 'wednesdays': 309, 'should': 310, 'returning': 311, 'listing': 312, 'twelfth': 313, 'canadian': 314, 'again': 315, 'thirtieth': 316, 'either': 317, 'classes': 318, 'shortest': 319, 'midwest': 320, 'express': 321, 'october': 322, 'distance': 323, 'if': 324, 'numbers': 325, 'where': 326, 'smallest': 327, 'far': 328, 'seventeenth': 329, 'makes': 330, 'tickets': 331, 'transport': 332, 'lunch': 333, 'arrangements': 334, 'arizona': 335, 'sixteenth': 336, 'eleventh': 337, 'my': 338, 'when': 339, 'departure': 340, 'explain': 341, 'jfk': 342, 'm80': 343, 'colorado': 344, 'use': 345, 'qx': 346, 'weekday': 347, 'layover': 348, 'jersey': 349, 'people': 350, 'thirty': 351, 'their': 352, 'fourteenth': 353, 'under': 354, 'airplane': 355, 'f': 356, 'hi': 357, 'traveling': 358, 'alaska': 359, 'no': 360, 'later': 361, 'rent': 362, 'but': 363, 'area': 364, '57': 365, 'dfw': 366, 'january': 367, 'right': 368, 'nineteenth': 369, 'planes': 370, 'yes': 371, 'thank': 372, 'offer': 373, 'y': 374, 'abbreviation': 375, 'some': 376, \"'re\": 377, 'stopovers': 378, 'live': 379, 'canada': 380, 'ohio': 381, 'codes': 382, 'tower': 383, 'hours': 384, 'during': 385, 'logan': 386, 'march': 387, 'both': 388, 'midnight': 389, 'boeing': 390, 'each': 391, 'q': 392, 'over': 393, '630': 394, 'february': 395, 'mco': 396, 'sfo': 397, 'anywhere': 398, 'passengers': 399, '466': 400, '757': 401, 'mornings': 402, 'lufthansa': 403, 'yn': 404, 'let': 405, 'landings': 406, 'coming': 407, 'qw': 408, 'serving': 409, 'trying': 410, '11': 411, 'hp': 412, \"'ll\": 413, 'near': 414, 'days': 415, '530': 416, 'minnesota': 417, 'those': 418, 'taxi': 419, 'america': 420, 'west': 421, 'provided': 422, 'arrival': 423, 'name': 424, 'arrivals': 425, 'uses': 426, 'thrift': 427, 'making': 428, 'eighteenth': 429, 'different': 430, 'utah': 431, 'quebec': 432, 'michigan': 433, 'indiana': 434, 'takeoffs': 435, '747': 436, '838': 437, 'sometime': 438, 'saturdays': 439, '281': 440, 'these': 441, 'southwest': 442, 'trips': 443, 'starting': 444, '430': 445, 'arrange': 446, 'following': 447, 's': 448, 'texas': 449, '1115': 450, '1245': 451, 'connect': 452, 'amount': 453, 'weekdays': 454, 'another': 455, 'tennessee': 456, 'rates': 457, 'costs': 458, 'nationair': 459, 'ewr': 460, 'miles': 461, 'sixteen': 462, 'departures': 463, 'more': 464, 'total': 465, 'land': 466, '72s': 467, '73s': 468, 'seats': 469, 'departs': 470, 'georgia': 471, 'pennsylvania': 472, 'h': 473, 'three': 474, 'dc10': 475, 'destination': 476, '825': 477, 'ea': 478, 'close': 479, '230': 480, 'ff': 481, '718': 482, 'six': 483, '2100': 484, 'help': 485, 'cheap': 486, 'tuesdays': 487, 'hello': 488, 'requesting': 489, 'meaning': 490, 'restrictions': 491, 'nevada': 492, 'cars': 493, 'options': 494, 'so': 495, 'maximum': 496, 'ten': 497, '80': 498, '813': 499, 'ap80': 500, 'ap57': 501, '1992': 502, 'not': 503, 'f28': 504, '1100': 505, 'serviced': 506, 'describe': 507, 'turboprop': 508, 'dulles': 509, 'fit': 510, 'hold': 511, '733': 512, 'd9s': 513, 'provide': 514, 'connections': 515, 'well': 516, 'booking': 517, 'services': 518, 'too': 519, 'great': 520, 'soon': 521, 'm': 522, 'fn': 523, 'offers': 524, 'include': 525, '270': 526, '737': 527, '296': 528, '21': 529, '555': 530, '1500': 531, '1291': 532, 'co': 533, 'kinds': 534, 'thursdays': 535, 'reservation': 536, 'we': 537, 'define': 538, 'stands': 539, 'sorry': 540, 'originating': 541, 'choices': 542, '1700': 543, 'wish': 544, '934': 545, 'heading': 546, 'noontime': 547, 'thirteenth': 548, 'plan': 549, 'mondays': 550, 'sundays': 551, 'philly': 552, '415': 553, 'closest': 554, 'actually': 555, '210': 556, '852': 557, 'still': 558, 'lastest': 559, 'red': 560, 'eye': 561, 'without': 562, 'off': 563, 'atl': 564, 'rentals': 565, 'earlier': 566, '300': 567, '1993': 568, '1994': 569, 'carries': 570, 'schedules': 571, '269': 572, '755': 573, '1039': 574, 'repeat': 575, 'ord': 576, 'dca': 577, 'lga': 578, 'names': 579, 'eight': 580, 'various': 581, '767': 582, '932': 583, '200': 584, 'along': 585, 'airplanes': 586, 'l10': 587, 'capacities': 588, '100': 589, '505': 590, 'itinerary': 591, 'four': 592, 'who': 593, 'sure': 594, 'determine': 595, '1765': 596, 'j31': 597, 'connection': 598, 'aa': 599, 'stapleton': 600, 'limo': 601, 'missouri': 602, 'up': 603, 'difference': 604, 'b': 605, 'qo': 606, 'be1': 607, 'very': 608, '727': 609, '343': 610, 'snack': 611, '1110': 612, 'reaching': 613, '1222': 614, '201': 615, '217': 616, '3724': 617, 'taking': 618, 'they': 619, 'town': 620, 'takeoff': 621, 'nonstops': 622, '1200': 623, 'within': 624, 'friends': 625, 'lives': 626, 'nw': 627, 'ac': 628, '1205': 629, '1145': 630, 'rate': 631, 'reservations': 632, 'buy': 633, 'say': 634, 'look': 635, 'transcontinental': 636, 'landing': 637, 'month': 638, '720': 639, 'approximately': 640, '324': 641, 'highest': 642, 'dinnertime': 643, '2134': 644, 'midway': 645, 'bound': 646, 'd': 647, 'airfares': 648, 'c': 649, 'just': 650, 'originate': 651, 'beginning': 652, '416': 653, 'ap68': 654, 'ls': 655, 'designate': 656, 'trans': 657, 'world': 658, '1030': 659, '1130': 660, '730': 661, 'sort': 662, 'fine': 663, 'belong': 664, 'snacks': 665, 'ever': 666, '382': 667, 'route': 668, 'longest': 669, '20': 670, '497766': 671, '705': 672, 'straight': 673, 'oak': 674, '1220': 675, 'operation': 676, 'lester': 677, 'pearson': 678, '1017': 679, 'located': 680, 'zone': 681, '1850': 682, 'exceeding': 683, '1505': 684, '428': 685, 'nights': 686, 'iah': 687, 'cvg': 688, 'bna': 689, 'mci': 690, 'hou': 691, 'lax': 692, 'yyz': 693, 'bur': 694, 'regarding': 695, 'largest': 696, 'greatest': 697, 'instead': 698, 'besides': 699, '1059': 700, 'advertises': 701, 'having': 702, '329': 703, '124': 704, 'equal': 705, '150': 706, '400': 707, 'l1011': 708, '734': 709, 'carried': 710, 'level': 711, '163': 712, 'tonight': 713, 'hopefully': 714, '1940': 715, 'connects': 716, 'including': 717, 'preferably': 718, 'local': 719, 'combination': 720, 'run': 721, 'come': 722, '320': 723, 'k': 724, 'dh8': 725, 'minimum': 726, 'intercontinental': 727, '459': 728, 'limousines': 729, 'train': 730, '82': 731, '139': 732, 'sounds': 733, 'grounds': 734, 'calling': 735, 'thereafter': 736, 'anything': 737, 'bring': 738, 'qualify': 739, 'basis': 740, 'bh': 741, 'included': 742, 'whether': 743, 'offered': 744, 'being': 745, 'working': 746, 'scenario': 747, 'called': 748, 'd10': 749, 'includes': 750, 'travels': 751, 'supper': 752, 'reaches': 753, 'vicinity': 754, 'good': 755, '1800': 756, 'overnight': 757, 'final': 758, 'summer': 759, '297': 760, 'listed': 761, '1055': 762, '405': 763, '315': 764, '486': 765, '1207': 766, '639': 767, '71': 768, '106': 769, '539': 770, '271': 771, '4400': 772, '3357': 773, '345': 774, '771': 775, '1209': 776, '212': 777, '257': 778, '608': 779, '746': 780, '311': 781, '417': 782, 'try': 783, 'inform': 784, '419': 785, 'kindly': 786, 'proper': 787, 'kennedy': 788, '1230': 789, 'visit': 790, 'here': 791, 'them': 792, '0900': 793, '1600': 794, 'nighttime': 795, 'usa': 796, 'able': 797, 'put': 798, 'symbols': 799, 'kw': 800, 'sam': 801, 'wn': 802, 'must': 803, '225': 804, '1158': 805, 'equipment': 806, 'abbreviations': 807, 'jet': 808, 'companies': 809, 'continuing': 810, 'represented': 811, 'database': 812, 'single': 813, 'directly': 814, 'afterwards': 815, 'scheduled': 816, 'seat': 817, 'india': 818, 'mealtime': 819, 'economic': 820, 'discount': 821, 'staying': 822, 'while': 823, 'across': 824, 'continent': 825, 'begins': 826, 'lands': 827, '110': 828, 'such': 829, '1045': 830, 'toward': 831, '1300': 832, '723': 833, '1020': 834, '645': 835, 'inexpensive': 836, 'thing': 837, 'thanks': 838, 'question': 839, 'spend': 840, 'seventeen': 841, 'priced': 842, 'charges': 843, '305': 844, '845': 845, '1026': 846, '823': 847, '1024': 848, '130': 849, \"'ve\": 850, 'got': 851, 'somebody': 852, 'else': 853, 'wants': 854, '420': 855, 'seven': 856, 'catch': 857, 'fifteen': 858, 'oh': 859, \"n't\": 860, 'prefer': 861, 'comes': 862, 'fridays': 863, 'bay': 864, 'planning': 865, 'home': 866, 'reverse': 867, 'order': 868, 'a.m.': 869, 'listings': 870, 'laying': 871, 'sb': 872, '811': 873, 'mia': 874, 'takes': 875, '500': 876, 'wanted': 877, '2153': 878, '402': 879, 'enroute': 880, '928': 881, 'cp': 882, '810': 883, 'cover': 884, 'provides': 885, 'non': 886, 'once': 887, '615': 888, '815': 889, 'eleven': 890, 'afternoons': 891, 'start': 892, 'place': 893, 'twelve': 894, 'sd': 895, '842': 896, '1133': 897, '43': 898, '468': 899, 'al': 900, '950': 901, '55': 902, '279': 903, '137338': 904, 'ap58': 905, '445': 906, '515': 907, 'dtw': 908, 'year': 909, 'phl': 910, 'tpa': 911, \"o'hare\": 912, 'dc9': 913, '1288': 914, 'bn': 915, 'concerning': 916, '323': 917, '229': 918, '19': 919, '352': 920, '1083': 921, '98': 922, 'repeating': 923, '650': 924, 'yx': 925, 'gets': 926, '1201': 927, '819': 928, 'runs': 929, 'everywhere': 930, 'operating': 931, 'currently': 932}\n"
     ]
    }
   ],
   "source": [
    "EMBEDDING_SIZE  = 300  # each word in word2vec model is represented using a 300 dimensional vector\n",
    "VOCABULARY_SIZE = len(word_tokenizer.word_index) + 1\n",
    "\n",
    "# create an empty embedding matix\n",
    "embedding_weights = np.zeros((VOCABULARY_SIZE, EMBEDDING_SIZE))\n",
    "\n",
    "# create a word to index dictionary mapping\n",
    "word2id = word_tokenizer.word_index\n",
    "print(word2id)\n",
    "\n",
    "# copy vectors from word2vec model to the words present in corpus\n",
    "for word, index in word2id.items():\n",
    "    try:\n",
    "        embedding_weights[index, :] = word2vec[word]\n",
    "    except KeyError:\n",
    "        pass"
   ]
  },
  {
   "cell_type": "code",
   "execution_count": 23,
   "metadata": {},
   "outputs": [
    {
     "name": "stdout",
     "output_type": "stream",
     "text": [
      "Embeddings shape: (933, 300)\n"
     ]
    }
   ],
   "source": [
    "print(\"Embeddings shape: {}\".format(embedding_weights.shape))"
   ]
  },
  {
   "cell_type": "code",
   "execution_count": 24,
   "metadata": {},
   "outputs": [
    {
     "data": {
      "text/plain": [
       "array([ 0.13964844, -0.00616455,  0.21484375,  0.07275391, -0.16113281,\n",
       "        0.07568359,  0.16796875, -0.20117188,  0.12597656,  0.00915527,\n",
       "        0.05249023, -0.15136719, -0.02758789,  0.04199219, -0.234375  ,\n",
       "        0.13867188, -0.02600098,  0.07910156,  0.02746582, -0.13085938,\n",
       "       -0.02478027,  0.10009766, -0.07910156, -0.07714844,  0.03759766,\n",
       "        0.16894531,  0.05371094, -0.05200195,  0.14453125, -0.04370117,\n",
       "       -0.12597656,  0.06884766, -0.10595703, -0.14550781, -0.00331116,\n",
       "        0.01367188,  0.13964844,  0.01660156,  0.03417969,  0.16113281,\n",
       "       -0.01080322,  0.06689453,  0.06835938, -0.15136719, -0.16894531,\n",
       "        0.03295898, -0.06884766,  0.06787109, -0.07373047,  0.08300781,\n",
       "        0.05761719,  0.14550781, -0.11865234, -0.13671875,  0.12402344,\n",
       "        0.04296875, -0.11962891, -0.08154297,  0.06494141, -0.05639648,\n",
       "       -0.04394531,  0.1484375 , -0.07714844,  0.04614258, -0.02624512,\n",
       "       -0.06591797,  0.04980469,  0.08886719, -0.01647949, -0.02294922,\n",
       "        0.10546875,  0.04199219,  0.11035156, -0.08251953, -0.13574219,\n",
       "       -0.07324219,  0.1015625 ,  0.05371094, -0.07275391,  0.08496094,\n",
       "       -0.04443359, -0.078125  ,  0.08398438, -0.00613403, -0.20898438,\n",
       "       -0.25      ,  0.00485229,  0.22363281,  0.01550293,  0.04223633,\n",
       "        0.07861328,  0.203125  , -0.25195312,  0.01867676,  0.03564453,\n",
       "       -0.09863281,  0.01745605,  0.12597656, -0.04589844, -0.10253906,\n",
       "       -0.10742188, -0.00558472,  0.05517578, -0.10791016, -0.1015625 ,\n",
       "        0.0222168 , -0.07958984,  0.04833984, -0.06201172, -0.11132812,\n",
       "        0.16210938, -0.09716797, -0.03222656,  0.08056641,  0.21386719,\n",
       "       -0.03759766,  0.06542969, -0.15527344,  0.00300598, -0.04907227,\n",
       "       -0.23730469,  0.13378906,  0.10253906,  0.07568359,  0.01330566,\n",
       "       -0.02770996, -0.27929688,  0.03112793,  0.00092316, -0.10107422,\n",
       "       -0.23730469, -0.21484375, -0.08496094, -0.16894531,  0.04370117,\n",
       "       -0.20996094,  0.00100708,  0.07617188, -0.03198242,  0.14160156,\n",
       "        0.15820312, -0.01275635,  0.04150391, -0.03393555,  0.12011719,\n",
       "       -0.08789062, -0.03735352, -0.16503906, -0.14257812, -0.05200195,\n",
       "        0.06542969,  0.22070312, -0.34570312,  0.10400391,  0.05053711,\n",
       "       -0.02368164, -0.13671875, -0.13476562,  0.09863281,  0.06689453,\n",
       "       -0.07666016,  0.20214844, -0.01806641, -0.06201172,  0.00402832,\n",
       "       -0.04174805,  0.06835938, -0.04882812,  0.12890625,  0.14941406,\n",
       "       -0.07763672,  0.09179688,  0.03686523, -0.08789062, -0.01721191,\n",
       "        0.15625   ,  0.16210938, -0.11328125, -0.00830078, -0.11962891,\n",
       "       -0.16601562, -0.12792969,  0.03759766, -0.16601562,  0.10449219,\n",
       "       -0.01220703, -0.01940918,  0.10009766,  0.0098877 ,  0.05957031,\n",
       "        0.17285156,  0.1484375 ,  0.21191406, -0.06835938, -0.04443359,\n",
       "       -0.12158203,  0.03088379,  0.02392578, -0.05297852, -0.09912109,\n",
       "       -0.00375366,  0.15625   , -0.06884766,  0.10205078,  0.00448608,\n",
       "        0.05053711, -0.11035156, -0.15332031,  0.03808594, -0.05249023,\n",
       "        0.01226807,  0.08935547,  0.06005859, -0.08007812, -0.24902344,\n",
       "       -0.01953125,  0.25390625,  0.00915527, -0.04345703,  0.0612793 ,\n",
       "       -0.06884766,  0.1015625 , -0.09326172, -0.07763672,  0.15625   ,\n",
       "       -0.10546875,  0.0625    ,  0.13574219, -0.06982422,  0.12792969,\n",
       "        0.05957031, -0.14550781,  0.08251953, -0.12792969,  0.14648438,\n",
       "       -0.15332031, -0.01708984, -0.01672363,  0.07958984,  0.01794434,\n",
       "        0.04199219, -0.12353516,  0.03320312, -0.11083984, -0.09716797,\n",
       "       -0.07568359,  0.14453125, -0.10351562,  0.05566406,  0.03369141,\n",
       "        0.01422119,  0.17382812,  0.10595703,  0.03930664,  0.27539062,\n",
       "       -0.14453125,  0.01672363,  0.03369141, -0.06542969, -0.1640625 ,\n",
       "        0.00909424, -0.07910156, -0.14453125,  0.03979492, -0.05761719,\n",
       "        0.078125  ,  0.12402344,  0.00671387, -0.19140625,  0.04248047,\n",
       "        0.02844238,  0.10351562,  0.33007812,  0.25      , -0.14160156,\n",
       "        0.04003906, -0.00201416, -0.12255859, -0.05297852,  0.02587891,\n",
       "        0.11669922, -0.07861328,  0.03320312,  0.14257812, -0.02856445,\n",
       "       -0.06494141,  0.03955078, -0.07421875, -0.07080078,  0.07714844,\n",
       "       -0.1015625 , -0.08300781, -0.11767578, -0.09619141, -0.203125  ,\n",
       "       -0.02490234,  0.19335938,  0.05712891,  0.09960938, -0.234375  ])"
      ]
     },
     "execution_count": 24,
     "metadata": {},
     "output_type": "execute_result"
    }
   ],
   "source": [
    "embedding_weights[word_tokenizer.word_index['what']]"
   ]
  },
  {
   "cell_type": "code",
   "execution_count": 25,
   "metadata": {},
   "outputs": [],
   "source": [
    "Y = to_categorical(Y)"
   ]
  },
  {
   "cell_type": "code",
   "execution_count": 26,
   "metadata": {},
   "outputs": [
    {
     "name": "stdout",
     "output_type": "stream",
     "text": [
      "(5432, 30, 15)\n"
     ]
    }
   ],
   "source": [
    "print(Y.shape)"
   ]
  },
  {
   "cell_type": "code",
   "execution_count": 27,
   "metadata": {},
   "outputs": [],
   "source": [
    "TEST_SIZE = 0.15\n",
    "X_train, X_test, Y_train, Y_test = train_test_split(X, Y, test_size=TEST_SIZE, random_state=4)"
   ]
  },
  {
   "cell_type": "code",
   "execution_count": 28,
   "metadata": {},
   "outputs": [],
   "source": [
    "VALID_SIZE = 0.15\n",
    "X_train, X_validation, Y_train, Y_validation = train_test_split(X_train, Y_train, test_size=VALID_SIZE, random_state=4)"
   ]
  },
  {
   "cell_type": "code",
   "execution_count": 29,
   "metadata": {},
   "outputs": [
    {
     "name": "stdout",
     "output_type": "stream",
     "text": [
      "TRAINING DATA\n",
      "Shape of input sequences: (3924, 30)\n",
      "Shape of output sequences: (3924, 30, 15)\n",
      "--------------------------------------------------\n",
      "VALIDATION DATA\n",
      "Shape of input sequences: (693, 30)\n",
      "Shape of output sequences: (693, 30, 15)\n",
      "--------------------------------------------------\n",
      "TESTING DATA\n",
      "Shape of input sequences: (815, 30)\n",
      "Shape of output sequences: (815, 30, 15)\n"
     ]
    }
   ],
   "source": [
    "print(\"TRAINING DATA\")\n",
    "print('Shape of input sequences: {}'.format(X_train.shape))\n",
    "print('Shape of output sequences: {}'.format(Y_train.shape))\n",
    "print(\"-\"*50)\n",
    "print(\"VALIDATION DATA\")\n",
    "print('Shape of input sequences: {}'.format(X_validation.shape))\n",
    "print('Shape of output sequences: {}'.format(Y_validation.shape))\n",
    "print(\"-\"*50)\n",
    "print(\"TESTING DATA\")\n",
    "print('Shape of input sequences: {}'.format(X_test.shape))\n",
    "print('Shape of output sequences: {}'.format(Y_test.shape))"
   ]
  },
  {
   "cell_type": "code",
   "execution_count": 30,
   "metadata": {},
   "outputs": [],
   "source": [
    "NUM_CLASSES = Y.shape[2]"
   ]
  },
  {
   "cell_type": "code",
   "execution_count": 31,
   "metadata": {},
   "outputs": [
    {
     "name": "stderr",
     "output_type": "stream",
     "text": [
      "2023-03-06 23:18:40.706069: I tensorflow/core/common_runtime/pluggable_device/pluggable_device_factory.cc:305] Could not identify NUMA node of platform GPU ID 0, defaulting to 0. Your kernel may not have been built with NUMA support.\n",
      "2023-03-06 23:18:40.707873: I tensorflow/core/common_runtime/pluggable_device/pluggable_device_factory.cc:271] Created TensorFlow device (/job:localhost/replica:0/task:0/device:GPU:0 with 0 MB memory) -> physical PluggableDevice (device: 0, name: METAL, pci bus id: <undefined>)\n"
     ]
    },
    {
     "name": "stdout",
     "output_type": "stream",
     "text": [
      "Metal device set to: Apple M2\n",
      "\n",
      "systemMemory: 8.00 GB\n",
      "maxCacheSize: 2.67 GB\n",
      "\n"
     ]
    }
   ],
   "source": [
    "\n",
    "rnn_model = Sequential()\n",
    "\n",
    "# create embedding layer - usually the first layer in text problems\n",
    "rnn_model.add(Embedding(input_dim     =  VOCABULARY_SIZE,         # vocabulary size - number of unique words in data\n",
    "                        output_dim    =  EMBEDDING_SIZE,          # length of vector with which each word is represented\n",
    "                        input_length  =  MAX_SEQ_LENGTH,          # length of input sequence\n",
    "                        weights       = [embedding_weights],      # word embedding matrix\n",
    "                        trainable     =  True                     # True - update the embeddings while training\n",
    "))\n",
    "\n",
    "# add an RNN layer which contains 64 RNN cells\n",
    "rnn_model.add(SimpleRNN(64, \n",
    "              return_sequences=True  # True - return whole sequence; False - return single output of the end of the sequence\n",
    "))\n",
    "\n",
    "# add time distributed (output at each sequence) layer\n",
    "rnn_model.add(TimeDistributed(Dense(NUM_CLASSES, activation='softmax')))"
   ]
  },
  {
   "cell_type": "code",
   "execution_count": 32,
   "metadata": {},
   "outputs": [],
   "source": [
    "rnn_model.compile(loss      =  'categorical_crossentropy',\n",
    "                  optimizer =  'adam',\n",
    "                  metrics   =  ['acc'])"
   ]
  },
  {
   "cell_type": "code",
   "execution_count": 33,
   "metadata": {},
   "outputs": [
    {
     "name": "stdout",
     "output_type": "stream",
     "text": [
      "Model: \"sequential\"\n",
      "_________________________________________________________________\n",
      " Layer (type)                Output Shape              Param #   \n",
      "=================================================================\n",
      " embedding (Embedding)       (None, 30, 300)           279900    \n",
      "                                                                 \n",
      " simple_rnn (SimpleRNN)      (None, 30, 64)            23360     \n",
      "                                                                 \n",
      " time_distributed (TimeDistr  (None, 30, 15)           975       \n",
      " ibuted)                                                         \n",
      "                                                                 \n",
      "=================================================================\n",
      "Total params: 304,235\n",
      "Trainable params: 304,235\n",
      "Non-trainable params: 0\n",
      "_________________________________________________________________\n"
     ]
    }
   ],
   "source": [
    "rnn_model.summary()"
   ]
  },
  {
   "cell_type": "code",
   "execution_count": 34,
   "metadata": {},
   "outputs": [
    {
     "name": "stdout",
     "output_type": "stream",
     "text": [
      "Epoch 1/10\n"
     ]
    },
    {
     "name": "stderr",
     "output_type": "stream",
     "text": [
      "2023-03-06 23:18:43.252156: W tensorflow/core/platform/profile_utils/cpu_utils.cc:128] Failed to get CPU frequency: 0 Hz\n",
      "2023-03-06 23:18:43.773459: I tensorflow/core/grappler/optimizers/custom_graph_optimizer_registry.cc:113] Plugin optimizer for device_type GPU is enabled.\n"
     ]
    },
    {
     "name": "stdout",
     "output_type": "stream",
     "text": [
      "31/31 [==============================] - ETA: 0s - loss: 1.3143 - acc: 0.7760"
     ]
    },
    {
     "name": "stderr",
     "output_type": "stream",
     "text": [
      "2023-03-06 23:19:00.355327: I tensorflow/core/grappler/optimizers/custom_graph_optimizer_registry.cc:113] Plugin optimizer for device_type GPU is enabled.\n"
     ]
    },
    {
     "name": "stdout",
     "output_type": "stream",
     "text": [
      "31/31 [==============================] - 17s 519ms/step - loss: 1.3143 - acc: 0.7760 - val_loss: 0.6078 - val_acc: 0.8594\n",
      "Epoch 2/10\n",
      "31/31 [==============================] - 15s 494ms/step - loss: 0.4194 - acc: 0.9102 - val_loss: 0.2827 - val_acc: 0.9478\n",
      "Epoch 3/10\n",
      "31/31 [==============================] - 15s 500ms/step - loss: 0.2011 - acc: 0.9657 - val_loss: 0.1496 - val_acc: 0.9754\n",
      "Epoch 4/10\n",
      "31/31 [==============================] - 15s 472ms/step - loss: 0.1099 - acc: 0.9824 - val_loss: 0.0939 - val_acc: 0.9826\n",
      "Epoch 5/10\n",
      "31/31 [==============================] - 15s 475ms/step - loss: 0.0711 - acc: 0.9872 - val_loss: 0.0686 - val_acc: 0.9853\n",
      "Epoch 6/10\n",
      "31/31 [==============================] - 14s 463ms/step - loss: 0.0526 - acc: 0.9891 - val_loss: 0.0556 - val_acc: 0.9865\n",
      "Epoch 7/10\n",
      "31/31 [==============================] - 15s 477ms/step - loss: 0.0424 - acc: 0.9899 - val_loss: 0.0480 - val_acc: 0.9877\n",
      "Epoch 8/10\n",
      "31/31 [==============================] - 15s 475ms/step - loss: 0.0363 - acc: 0.9907 - val_loss: 0.0435 - val_acc: 0.9881\n",
      "Epoch 9/10\n",
      "31/31 [==============================] - 14s 460ms/step - loss: 0.0321 - acc: 0.9913 - val_loss: 0.0401 - val_acc: 0.9885\n",
      "Epoch 10/10\n",
      "31/31 [==============================] - 15s 485ms/step - loss: 0.0291 - acc: 0.9914 - val_loss: 0.0377 - val_acc: 0.9886\n"
     ]
    }
   ],
   "source": [
    "rnn_training = rnn_model.fit(X_train, Y_train, batch_size=128, epochs=10, validation_data=(X_validation, Y_validation))"
   ]
  },
  {
   "cell_type": "code",
   "execution_count": 35,
   "metadata": {},
   "outputs": [
    {
     "data": {
      "image/png": "[encoded data removed]",
      "text/plain": [
       "<Figure size 640x480 with 1 Axes>"
      ]
     },
     "metadata": {},
     "output_type": "display_data"
    }
   ],
   "source": [
    "plt.plot(rnn_training.history['acc'])\n",
    "plt.plot(rnn_training.history['val_acc'])\n",
    "plt.title('model accuracy')\n",
    "plt.grid()\n",
    "plt.ylabel('accuracy')\n",
    "plt.xlabel('epoch')\n",
    "plt.legend(['train', 'test'], loc=\"lower right\")\n",
    "plt.show()"
   ]
  },
  {
   "cell_type": "code",
   "execution_count": 36,
   "metadata": {},
   "outputs": [
    {
     "name": "stdout",
     "output_type": "stream",
     "text": [
      "26/26 [==============================] - 1s 45ms/step - loss: 0.0319 - acc: 0.9912\n",
      "Loss: 0.03185171261429787,\n",
      "Accuracy: 0.9912065267562866\n"
     ]
    }
   ],
   "source": [
    "loss, accuracy = rnn_model.evaluate(X_test, Y_test, verbose = 1)\n",
    "print(\"Loss: {0},\\nAccuracy: {1}\".format(loss, accuracy))"
   ]
  },
  {
   "cell_type": "code",
   "execution_count": 37,
   "metadata": {},
   "outputs": [],
   "source": [
    "rnn_model.save(\"pos_rnn.h5\")"
   ]
  },
  {
   "cell_type": "code",
   "execution_count": 38,
   "metadata": {},
   "outputs": [],
   "source": [
    "sent = \"Mary had a little lamb\""
   ]
  },
  {
   "cell_type": "code",
   "execution_count": 39,
   "metadata": {},
   "outputs": [
    {
     "name": "stdout",
     "output_type": "stream",
     "text": [
      "[[  0   0   0 ... 373  42  57]\n",
      " [  0   0   0 ...   5  13 347]\n",
      " [  0   0   0 ... 149   1  96]\n",
      " ...\n",
      " [  0   0   0 ... 272  57  44]\n",
      " [  0   0   0 ...  25   1  21]\n",
      " [  0   0   0 ... 208  99 129]]\n"
     ]
    }
   ],
   "source": [
    "print(X_test)"
   ]
  },
  {
   "cell_type": "code",
   "execution_count": 48,
   "metadata": {},
   "outputs": [
    {
     "name": "stdout",
     "output_type": "stream",
     "text": [
      "['mary', 'had', 'a', 'little', 'lamb']\n"
     ]
    }
   ],
   "source": [
    "print(sent.lower().split())\n",
    "\n",
    "word_tokenizer.word_index\n",
    "\n",
    "t = word_tokenizer.texts_to_sequences([sent.lower().split()])"
   ]
  },
  {
   "cell_type": "code",
   "execution_count": 50,
   "metadata": {},
   "outputs": [
    {
     "data": {
      "text/plain": [
       "array([[ 0,  0,  0,  0,  0,  0,  0,  0,  0,  0,  0,  0,  0,  0,  0,  0,\n",
       "         0,  0,  0,  0,  0,  0,  0,  0,  0,  0,  0,  0,  0, 13]],\n",
       "      dtype=int32)"
      ]
     },
     "execution_count": 50,
     "metadata": {},
     "output_type": "execute_result"
    }
   ],
   "source": [
    "sent_padded = pad_sequences(t, maxlen=MAX_SEQ_LENGTH, padding=\"pre\", truncating=\"post\")\n",
    "sent_padded"
   ]
  },
  {
   "cell_type": "code",
   "execution_count": null,
   "metadata": {},
   "outputs": [],
   "source": []
  }
 ],
 "metadata": {
  "kernelspec": {
   "display_name": "nlp_learn",
   "language": "python",
   "name": "python3"
  },
  "language_info": {
   "codemirror_mode": {
    "name": "ipython",
    "version": 3
   },
   "file_extension": ".py",
   "mimetype": "text/x-python",
   "name": "python",
   "nbconvert_exporter": "python",
   "pygments_lexer": "ipython3",
   "version": "3.10.8"
  },
  "orig_nbformat": 4,
  "vscode": {
   "interpreter": {
    "hash": "7c9caf74a70e6425e46055e4f591cb9ad5267165051af117377622727131d9c9"
   }
  }
 },
 "nbformat": 4,
 "nbformat_minor": 2
}
